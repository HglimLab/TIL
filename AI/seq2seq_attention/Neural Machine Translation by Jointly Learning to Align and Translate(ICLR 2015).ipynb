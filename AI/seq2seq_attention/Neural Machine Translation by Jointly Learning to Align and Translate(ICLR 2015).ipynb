{
 "cells": [
  {
   "cell_type": "markdown",
   "metadata": {
    "id": "_DZeY69nKuES"
   },
   "source": [
    "# Neural Machine Translation by Jointly Learning to Align and Translate(ICLR 2015)\n",
    "# 2021/04/16\n",
    "- seq2seq 모델에 attention을 추가한 `seq2seq with attention` 모델을 실습해보았다.\n",
    "- 기존의 seq2seq 모델은 인코더를 사용하여 context vector에 소스 문장의 정보를 압축하므로 이 과정에서 병목(bottleneck)이 발생하여 성능 하락의 원인이 된다.\n",
    "- 이를 해결하기 위해 `seq2seq with attention` 모델은 디코더가 단어를 하나 출력할 때마다 소드 문장의 출력 전부를 입력으로 받는다.\n",
    "- 최신 GPU는 큰 메모리 용량과 빠른 병렬 처리를 지원하므로, 소스 문장이 길더라도 각 단어의 인코더 출력값 전부를 특정 행렬에 기록하였다가 디코더가 각 단어를 출력할 때마다 소스 문장에 대한 정보를 입력해줄 수 있다.\n",
    "- 이 때 attention 매커니즘을 사용한다.\n",
    "- Attention 매커니즘에서는 디코더가 단어 하나를 출력할 때마다 출력 단어가 입력 문장에서 어떤 단어와 깊은 연관성을 가지는지를 학습한다.\n",
    "- 출력 단어와 연관성이 높은 단어를 소스 문장에서 가중치를 통해 찾아 해당 단어를 출력 단어로 번역한다.\n",
    "- 소스 문장의 단어와 출력 문장의 단어에 대한 연관성을 가중치(확률값)를 통해 표현하므로 학습이 완료되면, 어떤 단어가 어떤 단어와 연관성이 높아 번역되었는지 그리드 그래프로도 표현이 가능하다.\n",
    "- 이를 통해 짧은 문장은 물론이고, 단어 개수가 50개 이상인 매우 긴 문장에 대해서도 기존의 seq2seq 모델보다 우월한 성능을 보여주었다고 한다.\n",
    "- 이러한 seq2seq with attention 모델을 아래의 링크를 참조하여 구현해보았다.  \n",
    "  [papar: Neural Machine Translation by Jointly Learning to Align and Translate (ICLR 2015 Oral)](https://arxiv.org/abs/1409.0473)  \n",
    "  [Seq2Seq with attention + Transformer review](https://www.youtube.com/watch?v=AA621UofTUA)  \n",
    "  [Tensorflow tutorial](https://www.tensorflow.org/tutorials/text/nmt_with_attention)"
   ]
  },
  {
   "cell_type": "code",
   "execution_count": 1,
   "metadata": {
    "ExecuteTime": {
     "end_time": "2021-04-19T08:09:01.834264Z",
     "start_time": "2021-04-19T08:08:59.078211Z"
    },
    "executionInfo": {
     "elapsed": 4403,
     "status": "ok",
     "timestamp": 1618798696792,
     "user": {
      "displayName": "‍김태산(대학원생-자동차공학전공)",
      "photoUrl": "",
      "userId": "10967533091290920657"
     },
     "user_tz": -540
    },
    "id": "YWG8aPtI6yJA"
   },
   "outputs": [],
   "source": [
    "# 사용할 패키지 import\n",
    "import tensorflow as tf\n",
    "import matplotlib.pyplot as plt\n",
    "import matplotlib.ticker as ticker\n",
    "from sklearn.model_selection import train_test_split\n",
    "import unicodedata\n",
    "import re\n",
    "import numpy as np\n",
    "import os\n",
    "import io\n",
    "import time"
   ]
  },
  {
   "cell_type": "markdown",
   "metadata": {
    "id": "cnzQZpgO6yJB"
   },
   "source": [
    "## 데이터 전처리\n",
    "- http://www.manythings.org/anki/ 에서 제공하는 언어 데이터셋을 사용한다.\n",
    "- 이 데이터셋은 영어-스페인어 번역의 쌍을 아래와 같은 형태로 포함한다고 한다.  \n",
    "    May I borrow this book? ¿Puedo tomar prestado este libro?\n",
    "- 데이터셋을 다운로드한 후에는 아래와 같은 전처리를 거친다.\n",
    "    1. 각 문장에 <sos>와 <eos> 토큰을 추가한다.\n",
    "    2. 특정 문자를 제거하여 문장을 정리한다.\n",
    "    3. 단어 인덱스와 아이디(ID) 인덱스를 생성한다(단어 -> 아이디, 아이디 -> 단어로 매핑된 딕셔너리).\n",
    "    4. 각 문장에 대해 입력층의 최대 길이만큼 패딩을 수행한다."
   ]
  },
  {
   "cell_type": "code",
   "execution_count": 2,
   "metadata": {
    "ExecuteTime": {
     "end_time": "2021-04-19T08:09:01.926258Z",
     "start_time": "2021-04-19T08:09:01.835257Z"
    },
    "colab": {
     "base_uri": "https://localhost:8080/"
    },
    "executionInfo": {
     "elapsed": 4402,
     "status": "ok",
     "timestamp": 1618798696794,
     "user": {
      "displayName": "‍김태산(대학원생-자동차공학전공)",
      "photoUrl": "",
      "userId": "10967533091290920657"
     },
     "user_tz": -540
    },
    "id": "bpt_4FtX6yJB",
    "outputId": "360a2b92-a252-4a4c-cddc-ea5ddc622044"
   },
   "outputs": [],
   "source": [
    "# 데이터셋 다운로드\n",
    "path_to_zip = tf.keras.utils.get_file('spa-eng.zip', origin='http://storage.googleapis.com/download.tensorflow.org/data/spa-eng.zip',\n",
    "                                     extract=True)\n",
    "path_to_file = os.path.dirname(path_to_zip) + \"/spa-eng/spa.txt\""
   ]
  },
  {
   "cell_type": "code",
   "execution_count": 3,
   "metadata": {
    "ExecuteTime": {
     "end_time": "2021-04-19T08:09:01.942287Z",
     "start_time": "2021-04-19T08:09:01.927257Z"
    },
    "executionInfo": {
     "elapsed": 4400,
     "status": "ok",
     "timestamp": 1618798696794,
     "user": {
      "displayName": "‍김태산(대학원생-자동차공학전공)",
      "photoUrl": "",
      "userId": "10967533091290920657"
     },
     "user_tz": -540
    },
    "id": "n0zxwnDH6yJB"
   },
   "outputs": [],
   "source": [
    "# 유니코드 파일을 아스키 코드 파일로 변환\n",
    "def unicode_to_ascii(s):\n",
    "    return ''.join(c for c in unicodedata.normalize('NFD', s) if unicodedata.category(c) != 'Mn')\n",
    "\n",
    "def preprocess_sentence(w):\n",
    "    w = unicode_to_ascii(w.lower().strip())\n",
    "    \n",
    "    # 단어와 단어 뒤에 오는 구두점(.) 사이에 공백을 생성한다.\n",
    "    # 예시: \"he is a boy.\" => \"he is a boy .\"\n",
    "    w = re.sub(r\"([?.!,¿])\", r\" \\1 \", w)\n",
    "    w = re.sub(r'[\" \"]+', \" \", w)\n",
    "    \n",
    "    # (a-z, A-Z, \".\", \"?\", \"!\", \",\")을 제외한 모든 것을 공백으로 대체한다.\n",
    "    w = re.sub(r\"[^a-zA-Z?.!,¿]+\", \" \", w)\n",
    "    w = w.strip()\n",
    "    \n",
    "    # 모델이 예측을 시작하거나 중단할 때를 알게 하기 위해 문장에 start와 end 토큰을 추가한다.\n",
    "    w = \"<start> \" + w + \" <end>\"\n",
    "    return w"
   ]
  },
  {
   "cell_type": "code",
   "execution_count": 4,
   "metadata": {
    "ExecuteTime": {
     "end_time": "2021-04-19T08:09:01.957281Z",
     "start_time": "2021-04-19T08:09:01.943260Z"
    },
    "colab": {
     "base_uri": "https://localhost:8080/"
    },
    "executionInfo": {
     "elapsed": 4394,
     "status": "ok",
     "timestamp": 1618798696794,
     "user": {
      "displayName": "‍김태산(대학원생-자동차공학전공)",
      "photoUrl": "",
      "userId": "10967533091290920657"
     },
     "user_tz": -540
    },
    "id": "Z5uxtyXR6yJC",
    "outputId": "fff6b2ce-24b5-44d9-efbf-69e920053d6d"
   },
   "outputs": [
    {
     "name": "stdout",
     "output_type": "stream",
     "text": [
      "<start> may i borrow this book ? <end>\n",
      "b'<start> \\xc2\\xbf puedo tomar prestado este libro ? <end>'\n"
     ]
    }
   ],
   "source": [
    "en_sentence = u\"May I borrow this book?\"\n",
    "sp_sentence = u\"¿Puedo tomar prestado este libro?\"\n",
    "print(preprocess_sentence(en_sentence))\n",
    "print(preprocess_sentence(sp_sentence).encode('utf-8'))"
   ]
  },
  {
   "cell_type": "code",
   "execution_count": 5,
   "metadata": {
    "ExecuteTime": {
     "end_time": "2021-04-19T08:09:01.972256Z",
     "start_time": "2021-04-19T08:09:01.958257Z"
    },
    "executionInfo": {
     "elapsed": 4394,
     "status": "ok",
     "timestamp": 1618798696795,
     "user": {
      "displayName": "‍김태산(대학원생-자동차공학전공)",
      "photoUrl": "",
      "userId": "10967533091290920657"
     },
     "user_tz": -540
    },
    "id": "fWVYjGyD6yJC"
   },
   "outputs": [],
   "source": [
    "# 1. 문장에 있는 억양을 제거한다. -> 마침표 같은 기호에 공백을 추가하여 문장이 \n",
    "# 어떤 기호로 끝나는지(억양)에 대한 내용을 제거한다는 말인 것 같다. \n",
    "# 2. 불필요한 문자를 제거하여 문장을 정리한다.\n",
    "# 3. word_pairs는 [영어, 스페인어] 형식으로 문장의 쌍을 리턴한다.\n",
    "def create_dataset(path, num_examples):\n",
    "    lines = io.open(path, encoding='UTF-8').read().strip().split('\\n')\n",
    "    word_pairs = [[preprocess_sentence(w) for w in l.split('\\t')]  for l in lines[:num_examples]]\n",
    "    \n",
    "    return zip(*word_pairs)"
   ]
  },
  {
   "cell_type": "code",
   "execution_count": 6,
   "metadata": {
    "ExecuteTime": {
     "end_time": "2021-04-19T08:09:06.219289Z",
     "start_time": "2021-04-19T08:09:01.973257Z"
    },
    "colab": {
     "base_uri": "https://localhost:8080/"
    },
    "executionInfo": {
     "elapsed": 9876,
     "status": "ok",
     "timestamp": 1618798702282,
     "user": {
      "displayName": "‍김태산(대학원생-자동차공학전공)",
      "photoUrl": "",
      "userId": "10967533091290920657"
     },
     "user_tz": -540
    },
    "id": "kDHwx8cB6yJD",
    "outputId": "ca28aef2-67ae-4f24-e9ec-4e744ded93a2"
   },
   "outputs": [
    {
     "name": "stdout",
     "output_type": "stream",
     "text": [
      "<start> if you want to sound like a native speaker , you must be willing to practice saying the same sentence over and over in the same way that banjo players practice the same phrase over and over until they can play it correctly and at the desired tempo . <end>\n",
      "<start> si quieres sonar como un hablante nativo , debes estar dispuesto a practicar diciendo la misma frase una y otra vez de la misma manera en que un musico de banjo practica el mismo fraseo una y otra vez hasta que lo puedan tocar correctamente y en el tiempo esperado . <end>\n"
     ]
    }
   ],
   "source": [
    "en, sp = create_dataset(path_to_file, None)\n",
    "print(en[-1])\n",
    "print(sp[-1])"
   ]
  },
  {
   "cell_type": "markdown",
   "metadata": {
    "id": "9q05i5F96yJD"
   },
   "source": [
    "- 데이터셋으로 사용할 문장의 전체 개수는 아래와 같다."
   ]
  },
  {
   "cell_type": "code",
   "execution_count": 7,
   "metadata": {
    "ExecuteTime": {
     "end_time": "2021-04-19T08:09:06.235257Z",
     "start_time": "2021-04-19T08:09:06.220257Z"
    },
    "colab": {
     "base_uri": "https://localhost:8080/"
    },
    "executionInfo": {
     "elapsed": 9872,
     "status": "ok",
     "timestamp": 1618798702282,
     "user": {
      "displayName": "‍김태산(대학원생-자동차공학전공)",
      "photoUrl": "",
      "userId": "10967533091290920657"
     },
     "user_tz": -540
    },
    "id": "QIfvtVPJ6yJD",
    "outputId": "ab92d41b-adcb-449f-98da-1f5cee33b09b"
   },
   "outputs": [
    {
     "name": "stdout",
     "output_type": "stream",
     "text": [
      "118964\n"
     ]
    }
   ],
   "source": [
    "print(len(en))"
   ]
  },
  {
   "cell_type": "code",
   "execution_count": 8,
   "metadata": {
    "ExecuteTime": {
     "end_time": "2021-04-19T08:09:06.250259Z",
     "start_time": "2021-04-19T08:09:06.237261Z"
    },
    "executionInfo": {
     "elapsed": 9872,
     "status": "ok",
     "timestamp": 1618798702283,
     "user": {
      "displayName": "‍김태산(대학원생-자동차공학전공)",
      "photoUrl": "",
      "userId": "10967533091290920657"
     },
     "user_tz": -540
    },
    "id": "mjK5cg556yJE"
   },
   "outputs": [],
   "source": [
    "def tokenize(lang):\n",
    "    lang_tokenizer = tf.keras.preprocessing.text.Tokenizer(filters='')\n",
    "    lang_tokenizer.fit_on_texts(lang)\n",
    "    \n",
    "    tensor = lang_tokenizer.texts_to_sequences(lang)\n",
    "    tensor = tf.keras.preprocessing.sequence.pad_sequences(tensor, padding='post')\n",
    "    \n",
    "    return tensor, lang_tokenizer"
   ]
  },
  {
   "cell_type": "code",
   "execution_count": 9,
   "metadata": {
    "ExecuteTime": {
     "end_time": "2021-04-19T08:09:06.265258Z",
     "start_time": "2021-04-19T08:09:06.252258Z"
    },
    "executionInfo": {
     "elapsed": 9870,
     "status": "ok",
     "timestamp": 1618798702283,
     "user": {
      "displayName": "‍김태산(대학원생-자동차공학전공)",
      "photoUrl": "",
      "userId": "10967533091290920657"
     },
     "user_tz": -540
    },
    "id": "blzU8Spl6yJE"
   },
   "outputs": [],
   "source": [
    "def load_dataset(path, num_examples=None):\n",
    "    # 전처리된 타겟 문장과 입력 문장 쌍을 생성한다.\n",
    "    targ_lang, inp_lang = create_dataset(path, num_examples)\n",
    "    \n",
    "    input_tensor, inp_lang_tokenizer = tokenize(inp_lang)\n",
    "    target_tensor, targ_lang_tokenizer = tokenize(targ_lang)\n",
    "    \n",
    "    return input_tensor, target_tensor, inp_lang_tokenizer, targ_lang_tokenizer"
   ]
  },
  {
   "cell_type": "markdown",
   "metadata": {
    "id": "J923apCS6yJE"
   },
   "source": [
    "#### 데이터 크기 제한(선택사항)\n",
    "- 현재 데이터셋의 문장은 10만개 이상인데, 이를 모두 훈련시키려면 시간이 매우 오래 걸리기 때문에 데이터셋의 크기를 \n",
    "3만개로 제한하는 코드이다.\n",
    "- 그러나 데이터셋의 크기는 클수록 좋기 때문에 일단 현재 상태에서 모델을 훈련시켜보고 시간이 너무 오래 걸린다 싶으면 크기를\n",
    "    줄여보려고 한다."
   ]
  },
  {
   "cell_type": "code",
   "execution_count": 10,
   "metadata": {
    "ExecuteTime": {
     "end_time": "2021-04-19T08:09:07.936256Z",
     "start_time": "2021-04-19T08:09:06.266259Z"
    },
    "executionInfo": {
     "elapsed": 11051,
     "status": "ok",
     "timestamp": 1618798703465,
     "user": {
      "displayName": "‍김태산(대학원생-자동차공학전공)",
      "photoUrl": "",
      "userId": "10967533091290920657"
     },
     "user_tz": -540
    },
    "id": "tscP5nGT6yJE"
   },
   "outputs": [],
   "source": [
    "num_examples = 30000\n",
    "input_tensor, target_tensor, inp_lang, targ_lang = load_dataset(path_to_file, num_examples)\n",
    "max_length_targ, max_length_inp = target_tensor.shape[1], input_tensor.shape[1]"
   ]
  },
  {
   "cell_type": "code",
   "execution_count": 11,
   "metadata": {
    "ExecuteTime": {
     "end_time": "2021-04-19T08:09:07.952286Z",
     "start_time": "2021-04-19T08:09:07.937257Z"
    },
    "colab": {
     "base_uri": "https://localhost:8080/"
    },
    "executionInfo": {
     "elapsed": 11047,
     "status": "ok",
     "timestamp": 1618798703465,
     "user": {
      "displayName": "‍김태산(대학원생-자동차공학전공)",
      "photoUrl": "",
      "userId": "10967533091290920657"
     },
     "user_tz": -540
    },
    "id": "O5LpPcuL6yJF",
    "outputId": "d23b3d0a-4d5f-4cb6-cfb9-fba2c149f936"
   },
   "outputs": [
    {
     "name": "stdout",
     "output_type": "stream",
     "text": [
      "24000 24000 6000 6000\n"
     ]
    }
   ],
   "source": [
    "# 훈련 데이터셋과 검증 데이터셋을 8:2로 분리\n",
    "X_train, X_valid, y_train, y_valid = train_test_split(input_tensor, target_tensor, test_size=0.2)\n",
    "print(len(X_train), len(y_train), len(X_valid), len(y_valid))"
   ]
  },
  {
   "cell_type": "code",
   "execution_count": 12,
   "metadata": {
    "ExecuteTime": {
     "end_time": "2021-04-19T08:09:07.968286Z",
     "start_time": "2021-04-19T08:09:07.953257Z"
    },
    "executionInfo": {
     "elapsed": 11047,
     "status": "ok",
     "timestamp": 1618798703466,
     "user": {
      "displayName": "‍김태산(대학원생-자동차공학전공)",
      "photoUrl": "",
      "userId": "10967533091290920657"
     },
     "user_tz": -540
    },
    "id": "2yqAG9hz6yJF"
   },
   "outputs": [],
   "source": [
    "def convert(lang, tensor):\n",
    "    for t in tensor:\n",
    "        if t != 0:\n",
    "            print(f\"{t} ----> {lang.index_word[t]}\")"
   ]
  },
  {
   "cell_type": "code",
   "execution_count": 13,
   "metadata": {
    "ExecuteTime": {
     "end_time": "2021-04-19T08:09:07.984257Z",
     "start_time": "2021-04-19T08:09:07.969257Z"
    },
    "colab": {
     "base_uri": "https://localhost:8080/"
    },
    "executionInfo": {
     "elapsed": 11043,
     "status": "ok",
     "timestamp": 1618798703466,
     "user": {
      "displayName": "‍김태산(대학원생-자동차공학전공)",
      "photoUrl": "",
      "userId": "10967533091290920657"
     },
     "user_tz": -540
    },
    "id": "EWyMD3m-6yJF",
    "outputId": "89574af3-63d6-42dc-c23f-b25c12abe576"
   },
   "outputs": [
    {
     "name": "stdout",
     "output_type": "stream",
     "text": [
      "Input language; index to word mapping\n",
      "1 ----> <start>\n",
      "8 ----> no\n",
      "88 ----> hay\n",
      "221 ----> agua\n",
      "3 ----> .\n",
      "2 ----> <end>\n",
      "\n",
      "Target language; index to word mapping\n",
      "1 ----> <start>\n",
      "57 ----> there\n",
      "8 ----> is\n",
      "66 ----> no\n",
      "258 ----> water\n",
      "3 ----> .\n",
      "2 ----> <end>\n"
     ]
    }
   ],
   "source": [
    "print(\"Input language; index to word mapping\")\n",
    "convert(inp_lang, X_train[0])\n",
    "print(\"\")\n",
    "print(\"Target language; index to word mapping\")\n",
    "convert(targ_lang, y_train[0])"
   ]
  },
  {
   "cell_type": "markdown",
   "metadata": {
    "ExecuteTime": {
     "end_time": "2021-04-17T07:30:04.115187Z",
     "start_time": "2021-04-17T07:30:04.106187Z"
    },
    "id": "MtDW-z4s6yJF"
   },
   "source": [
    "#### tf.data 데이터셋 생성하기"
   ]
  },
  {
   "cell_type": "code",
   "execution_count": 14,
   "metadata": {
    "ExecuteTime": {
     "end_time": "2021-04-19T08:09:08.514256Z",
     "start_time": "2021-04-19T08:09:07.985258Z"
    },
    "executionInfo": {
     "elapsed": 11042,
     "status": "ok",
     "timestamp": 1618798703466,
     "user": {
      "displayName": "‍김태산(대학원생-자동차공학전공)",
      "photoUrl": "",
      "userId": "10967533091290920657"
     },
     "user_tz": -540
    },
    "id": "WsYvbdN36yJF"
   },
   "outputs": [],
   "source": [
    "BUFFER_SIZE = len(X_train)\n",
    "BATCH_SIZE = 64\n",
    "steps_per_epoch = len(X_train) // BATCH_SIZE\n",
    "embedding_dim = 256 # 논문에서는 620차원으로 하였다.\n",
    "units = 1024\n",
    "vocab_inp_size = len(inp_lang.word_index) + 1\n",
    "vocab_tar_size = len(targ_lang.word_index) + 1\n",
    "\n",
    "dataset = tf.data.Dataset.from_tensor_slices((X_train, y_train)).shuffle(BUFFER_SIZE)\n",
    "dataset = dataset.batch(BATCH_SIZE, drop_remainder=True) # drop_remainder 옵션은 마지막 배치의 사이즈가 \n",
    "                                                         # BATCH_SIZE보다 작을 때 해당 배치를 훈련에 사용하지 않게 할 때 \n",
    "                                                         # 사용하는 옵션이다."
   ]
  },
  {
   "cell_type": "code",
   "execution_count": 15,
   "metadata": {
    "ExecuteTime": {
     "end_time": "2021-04-19T08:09:08.560256Z",
     "start_time": "2021-04-19T08:09:08.515257Z"
    },
    "colab": {
     "base_uri": "https://localhost:8080/"
    },
    "executionInfo": {
     "elapsed": 11038,
     "status": "ok",
     "timestamp": 1618798703467,
     "user": {
      "displayName": "‍김태산(대학원생-자동차공학전공)",
      "photoUrl": "",
      "userId": "10967533091290920657"
     },
     "user_tz": -540
    },
    "id": "qJCg-Ehk6yJG",
    "outputId": "e13d619c-1984-4c46-a315-49c2fe05b288"
   },
   "outputs": [
    {
     "data": {
      "text/plain": [
       "(TensorShape([64, 16]), TensorShape([64, 11]))"
      ]
     },
     "execution_count": 15,
     "metadata": {},
     "output_type": "execute_result"
    }
   ],
   "source": [
    "example_input_batch, example_target_batch = next(iter(dataset))\n",
    "example_input_batch.shape, example_target_batch.shape"
   ]
  },
  {
   "cell_type": "markdown",
   "metadata": {},
   "source": [
    "#### 인코더와 디코더 모델 정의하기"
   ]
  },
  {
   "cell_type": "code",
   "execution_count": 16,
   "metadata": {
    "ExecuteTime": {
     "end_time": "2021-04-19T08:09:08.576257Z",
     "start_time": "2021-04-19T08:09:08.561257Z"
    },
    "executionInfo": {
     "elapsed": 11037,
     "status": "ok",
     "timestamp": 1618798703467,
     "user": {
      "displayName": "‍김태산(대학원생-자동차공학전공)",
      "photoUrl": "",
      "userId": "10967533091290920657"
     },
     "user_tz": -540
    },
    "id": "2lokCdWd6yJG"
   },
   "outputs": [],
   "source": [
    "class Encoder(tf.keras.Model):\n",
    "    def __init__(self, vocab_size, embedding_dim, enc_units, batch_sz): ## 선언 시 (전체 단어 수, embedding 차원, units, BATCH_SIZE)\n",
    "        super(Encoder, self).__init__()\n",
    "        self.batch_sz = batch_sz\n",
    "        self.enc_units = enc_units\n",
    "        self.embedding = tf.keras.layers.Embedding(vocab_size, embedding_dim)\n",
    "        self.gru = tf.keras.layers.GRU(self.enc_units, \n",
    "                                       return_sequences=True, \n",
    "                                       return_state=True, \n",
    "                                       recurrent_initializer='glorot_uniform')\n",
    "    \n",
    "    def call(self, x, hidden):\n",
    "        x = self.embedding(x)\n",
    "#         print(x.shape)\n",
    "        output, state = self.gru(x, initial_state = hidden)\n",
    "        return output, state\n",
    "    \n",
    "    def initialize_hidden_state(self):\n",
    "        return tf.zeros((self.batch_sz, self.enc_units))"
   ]
  },
  {
   "cell_type": "code",
   "execution_count": 17,
   "metadata": {
    "ExecuteTime": {
     "end_time": "2021-04-19T08:09:08.592258Z",
     "start_time": "2021-04-19T08:09:08.577257Z"
    },
    "executionInfo": {
     "elapsed": 11036,
     "status": "ok",
     "timestamp": 1618798703467,
     "user": {
      "displayName": "‍김태산(대학원생-자동차공학전공)",
      "photoUrl": "",
      "userId": "10967533091290920657"
     },
     "user_tz": -540
    },
    "id": "2jh4Acmn6yJG"
   },
   "outputs": [],
   "source": [
    "encoder = Encoder(vocab_inp_size, embedding_dim, units, BATCH_SIZE)"
   ]
  },
  {
   "cell_type": "code",
   "execution_count": 18,
   "metadata": {
    "ExecuteTime": {
     "end_time": "2021-04-19T08:09:09.718429Z",
     "start_time": "2021-04-19T08:09:08.593259Z"
    },
    "colab": {
     "base_uri": "https://localhost:8080/"
    },
    "executionInfo": {
     "elapsed": 1024,
     "status": "ok",
     "timestamp": 1618798720542,
     "user": {
      "displayName": "‍김태산(대학원생-자동차공학전공)",
      "photoUrl": "",
      "userId": "10967533091290920657"
     },
     "user_tz": -540
    },
    "id": "L8yq6mIK6yJH",
    "outputId": "aa06aff8-0bac-4cc7-b558-8106fe55f9a2"
   },
   "outputs": [
    {
     "name": "stdout",
     "output_type": "stream",
     "text": [
      "Encoder output shape: [batch size, sequence length, units] (64, 16, 1024)\n",
      "Encoder hidden state shape: [batch size, units] (64, 1024)\n"
     ]
    }
   ],
   "source": [
    "# return_sequences=True로 지정하여, sample_output의 사이즈에 문장 전체 길이(sequence length)도 포함되어 있는 것을 \n",
    "# 알 수 있다.\n",
    "sample_hidden = encoder.initialize_hidden_state()\n",
    "sample_output, sample_hidden = encoder(example_input_batch, sample_hidden)\n",
    "print(f\"Encoder output shape: [batch size, sequence length, units] {sample_output.shape}\")\n",
    "# 이게 의미하는 것은 인코더에 입력된 문장의 마지막 단어에 대한 hidden state이다.\n",
    "print(f\"Encoder hidden state shape: [batch size, units] {sample_hidden.shape}\")"
   ]
  },
  {
   "cell_type": "code",
   "execution_count": 19,
   "metadata": {
    "ExecuteTime": {
     "end_time": "2021-04-19T08:09:09.733430Z",
     "start_time": "2021-04-19T08:09:09.719430Z"
    }
   },
   "outputs": [
    {
     "name": "stdout",
     "output_type": "stream",
     "text": [
      "Model: \"encoder\"\n",
      "_________________________________________________________________\n",
      "Layer (type)                 Output Shape              Param #   \n",
      "=================================================================\n",
      "embedding (Embedding)        multiple                  2409984   \n",
      "_________________________________________________________________\n",
      "gru (GRU)                    multiple                  3938304   \n",
      "=================================================================\n",
      "Total params: 6,348,288\n",
      "Trainable params: 6,348,288\n",
      "Non-trainable params: 0\n",
      "_________________________________________________________________\n"
     ]
    }
   ],
   "source": [
    "encoder.summary()"
   ]
  },
  {
   "cell_type": "code",
   "execution_count": 20,
   "metadata": {
    "ExecuteTime": {
     "end_time": "2021-04-19T08:09:09.748431Z",
     "start_time": "2021-04-19T08:09:09.734431Z"
    },
    "id": "NOjBeZOj6yJH"
   },
   "outputs": [],
   "source": [
    "class BahdanauAttention(tf.keras.layers.Layer):\n",
    "    def __init__(self, units):\n",
    "        super(BahdanauAttention, self).__init__()\n",
    "        self.W = tf.keras.layers.Dense(units)\n",
    "        self.U = tf.keras.layers.Dense(units)\n",
    "        self.v = tf.keras.layers.Dense(1)\n",
    "    \n",
    "    def call(self, query, values):\n",
    "        # query: 디코더의 매 타임스텝마다의 hidden state, query hidden state shape: [batch size, units]\n",
    "        # query_with_time_axis shape: [batch size, 1, units]\n",
    "        # values: 인코더의 출력(hidden state), values shape: [batch size, sequence_length, units]\n",
    "        query_with_time_axis = tf.expand_dims(query, axis=1) # expand_dims()는 입력한 axis에 차원을 1만큼 증가시킨 \n",
    "                                                             # 텐서를 리턴한다.\n",
    "        \n",
    "        # score shape: [batch size, max_length, 1]\n",
    "        # self.v() 이전 shape: [batch size, max_length, units]\n",
    "        score = self.v(tf.nn.tanh(self.W(query_with_time_axis) + self.U(values)))\n",
    "#         print(self.W(query_with_time_axis).shape)\n",
    "#         print(self.U(values).shape)\n",
    "#         print(score.shape)\n",
    "        # attention_weights shape: [batch size, max_length, 1]\n",
    "        attention_weights = tf.nn.softmax(score, axis=1)\n",
    "#         print(attention_weights.shape)\n",
    "        context_vector = attention_weights * values\n",
    "        context_vector = tf.reduce_sum(context_vector, axis=1)\n",
    "        \n",
    "        return context_vector, attention_weights"
   ]
  },
  {
   "cell_type": "markdown",
   "metadata": {
    "id": "DglvHFal6yJH"
   },
   "source": [
    "- 결과를 보면 attention_weights의 shape은 [batch size, sequence_length, 1]임을 알 수 있는데 이는 각 문장을 이루는 단어가\n",
    "현재 디코더의 출력 단어와 얼마나 연관성을 가지는지를 나타내는 확률값을 나타낸다.\n",
    "- 이를 인코더의 매 타임스텝마다의 hidden state를 의미하는 encoder output과 곱해 encoder output에 weight를 가한다.\n",
    "- 그리고 나서 reduce_sum을 하여 context_vector를 구한다.\n",
    "- 이를 통해 context_vector는 encoder의 output에 weight가 가해진 형태가 되어 입력 문장과 현재 출력 단어의 연관성에 대한\n",
    "정보를 가지게 된다."
   ]
  },
  {
   "cell_type": "code",
   "execution_count": 21,
   "metadata": {
    "ExecuteTime": {
     "end_time": "2021-04-19T08:09:09.934430Z",
     "start_time": "2021-04-19T08:09:09.749430Z"
    },
    "id": "UIDU61vj6yJI",
    "outputId": "53c137c6-dd16-415b-9fed-3324ffea5e00"
   },
   "outputs": [
    {
     "name": "stdout",
     "output_type": "stream",
     "text": [
      "Attention weights shape: [batch size, sequence_length, 1] (64, 16, 1)\n",
      "Attention result shape: [batch size, units] (64, 1024)\n"
     ]
    }
   ],
   "source": [
    "attention_layer = BahdanauAttention(10) # 여기서 10이 의미하는 것은, 디코더가 출력하는 단어가 소스 문장과 얼마나 연관성이\n",
    "                                        # 있는지를 나타내는 attention_weigths를 계산할 때 사용할 fc층의 units이다.\n",
    "attention_result, attention_weights = attention_layer(sample_hidden, sample_output)\n",
    "print(f\"Attention weights shape: [batch size, sequence_length, 1] {attention_weights.shape}\")\n",
    "print(f\"Attention result shape: [batch size, units] {attention_result.shape}\")"
   ]
  },
  {
   "cell_type": "code",
   "execution_count": 22,
   "metadata": {
    "ExecuteTime": {
     "end_time": "2021-04-19T08:09:09.950433Z",
     "start_time": "2021-04-19T08:09:09.935432Z"
    },
    "id": "7iN5WfUZ6yJI"
   },
   "outputs": [],
   "source": [
    "class Decoder(tf.keras.Model):\n",
    "    def __init__(self, vocab_size, embedding_dim, dec_units, batch_sz):\n",
    "        super(Decoder, self).__init__()\n",
    "        self.batch_sz = batch_sz\n",
    "        self.dec_units = dec_units\n",
    "        self.embedding = tf.keras.layers.Embedding(vocab_size, embedding_dim)\n",
    "        self.gru = tf.keras.layers.GRU(self.dec_units,\n",
    "                                       return_sequences=True,\n",
    "                                       return_state=True,\n",
    "                                       recurrent_initializer='glorot_uniform')\n",
    "        self.fc = tf.keras.layers.Dense(vocab_size)\n",
    "        \n",
    "        # 어텐션을 사용한다.\n",
    "        self.attention = BahdanauAttention(self.dec_units)\n",
    "        \n",
    "    def call(self, x, hidden, enc_output):\n",
    "        # enc_output shape: [batch_size, input_sequence_length, attention_units(= dec_units)]\n",
    "        context_vector, attention_weights = self.attention(hidden, enc_output)\n",
    "        \n",
    "        # embedded x shape: [batch_size, 1, embedding_dim]\n",
    "        x = self.embedding(x)\n",
    "        \n",
    "        # concatenated x shape: [batch_size, 1, embedding_dim + attention_units]\n",
    "        x = tf.concat([tf.expand_dims(context_vector, axis=1), x], axis=-1)\n",
    "        \n",
    "        # 위에서 결합된 벡터 x를 GRU에 전달한다.\n",
    "        # output shape: [batch_size, 1, dec_units]\n",
    "        output, state = self.gru(x)\n",
    "        # print(output.shape)\n",
    "        \n",
    "        # reshaped output shape: [batch_size * 1, dec_units]\n",
    "        output = tf.reshape(output, (-1, output.shape[2]))\n",
    "        # print(output.shape)\n",
    "        \n",
    "        # x shape: [batch_size, vocab_tar_size]\n",
    "        x = self.fc(output)\n",
    "        # print(x.shape)\n",
    "        \n",
    "        return x, state, attention_weights"
   ]
  },
  {
   "cell_type": "code",
   "execution_count": 23,
   "metadata": {
    "ExecuteTime": {
     "end_time": "2021-04-19T08:09:10.013432Z",
     "start_time": "2021-04-19T08:09:09.951432Z"
    },
    "id": "9-bNWriK6yJI",
    "outputId": "d07da5cd-c7c7-49ab-da01-09b16b26dfc7"
   },
   "outputs": [
    {
     "name": "stdout",
     "output_type": "stream",
     "text": [
      "Decoder output shape: [batch_size, target vocab size] (64, 4935)\n"
     ]
    }
   ],
   "source": [
    "decoder = Decoder(vocab_tar_size, embedding_dim, units, BATCH_SIZE)\n",
    "\n",
    "# example_target = tf.expand_dims(example_target_batch[:, 1], axis=1)\n",
    "# sample_decoder_output, _, _ = decoder(example_target, sample_hidden, sample_output)\n",
    "sample_decoder_output, _, _ = decoder(tf.random.uniform((BATCH_SIZE, 1)),\n",
    "                                      sample_hidden, sample_output)\n",
    "print(f\"Decoder output shape: [batch_size, target vocab size] {sample_decoder_output.shape}\")"
   ]
  },
  {
   "cell_type": "markdown",
   "metadata": {
    "ExecuteTime": {
     "end_time": "2021-04-17T14:34:56.763584Z",
     "start_time": "2021-04-17T14:34:56.753584Z"
    },
    "id": "XxZxzary6yJJ"
   },
   "source": [
    "# 2021/04/18\n",
    "#### 최적화 함수와 손실 함수 정의하기"
   ]
  },
  {
   "cell_type": "code",
   "execution_count": 24,
   "metadata": {
    "ExecuteTime": {
     "end_time": "2021-04-19T08:09:10.028432Z",
     "start_time": "2021-04-19T08:09:10.014431Z"
    },
    "id": "n8kfYjF26yJJ"
   },
   "outputs": [],
   "source": [
    "# 논문에서는 optimizer로 Adadelta를 사용하였다.\n",
    "# optimizer = tf.keras.optimizers.Adadelta(rho=0.95, epsilon=1e-06)\n",
    "optimizer = tf.keras.optimizers.Adam()\n",
    "loss_object = tf.keras.losses.SparseCategoricalCrossentropy(from_logits=True, reduction='none')\n",
    "\n",
    "def loss_function(real, pred):\n",
    "    mask = tf.math.logical_not(tf.math.equal(real, 0)) # 실제값 0은 inp_lang.index_word[0]을 하였을 때 존재하지 않는 단어\n",
    "                                                       # 이므로 loss로 사용하면 안된다. 실제값이 0인 경우 tf.math.equal()\n",
    "                                                       # 은 True를 리턴하고, tf.math.logical_not()은 True를 False로 변경\n",
    "                                                       # 하므로 mask에는 real이 0일 때 False가 입력된다.\n",
    "                                                       # 뒤에서 이 mask는 0으로 변경되고 loss_와 곱해져 loss_를 마스킹한다.\n",
    "    loss_ = loss_object(real, pred)\n",
    "    \n",
    "    mask = tf.cast(mask, dtype=loss_.dtype) # 데이터형을 변경해주는 함수이다.\n",
    "    loss_ *= mask\n",
    "    \n",
    "    return tf.reduce_mean(loss_)"
   ]
  },
  {
   "cell_type": "markdown",
   "metadata": {
    "ExecuteTime": {
     "end_time": "2021-04-18T05:12:43.694035Z",
     "start_time": "2021-04-18T05:12:43.689036Z"
    },
    "id": "H6vX2QgW6yJJ"
   },
   "source": [
    "#### 체크포인트(객체 기반 저장)"
   ]
  },
  {
   "cell_type": "code",
   "execution_count": 25,
   "metadata": {
    "ExecuteTime": {
     "end_time": "2021-04-19T08:09:10.044432Z",
     "start_time": "2021-04-19T08:09:10.030431Z"
    },
    "id": "gfBrLLL56yJJ"
   },
   "outputs": [],
   "source": [
    "checkpoint_dir = './training_checkpoints'\n",
    "checkpoint_prefix = os.path.join(checkpoint_dir, 'chpt')\n",
    "checkpoint = tf.train.Checkpoint(optimizer=optimizer,\n",
    "                                 encoder=encoder,\n",
    "                                 decoder=decoder)"
   ]
  },
  {
   "cell_type": "markdown",
   "metadata": {
    "id": "oPRRv_6W6yJJ"
   },
   "source": [
    "#### 언어 모델 훈련하기\n",
    "1. 인코더의 output, 인코더 hidden state를 리턴하는 인코더에 소스 문장과 인코더 hidden state를 입력한다.\n",
    "2. 타겟 문장, 디코더 hidden state 및 어텐션을 통해 context vector를 구할 때 사용되는 인코더의 output을 디코더에 입력한다.\n",
    "3. 전달 받은 값을 사용하여 디코더는 매 타임스텝마다 예측 단어 및 디코더 hidden state를 리턴한다.\n",
    "4. 리턴된 디코더 hidden state는 다시 디코더에 입력되고 예측 단어를 사용하여 손실을 계산한다.\n",
    "5. 디코더에 대한 다음 타임스텝의 타겟 단어는 teacher forcing을 사용하여 결정된다.\n",
    "6. 마지막 단계에는 그레디언트를 계산하여 이를 optimizer와 역전파에 적용한다."
   ]
  },
  {
   "cell_type": "code",
   "execution_count": 26,
   "metadata": {
    "ExecuteTime": {
     "end_time": "2021-04-19T08:09:10.060431Z",
     "start_time": "2021-04-19T08:09:10.047434Z"
    },
    "id": "QFoAGgUW6yJJ"
   },
   "outputs": [],
   "source": [
    "# encoder = Encoder(vocab_inp_size, embedding_dim, units, BATCH_SIZE)\n",
    "# decoder = Decoder(vocab_tar_size, embedding_dim, units, BATCH_SIZE)\n",
    "\n",
    "@tf.function\n",
    "def train_step(inp, targ, enc_hidden):\n",
    "    loss = 0\n",
    "    \n",
    "    with tf.GradientTape() as tape:\n",
    "        enc_output, enc_hidden = encoder(inp, enc_hidden)\n",
    "        \n",
    "        dec_hidden = enc_hidden # 인코더의 마지막 hidden state를 디코더의 첫번째 hidden state로 입력한다.\n",
    "        \n",
    "        dec_input = tf.expand_dims([targ_lang.word_index['<start>']] * BATCH_SIZE, axis=1)\n",
    "        \n",
    "        # teacher_forcing: 다음 입력으로 타겟을 feeding한다.\n",
    "        for t in range(1, targ.shape[1]): # targ.shape[1]은 타겟 문장의 sequence_length가 된다.\n",
    "                                          # 훈련 시 디코더에는 타겟 문장의 \"<start>\" 토큰은 입력하지 않으므로 반복문을\n",
    "                                          # 1부터 시작한다.\n",
    "            # enc_output을 디코더에 전달한다.\n",
    "            predictions, dec_hidden, _ = decoder(dec_input, dec_hidden, enc_output)\n",
    "            loss += loss_function(targ[:, t], predictions)\n",
    "            \n",
    "            # teacher forcing을 사용하여 디코더의 predictions을 다음 입력으로 사용하는 것이 아니라 target 단어를 \n",
    "            # 다음 입력으로 사용한다.\n",
    "            dec_input = tf.expand_dims(targ[:, t], axis=1)\n",
    "        \n",
    "        batch_loss = (loss / int(targ.shape[1])) # 배치 문장 길이로 loss를 나누어 배치 내 각 문장의 loss 평균을 계산한다.\n",
    "        \n",
    "        variables = encoder.trainable_variables + decoder.trainable_variables\n",
    "        \n",
    "        gradients = tape.gradient(loss, variables)\n",
    "        \n",
    "        optimizer.apply_gradients(zip(gradients, variables))\n",
    "        \n",
    "        return batch_loss"
   ]
  },
  {
   "cell_type": "code",
   "execution_count": 27,
   "metadata": {
    "ExecuteTime": {
     "end_time": "2021-04-19T08:14:54.788046Z",
     "start_time": "2021-04-19T08:09:10.061430Z"
    },
    "id": "uU9qM9yk6yJK",
    "outputId": "38e0ea2f-2c45-4e0b-a81a-3ef9e875ff77"
   },
   "outputs": [
    {
     "name": "stdout",
     "output_type": "stream",
     "text": [
      "WARNING:tensorflow:Entity <bound method Encoder.call of <__main__.Encoder object at 0x0000023AC150CE88>> could not be transformed and will be executed as-is. Please report this to the AutoGraph team. When filing the bug, set the verbosity to 10 (on Linux, `export AUTOGRAPH_VERBOSITY=10`) and attach the full output. Cause: Failed to parse source code of <bound method Encoder.call of <__main__.Encoder object at 0x0000023AC150CE88>>, which Python reported as:\n",
      "    def call(self, x, hidden):\n",
      "        x = self.embedding(x)\n",
      "#         print(x.shape)\n",
      "        output, state = self.gru(x, initial_state = hidden)\n",
      "        return output, state\n",
      "\n",
      "This may be caused by multiline strings or comments not indented at the same level as the code.\n",
      "WARNING: Entity <bound method Encoder.call of <__main__.Encoder object at 0x0000023AC150CE88>> could not be transformed and will be executed as-is. Please report this to the AutoGraph team. When filing the bug, set the verbosity to 10 (on Linux, `export AUTOGRAPH_VERBOSITY=10`) and attach the full output. Cause: Failed to parse source code of <bound method Encoder.call of <__main__.Encoder object at 0x0000023AC150CE88>>, which Python reported as:\n",
      "    def call(self, x, hidden):\n",
      "        x = self.embedding(x)\n",
      "#         print(x.shape)\n",
      "        output, state = self.gru(x, initial_state = hidden)\n",
      "        return output, state\n",
      "\n",
      "This may be caused by multiline strings or comments not indented at the same level as the code.\n",
      "WARNING:tensorflow:Entity <bound method BahdanauAttention.call of <__main__.BahdanauAttention object at 0x0000023AC1268B88>> could not be transformed and will be executed as-is. Please report this to the AutoGraph team. When filing the bug, set the verbosity to 10 (on Linux, `export AUTOGRAPH_VERBOSITY=10`) and attach the full output. Cause: Failed to parse source code of <bound method BahdanauAttention.call of <__main__.BahdanauAttention object at 0x0000023AC1268B88>>, which Python reported as:\n",
      "    def call(self, query, values):\n",
      "        # query: 디코더의 매 타임스텝마다의 hidden state, query hidden state shape: [batch size, units]\n",
      "        # query_with_time_axis shape: [batch size, 1, units]\n",
      "        # values: 인코더의 출력(hidden state), values shape: [batch size, sequence_length, units]\n",
      "        query_with_time_axis = tf.expand_dims(query, axis=1) # expand_dims()는 입력한 axis에 차원을 1만큼 증가시킨 \n",
      "                                                             # 텐서를 리턴한다.\n",
      "        \n",
      "        # score shape: [batch size, max_length, 1]\n",
      "        # self.v() 이전 shape: [batch size, max_length, units]\n",
      "        score = self.v(tf.nn.tanh(self.W(query_with_time_axis) + self.U(values)))\n",
      "#         print(self.W(query_with_time_axis).shape)\n",
      "#         print(self.U(values).shape)\n",
      "#         print(score.shape)\n",
      "        # attention_weights shape: [batch size, max_length, 1]\n",
      "        attention_weights = tf.nn.softmax(score, axis=1)\n",
      "#         print(attention_weights.shape)\n",
      "        context_vector = attention_weights * values\n",
      "        context_vector = tf.reduce_sum(context_vector, axis=1)\n",
      "        \n",
      "        return context_vector, attention_weights\n",
      "\n",
      "This may be caused by multiline strings or comments not indented at the same level as the code.\n",
      "WARNING: Entity <bound method BahdanauAttention.call of <__main__.BahdanauAttention object at 0x0000023AC1268B88>> could not be transformed and will be executed as-is. Please report this to the AutoGraph team. When filing the bug, set the verbosity to 10 (on Linux, `export AUTOGRAPH_VERBOSITY=10`) and attach the full output. Cause: Failed to parse source code of <bound method BahdanauAttention.call of <__main__.BahdanauAttention object at 0x0000023AC1268B88>>, which Python reported as:\n",
      "    def call(self, query, values):\n",
      "        # query: 디코더의 매 타임스텝마다의 hidden state, query hidden state shape: [batch size, units]\n",
      "        # query_with_time_axis shape: [batch size, 1, units]\n",
      "        # values: 인코더의 출력(hidden state), values shape: [batch size, sequence_length, units]\n",
      "        query_with_time_axis = tf.expand_dims(query, axis=1) # expand_dims()는 입력한 axis에 차원을 1만큼 증가시킨 \n",
      "                                                             # 텐서를 리턴한다.\n",
      "        \n",
      "        # score shape: [batch size, max_length, 1]\n",
      "        # self.v() 이전 shape: [batch size, max_length, units]\n",
      "        score = self.v(tf.nn.tanh(self.W(query_with_time_axis) + self.U(values)))\n",
      "#         print(self.W(query_with_time_axis).shape)\n",
      "#         print(self.U(values).shape)\n",
      "#         print(score.shape)\n",
      "        # attention_weights shape: [batch size, max_length, 1]\n",
      "        attention_weights = tf.nn.softmax(score, axis=1)\n",
      "#         print(attention_weights.shape)\n",
      "        context_vector = attention_weights * values\n",
      "        context_vector = tf.reduce_sum(context_vector, axis=1)\n",
      "        \n",
      "        return context_vector, attention_weights\n",
      "\n",
      "This may be caused by multiline strings or comments not indented at the same level as the code.\n",
      "WARNING:tensorflow:Entity <bound method BahdanauAttention.call of <__main__.BahdanauAttention object at 0x0000023AC1268B88>> could not be transformed and will be executed as-is. Please report this to the AutoGraph team. When filing the bug, set the verbosity to 10 (on Linux, `export AUTOGRAPH_VERBOSITY=10`) and attach the full output. Cause: Failed to parse source code of <bound method BahdanauAttention.call of <__main__.BahdanauAttention object at 0x0000023AC1268B88>>, which Python reported as:\n",
      "    def call(self, query, values):\n",
      "        # query: 디코더의 매 타임스텝마다의 hidden state, query hidden state shape: [batch size, units]\n",
      "        # query_with_time_axis shape: [batch size, 1, units]\n",
      "        # values: 인코더의 출력(hidden state), values shape: [batch size, sequence_length, units]\n",
      "        query_with_time_axis = tf.expand_dims(query, axis=1) # expand_dims()는 입력한 axis에 차원을 1만큼 증가시킨 \n",
      "                                                             # 텐서를 리턴한다.\n",
      "        \n",
      "        # score shape: [batch size, max_length, 1]\n",
      "        # self.v() 이전 shape: [batch size, max_length, units]\n",
      "        score = self.v(tf.nn.tanh(self.W(query_with_time_axis) + self.U(values)))\n",
      "#         print(self.W(query_with_time_axis).shape)\n",
      "#         print(self.U(values).shape)\n",
      "#         print(score.shape)\n",
      "        # attention_weights shape: [batch size, max_length, 1]\n",
      "        attention_weights = tf.nn.softmax(score, axis=1)\n",
      "#         print(attention_weights.shape)\n",
      "        context_vector = attention_weights * values\n",
      "        context_vector = tf.reduce_sum(context_vector, axis=1)\n",
      "        \n",
      "        return context_vector, attention_weights\n",
      "\n",
      "This may be caused by multiline strings or comments not indented at the same level as the code.\n",
      "WARNING: Entity <bound method BahdanauAttention.call of <__main__.BahdanauAttention object at 0x0000023AC1268B88>> could not be transformed and will be executed as-is. Please report this to the AutoGraph team. When filing the bug, set the verbosity to 10 (on Linux, `export AUTOGRAPH_VERBOSITY=10`) and attach the full output. Cause: Failed to parse source code of <bound method BahdanauAttention.call of <__main__.BahdanauAttention object at 0x0000023AC1268B88>>, which Python reported as:\n",
      "    def call(self, query, values):\n",
      "        # query: 디코더의 매 타임스텝마다의 hidden state, query hidden state shape: [batch size, units]\n",
      "        # query_with_time_axis shape: [batch size, 1, units]\n",
      "        # values: 인코더의 출력(hidden state), values shape: [batch size, sequence_length, units]\n",
      "        query_with_time_axis = tf.expand_dims(query, axis=1) # expand_dims()는 입력한 axis에 차원을 1만큼 증가시킨 \n",
      "                                                             # 텐서를 리턴한다.\n",
      "        \n",
      "        # score shape: [batch size, max_length, 1]\n",
      "        # self.v() 이전 shape: [batch size, max_length, units]\n",
      "        score = self.v(tf.nn.tanh(self.W(query_with_time_axis) + self.U(values)))\n",
      "#         print(self.W(query_with_time_axis).shape)\n",
      "#         print(self.U(values).shape)\n",
      "#         print(score.shape)\n",
      "        # attention_weights shape: [batch size, max_length, 1]\n",
      "        attention_weights = tf.nn.softmax(score, axis=1)\n",
      "#         print(attention_weights.shape)\n",
      "        context_vector = attention_weights * values\n",
      "        context_vector = tf.reduce_sum(context_vector, axis=1)\n",
      "        \n",
      "        return context_vector, attention_weights\n",
      "\n",
      "This may be caused by multiline strings or comments not indented at the same level as the code.\n"
     ]
    },
    {
     "name": "stdout",
     "output_type": "stream",
     "text": [
      "WARNING:tensorflow:Entity <bound method BahdanauAttention.call of <__main__.BahdanauAttention object at 0x0000023AC1268B88>> could not be transformed and will be executed as-is. Please report this to the AutoGraph team. When filing the bug, set the verbosity to 10 (on Linux, `export AUTOGRAPH_VERBOSITY=10`) and attach the full output. Cause: Failed to parse source code of <bound method BahdanauAttention.call of <__main__.BahdanauAttention object at 0x0000023AC1268B88>>, which Python reported as:\n",
      "    def call(self, query, values):\n",
      "        # query: 디코더의 매 타임스텝마다의 hidden state, query hidden state shape: [batch size, units]\n",
      "        # query_with_time_axis shape: [batch size, 1, units]\n",
      "        # values: 인코더의 출력(hidden state), values shape: [batch size, sequence_length, units]\n",
      "        query_with_time_axis = tf.expand_dims(query, axis=1) # expand_dims()는 입력한 axis에 차원을 1만큼 증가시킨 \n",
      "                                                             # 텐서를 리턴한다.\n",
      "        \n",
      "        # score shape: [batch size, max_length, 1]\n",
      "        # self.v() 이전 shape: [batch size, max_length, units]\n",
      "        score = self.v(tf.nn.tanh(self.W(query_with_time_axis) + self.U(values)))\n",
      "#         print(self.W(query_with_time_axis).shape)\n",
      "#         print(self.U(values).shape)\n",
      "#         print(score.shape)\n",
      "        # attention_weights shape: [batch size, max_length, 1]\n",
      "        attention_weights = tf.nn.softmax(score, axis=1)\n",
      "#         print(attention_weights.shape)\n",
      "        context_vector = attention_weights * values\n",
      "        context_vector = tf.reduce_sum(context_vector, axis=1)\n",
      "        \n",
      "        return context_vector, attention_weights\n",
      "\n",
      "This may be caused by multiline strings or comments not indented at the same level as the code.\n",
      "WARNING: Entity <bound method BahdanauAttention.call of <__main__.BahdanauAttention object at 0x0000023AC1268B88>> could not be transformed and will be executed as-is. Please report this to the AutoGraph team. When filing the bug, set the verbosity to 10 (on Linux, `export AUTOGRAPH_VERBOSITY=10`) and attach the full output. Cause: Failed to parse source code of <bound method BahdanauAttention.call of <__main__.BahdanauAttention object at 0x0000023AC1268B88>>, which Python reported as:\n",
      "    def call(self, query, values):\n",
      "        # query: 디코더의 매 타임스텝마다의 hidden state, query hidden state shape: [batch size, units]\n",
      "        # query_with_time_axis shape: [batch size, 1, units]\n",
      "        # values: 인코더의 출력(hidden state), values shape: [batch size, sequence_length, units]\n",
      "        query_with_time_axis = tf.expand_dims(query, axis=1) # expand_dims()는 입력한 axis에 차원을 1만큼 증가시킨 \n",
      "                                                             # 텐서를 리턴한다.\n",
      "        \n",
      "        # score shape: [batch size, max_length, 1]\n",
      "        # self.v() 이전 shape: [batch size, max_length, units]\n",
      "        score = self.v(tf.nn.tanh(self.W(query_with_time_axis) + self.U(values)))\n",
      "#         print(self.W(query_with_time_axis).shape)\n",
      "#         print(self.U(values).shape)\n",
      "#         print(score.shape)\n",
      "        # attention_weights shape: [batch size, max_length, 1]\n",
      "        attention_weights = tf.nn.softmax(score, axis=1)\n",
      "#         print(attention_weights.shape)\n",
      "        context_vector = attention_weights * values\n",
      "        context_vector = tf.reduce_sum(context_vector, axis=1)\n",
      "        \n",
      "        return context_vector, attention_weights\n",
      "\n",
      "This may be caused by multiline strings or comments not indented at the same level as the code.\n",
      "WARNING:tensorflow:Entity <bound method BahdanauAttention.call of <__main__.BahdanauAttention object at 0x0000023AC1268B88>> could not be transformed and will be executed as-is. Please report this to the AutoGraph team. When filing the bug, set the verbosity to 10 (on Linux, `export AUTOGRAPH_VERBOSITY=10`) and attach the full output. Cause: Failed to parse source code of <bound method BahdanauAttention.call of <__main__.BahdanauAttention object at 0x0000023AC1268B88>>, which Python reported as:\n",
      "    def call(self, query, values):\n",
      "        # query: 디코더의 매 타임스텝마다의 hidden state, query hidden state shape: [batch size, units]\n",
      "        # query_with_time_axis shape: [batch size, 1, units]\n",
      "        # values: 인코더의 출력(hidden state), values shape: [batch size, sequence_length, units]\n",
      "        query_with_time_axis = tf.expand_dims(query, axis=1) # expand_dims()는 입력한 axis에 차원을 1만큼 증가시킨 \n",
      "                                                             # 텐서를 리턴한다.\n",
      "        \n",
      "        # score shape: [batch size, max_length, 1]\n",
      "        # self.v() 이전 shape: [batch size, max_length, units]\n",
      "        score = self.v(tf.nn.tanh(self.W(query_with_time_axis) + self.U(values)))\n",
      "#         print(self.W(query_with_time_axis).shape)\n",
      "#         print(self.U(values).shape)\n",
      "#         print(score.shape)\n",
      "        # attention_weights shape: [batch size, max_length, 1]\n",
      "        attention_weights = tf.nn.softmax(score, axis=1)\n",
      "#         print(attention_weights.shape)\n",
      "        context_vector = attention_weights * values\n",
      "        context_vector = tf.reduce_sum(context_vector, axis=1)\n",
      "        \n",
      "        return context_vector, attention_weights\n",
      "\n",
      "This may be caused by multiline strings or comments not indented at the same level as the code.\n",
      "WARNING: Entity <bound method BahdanauAttention.call of <__main__.BahdanauAttention object at 0x0000023AC1268B88>> could not be transformed and will be executed as-is. Please report this to the AutoGraph team. When filing the bug, set the verbosity to 10 (on Linux, `export AUTOGRAPH_VERBOSITY=10`) and attach the full output. Cause: Failed to parse source code of <bound method BahdanauAttention.call of <__main__.BahdanauAttention object at 0x0000023AC1268B88>>, which Python reported as:\n",
      "    def call(self, query, values):\n",
      "        # query: 디코더의 매 타임스텝마다의 hidden state, query hidden state shape: [batch size, units]\n",
      "        # query_with_time_axis shape: [batch size, 1, units]\n",
      "        # values: 인코더의 출력(hidden state), values shape: [batch size, sequence_length, units]\n",
      "        query_with_time_axis = tf.expand_dims(query, axis=1) # expand_dims()는 입력한 axis에 차원을 1만큼 증가시킨 \n",
      "                                                             # 텐서를 리턴한다.\n",
      "        \n",
      "        # score shape: [batch size, max_length, 1]\n",
      "        # self.v() 이전 shape: [batch size, max_length, units]\n",
      "        score = self.v(tf.nn.tanh(self.W(query_with_time_axis) + self.U(values)))\n",
      "#         print(self.W(query_with_time_axis).shape)\n",
      "#         print(self.U(values).shape)\n",
      "#         print(score.shape)\n",
      "        # attention_weights shape: [batch size, max_length, 1]\n",
      "        attention_weights = tf.nn.softmax(score, axis=1)\n",
      "#         print(attention_weights.shape)\n",
      "        context_vector = attention_weights * values\n",
      "        context_vector = tf.reduce_sum(context_vector, axis=1)\n",
      "        \n",
      "        return context_vector, attention_weights\n",
      "\n",
      "This may be caused by multiline strings or comments not indented at the same level as the code.\n",
      "WARNING:tensorflow:Entity <bound method BahdanauAttention.call of <__main__.BahdanauAttention object at 0x0000023AC1268B88>> could not be transformed and will be executed as-is. Please report this to the AutoGraph team. When filing the bug, set the verbosity to 10 (on Linux, `export AUTOGRAPH_VERBOSITY=10`) and attach the full output. Cause: Failed to parse source code of <bound method BahdanauAttention.call of <__main__.BahdanauAttention object at 0x0000023AC1268B88>>, which Python reported as:\n",
      "    def call(self, query, values):\n",
      "        # query: 디코더의 매 타임스텝마다의 hidden state, query hidden state shape: [batch size, units]\n",
      "        # query_with_time_axis shape: [batch size, 1, units]\n",
      "        # values: 인코더의 출력(hidden state), values shape: [batch size, sequence_length, units]\n",
      "        query_with_time_axis = tf.expand_dims(query, axis=1) # expand_dims()는 입력한 axis에 차원을 1만큼 증가시킨 \n",
      "                                                             # 텐서를 리턴한다.\n",
      "        \n",
      "        # score shape: [batch size, max_length, 1]\n",
      "        # self.v() 이전 shape: [batch size, max_length, units]\n",
      "        score = self.v(tf.nn.tanh(self.W(query_with_time_axis) + self.U(values)))\n",
      "#         print(self.W(query_with_time_axis).shape)\n",
      "#         print(self.U(values).shape)\n",
      "#         print(score.shape)\n",
      "        # attention_weights shape: [batch size, max_length, 1]\n",
      "        attention_weights = tf.nn.softmax(score, axis=1)\n",
      "#         print(attention_weights.shape)\n",
      "        context_vector = attention_weights * values\n",
      "        context_vector = tf.reduce_sum(context_vector, axis=1)\n",
      "        \n",
      "        return context_vector, attention_weights\n",
      "\n",
      "This may be caused by multiline strings or comments not indented at the same level as the code.\n"
     ]
    },
    {
     "name": "stdout",
     "output_type": "stream",
     "text": [
      "WARNING: Entity <bound method BahdanauAttention.call of <__main__.BahdanauAttention object at 0x0000023AC1268B88>> could not be transformed and will be executed as-is. Please report this to the AutoGraph team. When filing the bug, set the verbosity to 10 (on Linux, `export AUTOGRAPH_VERBOSITY=10`) and attach the full output. Cause: Failed to parse source code of <bound method BahdanauAttention.call of <__main__.BahdanauAttention object at 0x0000023AC1268B88>>, which Python reported as:\n",
      "    def call(self, query, values):\n",
      "        # query: 디코더의 매 타임스텝마다의 hidden state, query hidden state shape: [batch size, units]\n",
      "        # query_with_time_axis shape: [batch size, 1, units]\n",
      "        # values: 인코더의 출력(hidden state), values shape: [batch size, sequence_length, units]\n",
      "        query_with_time_axis = tf.expand_dims(query, axis=1) # expand_dims()는 입력한 axis에 차원을 1만큼 증가시킨 \n",
      "                                                             # 텐서를 리턴한다.\n",
      "        \n",
      "        # score shape: [batch size, max_length, 1]\n",
      "        # self.v() 이전 shape: [batch size, max_length, units]\n",
      "        score = self.v(tf.nn.tanh(self.W(query_with_time_axis) + self.U(values)))\n",
      "#         print(self.W(query_with_time_axis).shape)\n",
      "#         print(self.U(values).shape)\n",
      "#         print(score.shape)\n",
      "        # attention_weights shape: [batch size, max_length, 1]\n",
      "        attention_weights = tf.nn.softmax(score, axis=1)\n",
      "#         print(attention_weights.shape)\n",
      "        context_vector = attention_weights * values\n",
      "        context_vector = tf.reduce_sum(context_vector, axis=1)\n",
      "        \n",
      "        return context_vector, attention_weights\n",
      "\n",
      "This may be caused by multiline strings or comments not indented at the same level as the code.\n",
      "WARNING:tensorflow:Entity <bound method BahdanauAttention.call of <__main__.BahdanauAttention object at 0x0000023AC1268B88>> could not be transformed and will be executed as-is. Please report this to the AutoGraph team. When filing the bug, set the verbosity to 10 (on Linux, `export AUTOGRAPH_VERBOSITY=10`) and attach the full output. Cause: Failed to parse source code of <bound method BahdanauAttention.call of <__main__.BahdanauAttention object at 0x0000023AC1268B88>>, which Python reported as:\n",
      "    def call(self, query, values):\n",
      "        # query: 디코더의 매 타임스텝마다의 hidden state, query hidden state shape: [batch size, units]\n",
      "        # query_with_time_axis shape: [batch size, 1, units]\n",
      "        # values: 인코더의 출력(hidden state), values shape: [batch size, sequence_length, units]\n",
      "        query_with_time_axis = tf.expand_dims(query, axis=1) # expand_dims()는 입력한 axis에 차원을 1만큼 증가시킨 \n",
      "                                                             # 텐서를 리턴한다.\n",
      "        \n",
      "        # score shape: [batch size, max_length, 1]\n",
      "        # self.v() 이전 shape: [batch size, max_length, units]\n",
      "        score = self.v(tf.nn.tanh(self.W(query_with_time_axis) + self.U(values)))\n",
      "#         print(self.W(query_with_time_axis).shape)\n",
      "#         print(self.U(values).shape)\n",
      "#         print(score.shape)\n",
      "        # attention_weights shape: [batch size, max_length, 1]\n",
      "        attention_weights = tf.nn.softmax(score, axis=1)\n",
      "#         print(attention_weights.shape)\n",
      "        context_vector = attention_weights * values\n",
      "        context_vector = tf.reduce_sum(context_vector, axis=1)\n",
      "        \n",
      "        return context_vector, attention_weights\n",
      "\n",
      "This may be caused by multiline strings or comments not indented at the same level as the code.\n",
      "WARNING: Entity <bound method BahdanauAttention.call of <__main__.BahdanauAttention object at 0x0000023AC1268B88>> could not be transformed and will be executed as-is. Please report this to the AutoGraph team. When filing the bug, set the verbosity to 10 (on Linux, `export AUTOGRAPH_VERBOSITY=10`) and attach the full output. Cause: Failed to parse source code of <bound method BahdanauAttention.call of <__main__.BahdanauAttention object at 0x0000023AC1268B88>>, which Python reported as:\n",
      "    def call(self, query, values):\n",
      "        # query: 디코더의 매 타임스텝마다의 hidden state, query hidden state shape: [batch size, units]\n",
      "        # query_with_time_axis shape: [batch size, 1, units]\n",
      "        # values: 인코더의 출력(hidden state), values shape: [batch size, sequence_length, units]\n",
      "        query_with_time_axis = tf.expand_dims(query, axis=1) # expand_dims()는 입력한 axis에 차원을 1만큼 증가시킨 \n",
      "                                                             # 텐서를 리턴한다.\n",
      "        \n",
      "        # score shape: [batch size, max_length, 1]\n",
      "        # self.v() 이전 shape: [batch size, max_length, units]\n",
      "        score = self.v(tf.nn.tanh(self.W(query_with_time_axis) + self.U(values)))\n",
      "#         print(self.W(query_with_time_axis).shape)\n",
      "#         print(self.U(values).shape)\n",
      "#         print(score.shape)\n",
      "        # attention_weights shape: [batch size, max_length, 1]\n",
      "        attention_weights = tf.nn.softmax(score, axis=1)\n",
      "#         print(attention_weights.shape)\n",
      "        context_vector = attention_weights * values\n",
      "        context_vector = tf.reduce_sum(context_vector, axis=1)\n",
      "        \n",
      "        return context_vector, attention_weights\n",
      "\n",
      "This may be caused by multiline strings or comments not indented at the same level as the code.\n",
      "WARNING:tensorflow:Entity <bound method BahdanauAttention.call of <__main__.BahdanauAttention object at 0x0000023AC1268B88>> could not be transformed and will be executed as-is. Please report this to the AutoGraph team. When filing the bug, set the verbosity to 10 (on Linux, `export AUTOGRAPH_VERBOSITY=10`) and attach the full output. Cause: Failed to parse source code of <bound method BahdanauAttention.call of <__main__.BahdanauAttention object at 0x0000023AC1268B88>>, which Python reported as:\n",
      "    def call(self, query, values):\n",
      "        # query: 디코더의 매 타임스텝마다의 hidden state, query hidden state shape: [batch size, units]\n",
      "        # query_with_time_axis shape: [batch size, 1, units]\n",
      "        # values: 인코더의 출력(hidden state), values shape: [batch size, sequence_length, units]\n",
      "        query_with_time_axis = tf.expand_dims(query, axis=1) # expand_dims()는 입력한 axis에 차원을 1만큼 증가시킨 \n",
      "                                                             # 텐서를 리턴한다.\n",
      "        \n",
      "        # score shape: [batch size, max_length, 1]\n",
      "        # self.v() 이전 shape: [batch size, max_length, units]\n",
      "        score = self.v(tf.nn.tanh(self.W(query_with_time_axis) + self.U(values)))\n",
      "#         print(self.W(query_with_time_axis).shape)\n",
      "#         print(self.U(values).shape)\n",
      "#         print(score.shape)\n",
      "        # attention_weights shape: [batch size, max_length, 1]\n",
      "        attention_weights = tf.nn.softmax(score, axis=1)\n",
      "#         print(attention_weights.shape)\n",
      "        context_vector = attention_weights * values\n",
      "        context_vector = tf.reduce_sum(context_vector, axis=1)\n",
      "        \n",
      "        return context_vector, attention_weights\n",
      "\n",
      "This may be caused by multiline strings or comments not indented at the same level as the code.\n",
      "WARNING: Entity <bound method BahdanauAttention.call of <__main__.BahdanauAttention object at 0x0000023AC1268B88>> could not be transformed and will be executed as-is. Please report this to the AutoGraph team. When filing the bug, set the verbosity to 10 (on Linux, `export AUTOGRAPH_VERBOSITY=10`) and attach the full output. Cause: Failed to parse source code of <bound method BahdanauAttention.call of <__main__.BahdanauAttention object at 0x0000023AC1268B88>>, which Python reported as:\n",
      "    def call(self, query, values):\n",
      "        # query: 디코더의 매 타임스텝마다의 hidden state, query hidden state shape: [batch size, units]\n",
      "        # query_with_time_axis shape: [batch size, 1, units]\n",
      "        # values: 인코더의 출력(hidden state), values shape: [batch size, sequence_length, units]\n",
      "        query_with_time_axis = tf.expand_dims(query, axis=1) # expand_dims()는 입력한 axis에 차원을 1만큼 증가시킨 \n",
      "                                                             # 텐서를 리턴한다.\n",
      "        \n",
      "        # score shape: [batch size, max_length, 1]\n",
      "        # self.v() 이전 shape: [batch size, max_length, units]\n",
      "        score = self.v(tf.nn.tanh(self.W(query_with_time_axis) + self.U(values)))\n",
      "#         print(self.W(query_with_time_axis).shape)\n",
      "#         print(self.U(values).shape)\n",
      "#         print(score.shape)\n",
      "        # attention_weights shape: [batch size, max_length, 1]\n",
      "        attention_weights = tf.nn.softmax(score, axis=1)\n",
      "#         print(attention_weights.shape)\n",
      "        context_vector = attention_weights * values\n",
      "        context_vector = tf.reduce_sum(context_vector, axis=1)\n",
      "        \n",
      "        return context_vector, attention_weights\n",
      "\n",
      "This may be caused by multiline strings or comments not indented at the same level as the code.\n"
     ]
    },
    {
     "name": "stdout",
     "output_type": "stream",
     "text": [
      "WARNING:tensorflow:Entity <bound method BahdanauAttention.call of <__main__.BahdanauAttention object at 0x0000023AC1268B88>> could not be transformed and will be executed as-is. Please report this to the AutoGraph team. When filing the bug, set the verbosity to 10 (on Linux, `export AUTOGRAPH_VERBOSITY=10`) and attach the full output. Cause: Failed to parse source code of <bound method BahdanauAttention.call of <__main__.BahdanauAttention object at 0x0000023AC1268B88>>, which Python reported as:\n",
      "    def call(self, query, values):\n",
      "        # query: 디코더의 매 타임스텝마다의 hidden state, query hidden state shape: [batch size, units]\n",
      "        # query_with_time_axis shape: [batch size, 1, units]\n",
      "        # values: 인코더의 출력(hidden state), values shape: [batch size, sequence_length, units]\n",
      "        query_with_time_axis = tf.expand_dims(query, axis=1) # expand_dims()는 입력한 axis에 차원을 1만큼 증가시킨 \n",
      "                                                             # 텐서를 리턴한다.\n",
      "        \n",
      "        # score shape: [batch size, max_length, 1]\n",
      "        # self.v() 이전 shape: [batch size, max_length, units]\n",
      "        score = self.v(tf.nn.tanh(self.W(query_with_time_axis) + self.U(values)))\n",
      "#         print(self.W(query_with_time_axis).shape)\n",
      "#         print(self.U(values).shape)\n",
      "#         print(score.shape)\n",
      "        # attention_weights shape: [batch size, max_length, 1]\n",
      "        attention_weights = tf.nn.softmax(score, axis=1)\n",
      "#         print(attention_weights.shape)\n",
      "        context_vector = attention_weights * values\n",
      "        context_vector = tf.reduce_sum(context_vector, axis=1)\n",
      "        \n",
      "        return context_vector, attention_weights\n",
      "\n",
      "This may be caused by multiline strings or comments not indented at the same level as the code.\n",
      "WARNING: Entity <bound method BahdanauAttention.call of <__main__.BahdanauAttention object at 0x0000023AC1268B88>> could not be transformed and will be executed as-is. Please report this to the AutoGraph team. When filing the bug, set the verbosity to 10 (on Linux, `export AUTOGRAPH_VERBOSITY=10`) and attach the full output. Cause: Failed to parse source code of <bound method BahdanauAttention.call of <__main__.BahdanauAttention object at 0x0000023AC1268B88>>, which Python reported as:\n",
      "    def call(self, query, values):\n",
      "        # query: 디코더의 매 타임스텝마다의 hidden state, query hidden state shape: [batch size, units]\n",
      "        # query_with_time_axis shape: [batch size, 1, units]\n",
      "        # values: 인코더의 출력(hidden state), values shape: [batch size, sequence_length, units]\n",
      "        query_with_time_axis = tf.expand_dims(query, axis=1) # expand_dims()는 입력한 axis에 차원을 1만큼 증가시킨 \n",
      "                                                             # 텐서를 리턴한다.\n",
      "        \n",
      "        # score shape: [batch size, max_length, 1]\n",
      "        # self.v() 이전 shape: [batch size, max_length, units]\n",
      "        score = self.v(tf.nn.tanh(self.W(query_with_time_axis) + self.U(values)))\n",
      "#         print(self.W(query_with_time_axis).shape)\n",
      "#         print(self.U(values).shape)\n",
      "#         print(score.shape)\n",
      "        # attention_weights shape: [batch size, max_length, 1]\n",
      "        attention_weights = tf.nn.softmax(score, axis=1)\n",
      "#         print(attention_weights.shape)\n",
      "        context_vector = attention_weights * values\n",
      "        context_vector = tf.reduce_sum(context_vector, axis=1)\n",
      "        \n",
      "        return context_vector, attention_weights\n",
      "\n",
      "This may be caused by multiline strings or comments not indented at the same level as the code.\n",
      "WARNING:tensorflow:Entity <bound method BahdanauAttention.call of <__main__.BahdanauAttention object at 0x0000023AC1268B88>> could not be transformed and will be executed as-is. Please report this to the AutoGraph team. When filing the bug, set the verbosity to 10 (on Linux, `export AUTOGRAPH_VERBOSITY=10`) and attach the full output. Cause: Failed to parse source code of <bound method BahdanauAttention.call of <__main__.BahdanauAttention object at 0x0000023AC1268B88>>, which Python reported as:\n",
      "    def call(self, query, values):\n",
      "        # query: 디코더의 매 타임스텝마다의 hidden state, query hidden state shape: [batch size, units]\n",
      "        # query_with_time_axis shape: [batch size, 1, units]\n",
      "        # values: 인코더의 출력(hidden state), values shape: [batch size, sequence_length, units]\n",
      "        query_with_time_axis = tf.expand_dims(query, axis=1) # expand_dims()는 입력한 axis에 차원을 1만큼 증가시킨 \n",
      "                                                             # 텐서를 리턴한다.\n",
      "        \n",
      "        # score shape: [batch size, max_length, 1]\n",
      "        # self.v() 이전 shape: [batch size, max_length, units]\n",
      "        score = self.v(tf.nn.tanh(self.W(query_with_time_axis) + self.U(values)))\n",
      "#         print(self.W(query_with_time_axis).shape)\n",
      "#         print(self.U(values).shape)\n",
      "#         print(score.shape)\n",
      "        # attention_weights shape: [batch size, max_length, 1]\n",
      "        attention_weights = tf.nn.softmax(score, axis=1)\n",
      "#         print(attention_weights.shape)\n",
      "        context_vector = attention_weights * values\n",
      "        context_vector = tf.reduce_sum(context_vector, axis=1)\n",
      "        \n",
      "        return context_vector, attention_weights\n",
      "\n",
      "This may be caused by multiline strings or comments not indented at the same level as the code.\n",
      "WARNING: Entity <bound method BahdanauAttention.call of <__main__.BahdanauAttention object at 0x0000023AC1268B88>> could not be transformed and will be executed as-is. Please report this to the AutoGraph team. When filing the bug, set the verbosity to 10 (on Linux, `export AUTOGRAPH_VERBOSITY=10`) and attach the full output. Cause: Failed to parse source code of <bound method BahdanauAttention.call of <__main__.BahdanauAttention object at 0x0000023AC1268B88>>, which Python reported as:\n",
      "    def call(self, query, values):\n",
      "        # query: 디코더의 매 타임스텝마다의 hidden state, query hidden state shape: [batch size, units]\n",
      "        # query_with_time_axis shape: [batch size, 1, units]\n",
      "        # values: 인코더의 출력(hidden state), values shape: [batch size, sequence_length, units]\n",
      "        query_with_time_axis = tf.expand_dims(query, axis=1) # expand_dims()는 입력한 axis에 차원을 1만큼 증가시킨 \n",
      "                                                             # 텐서를 리턴한다.\n",
      "        \n",
      "        # score shape: [batch size, max_length, 1]\n",
      "        # self.v() 이전 shape: [batch size, max_length, units]\n",
      "        score = self.v(tf.nn.tanh(self.W(query_with_time_axis) + self.U(values)))\n",
      "#         print(self.W(query_with_time_axis).shape)\n",
      "#         print(self.U(values).shape)\n",
      "#         print(score.shape)\n",
      "        # attention_weights shape: [batch size, max_length, 1]\n",
      "        attention_weights = tf.nn.softmax(score, axis=1)\n",
      "#         print(attention_weights.shape)\n",
      "        context_vector = attention_weights * values\n",
      "        context_vector = tf.reduce_sum(context_vector, axis=1)\n",
      "        \n",
      "        return context_vector, attention_weights\n",
      "\n",
      "This may be caused by multiline strings or comments not indented at the same level as the code.\n",
      "WARNING:tensorflow:Entity <bound method BahdanauAttention.call of <__main__.BahdanauAttention object at 0x0000023AC1268B88>> could not be transformed and will be executed as-is. Please report this to the AutoGraph team. When filing the bug, set the verbosity to 10 (on Linux, `export AUTOGRAPH_VERBOSITY=10`) and attach the full output. Cause: Failed to parse source code of <bound method BahdanauAttention.call of <__main__.BahdanauAttention object at 0x0000023AC1268B88>>, which Python reported as:\n",
      "    def call(self, query, values):\n",
      "        # query: 디코더의 매 타임스텝마다의 hidden state, query hidden state shape: [batch size, units]\n",
      "        # query_with_time_axis shape: [batch size, 1, units]\n",
      "        # values: 인코더의 출력(hidden state), values shape: [batch size, sequence_length, units]\n",
      "        query_with_time_axis = tf.expand_dims(query, axis=1) # expand_dims()는 입력한 axis에 차원을 1만큼 증가시킨 \n",
      "                                                             # 텐서를 리턴한다.\n",
      "        \n",
      "        # score shape: [batch size, max_length, 1]\n",
      "        # self.v() 이전 shape: [batch size, max_length, units]\n",
      "        score = self.v(tf.nn.tanh(self.W(query_with_time_axis) + self.U(values)))\n",
      "#         print(self.W(query_with_time_axis).shape)\n",
      "#         print(self.U(values).shape)\n",
      "#         print(score.shape)\n",
      "        # attention_weights shape: [batch size, max_length, 1]\n",
      "        attention_weights = tf.nn.softmax(score, axis=1)\n",
      "#         print(attention_weights.shape)\n",
      "        context_vector = attention_weights * values\n",
      "        context_vector = tf.reduce_sum(context_vector, axis=1)\n",
      "        \n",
      "        return context_vector, attention_weights\n",
      "\n",
      "This may be caused by multiline strings or comments not indented at the same level as the code.\n"
     ]
    },
    {
     "name": "stdout",
     "output_type": "stream",
     "text": [
      "WARNING: Entity <bound method BahdanauAttention.call of <__main__.BahdanauAttention object at 0x0000023AC1268B88>> could not be transformed and will be executed as-is. Please report this to the AutoGraph team. When filing the bug, set the verbosity to 10 (on Linux, `export AUTOGRAPH_VERBOSITY=10`) and attach the full output. Cause: Failed to parse source code of <bound method BahdanauAttention.call of <__main__.BahdanauAttention object at 0x0000023AC1268B88>>, which Python reported as:\n",
      "    def call(self, query, values):\n",
      "        # query: 디코더의 매 타임스텝마다의 hidden state, query hidden state shape: [batch size, units]\n",
      "        # query_with_time_axis shape: [batch size, 1, units]\n",
      "        # values: 인코더의 출력(hidden state), values shape: [batch size, sequence_length, units]\n",
      "        query_with_time_axis = tf.expand_dims(query, axis=1) # expand_dims()는 입력한 axis에 차원을 1만큼 증가시킨 \n",
      "                                                             # 텐서를 리턴한다.\n",
      "        \n",
      "        # score shape: [batch size, max_length, 1]\n",
      "        # self.v() 이전 shape: [batch size, max_length, units]\n",
      "        score = self.v(tf.nn.tanh(self.W(query_with_time_axis) + self.U(values)))\n",
      "#         print(self.W(query_with_time_axis).shape)\n",
      "#         print(self.U(values).shape)\n",
      "#         print(score.shape)\n",
      "        # attention_weights shape: [batch size, max_length, 1]\n",
      "        attention_weights = tf.nn.softmax(score, axis=1)\n",
      "#         print(attention_weights.shape)\n",
      "        context_vector = attention_weights * values\n",
      "        context_vector = tf.reduce_sum(context_vector, axis=1)\n",
      "        \n",
      "        return context_vector, attention_weights\n",
      "\n",
      "This may be caused by multiline strings or comments not indented at the same level as the code.\n",
      "WARNING:tensorflow:Entity <bound method Encoder.call of <__main__.Encoder object at 0x0000023AC150CE88>> could not be transformed and will be executed as-is. Please report this to the AutoGraph team. When filing the bug, set the verbosity to 10 (on Linux, `export AUTOGRAPH_VERBOSITY=10`) and attach the full output. Cause: Failed to parse source code of <bound method Encoder.call of <__main__.Encoder object at 0x0000023AC150CE88>>, which Python reported as:\n",
      "    def call(self, x, hidden):\n",
      "        x = self.embedding(x)\n",
      "#         print(x.shape)\n",
      "        output, state = self.gru(x, initial_state = hidden)\n",
      "        return output, state\n",
      "\n",
      "This may be caused by multiline strings or comments not indented at the same level as the code.\n",
      "WARNING: Entity <bound method Encoder.call of <__main__.Encoder object at 0x0000023AC150CE88>> could not be transformed and will be executed as-is. Please report this to the AutoGraph team. When filing the bug, set the verbosity to 10 (on Linux, `export AUTOGRAPH_VERBOSITY=10`) and attach the full output. Cause: Failed to parse source code of <bound method Encoder.call of <__main__.Encoder object at 0x0000023AC150CE88>>, which Python reported as:\n",
      "    def call(self, x, hidden):\n",
      "        x = self.embedding(x)\n",
      "#         print(x.shape)\n",
      "        output, state = self.gru(x, initial_state = hidden)\n",
      "        return output, state\n",
      "\n",
      "This may be caused by multiline strings or comments not indented at the same level as the code.\n",
      "WARNING:tensorflow:Entity <bound method BahdanauAttention.call of <__main__.BahdanauAttention object at 0x0000023AC1268B88>> could not be transformed and will be executed as-is. Please report this to the AutoGraph team. When filing the bug, set the verbosity to 10 (on Linux, `export AUTOGRAPH_VERBOSITY=10`) and attach the full output. Cause: Failed to parse source code of <bound method BahdanauAttention.call of <__main__.BahdanauAttention object at 0x0000023AC1268B88>>, which Python reported as:\n",
      "    def call(self, query, values):\n",
      "        # query: 디코더의 매 타임스텝마다의 hidden state, query hidden state shape: [batch size, units]\n",
      "        # query_with_time_axis shape: [batch size, 1, units]\n",
      "        # values: 인코더의 출력(hidden state), values shape: [batch size, sequence_length, units]\n",
      "        query_with_time_axis = tf.expand_dims(query, axis=1) # expand_dims()는 입력한 axis에 차원을 1만큼 증가시킨 \n",
      "                                                             # 텐서를 리턴한다.\n",
      "        \n",
      "        # score shape: [batch size, max_length, 1]\n",
      "        # self.v() 이전 shape: [batch size, max_length, units]\n",
      "        score = self.v(tf.nn.tanh(self.W(query_with_time_axis) + self.U(values)))\n",
      "#         print(self.W(query_with_time_axis).shape)\n",
      "#         print(self.U(values).shape)\n",
      "#         print(score.shape)\n",
      "        # attention_weights shape: [batch size, max_length, 1]\n",
      "        attention_weights = tf.nn.softmax(score, axis=1)\n",
      "#         print(attention_weights.shape)\n",
      "        context_vector = attention_weights * values\n",
      "        context_vector = tf.reduce_sum(context_vector, axis=1)\n",
      "        \n",
      "        return context_vector, attention_weights\n",
      "\n",
      "This may be caused by multiline strings or comments not indented at the same level as the code.\n",
      "WARNING: Entity <bound method BahdanauAttention.call of <__main__.BahdanauAttention object at 0x0000023AC1268B88>> could not be transformed and will be executed as-is. Please report this to the AutoGraph team. When filing the bug, set the verbosity to 10 (on Linux, `export AUTOGRAPH_VERBOSITY=10`) and attach the full output. Cause: Failed to parse source code of <bound method BahdanauAttention.call of <__main__.BahdanauAttention object at 0x0000023AC1268B88>>, which Python reported as:\n",
      "    def call(self, query, values):\n",
      "        # query: 디코더의 매 타임스텝마다의 hidden state, query hidden state shape: [batch size, units]\n",
      "        # query_with_time_axis shape: [batch size, 1, units]\n",
      "        # values: 인코더의 출력(hidden state), values shape: [batch size, sequence_length, units]\n",
      "        query_with_time_axis = tf.expand_dims(query, axis=1) # expand_dims()는 입력한 axis에 차원을 1만큼 증가시킨 \n",
      "                                                             # 텐서를 리턴한다.\n",
      "        \n",
      "        # score shape: [batch size, max_length, 1]\n",
      "        # self.v() 이전 shape: [batch size, max_length, units]\n",
      "        score = self.v(tf.nn.tanh(self.W(query_with_time_axis) + self.U(values)))\n",
      "#         print(self.W(query_with_time_axis).shape)\n",
      "#         print(self.U(values).shape)\n",
      "#         print(score.shape)\n",
      "        # attention_weights shape: [batch size, max_length, 1]\n",
      "        attention_weights = tf.nn.softmax(score, axis=1)\n",
      "#         print(attention_weights.shape)\n",
      "        context_vector = attention_weights * values\n",
      "        context_vector = tf.reduce_sum(context_vector, axis=1)\n",
      "        \n",
      "        return context_vector, attention_weights\n",
      "\n",
      "This may be caused by multiline strings or comments not indented at the same level as the code.\n",
      "WARNING:tensorflow:Entity <bound method BahdanauAttention.call of <__main__.BahdanauAttention object at 0x0000023AC1268B88>> could not be transformed and will be executed as-is. Please report this to the AutoGraph team. When filing the bug, set the verbosity to 10 (on Linux, `export AUTOGRAPH_VERBOSITY=10`) and attach the full output. Cause: Failed to parse source code of <bound method BahdanauAttention.call of <__main__.BahdanauAttention object at 0x0000023AC1268B88>>, which Python reported as:\n",
      "    def call(self, query, values):\n",
      "        # query: 디코더의 매 타임스텝마다의 hidden state, query hidden state shape: [batch size, units]\n",
      "        # query_with_time_axis shape: [batch size, 1, units]\n",
      "        # values: 인코더의 출력(hidden state), values shape: [batch size, sequence_length, units]\n",
      "        query_with_time_axis = tf.expand_dims(query, axis=1) # expand_dims()는 입력한 axis에 차원을 1만큼 증가시킨 \n",
      "                                                             # 텐서를 리턴한다.\n",
      "        \n",
      "        # score shape: [batch size, max_length, 1]\n",
      "        # self.v() 이전 shape: [batch size, max_length, units]\n",
      "        score = self.v(tf.nn.tanh(self.W(query_with_time_axis) + self.U(values)))\n",
      "#         print(self.W(query_with_time_axis).shape)\n",
      "#         print(self.U(values).shape)\n",
      "#         print(score.shape)\n",
      "        # attention_weights shape: [batch size, max_length, 1]\n",
      "        attention_weights = tf.nn.softmax(score, axis=1)\n",
      "#         print(attention_weights.shape)\n",
      "        context_vector = attention_weights * values\n",
      "        context_vector = tf.reduce_sum(context_vector, axis=1)\n",
      "        \n",
      "        return context_vector, attention_weights\n",
      "\n",
      "This may be caused by multiline strings or comments not indented at the same level as the code.\n"
     ]
    },
    {
     "name": "stdout",
     "output_type": "stream",
     "text": [
      "WARNING: Entity <bound method BahdanauAttention.call of <__main__.BahdanauAttention object at 0x0000023AC1268B88>> could not be transformed and will be executed as-is. Please report this to the AutoGraph team. When filing the bug, set the verbosity to 10 (on Linux, `export AUTOGRAPH_VERBOSITY=10`) and attach the full output. Cause: Failed to parse source code of <bound method BahdanauAttention.call of <__main__.BahdanauAttention object at 0x0000023AC1268B88>>, which Python reported as:\n",
      "    def call(self, query, values):\n",
      "        # query: 디코더의 매 타임스텝마다의 hidden state, query hidden state shape: [batch size, units]\n",
      "        # query_with_time_axis shape: [batch size, 1, units]\n",
      "        # values: 인코더의 출력(hidden state), values shape: [batch size, sequence_length, units]\n",
      "        query_with_time_axis = tf.expand_dims(query, axis=1) # expand_dims()는 입력한 axis에 차원을 1만큼 증가시킨 \n",
      "                                                             # 텐서를 리턴한다.\n",
      "        \n",
      "        # score shape: [batch size, max_length, 1]\n",
      "        # self.v() 이전 shape: [batch size, max_length, units]\n",
      "        score = self.v(tf.nn.tanh(self.W(query_with_time_axis) + self.U(values)))\n",
      "#         print(self.W(query_with_time_axis).shape)\n",
      "#         print(self.U(values).shape)\n",
      "#         print(score.shape)\n",
      "        # attention_weights shape: [batch size, max_length, 1]\n",
      "        attention_weights = tf.nn.softmax(score, axis=1)\n",
      "#         print(attention_weights.shape)\n",
      "        context_vector = attention_weights * values\n",
      "        context_vector = tf.reduce_sum(context_vector, axis=1)\n",
      "        \n",
      "        return context_vector, attention_weights\n",
      "\n",
      "This may be caused by multiline strings or comments not indented at the same level as the code.\n",
      "WARNING:tensorflow:Entity <bound method BahdanauAttention.call of <__main__.BahdanauAttention object at 0x0000023AC1268B88>> could not be transformed and will be executed as-is. Please report this to the AutoGraph team. When filing the bug, set the verbosity to 10 (on Linux, `export AUTOGRAPH_VERBOSITY=10`) and attach the full output. Cause: Failed to parse source code of <bound method BahdanauAttention.call of <__main__.BahdanauAttention object at 0x0000023AC1268B88>>, which Python reported as:\n",
      "    def call(self, query, values):\n",
      "        # query: 디코더의 매 타임스텝마다의 hidden state, query hidden state shape: [batch size, units]\n",
      "        # query_with_time_axis shape: [batch size, 1, units]\n",
      "        # values: 인코더의 출력(hidden state), values shape: [batch size, sequence_length, units]\n",
      "        query_with_time_axis = tf.expand_dims(query, axis=1) # expand_dims()는 입력한 axis에 차원을 1만큼 증가시킨 \n",
      "                                                             # 텐서를 리턴한다.\n",
      "        \n",
      "        # score shape: [batch size, max_length, 1]\n",
      "        # self.v() 이전 shape: [batch size, max_length, units]\n",
      "        score = self.v(tf.nn.tanh(self.W(query_with_time_axis) + self.U(values)))\n",
      "#         print(self.W(query_with_time_axis).shape)\n",
      "#         print(self.U(values).shape)\n",
      "#         print(score.shape)\n",
      "        # attention_weights shape: [batch size, max_length, 1]\n",
      "        attention_weights = tf.nn.softmax(score, axis=1)\n",
      "#         print(attention_weights.shape)\n",
      "        context_vector = attention_weights * values\n",
      "        context_vector = tf.reduce_sum(context_vector, axis=1)\n",
      "        \n",
      "        return context_vector, attention_weights\n",
      "\n",
      "This may be caused by multiline strings or comments not indented at the same level as the code.\n",
      "WARNING: Entity <bound method BahdanauAttention.call of <__main__.BahdanauAttention object at 0x0000023AC1268B88>> could not be transformed and will be executed as-is. Please report this to the AutoGraph team. When filing the bug, set the verbosity to 10 (on Linux, `export AUTOGRAPH_VERBOSITY=10`) and attach the full output. Cause: Failed to parse source code of <bound method BahdanauAttention.call of <__main__.BahdanauAttention object at 0x0000023AC1268B88>>, which Python reported as:\n",
      "    def call(self, query, values):\n",
      "        # query: 디코더의 매 타임스텝마다의 hidden state, query hidden state shape: [batch size, units]\n",
      "        # query_with_time_axis shape: [batch size, 1, units]\n",
      "        # values: 인코더의 출력(hidden state), values shape: [batch size, sequence_length, units]\n",
      "        query_with_time_axis = tf.expand_dims(query, axis=1) # expand_dims()는 입력한 axis에 차원을 1만큼 증가시킨 \n",
      "                                                             # 텐서를 리턴한다.\n",
      "        \n",
      "        # score shape: [batch size, max_length, 1]\n",
      "        # self.v() 이전 shape: [batch size, max_length, units]\n",
      "        score = self.v(tf.nn.tanh(self.W(query_with_time_axis) + self.U(values)))\n",
      "#         print(self.W(query_with_time_axis).shape)\n",
      "#         print(self.U(values).shape)\n",
      "#         print(score.shape)\n",
      "        # attention_weights shape: [batch size, max_length, 1]\n",
      "        attention_weights = tf.nn.softmax(score, axis=1)\n",
      "#         print(attention_weights.shape)\n",
      "        context_vector = attention_weights * values\n",
      "        context_vector = tf.reduce_sum(context_vector, axis=1)\n",
      "        \n",
      "        return context_vector, attention_weights\n",
      "\n",
      "This may be caused by multiline strings or comments not indented at the same level as the code.\n",
      "WARNING:tensorflow:Entity <bound method BahdanauAttention.call of <__main__.BahdanauAttention object at 0x0000023AC1268B88>> could not be transformed and will be executed as-is. Please report this to the AutoGraph team. When filing the bug, set the verbosity to 10 (on Linux, `export AUTOGRAPH_VERBOSITY=10`) and attach the full output. Cause: Failed to parse source code of <bound method BahdanauAttention.call of <__main__.BahdanauAttention object at 0x0000023AC1268B88>>, which Python reported as:\n",
      "    def call(self, query, values):\n",
      "        # query: 디코더의 매 타임스텝마다의 hidden state, query hidden state shape: [batch size, units]\n",
      "        # query_with_time_axis shape: [batch size, 1, units]\n",
      "        # values: 인코더의 출력(hidden state), values shape: [batch size, sequence_length, units]\n",
      "        query_with_time_axis = tf.expand_dims(query, axis=1) # expand_dims()는 입력한 axis에 차원을 1만큼 증가시킨 \n",
      "                                                             # 텐서를 리턴한다.\n",
      "        \n",
      "        # score shape: [batch size, max_length, 1]\n",
      "        # self.v() 이전 shape: [batch size, max_length, units]\n",
      "        score = self.v(tf.nn.tanh(self.W(query_with_time_axis) + self.U(values)))\n",
      "#         print(self.W(query_with_time_axis).shape)\n",
      "#         print(self.U(values).shape)\n",
      "#         print(score.shape)\n",
      "        # attention_weights shape: [batch size, max_length, 1]\n",
      "        attention_weights = tf.nn.softmax(score, axis=1)\n",
      "#         print(attention_weights.shape)\n",
      "        context_vector = attention_weights * values\n",
      "        context_vector = tf.reduce_sum(context_vector, axis=1)\n",
      "        \n",
      "        return context_vector, attention_weights\n",
      "\n",
      "This may be caused by multiline strings or comments not indented at the same level as the code.\n",
      "WARNING: Entity <bound method BahdanauAttention.call of <__main__.BahdanauAttention object at 0x0000023AC1268B88>> could not be transformed and will be executed as-is. Please report this to the AutoGraph team. When filing the bug, set the verbosity to 10 (on Linux, `export AUTOGRAPH_VERBOSITY=10`) and attach the full output. Cause: Failed to parse source code of <bound method BahdanauAttention.call of <__main__.BahdanauAttention object at 0x0000023AC1268B88>>, which Python reported as:\n",
      "    def call(self, query, values):\n",
      "        # query: 디코더의 매 타임스텝마다의 hidden state, query hidden state shape: [batch size, units]\n",
      "        # query_with_time_axis shape: [batch size, 1, units]\n",
      "        # values: 인코더의 출력(hidden state), values shape: [batch size, sequence_length, units]\n",
      "        query_with_time_axis = tf.expand_dims(query, axis=1) # expand_dims()는 입력한 axis에 차원을 1만큼 증가시킨 \n",
      "                                                             # 텐서를 리턴한다.\n",
      "        \n",
      "        # score shape: [batch size, max_length, 1]\n",
      "        # self.v() 이전 shape: [batch size, max_length, units]\n",
      "        score = self.v(tf.nn.tanh(self.W(query_with_time_axis) + self.U(values)))\n",
      "#         print(self.W(query_with_time_axis).shape)\n",
      "#         print(self.U(values).shape)\n",
      "#         print(score.shape)\n",
      "        # attention_weights shape: [batch size, max_length, 1]\n",
      "        attention_weights = tf.nn.softmax(score, axis=1)\n",
      "#         print(attention_weights.shape)\n",
      "        context_vector = attention_weights * values\n",
      "        context_vector = tf.reduce_sum(context_vector, axis=1)\n",
      "        \n",
      "        return context_vector, attention_weights\n",
      "\n",
      "This may be caused by multiline strings or comments not indented at the same level as the code.\n"
     ]
    },
    {
     "name": "stdout",
     "output_type": "stream",
     "text": [
      "WARNING:tensorflow:Entity <bound method BahdanauAttention.call of <__main__.BahdanauAttention object at 0x0000023AC1268B88>> could not be transformed and will be executed as-is. Please report this to the AutoGraph team. When filing the bug, set the verbosity to 10 (on Linux, `export AUTOGRAPH_VERBOSITY=10`) and attach the full output. Cause: Failed to parse source code of <bound method BahdanauAttention.call of <__main__.BahdanauAttention object at 0x0000023AC1268B88>>, which Python reported as:\n",
      "    def call(self, query, values):\n",
      "        # query: 디코더의 매 타임스텝마다의 hidden state, query hidden state shape: [batch size, units]\n",
      "        # query_with_time_axis shape: [batch size, 1, units]\n",
      "        # values: 인코더의 출력(hidden state), values shape: [batch size, sequence_length, units]\n",
      "        query_with_time_axis = tf.expand_dims(query, axis=1) # expand_dims()는 입력한 axis에 차원을 1만큼 증가시킨 \n",
      "                                                             # 텐서를 리턴한다.\n",
      "        \n",
      "        # score shape: [batch size, max_length, 1]\n",
      "        # self.v() 이전 shape: [batch size, max_length, units]\n",
      "        score = self.v(tf.nn.tanh(self.W(query_with_time_axis) + self.U(values)))\n",
      "#         print(self.W(query_with_time_axis).shape)\n",
      "#         print(self.U(values).shape)\n",
      "#         print(score.shape)\n",
      "        # attention_weights shape: [batch size, max_length, 1]\n",
      "        attention_weights = tf.nn.softmax(score, axis=1)\n",
      "#         print(attention_weights.shape)\n",
      "        context_vector = attention_weights * values\n",
      "        context_vector = tf.reduce_sum(context_vector, axis=1)\n",
      "        \n",
      "        return context_vector, attention_weights\n",
      "\n",
      "This may be caused by multiline strings or comments not indented at the same level as the code.\n",
      "WARNING: Entity <bound method BahdanauAttention.call of <__main__.BahdanauAttention object at 0x0000023AC1268B88>> could not be transformed and will be executed as-is. Please report this to the AutoGraph team. When filing the bug, set the verbosity to 10 (on Linux, `export AUTOGRAPH_VERBOSITY=10`) and attach the full output. Cause: Failed to parse source code of <bound method BahdanauAttention.call of <__main__.BahdanauAttention object at 0x0000023AC1268B88>>, which Python reported as:\n",
      "    def call(self, query, values):\n",
      "        # query: 디코더의 매 타임스텝마다의 hidden state, query hidden state shape: [batch size, units]\n",
      "        # query_with_time_axis shape: [batch size, 1, units]\n",
      "        # values: 인코더의 출력(hidden state), values shape: [batch size, sequence_length, units]\n",
      "        query_with_time_axis = tf.expand_dims(query, axis=1) # expand_dims()는 입력한 axis에 차원을 1만큼 증가시킨 \n",
      "                                                             # 텐서를 리턴한다.\n",
      "        \n",
      "        # score shape: [batch size, max_length, 1]\n",
      "        # self.v() 이전 shape: [batch size, max_length, units]\n",
      "        score = self.v(tf.nn.tanh(self.W(query_with_time_axis) + self.U(values)))\n",
      "#         print(self.W(query_with_time_axis).shape)\n",
      "#         print(self.U(values).shape)\n",
      "#         print(score.shape)\n",
      "        # attention_weights shape: [batch size, max_length, 1]\n",
      "        attention_weights = tf.nn.softmax(score, axis=1)\n",
      "#         print(attention_weights.shape)\n",
      "        context_vector = attention_weights * values\n",
      "        context_vector = tf.reduce_sum(context_vector, axis=1)\n",
      "        \n",
      "        return context_vector, attention_weights\n",
      "\n",
      "This may be caused by multiline strings or comments not indented at the same level as the code.\n",
      "WARNING:tensorflow:Entity <bound method BahdanauAttention.call of <__main__.BahdanauAttention object at 0x0000023AC1268B88>> could not be transformed and will be executed as-is. Please report this to the AutoGraph team. When filing the bug, set the verbosity to 10 (on Linux, `export AUTOGRAPH_VERBOSITY=10`) and attach the full output. Cause: Failed to parse source code of <bound method BahdanauAttention.call of <__main__.BahdanauAttention object at 0x0000023AC1268B88>>, which Python reported as:\n",
      "    def call(self, query, values):\n",
      "        # query: 디코더의 매 타임스텝마다의 hidden state, query hidden state shape: [batch size, units]\n",
      "        # query_with_time_axis shape: [batch size, 1, units]\n",
      "        # values: 인코더의 출력(hidden state), values shape: [batch size, sequence_length, units]\n",
      "        query_with_time_axis = tf.expand_dims(query, axis=1) # expand_dims()는 입력한 axis에 차원을 1만큼 증가시킨 \n",
      "                                                             # 텐서를 리턴한다.\n",
      "        \n",
      "        # score shape: [batch size, max_length, 1]\n",
      "        # self.v() 이전 shape: [batch size, max_length, units]\n",
      "        score = self.v(tf.nn.tanh(self.W(query_with_time_axis) + self.U(values)))\n",
      "#         print(self.W(query_with_time_axis).shape)\n",
      "#         print(self.U(values).shape)\n",
      "#         print(score.shape)\n",
      "        # attention_weights shape: [batch size, max_length, 1]\n",
      "        attention_weights = tf.nn.softmax(score, axis=1)\n",
      "#         print(attention_weights.shape)\n",
      "        context_vector = attention_weights * values\n",
      "        context_vector = tf.reduce_sum(context_vector, axis=1)\n",
      "        \n",
      "        return context_vector, attention_weights\n",
      "\n",
      "This may be caused by multiline strings or comments not indented at the same level as the code.\n",
      "WARNING: Entity <bound method BahdanauAttention.call of <__main__.BahdanauAttention object at 0x0000023AC1268B88>> could not be transformed and will be executed as-is. Please report this to the AutoGraph team. When filing the bug, set the verbosity to 10 (on Linux, `export AUTOGRAPH_VERBOSITY=10`) and attach the full output. Cause: Failed to parse source code of <bound method BahdanauAttention.call of <__main__.BahdanauAttention object at 0x0000023AC1268B88>>, which Python reported as:\n",
      "    def call(self, query, values):\n",
      "        # query: 디코더의 매 타임스텝마다의 hidden state, query hidden state shape: [batch size, units]\n",
      "        # query_with_time_axis shape: [batch size, 1, units]\n",
      "        # values: 인코더의 출력(hidden state), values shape: [batch size, sequence_length, units]\n",
      "        query_with_time_axis = tf.expand_dims(query, axis=1) # expand_dims()는 입력한 axis에 차원을 1만큼 증가시킨 \n",
      "                                                             # 텐서를 리턴한다.\n",
      "        \n",
      "        # score shape: [batch size, max_length, 1]\n",
      "        # self.v() 이전 shape: [batch size, max_length, units]\n",
      "        score = self.v(tf.nn.tanh(self.W(query_with_time_axis) + self.U(values)))\n",
      "#         print(self.W(query_with_time_axis).shape)\n",
      "#         print(self.U(values).shape)\n",
      "#         print(score.shape)\n",
      "        # attention_weights shape: [batch size, max_length, 1]\n",
      "        attention_weights = tf.nn.softmax(score, axis=1)\n",
      "#         print(attention_weights.shape)\n",
      "        context_vector = attention_weights * values\n",
      "        context_vector = tf.reduce_sum(context_vector, axis=1)\n",
      "        \n",
      "        return context_vector, attention_weights\n",
      "\n",
      "This may be caused by multiline strings or comments not indented at the same level as the code.\n",
      "WARNING:tensorflow:Entity <bound method BahdanauAttention.call of <__main__.BahdanauAttention object at 0x0000023AC1268B88>> could not be transformed and will be executed as-is. Please report this to the AutoGraph team. When filing the bug, set the verbosity to 10 (on Linux, `export AUTOGRAPH_VERBOSITY=10`) and attach the full output. Cause: Failed to parse source code of <bound method BahdanauAttention.call of <__main__.BahdanauAttention object at 0x0000023AC1268B88>>, which Python reported as:\n",
      "    def call(self, query, values):\n",
      "        # query: 디코더의 매 타임스텝마다의 hidden state, query hidden state shape: [batch size, units]\n",
      "        # query_with_time_axis shape: [batch size, 1, units]\n",
      "        # values: 인코더의 출력(hidden state), values shape: [batch size, sequence_length, units]\n",
      "        query_with_time_axis = tf.expand_dims(query, axis=1) # expand_dims()는 입력한 axis에 차원을 1만큼 증가시킨 \n",
      "                                                             # 텐서를 리턴한다.\n",
      "        \n",
      "        # score shape: [batch size, max_length, 1]\n",
      "        # self.v() 이전 shape: [batch size, max_length, units]\n",
      "        score = self.v(tf.nn.tanh(self.W(query_with_time_axis) + self.U(values)))\n",
      "#         print(self.W(query_with_time_axis).shape)\n",
      "#         print(self.U(values).shape)\n",
      "#         print(score.shape)\n",
      "        # attention_weights shape: [batch size, max_length, 1]\n",
      "        attention_weights = tf.nn.softmax(score, axis=1)\n",
      "#         print(attention_weights.shape)\n",
      "        context_vector = attention_weights * values\n",
      "        context_vector = tf.reduce_sum(context_vector, axis=1)\n",
      "        \n",
      "        return context_vector, attention_weights\n",
      "\n",
      "This may be caused by multiline strings or comments not indented at the same level as the code.\n"
     ]
    },
    {
     "name": "stdout",
     "output_type": "stream",
     "text": [
      "WARNING: Entity <bound method BahdanauAttention.call of <__main__.BahdanauAttention object at 0x0000023AC1268B88>> could not be transformed and will be executed as-is. Please report this to the AutoGraph team. When filing the bug, set the verbosity to 10 (on Linux, `export AUTOGRAPH_VERBOSITY=10`) and attach the full output. Cause: Failed to parse source code of <bound method BahdanauAttention.call of <__main__.BahdanauAttention object at 0x0000023AC1268B88>>, which Python reported as:\n",
      "    def call(self, query, values):\n",
      "        # query: 디코더의 매 타임스텝마다의 hidden state, query hidden state shape: [batch size, units]\n",
      "        # query_with_time_axis shape: [batch size, 1, units]\n",
      "        # values: 인코더의 출력(hidden state), values shape: [batch size, sequence_length, units]\n",
      "        query_with_time_axis = tf.expand_dims(query, axis=1) # expand_dims()는 입력한 axis에 차원을 1만큼 증가시킨 \n",
      "                                                             # 텐서를 리턴한다.\n",
      "        \n",
      "        # score shape: [batch size, max_length, 1]\n",
      "        # self.v() 이전 shape: [batch size, max_length, units]\n",
      "        score = self.v(tf.nn.tanh(self.W(query_with_time_axis) + self.U(values)))\n",
      "#         print(self.W(query_with_time_axis).shape)\n",
      "#         print(self.U(values).shape)\n",
      "#         print(score.shape)\n",
      "        # attention_weights shape: [batch size, max_length, 1]\n",
      "        attention_weights = tf.nn.softmax(score, axis=1)\n",
      "#         print(attention_weights.shape)\n",
      "        context_vector = attention_weights * values\n",
      "        context_vector = tf.reduce_sum(context_vector, axis=1)\n",
      "        \n",
      "        return context_vector, attention_weights\n",
      "\n",
      "This may be caused by multiline strings or comments not indented at the same level as the code.\n",
      "WARNING:tensorflow:Entity <bound method BahdanauAttention.call of <__main__.BahdanauAttention object at 0x0000023AC1268B88>> could not be transformed and will be executed as-is. Please report this to the AutoGraph team. When filing the bug, set the verbosity to 10 (on Linux, `export AUTOGRAPH_VERBOSITY=10`) and attach the full output. Cause: Failed to parse source code of <bound method BahdanauAttention.call of <__main__.BahdanauAttention object at 0x0000023AC1268B88>>, which Python reported as:\n",
      "    def call(self, query, values):\n",
      "        # query: 디코더의 매 타임스텝마다의 hidden state, query hidden state shape: [batch size, units]\n",
      "        # query_with_time_axis shape: [batch size, 1, units]\n",
      "        # values: 인코더의 출력(hidden state), values shape: [batch size, sequence_length, units]\n",
      "        query_with_time_axis = tf.expand_dims(query, axis=1) # expand_dims()는 입력한 axis에 차원을 1만큼 증가시킨 \n",
      "                                                             # 텐서를 리턴한다.\n",
      "        \n",
      "        # score shape: [batch size, max_length, 1]\n",
      "        # self.v() 이전 shape: [batch size, max_length, units]\n",
      "        score = self.v(tf.nn.tanh(self.W(query_with_time_axis) + self.U(values)))\n",
      "#         print(self.W(query_with_time_axis).shape)\n",
      "#         print(self.U(values).shape)\n",
      "#         print(score.shape)\n",
      "        # attention_weights shape: [batch size, max_length, 1]\n",
      "        attention_weights = tf.nn.softmax(score, axis=1)\n",
      "#         print(attention_weights.shape)\n",
      "        context_vector = attention_weights * values\n",
      "        context_vector = tf.reduce_sum(context_vector, axis=1)\n",
      "        \n",
      "        return context_vector, attention_weights\n",
      "\n",
      "This may be caused by multiline strings or comments not indented at the same level as the code.\n",
      "WARNING: Entity <bound method BahdanauAttention.call of <__main__.BahdanauAttention object at 0x0000023AC1268B88>> could not be transformed and will be executed as-is. Please report this to the AutoGraph team. When filing the bug, set the verbosity to 10 (on Linux, `export AUTOGRAPH_VERBOSITY=10`) and attach the full output. Cause: Failed to parse source code of <bound method BahdanauAttention.call of <__main__.BahdanauAttention object at 0x0000023AC1268B88>>, which Python reported as:\n",
      "    def call(self, query, values):\n",
      "        # query: 디코더의 매 타임스텝마다의 hidden state, query hidden state shape: [batch size, units]\n",
      "        # query_with_time_axis shape: [batch size, 1, units]\n",
      "        # values: 인코더의 출력(hidden state), values shape: [batch size, sequence_length, units]\n",
      "        query_with_time_axis = tf.expand_dims(query, axis=1) # expand_dims()는 입력한 axis에 차원을 1만큼 증가시킨 \n",
      "                                                             # 텐서를 리턴한다.\n",
      "        \n",
      "        # score shape: [batch size, max_length, 1]\n",
      "        # self.v() 이전 shape: [batch size, max_length, units]\n",
      "        score = self.v(tf.nn.tanh(self.W(query_with_time_axis) + self.U(values)))\n",
      "#         print(self.W(query_with_time_axis).shape)\n",
      "#         print(self.U(values).shape)\n",
      "#         print(score.shape)\n",
      "        # attention_weights shape: [batch size, max_length, 1]\n",
      "        attention_weights = tf.nn.softmax(score, axis=1)\n",
      "#         print(attention_weights.shape)\n",
      "        context_vector = attention_weights * values\n",
      "        context_vector = tf.reduce_sum(context_vector, axis=1)\n",
      "        \n",
      "        return context_vector, attention_weights\n",
      "\n",
      "This may be caused by multiline strings or comments not indented at the same level as the code.\n",
      "WARNING:tensorflow:Entity <bound method BahdanauAttention.call of <__main__.BahdanauAttention object at 0x0000023AC1268B88>> could not be transformed and will be executed as-is. Please report this to the AutoGraph team. When filing the bug, set the verbosity to 10 (on Linux, `export AUTOGRAPH_VERBOSITY=10`) and attach the full output. Cause: Failed to parse source code of <bound method BahdanauAttention.call of <__main__.BahdanauAttention object at 0x0000023AC1268B88>>, which Python reported as:\n",
      "    def call(self, query, values):\n",
      "        # query: 디코더의 매 타임스텝마다의 hidden state, query hidden state shape: [batch size, units]\n",
      "        # query_with_time_axis shape: [batch size, 1, units]\n",
      "        # values: 인코더의 출력(hidden state), values shape: [batch size, sequence_length, units]\n",
      "        query_with_time_axis = tf.expand_dims(query, axis=1) # expand_dims()는 입력한 axis에 차원을 1만큼 증가시킨 \n",
      "                                                             # 텐서를 리턴한다.\n",
      "        \n",
      "        # score shape: [batch size, max_length, 1]\n",
      "        # self.v() 이전 shape: [batch size, max_length, units]\n",
      "        score = self.v(tf.nn.tanh(self.W(query_with_time_axis) + self.U(values)))\n",
      "#         print(self.W(query_with_time_axis).shape)\n",
      "#         print(self.U(values).shape)\n",
      "#         print(score.shape)\n",
      "        # attention_weights shape: [batch size, max_length, 1]\n",
      "        attention_weights = tf.nn.softmax(score, axis=1)\n",
      "#         print(attention_weights.shape)\n",
      "        context_vector = attention_weights * values\n",
      "        context_vector = tf.reduce_sum(context_vector, axis=1)\n",
      "        \n",
      "        return context_vector, attention_weights\n",
      "\n",
      "This may be caused by multiline strings or comments not indented at the same level as the code.\n",
      "WARNING: Entity <bound method BahdanauAttention.call of <__main__.BahdanauAttention object at 0x0000023AC1268B88>> could not be transformed and will be executed as-is. Please report this to the AutoGraph team. When filing the bug, set the verbosity to 10 (on Linux, `export AUTOGRAPH_VERBOSITY=10`) and attach the full output. Cause: Failed to parse source code of <bound method BahdanauAttention.call of <__main__.BahdanauAttention object at 0x0000023AC1268B88>>, which Python reported as:\n",
      "    def call(self, query, values):\n",
      "        # query: 디코더의 매 타임스텝마다의 hidden state, query hidden state shape: [batch size, units]\n",
      "        # query_with_time_axis shape: [batch size, 1, units]\n",
      "        # values: 인코더의 출력(hidden state), values shape: [batch size, sequence_length, units]\n",
      "        query_with_time_axis = tf.expand_dims(query, axis=1) # expand_dims()는 입력한 axis에 차원을 1만큼 증가시킨 \n",
      "                                                             # 텐서를 리턴한다.\n",
      "        \n",
      "        # score shape: [batch size, max_length, 1]\n",
      "        # self.v() 이전 shape: [batch size, max_length, units]\n",
      "        score = self.v(tf.nn.tanh(self.W(query_with_time_axis) + self.U(values)))\n",
      "#         print(self.W(query_with_time_axis).shape)\n",
      "#         print(self.U(values).shape)\n",
      "#         print(score.shape)\n",
      "        # attention_weights shape: [batch size, max_length, 1]\n",
      "        attention_weights = tf.nn.softmax(score, axis=1)\n",
      "#         print(attention_weights.shape)\n",
      "        context_vector = attention_weights * values\n",
      "        context_vector = tf.reduce_sum(context_vector, axis=1)\n",
      "        \n",
      "        return context_vector, attention_weights\n",
      "\n",
      "This may be caused by multiline strings or comments not indented at the same level as the code.\n"
     ]
    },
    {
     "name": "stdout",
     "output_type": "stream",
     "text": [
      "WARNING:tensorflow:Entity <bound method BahdanauAttention.call of <__main__.BahdanauAttention object at 0x0000023AC1268B88>> could not be transformed and will be executed as-is. Please report this to the AutoGraph team. When filing the bug, set the verbosity to 10 (on Linux, `export AUTOGRAPH_VERBOSITY=10`) and attach the full output. Cause: Failed to parse source code of <bound method BahdanauAttention.call of <__main__.BahdanauAttention object at 0x0000023AC1268B88>>, which Python reported as:\n",
      "    def call(self, query, values):\n",
      "        # query: 디코더의 매 타임스텝마다의 hidden state, query hidden state shape: [batch size, units]\n",
      "        # query_with_time_axis shape: [batch size, 1, units]\n",
      "        # values: 인코더의 출력(hidden state), values shape: [batch size, sequence_length, units]\n",
      "        query_with_time_axis = tf.expand_dims(query, axis=1) # expand_dims()는 입력한 axis에 차원을 1만큼 증가시킨 \n",
      "                                                             # 텐서를 리턴한다.\n",
      "        \n",
      "        # score shape: [batch size, max_length, 1]\n",
      "        # self.v() 이전 shape: [batch size, max_length, units]\n",
      "        score = self.v(tf.nn.tanh(self.W(query_with_time_axis) + self.U(values)))\n",
      "#         print(self.W(query_with_time_axis).shape)\n",
      "#         print(self.U(values).shape)\n",
      "#         print(score.shape)\n",
      "        # attention_weights shape: [batch size, max_length, 1]\n",
      "        attention_weights = tf.nn.softmax(score, axis=1)\n",
      "#         print(attention_weights.shape)\n",
      "        context_vector = attention_weights * values\n",
      "        context_vector = tf.reduce_sum(context_vector, axis=1)\n",
      "        \n",
      "        return context_vector, attention_weights\n",
      "\n",
      "This may be caused by multiline strings or comments not indented at the same level as the code.\n",
      "WARNING: Entity <bound method BahdanauAttention.call of <__main__.BahdanauAttention object at 0x0000023AC1268B88>> could not be transformed and will be executed as-is. Please report this to the AutoGraph team. When filing the bug, set the verbosity to 10 (on Linux, `export AUTOGRAPH_VERBOSITY=10`) and attach the full output. Cause: Failed to parse source code of <bound method BahdanauAttention.call of <__main__.BahdanauAttention object at 0x0000023AC1268B88>>, which Python reported as:\n",
      "    def call(self, query, values):\n",
      "        # query: 디코더의 매 타임스텝마다의 hidden state, query hidden state shape: [batch size, units]\n",
      "        # query_with_time_axis shape: [batch size, 1, units]\n",
      "        # values: 인코더의 출력(hidden state), values shape: [batch size, sequence_length, units]\n",
      "        query_with_time_axis = tf.expand_dims(query, axis=1) # expand_dims()는 입력한 axis에 차원을 1만큼 증가시킨 \n",
      "                                                             # 텐서를 리턴한다.\n",
      "        \n",
      "        # score shape: [batch size, max_length, 1]\n",
      "        # self.v() 이전 shape: [batch size, max_length, units]\n",
      "        score = self.v(tf.nn.tanh(self.W(query_with_time_axis) + self.U(values)))\n",
      "#         print(self.W(query_with_time_axis).shape)\n",
      "#         print(self.U(values).shape)\n",
      "#         print(score.shape)\n",
      "        # attention_weights shape: [batch size, max_length, 1]\n",
      "        attention_weights = tf.nn.softmax(score, axis=1)\n",
      "#         print(attention_weights.shape)\n",
      "        context_vector = attention_weights * values\n",
      "        context_vector = tf.reduce_sum(context_vector, axis=1)\n",
      "        \n",
      "        return context_vector, attention_weights\n",
      "\n",
      "This may be caused by multiline strings or comments not indented at the same level as the code.\n",
      "Epoch 1 Batch 0 Loss 4.4458\n",
      "Epoch 1 Batch 100 Loss 2.2113\n",
      "Epoch 1 Batch 200 Loss 1.8173\n",
      "Epoch 1 Batch 300 Loss 1.8344\n",
      "Epoch 1 Loss 2.0153\n",
      "Time taken for 1 epoch 49.82225275039673 sec\n",
      "\n",
      "Epoch 2 Batch 0 Loss 1.5501\n",
      "Epoch 2 Batch 100 Loss 1.4945\n",
      "Epoch 2 Batch 200 Loss 1.3230\n",
      "Epoch 2 Batch 300 Loss 1.2534\n",
      "Epoch 2 Loss 1.3424\n",
      "Time taken for 1 epoch 33.269607067108154 sec\n",
      "\n",
      "Epoch 3 Batch 0 Loss 0.9919\n",
      "Epoch 3 Batch 100 Loss 1.0526\n",
      "Epoch 3 Batch 200 Loss 0.9376\n",
      "Epoch 3 Batch 300 Loss 0.9125\n",
      "Epoch 3 Loss 0.9113\n",
      "Time taken for 1 epoch 32.85926675796509 sec\n",
      "\n",
      "Epoch 4 Batch 0 Loss 0.6624\n",
      "Epoch 4 Batch 100 Loss 0.5799\n",
      "Epoch 4 Batch 200 Loss 0.6140\n",
      "Epoch 4 Batch 300 Loss 0.5704\n",
      "Epoch 4 Loss 0.6013\n",
      "Time taken for 1 epoch 33.375417947769165 sec\n",
      "\n",
      "Epoch 5 Batch 0 Loss 0.3224\n",
      "Epoch 5 Batch 100 Loss 0.4072\n",
      "Epoch 5 Batch 200 Loss 0.3825\n",
      "Epoch 5 Batch 300 Loss 0.3714\n",
      "Epoch 5 Loss 0.3998\n",
      "Time taken for 1 epoch 32.37506127357483 sec\n",
      "\n",
      "Epoch 6 Batch 0 Loss 0.2646\n",
      "Epoch 6 Batch 100 Loss 0.2154\n",
      "Epoch 6 Batch 200 Loss 0.2692\n",
      "Epoch 6 Batch 300 Loss 0.2904\n",
      "Epoch 6 Loss 0.2751\n",
      "Time taken for 1 epoch 32.74703812599182 sec\n",
      "\n",
      "Epoch 7 Batch 0 Loss 0.1404\n",
      "Epoch 7 Batch 100 Loss 0.1749\n",
      "Epoch 7 Batch 200 Loss 0.1964\n",
      "Epoch 7 Batch 300 Loss 0.1843\n",
      "Epoch 7 Loss 0.1954\n",
      "Time taken for 1 epoch 32.3191032409668 sec\n",
      "\n",
      "Epoch 8 Batch 0 Loss 0.1321\n",
      "Epoch 8 Batch 100 Loss 0.1122\n",
      "Epoch 8 Batch 200 Loss 0.1411\n",
      "Epoch 8 Batch 300 Loss 0.1297\n",
      "Epoch 8 Loss 0.1445\n",
      "Time taken for 1 epoch 32.815184593200684 sec\n",
      "\n",
      "Epoch 9 Batch 0 Loss 0.1252\n",
      "Epoch 9 Batch 100 Loss 0.1291\n",
      "Epoch 9 Batch 200 Loss 0.1396\n",
      "Epoch 9 Batch 300 Loss 0.1040\n",
      "Epoch 9 Loss 0.1136\n",
      "Time taken for 1 epoch 32.31700038909912 sec\n",
      "\n",
      "Epoch 10 Batch 0 Loss 0.0759\n",
      "Epoch 10 Batch 100 Loss 0.0930\n",
      "Epoch 10 Batch 200 Loss 0.0793\n",
      "Epoch 10 Batch 300 Loss 0.0761\n",
      "Epoch 10 Loss 0.0949\n",
      "Time taken for 1 epoch 32.81363129615784 sec\n",
      "\n"
     ]
    }
   ],
   "source": [
    "EPOCHS = 10\n",
    "\n",
    "for epoch in range(EPOCHS):\n",
    "    start = time.time()\n",
    "    \n",
    "    enc_hidden = encoder.initialize_hidden_state()\n",
    "    total_loss = 0\n",
    "    \n",
    "    for (batch, (inp, targ)) in enumerate(dataset.take(steps_per_epoch)):\n",
    "        batch_loss = train_step(inp, targ, enc_hidden)\n",
    "        total_loss += batch_loss\n",
    "        \n",
    "        if batch % 100 == 0:\n",
    "            print(f\"Epoch {epoch + 1} Batch {batch} Loss {batch_loss.numpy():.4f}\")\n",
    "        \n",
    "    # 에포크가 2번 실행될 때마다 모델 저장(체크포인트)\n",
    "    if (epoch + 1) % 2 == 0:\n",
    "        checkpoint.save(file_prefix = checkpoint_prefix)\n",
    "        \n",
    "    print(f\"Epoch {epoch + 1} Loss {(total_loss / steps_per_epoch):.4f}\")\n",
    "    print(f\"Time taken for 1 epoch {time.time() - start} sec\\n\")"
   ]
  },
  {
   "cell_type": "markdown",
   "metadata": {
    "ExecuteTime": {
     "end_time": "2021-04-18T06:23:25.243588Z",
     "start_time": "2021-04-18T06:23:25.226587Z"
    },
    "id": "Dq8OcMox6yJK"
   },
   "source": [
    "#### 훈련된 모델로 번역하기"
   ]
  },
  {
   "cell_type": "code",
   "execution_count": 31,
   "metadata": {
    "ExecuteTime": {
     "end_time": "2021-04-19T08:15:44.712407Z",
     "start_time": "2021-04-19T08:15:44.693377Z"
    },
    "id": "rU8qP2T_6yJK"
   },
   "outputs": [],
   "source": [
    "def evaluate(sentence):\n",
    "    attention_plot = np.zeros((max_length_targ, max_length_inp))\n",
    "    \n",
    "    sentence = preprocess_sentence(sentence)\n",
    "    \n",
    "    inputs = [inp_lang.word_index[i] for i in sentence.split(' ')]\n",
    "    inputs = tf.keras.preprocessing.sequence.pad_sequences([inputs], maxlen=max_length_inp, padding='post')\n",
    "#     print(inputs[0])\n",
    "#     for input in inputs[0].tolist():\n",
    "#         if input == 0:\n",
    "#             continue\n",
    "#         print(inp_lang.index_word[input])\n",
    "    inputs = tf.convert_to_tensor(inputs)\n",
    "    \n",
    "    result = ''\n",
    "    \n",
    "    hidden = [tf.zeros((1, units))] # 문장 1개에 대한 hidden state이므로 shape이 [1, units] 이다.\n",
    "    enc_out, enc_hidden = encoder(inputs, hidden)\n",
    "    \n",
    "    dec_hidden = enc_hidden\n",
    "    dec_input = tf.expand_dims([targ_lang.word_index[\"<start>\"]], axis=0)\n",
    "    \n",
    "    for t in range(max_length_targ):\n",
    "        predictions, dec_hidden, attention_weights = decoder(dec_input, dec_hidden, enc_out)\n",
    "        \n",
    "        # 어텐션 가중치를 시각화하기 위해 어텐션 가중치를 저장한다.\n",
    "        attention_weights = tf.reshape(attention_weights, (-1, ))\n",
    "        attention_plot[t] = attention_weights.numpy()\n",
    "        \n",
    "        predicted_id = tf.argmax(predictions[0]).numpy()\n",
    "        \n",
    "        result += targ_lang.index_word[predicted_id] + ' '\n",
    "#         print(result)\n",
    "#         print(attention_weights)\n",
    "        if targ_lang.index_word[predicted_id] == '<end>':\n",
    "            return result, sentence, attention_plot\n",
    "        \n",
    "        # 예측된 ID를 모델에 다시 feed한다.\n",
    "        dec_input = tf.expand_dims([predicted_id], axis=0)\n",
    "        \n",
    "    return result, sentence, attention_plot"
   ]
  },
  {
   "cell_type": "code",
   "execution_count": 32,
   "metadata": {
    "ExecuteTime": {
     "end_time": "2021-04-19T08:15:44.728378Z",
     "start_time": "2021-04-19T08:15:44.714401Z"
    },
    "id": "jjxcgDFH6yJK"
   },
   "outputs": [],
   "source": [
    "# 어텐션 가중치를 plot하기 위한 함수이다.\n",
    "def plot_attention(attention, sentence, predicted_sentence):\n",
    "    fig = plt.figure(figsize=(10, 10))\n",
    "    ax = fig.add_subplot(1, 1, 1)\n",
    "    ax.matshow(attention, cmap='viridis')\n",
    "    \n",
    "    fontdict = {'fontsize': 14}\n",
    "    \n",
    "    ax.set_xticklabels([''] + sentence, fontdict=fontdict, rotation=90)\n",
    "    ax.set_yticklabels([''] + predicted_sentence, fontdict=fontdict)\n",
    "    \n",
    "    ax.xaxis.set_major_locator(ticker.MultipleLocator(1))\n",
    "    ax.yaxis.set_major_locator(ticker.MultipleLocator(1))\n",
    "    \n",
    "    plt.show()"
   ]
  },
  {
   "cell_type": "code",
   "execution_count": 33,
   "metadata": {
    "ExecuteTime": {
     "end_time": "2021-04-19T08:15:44.744402Z",
     "start_time": "2021-04-19T08:15:44.729389Z"
    },
    "id": "sR4MzVi-6yJK"
   },
   "outputs": [],
   "source": [
    "def translate(sentence):\n",
    "    result, sentence, attention_plot = evaluate(sentence)\n",
    "    \n",
    "    print(f\"Input: {sentence}\")\n",
    "    print(f\"Predicted translation: {result}\")\n",
    "    \n",
    "    attention_plot = attention_plot[:len(result.split(' ')), :len(sentence.split(' '))]\n",
    "    plot_attention(attention_plot, sentence.split(' '), result.split(' '))"
   ]
  },
  {
   "cell_type": "markdown",
   "metadata": {
    "id": "7zNNrbOE6yJL"
   },
   "source": [
    "#### 마지막 체크포인트를 복원하고 테스트하기"
   ]
  },
  {
   "cell_type": "code",
   "execution_count": 34,
   "metadata": {
    "ExecuteTime": {
     "end_time": "2021-04-19T08:15:45.846409Z",
     "start_time": "2021-04-19T08:15:44.745378Z"
    },
    "id": "u13I-Gy66yJL"
   },
   "outputs": [
    {
     "data": {
      "text/plain": [
       "<tensorflow.python.training.tracking.util.CheckpointLoadStatus at 0x23e65f6bb88>"
      ]
     },
     "execution_count": 34,
     "metadata": {},
     "output_type": "execute_result"
    }
   ],
   "source": [
    "checkpoint.restore(tf.train.latest_checkpoint(checkpoint_dir))"
   ]
  },
  {
   "cell_type": "code",
   "execution_count": 35,
   "metadata": {
    "ExecuteTime": {
     "end_time": "2021-04-19T08:15:46.080408Z",
     "start_time": "2021-04-19T08:15:45.847380Z"
    },
    "id": "YJWqjObq6yJL"
   },
   "outputs": [
    {
     "name": "stdout",
     "output_type": "stream",
     "text": [
      "Input: <start> hace mucho frio aqui . <end>\n",
      "Predicted translation: it is very cold here . <end> \n"
     ]
    },
    {
     "name": "stderr",
     "output_type": "stream",
     "text": [
      "D:\\Anaconda\\envs\\tf2.0\\lib\\site-packages\\ipykernel_launcher.py:9: UserWarning: FixedFormatter should only be used together with FixedLocator\n",
      "  if __name__ == '__main__':\n",
      "D:\\Anaconda\\envs\\tf2.0\\lib\\site-packages\\ipykernel_launcher.py:10: UserWarning: FixedFormatter should only be used together with FixedLocator\n",
      "  # Remove the CWD from sys.path while we load stuff.\n"
     ]
    },
    {
     "data": {
      "image/png": "[encoded data removed]",
      "text/plain": [
       "<Figure size 720x720 with 1 Axes>"
      ]
     },
     "metadata": {
      "needs_background": "light"
     },
     "output_type": "display_data"
    }
   ],
   "source": [
    "translate(u'hace mucho frio aqui.')"
   ]
  },
  {
   "cell_type": "code",
   "execution_count": 36,
   "metadata": {
    "ExecuteTime": {
     "end_time": "2021-04-19T08:15:46.285377Z",
     "start_time": "2021-04-19T08:15:46.082381Z"
    },
    "id": "b15XY8kX6yJL"
   },
   "outputs": [
    {
     "name": "stdout",
     "output_type": "stream",
     "text": [
      "Input: <start> esta es mi vida . <end>\n",
      "Predicted translation: this is my life . <end> \n"
     ]
    },
    {
     "name": "stderr",
     "output_type": "stream",
     "text": [
      "D:\\Anaconda\\envs\\tf2.0\\lib\\site-packages\\ipykernel_launcher.py:9: UserWarning: FixedFormatter should only be used together with FixedLocator\n",
      "  if __name__ == '__main__':\n",
      "D:\\Anaconda\\envs\\tf2.0\\lib\\site-packages\\ipykernel_launcher.py:10: UserWarning: FixedFormatter should only be used together with FixedLocator\n",
      "  # Remove the CWD from sys.path while we load stuff.\n"
     ]
    },
    {
     "data": {
      "image/png": "[encoded data removed]",
      "text/plain": [
       "<Figure size 720x720 with 1 Axes>"
      ]
     },
     "metadata": {
      "needs_background": "light"
     },
     "output_type": "display_data"
    }
   ],
   "source": [
    "translate(u'esta es mi vida.')"
   ]
  },
  {
   "cell_type": "code",
   "execution_count": 37,
   "metadata": {
    "ExecuteTime": {
     "end_time": "2021-04-19T08:15:46.515377Z",
     "start_time": "2021-04-19T08:15:46.286381Z"
    },
    "id": "0fPaeC-r6yJL"
   },
   "outputs": [
    {
     "name": "stdout",
     "output_type": "stream",
     "text": [
      "Input: <start> ¿ todavia estan en casa ? <end>\n",
      "Predicted translation: are you still at home ? <end> \n"
     ]
    },
    {
     "name": "stderr",
     "output_type": "stream",
     "text": [
      "D:\\Anaconda\\envs\\tf2.0\\lib\\site-packages\\ipykernel_launcher.py:9: UserWarning: FixedFormatter should only be used together with FixedLocator\n",
      "  if __name__ == '__main__':\n",
      "D:\\Anaconda\\envs\\tf2.0\\lib\\site-packages\\ipykernel_launcher.py:10: UserWarning: FixedFormatter should only be used together with FixedLocator\n",
      "  # Remove the CWD from sys.path while we load stuff.\n"
     ]
    },
    {
     "data": {
      "image/png": "[encoded data removed]",
      "text/plain": [
       "<Figure size 720x720 with 1 Axes>"
      ]
     },
     "metadata": {
      "needs_background": "light"
     },
     "output_type": "display_data"
    }
   ],
   "source": [
    "translate(u'¿todavia estan en casa?')"
   ]
  },
  {
   "cell_type": "code",
   "execution_count": 38,
   "metadata": {
    "ExecuteTime": {
     "end_time": "2021-04-19T08:15:46.705472Z",
     "start_time": "2021-04-19T08:15:46.517378Z"
    },
    "id": "0Obh78876yJL"
   },
   "outputs": [
    {
     "name": "stdout",
     "output_type": "stream",
     "text": [
      "Input: <start> trata de averiguarlo . <end>\n",
      "Predicted translation: try to find out . <end> \n"
     ]
    },
    {
     "name": "stderr",
     "output_type": "stream",
     "text": [
      "D:\\Anaconda\\envs\\tf2.0\\lib\\site-packages\\ipykernel_launcher.py:9: UserWarning: FixedFormatter should only be used together with FixedLocator\n",
      "  if __name__ == '__main__':\n",
      "D:\\Anaconda\\envs\\tf2.0\\lib\\site-packages\\ipykernel_launcher.py:10: UserWarning: FixedFormatter should only be used together with FixedLocator\n",
      "  # Remove the CWD from sys.path while we load stuff.\n"
     ]
    },
    {
     "data": {
      "image/png": "[encoded data removed]",
      "text/plain": [
       "<Figure size 720x720 with 1 Axes>"
      ]
     },
     "metadata": {
      "needs_background": "light"
     },
     "output_type": "display_data"
    }
   ],
   "source": [
    "# 잘못된 번역\n",
    "translate(u'trata de averiguarlo.')"
   ]
  }
 ],
 "metadata": {
  "colab": {
   "collapsed_sections": [],
   "name": "Neural Machine Translation by Jointly Learning to Align and Translate(ICLR 2015).ipynb",
   "provenance": []
  },
  "kernelspec": {
   "display_name": "Python 3",
   "language": "python",
   "name": "python3"
  },
  "language_info": {
   "codemirror_mode": {
    "name": "ipython",
    "version": 3
   },
   "file_extension": ".py",
   "mimetype": "text/x-python",
   "name": "python",
   "nbconvert_exporter": "python",
   "pygments_lexer": "ipython3",
   "version": "3.7.9"
  }
 },
 "nbformat": 4,
 "nbformat_minor": 1
}
