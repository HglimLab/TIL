{
 "cells": [
  {
   "cell_type": "markdown",
   "id": "f7f42fc8",
   "metadata": {},
   "source": [
    "# 2021/04/15\n",
    "- 딥러닝 연구실에서 다양한 프로그래밍 연구를 하고 있는데 한번도 프로그래밍 책을 완독한 적이 없었던 것 같다.\n",
    "- 평소에 구글링을 통해 필요한 내용을 그 때마다 찾아가며 코드를 작성하였지만, 좀 더 체계적으로 머릿속에 파이썬이 정리되어 있으면 훨씬 효율적일 것 같다는 생각을 항상 해왔다.\n",
    "- 그래서 오늘부터 `점프 투 파이썬`을 빠르게 훑어보며 파이썬에서 새롭게 배우거나 유용한 내용만 간략하게 요약하여 기록하고 필요할 때마다 찾아보려고 한다."
   ]
  },
  {
   "cell_type": "markdown",
   "id": "0ee5bb24",
   "metadata": {},
   "source": [
    "## CH 1. 파이썬이란 무엇인가?\n",
    "### 1.1 파이썬이란?\n",
    "### 1.2 파이썬의 특징\n",
    "- 파이썬은 C와의 연동성이 매우 좋다고 한다.\n",
    "- 어떤 프로그램을 만들 때 전반적인 뼈대는 파이썬으로 만들고, 빠른 실행 속도가 필요한 부분은 C로 만들어 파이썬 프로그램 안에 포함시킬 수 있어 매우 유용하다.\n",
    "- 또한 C나 C++로 만든 프로그램을 파이썬에서 사용할 수 있고, 파이썬으로 만든 프로그램 역시 C나 C++에서 사용할 수 있어 접착(glue) 언어라고도 불린다.\n",
    "\n",
    "### 1.3 파이썬으로 무엇을 할 수 있을까?\n",
    "- 파이썬의 피클(pickle)이라는 모듈은 파이썬에서 사용하는 자료를 변형 없이 그대로 파일에 저장하고 불러오는 일을 맡아 하는 모듈이다(5장에 등장한다.).\n",
    "- 연구실의 프로젝트에서 TCP/IP 통신을 할 때 피클을 사용한다는 얘기를 들었는데 정확히 무슨 역할을 하는지 잘 몰랐었다.\n",
    "- 5장에 관련 내용이 나온다고 하니 뒤에서 공부해보기로 한다.\n",
    "\n",
    "### 1.4 파이썬 설치하기\n",
    "### 1.5 파이썬 둘러보기\n",
    "### 1.6 파이썬과 에디터"
   ]
  },
  {
   "cell_type": "markdown",
   "id": "17cb7073",
   "metadata": {
    "ExecuteTime": {
     "end_time": "2021-04-16T02:28:44.887816Z",
     "start_time": "2021-04-16T02:28:44.873816Z"
    }
   },
   "source": [
    "# 2021/04/16\n",
    "## CH 2. 파이썬 프로그래밍의 기초, 자료형\n",
    "### 2.1 숫자형\n",
    "- 8진수와 16진수\n",
    "    - 8진수를 만들기 위해서는 숫자가 `0o`나 `0O`(숫자 0 + 알파벳 소문자 o 또는 대문자 O)로 시작하면 된다.\n",
    "    - 16진수를 만들기 위해서는 숫자가 `0x`로 시작하면 된다."
   ]
  },
  {
   "cell_type": "code",
   "execution_count": 4,
   "id": "dfb5cc0c",
   "metadata": {
    "ExecuteTime": {
     "end_time": "2021-04-16T02:30:25.490638Z",
     "start_time": "2021-04-16T02:30:25.471583Z"
    }
   },
   "outputs": [
    {
     "name": "stdout",
     "output_type": "stream",
     "text": [
      "127 2303\n"
     ]
    }
   ],
   "source": [
    "octal = 0o177\n",
    "hexadecimal = 0x8ff\n",
    "print(octal, hexadecimal)"
   ]
  },
  {
   "cell_type": "markdown",
   "id": "99a3f50f",
   "metadata": {},
   "source": [
    "### 2.2 문자열 자료형\n",
    "- 문자열 안에 작은따옴표나 큰따옴표를 포함시키고 싶을 때는 아래와 같은 3가지 방법을 사용할 수 있다."
   ]
  },
  {
   "cell_type": "code",
   "execution_count": 6,
   "id": "97e0b9f3",
   "metadata": {
    "ExecuteTime": {
     "end_time": "2021-04-16T02:39:13.915952Z",
     "start_time": "2021-04-16T02:39:13.904953Z"
    }
   },
   "outputs": [
    {
     "name": "stdout",
     "output_type": "stream",
     "text": [
      "Python's favorite food is perl\n",
      "\"Python is very easy.\" he says.\n",
      "Python's favorite food is perl\n",
      "\"Python is very easy.\" he says.\n"
     ]
    }
   ],
   "source": [
    "food = \"Python's favorite food is perl\"   # 1. 문자열을 큰따옴표로 둘러싸 작은따옴표를 포함시킨다.\n",
    "say = '\"Python is very easy.\" he says.'   # 2. 문자열을 작은따옴표로 둘러싸 큰따옴표를 포함시킨다.\n",
    "print(food)\n",
    "print(say)\n",
    "food = 'Python\\'s favorite food is perl'  # 3. 백슬래시(\\)를 사용하여 작은따옴표나 큰따옴표를 포함시킨다.\n",
    "say = \"\\\"Python is very easy.\\\" he says.\"\n",
    "print(food)\n",
    "print(say)"
   ]
  },
  {
   "cell_type": "markdown",
   "id": "ec52a98d",
   "metadata": {},
   "source": [
    "- 여러 줄의 문자열을 변수에 대입하고 싶을 때는 아래와 같이 처리한다."
   ]
  },
  {
   "cell_type": "code",
   "execution_count": 13,
   "id": "96db8b02",
   "metadata": {
    "ExecuteTime": {
     "end_time": "2021-04-16T14:44:08.911403Z",
     "start_time": "2021-04-16T14:44:08.898396Z"
    }
   },
   "outputs": [
    {
     "name": "stdout",
     "output_type": "stream",
     "text": [
      "Life is too short.\n",
      "You need python.\n",
      "Life is too short.\n",
      "You need python.\n"
     ]
    }
   ],
   "source": [
    "multiline = \"Life is too short.\\nYou need python.\" # 1. 문장 사이에 이스케이프 코드 \\n을 삽입한다.\n",
    "print(multiline)\n",
    "# 2. 작은따옴표 3개나 큰따옴표 3개를 입력하는 방법도 있다.\n",
    "multiline = '''Life is too short.\n",
    "You need python.'''\n",
    "print(multiline)"
   ]
  },
  {
   "cell_type": "markdown",
   "id": "6545a1e9",
   "metadata": {},
   "source": [
    "- 추가적으로, 자주 사용되는 이스케이프 코드를 정리하면 아래와 같다.\n",
    "    - \\n: 문자열 안에서 줄을 바꿀 때 사용\n",
    "    - \\t: 문자열 사이에 탭 간격을 줄 때 사용\n",
    "    - \\\\\\\\: 문자 \\를 그대로 표현할 때 사용\n",
    "    - \\\\': 작은따옴표(')를 그대로 표현할 때 사용\n",
    "    - \\\\\": 큰따옴표(\")를 그대로 표현할 때 사용"
   ]
  },
  {
   "cell_type": "markdown",
   "id": "54f88586",
   "metadata": {},
   "source": [
    "- 파이썬에서는 문자열 연산(덧셈 및 곱셈)이 가능하다."
   ]
  },
  {
   "cell_type": "code",
   "execution_count": 14,
   "id": "c66fe1d3",
   "metadata": {
    "ExecuteTime": {
     "end_time": "2021-04-16T14:49:51.918430Z",
     "start_time": "2021-04-16T14:49:51.912431Z"
    }
   },
   "outputs": [
    {
     "name": "stdout",
     "output_type": "stream",
     "text": [
      "==================================================\n",
      "MyPython\n",
      "==================================================\n"
     ]
    }
   ],
   "source": [
    "print(\"=\" * 50)\n",
    "print(\"My\" + \"Python\")\n",
    "print(\"=\" * 50)"
   ]
  },
  {
   "cell_type": "markdown",
   "id": "44bf947a",
   "metadata": {
    "ExecuteTime": {
     "end_time": "2021-04-16T14:58:07.463656Z",
     "start_time": "2021-04-16T14:58:07.454653Z"
    }
   },
   "source": [
    "#### 문자열 인덱싱과 슬라이싱"
   ]
  },
  {
   "cell_type": "code",
   "execution_count": 16,
   "id": "99a7cb07",
   "metadata": {
    "ExecuteTime": {
     "end_time": "2021-04-16T14:59:29.885655Z",
     "start_time": "2021-04-16T14:59:29.878655Z"
    }
   },
   "outputs": [
    {
     "name": "stdout",
     "output_type": "stream",
     "text": [
      "0416\n",
      "20210416\n",
      "Rainy\n"
     ]
    }
   ],
   "source": [
    "a = \"20210416Rainy\"\n",
    "print(a[4:-5]) # -5에 해당하는 문자는 포함되지 않는다.\n",
    "print(a[:8])\n",
    "print(a[8:])"
   ]
  },
  {
   "cell_type": "markdown",
   "id": "bd013c81",
   "metadata": {},
   "source": [
    "- 문자열의 값을 변경할 때 아래와 같이 작성하면 에러가 발생한다.\n",
    "- 문자열 자료형은 문자열 내의 요소를 인덱싱으로 변경할 수 없기 때문이다.\n",
    "- 따라서 문자열 자료형의 요소를 변경하고 싶으면 슬라이싱 방법을 사용해야 한다."
   ]
  },
  {
   "cell_type": "code",
   "execution_count": 17,
   "id": "e39a9b8f",
   "metadata": {
    "ExecuteTime": {
     "end_time": "2021-04-16T15:01:11.676997Z",
     "start_time": "2021-04-16T15:01:11.617014Z"
    }
   },
   "outputs": [
    {
     "name": "stdout",
     "output_type": "stream",
     "text": [
      "i\n"
     ]
    },
    {
     "ename": "TypeError",
     "evalue": "'str' object does not support item assignment",
     "output_type": "error",
     "traceback": [
      "\u001b[1;31m---------------------------------------------------------------------------\u001b[0m",
      "\u001b[1;31mTypeError\u001b[0m                                 Traceback (most recent call last)",
      "\u001b[1;32m<ipython-input-17-60dee05f070c>\u001b[0m in \u001b[0;36m<module>\u001b[1;34m\u001b[0m\n\u001b[0;32m      1\u001b[0m \u001b[0ma\u001b[0m \u001b[1;33m=\u001b[0m \u001b[1;34m\"Pithon\"\u001b[0m\u001b[1;33m\u001b[0m\u001b[1;33m\u001b[0m\u001b[0m\n\u001b[0;32m      2\u001b[0m \u001b[0mprint\u001b[0m\u001b[1;33m(\u001b[0m\u001b[0ma\u001b[0m\u001b[1;33m[\u001b[0m\u001b[1;36m1\u001b[0m\u001b[1;33m]\u001b[0m\u001b[1;33m)\u001b[0m\u001b[1;33m\u001b[0m\u001b[1;33m\u001b[0m\u001b[0m\n\u001b[1;32m----> 3\u001b[1;33m \u001b[0ma\u001b[0m\u001b[1;33m[\u001b[0m\u001b[1;36m1\u001b[0m\u001b[1;33m]\u001b[0m \u001b[1;33m=\u001b[0m \u001b[1;34m'y'\u001b[0m\u001b[1;33m\u001b[0m\u001b[1;33m\u001b[0m\u001b[0m\n\u001b[0m",
      "\u001b[1;31mTypeError\u001b[0m: 'str' object does not support item assignment"
     ]
    }
   ],
   "source": [
    "a = \"Pithon\"\n",
    "print(a[1])\n",
    "a[1] = 'y'"
   ]
  },
  {
   "cell_type": "code",
   "execution_count": 18,
   "id": "8db8acea",
   "metadata": {
    "ExecuteTime": {
     "end_time": "2021-04-16T15:03:11.377127Z",
     "start_time": "2021-04-16T15:03:11.369153Z"
    }
   },
   "outputs": [
    {
     "name": "stdout",
     "output_type": "stream",
     "text": [
      "Python\n"
     ]
    }
   ],
   "source": [
    "a = a[:1] + 'y' + a[2:]\n",
    "print(a)"
   ]
  },
  {
   "cell_type": "markdown",
   "id": "5ce8b5bc",
   "metadata": {},
   "source": [
    "#### 문자열 포매팅\n",
    "- format 함수를 사용한 포매팅"
   ]
  },
  {
   "cell_type": "code",
   "execution_count": 26,
   "id": "c6da3468",
   "metadata": {
    "ExecuteTime": {
     "end_time": "2021-04-16T15:13:21.719221Z",
     "start_time": "2021-04-16T15:13:21.703250Z"
    }
   },
   "outputs": [
    {
     "name": "stdout",
     "output_type": "stream",
     "text": [
      "I ate 10 apples, so I was sick for three days\n",
      "hi        \n",
      "        hi\n",
      "    hi    \n",
      "====hi====\n",
      "3.4213\n",
      "    3.4213\n",
      "{ and }\n"
     ]
    }
   ],
   "source": [
    "number = 10\n",
    "day = \"three\"\n",
    "print(\"I ate {} apples, so I was sick for {} days\".format(number, day))\n",
    "\n",
    "# 왼쪽 정렬\n",
    "print(\"{:<10}\".format(\"hi\"))\n",
    "\n",
    "# 오른쪽 정렬\n",
    "print(\"{:>10}\".format(\"hi\"))\n",
    "\n",
    "# 가운데 정렬\n",
    "print(\"{:^10}\".format(\"hi\"))\n",
    "\n",
    "# 공백 채우기\n",
    "print(\"{:=^10}\".format(\"hi\"))\n",
    "\n",
    "# 소수점 표현하기\n",
    "y = 3.42134234\n",
    "print(\"{:0.4f}\".format(y))\n",
    "print(\"{:10.4f}\".format(y)) # 자릿수를 10으로 맞추기\n",
    "\n",
    "# { 또는 } 문자 표현하기\n",
    "print(\"{{ and }}\".format()) # 연속해서 2번 쓰면 사용 가능"
   ]
  },
  {
   "cell_type": "markdown",
   "id": "db2c10b5",
   "metadata": {
    "ExecuteTime": {
     "end_time": "2021-04-16T15:15:19.945660Z",
     "start_time": "2021-04-16T15:15:19.930661Z"
    }
   },
   "source": [
    "- f 문자열 포매팅\n",
    "    - 문자열 앞에 f 접두사를 붙이면 f 문자열 포매팅 기능을 사용할 수 있다.\n",
    "    - 기본적인 사용법은 format 함수를 사용하는 법과 동일하다."
   ]
  },
  {
   "cell_type": "markdown",
   "id": "065f0cd4",
   "metadata": {},
   "source": [
    "# 2021/04/19\n",
    "#### 문자열 관련 함수들\n",
    "- 문자 개수 세기(count)"
   ]
  },
  {
   "cell_type": "code",
   "execution_count": 3,
   "id": "4ec65d4e",
   "metadata": {
    "ExecuteTime": {
     "end_time": "2021-04-19T08:31:51.104414Z",
     "start_time": "2021-04-19T08:31:51.092414Z"
    }
   },
   "outputs": [
    {
     "data": {
      "text/plain": [
       "2"
      ]
     },
     "execution_count": 3,
     "metadata": {},
     "output_type": "execute_result"
    }
   ],
   "source": [
    "a = \"hobby\"\n",
    "a.count('b')"
   ]
  },
  {
   "cell_type": "markdown",
   "id": "8e7946de",
   "metadata": {},
   "source": [
    "- 위치 알려주기(find, index)"
   ]
  },
  {
   "cell_type": "code",
   "execution_count": 7,
   "id": "81a38c2f",
   "metadata": {
    "ExecuteTime": {
     "end_time": "2021-04-19T08:35:53.040408Z",
     "start_time": "2021-04-19T08:35:53.030410Z"
    }
   },
   "outputs": [
    {
     "name": "stdout",
     "output_type": "stream",
     "text": [
      "14\n",
      "-1\n",
      "8\n"
     ]
    },
    {
     "ename": "ValueError",
     "evalue": "substring not found",
     "output_type": "error",
     "traceback": [
      "\u001b[1;31m---------------------------------------------------------------------------\u001b[0m",
      "\u001b[1;31mValueError\u001b[0m                                Traceback (most recent call last)",
      "\u001b[1;32m<ipython-input-7-35e4f8f93eeb>\u001b[0m in \u001b[0;36m<module>\u001b[1;34m\u001b[0m\n\u001b[0;32m      7\u001b[0m \u001b[0ma\u001b[0m \u001b[1;33m=\u001b[0m \u001b[1;34m\"Life is too short\"\u001b[0m\u001b[1;33m\u001b[0m\u001b[1;33m\u001b[0m\u001b[0m\n\u001b[0;32m      8\u001b[0m \u001b[0mprint\u001b[0m\u001b[1;33m(\u001b[0m\u001b[0ma\u001b[0m\u001b[1;33m.\u001b[0m\u001b[0mindex\u001b[0m\u001b[1;33m(\u001b[0m\u001b[1;34m't'\u001b[0m\u001b[1;33m)\u001b[0m\u001b[1;33m)\u001b[0m\u001b[1;33m\u001b[0m\u001b[1;33m\u001b[0m\u001b[0m\n\u001b[1;32m----> 9\u001b[1;33m \u001b[0mprint\u001b[0m\u001b[1;33m(\u001b[0m\u001b[0ma\u001b[0m\u001b[1;33m.\u001b[0m\u001b[0mindex\u001b[0m\u001b[1;33m(\u001b[0m\u001b[1;34m'k'\u001b[0m\u001b[1;33m)\u001b[0m\u001b[1;33m)\u001b[0m\u001b[1;33m\u001b[0m\u001b[1;33m\u001b[0m\u001b[0m\n\u001b[0m",
      "\u001b[1;31mValueError\u001b[0m: substring not found"
     ]
    }
   ],
   "source": [
    "## find()\n",
    "a = \"Python is the best choice\"\n",
    "print(a.find('b')) # 찾는 문자가 처음 나온 인덱스 리턴\n",
    "print(a.find('k')) # 존재하지 않는 문자이면 -1 리턴\n",
    "\n",
    "## index()\n",
    "a = \"Life is too short\"\n",
    "print(a.index('t'))\n",
    "print(a.index('k')) # index() 함수의 경우 존재하지 않는 문자이면 에러 발생"
   ]
  },
  {
   "cell_type": "markdown",
   "id": "f5da7fbb",
   "metadata": {},
   "source": [
    "- 문자열 삽입(join)"
   ]
  },
  {
   "cell_type": "code",
   "execution_count": 9,
   "id": "c984701b",
   "metadata": {
    "ExecuteTime": {
     "end_time": "2021-04-19T08:37:35.636558Z",
     "start_time": "2021-04-19T08:37:35.631591Z"
    }
   },
   "outputs": [
    {
     "name": "stdout",
     "output_type": "stream",
     "text": [
      "a,b,c,d\n",
      "a b c d\n"
     ]
    }
   ],
   "source": [
    "print(\",\".join('abcd'))\n",
    "print(\" \".join(['a', 'b', 'c', 'd'])) # 리스트나 튜플에 대해서도 사용 가능"
   ]
  },
  {
   "cell_type": "markdown",
   "id": "5849d9e5",
   "metadata": {},
   "source": [
    "- 소문자 <-> 대문자 바꾸기(upper, lower)"
   ]
  },
  {
   "cell_type": "code",
   "execution_count": 10,
   "id": "a0709b28",
   "metadata": {
    "ExecuteTime": {
     "end_time": "2021-04-19T08:39:04.858586Z",
     "start_time": "2021-04-19T08:39:04.846586Z"
    }
   },
   "outputs": [
    {
     "name": "stdout",
     "output_type": "stream",
     "text": [
      "HI\n",
      "hi\n"
     ]
    }
   ],
   "source": [
    "a = \"hi\"\n",
    "print(a.upper())\n",
    "a = \"HI\"\n",
    "print(a.lower())"
   ]
  },
  {
   "cell_type": "markdown",
   "id": "95c6c340",
   "metadata": {},
   "source": [
    "- 공백 지우기(lstrip, rstrip, strip)"
   ]
  },
  {
   "cell_type": "code",
   "execution_count": 16,
   "id": "6a022599",
   "metadata": {
    "ExecuteTime": {
     "end_time": "2021-04-19T08:49:33.413824Z",
     "start_time": "2021-04-19T08:49:33.400645Z"
    }
   },
   "outputs": [
    {
     "name": "stdout",
     "output_type": "stream",
     "text": [
      "hi \n",
      " hi\n",
      "hi\n"
     ]
    }
   ],
   "source": [
    "a = \" hi \"\n",
    "print(a.lstrip()) # 왼쪽 공백 지우기\n",
    "print(a.rstrip()) # 오른쪽 공백 지우기\n",
    "print(a.strip())  # 양쪽 공백 지우기"
   ]
  },
  {
   "cell_type": "markdown",
   "id": "516e234b",
   "metadata": {},
   "source": [
    "- 문자열 바꾸기(replace)"
   ]
  },
  {
   "cell_type": "code",
   "execution_count": 12,
   "id": "64f22bcf",
   "metadata": {
    "ExecuteTime": {
     "end_time": "2021-04-19T08:43:36.303801Z",
     "start_time": "2021-04-19T08:43:36.296800Z"
    }
   },
   "outputs": [
    {
     "name": "stdout",
     "output_type": "stream",
     "text": [
      "Your leg is too short\n"
     ]
    }
   ],
   "source": [
    "a = \"Life is too short\"\n",
    "print(a.replace(\"Life\", \"Your leg\"))"
   ]
  },
  {
   "cell_type": "markdown",
   "id": "61edb0dd",
   "metadata": {},
   "source": [
    "- 문자열 나누기(split)"
   ]
  },
  {
   "cell_type": "code",
   "execution_count": 14,
   "id": "4cd13925",
   "metadata": {
    "ExecuteTime": {
     "end_time": "2021-04-19T08:45:47.861704Z",
     "start_time": "2021-04-19T08:45:47.855704Z"
    },
    "scrolled": true
   },
   "outputs": [
    {
     "name": "stdout",
     "output_type": "stream",
     "text": [
      "['Life', 'is', 'too', 'short']\n",
      "['a', 'b', 'c', 'd']\n"
     ]
    }
   ],
   "source": [
    "a = \"Life is too short\"\n",
    "print(a.split())    # 공백을 기준으로 나누기\n",
    "b = \"a:b:c:d\"\n",
    "print(b.split(':')) # 입력한 문자를 기준으로 나누기"
   ]
  },
  {
   "cell_type": "markdown",
   "id": "1b3340a2",
   "metadata": {},
   "source": [
    "### 2.3 리스트 자료형"
   ]
  },
  {
   "cell_type": "markdown",
   "id": "621b5f36",
   "metadata": {},
   "source": [
    "#### 리스트는 어떻게 만들고 사용할까?"
   ]
  },
  {
   "cell_type": "code",
   "execution_count": 19,
   "id": "748d8f9c",
   "metadata": {
    "ExecuteTime": {
     "end_time": "2021-04-19T08:56:12.966406Z",
     "start_time": "2021-04-19T08:56:12.950408Z"
    }
   },
   "outputs": [
    {
     "name": "stdout",
     "output_type": "stream",
     "text": [
      "[1, 3, 5, 7, 9]\n",
      "[1, 2, ['Life', 'is']]\n",
      "[]\n"
     ]
    }
   ],
   "source": [
    "odd = [1, 3, 5, 7, 9]\n",
    "example = [1, 2, ['Life', 'is']]\n",
    "a = list()\n",
    "print(odd)\n",
    "print(example)\n",
    "print(a)"
   ]
  },
  {
   "cell_type": "markdown",
   "id": "31f0cc50",
   "metadata": {},
   "source": [
    "#### 리스트의 인덱싱과 슬라이싱\n",
    "- 리스트의 인덱싱"
   ]
  },
  {
   "cell_type": "code",
   "execution_count": 21,
   "id": "a11c2a98",
   "metadata": {
    "ExecuteTime": {
     "end_time": "2021-04-19T08:59:51.042280Z",
     "start_time": "2021-04-19T08:59:51.028280Z"
    },
    "scrolled": true
   },
   "outputs": [
    {
     "name": "stdout",
     "output_type": "stream",
     "text": [
      "2\n",
      "[['Life', 'is'], 'a', 'b']\n",
      "[['Life', 'is'], 'a', 'b']\n",
      "b\n",
      "['Life', 'is']\n",
      "is\n"
     ]
    }
   ],
   "source": [
    "a = [1, 2, 3, [['Life', 'is'], 'a', 'b']]\n",
    "print(a[1])\n",
    "print(a[3])\n",
    "print(a[-1])\n",
    "print(a[-1][-1])\n",
    "print(a[-1][0])\n",
    "print(a[-1][0][1])"
   ]
  },
  {
   "cell_type": "markdown",
   "id": "d95cff01",
   "metadata": {},
   "source": [
    "- 리스트의 슬라이싱"
   ]
  },
  {
   "cell_type": "code",
   "execution_count": 22,
   "id": "4341b547",
   "metadata": {
    "ExecuteTime": {
     "end_time": "2021-04-19T09:07:40.463792Z",
     "start_time": "2021-04-19T09:07:40.450791Z"
    }
   },
   "outputs": [
    {
     "name": "stdout",
     "output_type": "stream",
     "text": [
      "[3, ['a', 'b', 'c'], 4]\n",
      "['b', 'c']\n"
     ]
    }
   ],
   "source": [
    "a = [1, 2, 3, ['a', 'b', 'c'], 4, 5]\n",
    "print(a[2:-1])\n",
    "print(a[3][1:])"
   ]
  },
  {
   "cell_type": "markdown",
   "id": "27da7d85",
   "metadata": {},
   "source": [
    "#### 리스트 연산하기\n",
    "- 리스트 더하기(+) 및 반복하기(*)"
   ]
  },
  {
   "cell_type": "code",
   "execution_count": 24,
   "id": "5b3ea0ca",
   "metadata": {
    "ExecuteTime": {
     "end_time": "2021-04-19T09:11:39.523022Z",
     "start_time": "2021-04-19T09:11:39.512023Z"
    }
   },
   "outputs": [
    {
     "name": "stdout",
     "output_type": "stream",
     "text": [
      "[1, 2, 3, 4, 5, 6]\n",
      "[1, 2, 3, 1, 2, 3, 1, 2, 3]\n"
     ]
    }
   ],
   "source": [
    "a = [1, 2, 3]\n",
    "b = [4, 5, 6]\n",
    "print(a + b)\n",
    "print(a * 3)"
   ]
  },
  {
   "cell_type": "markdown",
   "id": "02a89a1c",
   "metadata": {},
   "source": [
    "- 리스트 길이 구하기"
   ]
  },
  {
   "cell_type": "code",
   "execution_count": 25,
   "id": "f5009558",
   "metadata": {
    "ExecuteTime": {
     "end_time": "2021-04-19T09:12:22.486084Z",
     "start_time": "2021-04-19T09:12:22.479084Z"
    }
   },
   "outputs": [
    {
     "name": "stdout",
     "output_type": "stream",
     "text": [
      "3\n"
     ]
    }
   ],
   "source": [
    "a = [1, 2, 3]\n",
    "print(len(a))"
   ]
  },
  {
   "cell_type": "markdown",
   "id": "356b04d4",
   "metadata": {},
   "source": [
    "- 문자열과 더하기"
   ]
  },
  {
   "cell_type": "code",
   "execution_count": 26,
   "id": "1475dff9",
   "metadata": {
    "ExecuteTime": {
     "end_time": "2021-04-19T09:13:29.679081Z",
     "start_time": "2021-04-19T09:13:29.671078Z"
    }
   },
   "outputs": [
    {
     "ename": "TypeError",
     "evalue": "unsupported operand type(s) for +: 'int' and 'str'",
     "output_type": "error",
     "traceback": [
      "\u001b[1;31m---------------------------------------------------------------------------\u001b[0m",
      "\u001b[1;31mTypeError\u001b[0m                                 Traceback (most recent call last)",
      "\u001b[1;32m<ipython-input-26-6012387c82e6>\u001b[0m in \u001b[0;36m<module>\u001b[1;34m\u001b[0m\n\u001b[0;32m      1\u001b[0m \u001b[0ma\u001b[0m \u001b[1;33m=\u001b[0m \u001b[1;33m[\u001b[0m\u001b[1;36m1\u001b[0m\u001b[1;33m,\u001b[0m \u001b[1;36m2\u001b[0m\u001b[1;33m,\u001b[0m \u001b[1;36m3\u001b[0m\u001b[1;33m]\u001b[0m\u001b[1;33m\u001b[0m\u001b[1;33m\u001b[0m\u001b[0m\n\u001b[1;32m----> 2\u001b[1;33m \u001b[0mprint\u001b[0m\u001b[1;33m(\u001b[0m\u001b[0ma\u001b[0m\u001b[1;33m[\u001b[0m\u001b[1;36m2\u001b[0m\u001b[1;33m]\u001b[0m \u001b[1;33m+\u001b[0m \u001b[1;34m\"hi\"\u001b[0m\u001b[1;33m)\u001b[0m \u001b[1;31m# 에러 발생\u001b[0m\u001b[1;33m\u001b[0m\u001b[1;33m\u001b[0m\u001b[0m\n\u001b[0m",
      "\u001b[1;31mTypeError\u001b[0m: unsupported operand type(s) for +: 'int' and 'str'"
     ]
    }
   ],
   "source": [
    "a = [1, 2, 3]\n",
    "print(a[2] + \"hi\") # 에러 발생"
   ]
  },
  {
   "cell_type": "code",
   "execution_count": 27,
   "id": "9e0b7d46",
   "metadata": {
    "ExecuteTime": {
     "end_time": "2021-04-19T09:13:51.214480Z",
     "start_time": "2021-04-19T09:13:51.200481Z"
    }
   },
   "outputs": [
    {
     "data": {
      "text/plain": [
       "'3hi'"
      ]
     },
     "execution_count": 27,
     "metadata": {},
     "output_type": "execute_result"
    }
   ],
   "source": [
    "str(a[2]) + 'hi'"
   ]
  },
  {
   "cell_type": "markdown",
   "id": "a17b2e12",
   "metadata": {},
   "source": [
    "#### 리스트의 수정과 삭제\n",
    "- 리스트에서 값 수정하기"
   ]
  },
  {
   "cell_type": "code",
   "execution_count": 28,
   "id": "841983c8",
   "metadata": {
    "ExecuteTime": {
     "end_time": "2021-04-19T09:15:14.976985Z",
     "start_time": "2021-04-19T09:15:14.964985Z"
    }
   },
   "outputs": [
    {
     "name": "stdout",
     "output_type": "stream",
     "text": [
      "[1, 2, 3]\n",
      "[1, 2, 4]\n"
     ]
    }
   ],
   "source": [
    "a = [1, 2, 3]\n",
    "print(a)\n",
    "a[2] = 4\n",
    "print(a)"
   ]
  },
  {
   "cell_type": "markdown",
   "id": "3a0da88e",
   "metadata": {
    "ExecuteTime": {
     "end_time": "2021-04-19T09:15:32.797835Z",
     "start_time": "2021-04-19T09:15:32.786862Z"
    }
   },
   "source": [
    "- del 함수 사용해 리스트 요소 삭제하기\n",
    "    - del 함수는 파이썬 내장 삭제 함수이다.\n",
    "    - 아래와 같이 리스트 뿐만 아니라 어떤 객체도 올 수 있다.\n",
    "    ``` python\n",
    "    del 객체\n",
    "    ```"
   ]
  },
  {
   "cell_type": "code",
   "execution_count": 31,
   "id": "07391d7b",
   "metadata": {
    "ExecuteTime": {
     "end_time": "2021-04-19T09:24:22.586110Z",
     "start_time": "2021-04-19T09:24:22.580109Z"
    }
   },
   "outputs": [
    {
     "name": "stdout",
     "output_type": "stream",
     "text": [
      "[1]\n"
     ]
    }
   ],
   "source": [
    "a = [1, 2, 3]\n",
    "del a[1:]\n",
    "print(a)"
   ]
  },
  {
   "cell_type": "markdown",
   "id": "2414f7a7",
   "metadata": {
    "ExecuteTime": {
     "end_time": "2021-04-19T09:24:38.288562Z",
     "start_time": "2021-04-19T09:24:38.284562Z"
    }
   },
   "source": [
    "#### 리스트 관련 함수들\n",
    "- 리스트에 요소 추가(append)"
   ]
  },
  {
   "cell_type": "code",
   "execution_count": 34,
   "id": "af674784",
   "metadata": {
    "ExecuteTime": {
     "end_time": "2021-04-19T09:25:22.219315Z",
     "start_time": "2021-04-19T09:25:22.216290Z"
    }
   },
   "outputs": [
    {
     "name": "stdout",
     "output_type": "stream",
     "text": [
      "[1, 2, 3, [5, 6]]\n"
     ]
    }
   ],
   "source": [
    "a = [1, 2, 3]\n",
    "a.append([5, 6])\n",
    "print(a)"
   ]
  },
  {
   "cell_type": "markdown",
   "id": "f6dc3382",
   "metadata": {
    "ExecuteTime": {
     "end_time": "2021-04-19T09:26:00.665138Z",
     "start_time": "2021-04-19T09:26:00.656138Z"
    }
   },
   "source": [
    "- 리스트 정렬(sort)"
   ]
  },
  {
   "cell_type": "code",
   "execution_count": 37,
   "id": "d71f9afd",
   "metadata": {
    "ExecuteTime": {
     "end_time": "2021-04-19T09:27:38.679386Z",
     "start_time": "2021-04-19T09:27:38.674385Z"
    }
   },
   "outputs": [
    {
     "name": "stdout",
     "output_type": "stream",
     "text": [
      "[1, 2, 3, 4]\n",
      "['a', 'b', 'c']\n"
     ]
    }
   ],
   "source": [
    "a = [1, 4, 3, 2]\n",
    "a.sort()\n",
    "print(a)\n",
    "a = ['a', 'c', 'b']\n",
    "a.sort()\n",
    "print(a)"
   ]
  },
  {
   "cell_type": "markdown",
   "id": "651abe1c",
   "metadata": {},
   "source": [
    "- 리스트 뒤집기(reverse)"
   ]
  },
  {
   "cell_type": "code",
   "execution_count": 38,
   "id": "518f715b",
   "metadata": {
    "ExecuteTime": {
     "end_time": "2021-04-19T09:28:54.896516Z",
     "start_time": "2021-04-19T09:28:54.879547Z"
    }
   },
   "outputs": [
    {
     "name": "stdout",
     "output_type": "stream",
     "text": [
      "['b', 'c', 'a']\n"
     ]
    }
   ],
   "source": [
    "a = ['a', 'c', 'b']\n",
    "a.reverse()\n",
    "print(a)"
   ]
  },
  {
   "cell_type": "markdown",
   "id": "a67785b0",
   "metadata": {},
   "source": [
    "- 위치 반환(index)"
   ]
  },
  {
   "cell_type": "code",
   "execution_count": 39,
   "id": "caea8daf",
   "metadata": {
    "ExecuteTime": {
     "end_time": "2021-04-19T09:29:33.265767Z",
     "start_time": "2021-04-19T09:29:33.259737Z"
    }
   },
   "outputs": [
    {
     "name": "stdout",
     "output_type": "stream",
     "text": [
      "1\n"
     ]
    }
   ],
   "source": [
    "a = ['a', 'c', 'b']\n",
    "print(a.index('c'))"
   ]
  },
  {
   "cell_type": "markdown",
   "id": "11775c56",
   "metadata": {},
   "source": [
    "- 리스트에 요소 삽입(insert)"
   ]
  },
  {
   "cell_type": "code",
   "execution_count": 41,
   "id": "eb6997e7",
   "metadata": {
    "ExecuteTime": {
     "end_time": "2021-04-19T09:30:36.415232Z",
     "start_time": "2021-04-19T09:30:36.399232Z"
    }
   },
   "outputs": [
    {
     "name": "stdout",
     "output_type": "stream",
     "text": [
      "[4, 1, 2, 5, 3]\n"
     ]
    }
   ],
   "source": [
    "a = [1, 2, 3]\n",
    "a.insert(0, 4)\n",
    "a.insert(3, 5)\n",
    "print(a)"
   ]
  },
  {
   "cell_type": "markdown",
   "id": "e431d562",
   "metadata": {},
   "source": [
    "- 리스트 요소 제거(remove)"
   ]
  },
  {
   "cell_type": "code",
   "execution_count": 42,
   "id": "6c80d2dd",
   "metadata": {
    "ExecuteTime": {
     "end_time": "2021-04-19T09:31:25.203756Z",
     "start_time": "2021-04-19T09:31:25.199756Z"
    }
   },
   "outputs": [
    {
     "data": {
      "text/plain": [
       "[1, 2, 1, 2, 3]"
      ]
     },
     "execution_count": 42,
     "metadata": {},
     "output_type": "execute_result"
    }
   ],
   "source": [
    "a = [1, 2, 3, 1, 2, 3]\n",
    "a.remove(3)\n",
    "a"
   ]
  },
  {
   "cell_type": "markdown",
   "id": "8c19b6da",
   "metadata": {},
   "source": [
    "- 리스트 요소 끄집어내기(pop)"
   ]
  },
  {
   "cell_type": "code",
   "execution_count": 45,
   "id": "24dafc59",
   "metadata": {
    "ExecuteTime": {
     "end_time": "2021-04-19T09:32:33.480612Z",
     "start_time": "2021-04-19T09:32:33.463612Z"
    }
   },
   "outputs": [
    {
     "name": "stdout",
     "output_type": "stream",
     "text": [
      "3\n",
      "[1, 2]\n",
      "1\n",
      "[2, 3]\n"
     ]
    }
   ],
   "source": [
    "a = [1, 2, 3]\n",
    "print(a.pop())\n",
    "print(a)\n",
    "a = [1, 2, 3]\n",
    "print(a.pop(0))\n",
    "print(a)"
   ]
  },
  {
   "cell_type": "markdown",
   "id": "8614655f",
   "metadata": {},
   "source": [
    "- 리스트에 포함된 요소 x의 개수 세기(count)"
   ]
  },
  {
   "cell_type": "code",
   "execution_count": 46,
   "id": "accc2d88",
   "metadata": {
    "ExecuteTime": {
     "end_time": "2021-04-19T09:33:15.468280Z",
     "start_time": "2021-04-19T09:33:15.455280Z"
    }
   },
   "outputs": [
    {
     "data": {
      "text/plain": [
       "2"
      ]
     },
     "execution_count": 46,
     "metadata": {},
     "output_type": "execute_result"
    }
   ],
   "source": [
    "a = [1, 2, 3, 1]\n",
    "a.count(1)"
   ]
  },
  {
   "cell_type": "markdown",
   "id": "0a98b006",
   "metadata": {},
   "source": [
    "- 리스트 확장(extend)"
   ]
  },
  {
   "cell_type": "code",
   "execution_count": 48,
   "id": "c8c28168",
   "metadata": {
    "ExecuteTime": {
     "end_time": "2021-04-19T09:34:00.479580Z",
     "start_time": "2021-04-19T09:34:00.464611Z"
    }
   },
   "outputs": [
    {
     "name": "stdout",
     "output_type": "stream",
     "text": [
      "[1, 2, 3, 4, 5]\n",
      "[1, 2, 3, 4, 5]\n"
     ]
    }
   ],
   "source": [
    "a = [1, 2, 3]\n",
    "a.extend([4, 5])\n",
    "print(a)\n",
    "a = [1, 2, 3]\n",
    "a += [4, 5]\n",
    "print(a)"
   ]
  },
  {
   "cell_type": "markdown",
   "id": "2c2b8a7c",
   "metadata": {},
   "source": [
    "### 2.4 튜플 자료형\n",
    "#### 튜플은 어떻게 만들까?\n",
    "- 튜플은 아래의 내용을 제외하고는 리스트와 거의 비슷한 자료형이다.\n",
    "    - 튜플은 ( )으로 둘러싼다.\n",
    "    - 리스트는 값의 생성, 삭제, 수정이 가능하지만, 튜플은 값을 바꿀 수 없다.\n",
    "    - 1개의 요소만을 가질 때에는 반드시 요소 뒤에 콤마를 붙여야 한다."
   ]
  },
  {
   "cell_type": "code",
   "execution_count": 53,
   "id": "d1a2f0c4",
   "metadata": {
    "ExecuteTime": {
     "end_time": "2021-04-19T12:26:31.077216Z",
     "start_time": "2021-04-19T12:26:31.054217Z"
    }
   },
   "outputs": [
    {
     "name": "stdout",
     "output_type": "stream",
     "text": [
      "(2,)\n",
      "(1, 2, 3)\n"
     ]
    },
    {
     "ename": "TypeError",
     "evalue": "'tuple' object doesn't support item deletion",
     "output_type": "error",
     "traceback": [
      "\u001b[1;31m---------------------------------------------------------------------------\u001b[0m",
      "\u001b[1;31mTypeError\u001b[0m                                 Traceback (most recent call last)",
      "\u001b[1;32m<ipython-input-53-2316129d6cbb>\u001b[0m in \u001b[0;36m<module>\u001b[1;34m\u001b[0m\n\u001b[0;32m      3\u001b[0m \u001b[0ma\u001b[0m \u001b[1;33m=\u001b[0m \u001b[1;36m1\u001b[0m\u001b[1;33m,\u001b[0m \u001b[1;36m2\u001b[0m\u001b[1;33m,\u001b[0m \u001b[1;36m3\u001b[0m \u001b[1;31m# 괄호를 치지 않아도 튜플 생성이 가능하다.\u001b[0m\u001b[1;33m\u001b[0m\u001b[1;33m\u001b[0m\u001b[0m\n\u001b[0;32m      4\u001b[0m \u001b[0mprint\u001b[0m\u001b[1;33m(\u001b[0m\u001b[0ma\u001b[0m\u001b[1;33m)\u001b[0m\u001b[1;33m\u001b[0m\u001b[1;33m\u001b[0m\u001b[0m\n\u001b[1;32m----> 5\u001b[1;33m \u001b[1;32mdel\u001b[0m \u001b[0ma\u001b[0m\u001b[1;33m[\u001b[0m\u001b[1;36m1\u001b[0m\u001b[1;33m]\u001b[0m    \u001b[1;31m# 튜플은 값을 변경할 수 없으므로 튜플의 요소를 삭제하려고 하면 에러가 발생한다.\u001b[0m\u001b[1;33m\u001b[0m\u001b[1;33m\u001b[0m\u001b[0m\n\u001b[0m",
      "\u001b[1;31mTypeError\u001b[0m: 'tuple' object doesn't support item deletion"
     ]
    }
   ],
   "source": [
    "a = (2,)\n",
    "print(a)\n",
    "a = 1, 2, 3 # 괄호를 치지 않아도 튜플 생성이 가능하다.\n",
    "print(a)\n",
    "del a[1]    # 튜플은 값을 변경할 수 없으므로 튜플의 요소를 삭제하려고 하면 에러가 발생한다."
   ]
  },
  {
   "cell_type": "markdown",
   "id": "548114ad",
   "metadata": {},
   "source": [
    "#### 튜플 다루기\n",
    "- 인덱싱하기"
   ]
  },
  {
   "cell_type": "code",
   "execution_count": 54,
   "id": "257a7ab8",
   "metadata": {
    "ExecuteTime": {
     "end_time": "2021-04-19T12:28:06.288227Z",
     "start_time": "2021-04-19T12:28:06.276228Z"
    }
   },
   "outputs": [
    {
     "name": "stdout",
     "output_type": "stream",
     "text": [
      "1 b\n"
     ]
    }
   ],
   "source": [
    "t1 = (1, 2, 'a', 'b')\n",
    "print(t1[0], t1[3])"
   ]
  },
  {
   "cell_type": "markdown",
   "id": "3bd6ca48",
   "metadata": {},
   "source": [
    "- 슬라이싱하기"
   ]
  },
  {
   "cell_type": "code",
   "execution_count": 55,
   "id": "4638af61",
   "metadata": {
    "ExecuteTime": {
     "end_time": "2021-04-19T12:28:42.233047Z",
     "start_time": "2021-04-19T12:28:42.229050Z"
    }
   },
   "outputs": [
    {
     "name": "stdout",
     "output_type": "stream",
     "text": [
      "(2, 'a', 'b')\n"
     ]
    }
   ],
   "source": [
    "t1 = (1, 2, 'a', 'b')\n",
    "print(t1[1:])"
   ]
  },
  {
   "cell_type": "markdown",
   "id": "fde0f0ff",
   "metadata": {},
   "source": [
    "- 튜플 더하기 및 곱하기"
   ]
  },
  {
   "cell_type": "code",
   "execution_count": 57,
   "id": "8331008f",
   "metadata": {
    "ExecuteTime": {
     "end_time": "2021-04-19T12:29:29.194601Z",
     "start_time": "2021-04-19T12:29:29.177600Z"
    }
   },
   "outputs": [
    {
     "name": "stdout",
     "output_type": "stream",
     "text": [
      "(1, 2, 'a', 'b', 3, 4)\n"
     ]
    }
   ],
   "source": [
    "t1 = (1, 2, 'a', 'b')\n",
    "t2 = (3, 4)\n",
    "print(t1 + t2)"
   ]
  },
  {
   "cell_type": "markdown",
   "id": "6ea9dd85",
   "metadata": {},
   "source": [
    "- 튜플 길이 구하기"
   ]
  },
  {
   "cell_type": "code",
   "execution_count": 58,
   "id": "0f5665da",
   "metadata": {
    "ExecuteTime": {
     "end_time": "2021-04-19T12:29:52.987685Z",
     "start_time": "2021-04-19T12:29:52.970684Z"
    }
   },
   "outputs": [
    {
     "data": {
      "text/plain": [
       "4"
      ]
     },
     "execution_count": 58,
     "metadata": {},
     "output_type": "execute_result"
    }
   ],
   "source": [
    "t1 = (1, 2, 'a', 'b')\n",
    "len(t1)"
   ]
  },
  {
   "cell_type": "markdown",
   "id": "4a2ec659",
   "metadata": {},
   "source": [
    "# 2021/04/20\n",
    "### 2.5 딕셔너리 자료형\n",
    "#### 딕셔너리란?\n",
    "- Key와 value를 한 쌍으로 가지는 자료형이다.\n",
    "#### 딕셔너리는 어떻게 만들까?\n",
    "- Key에는 변하지 않는 값을 사용하고, Value에는 변하는 값과 변하지 않는 값 모두 사용할 수 있다."
   ]
  },
  {
   "cell_type": "code",
   "execution_count": 5,
   "id": "9d701d7a",
   "metadata": {},
   "outputs": [
    {
     "data": {
      "text/plain": [
       "{'name': 'pey', 'birth': '1118', 'a': [1, 2, 3], 1: 'hi'}"
      ]
     },
     "execution_count": 5,
     "metadata": {},
     "output_type": "execute_result"
    }
   ],
   "source": [
    "dic = {'name': 'pey', 'birth': '1118', 'a': [1, 2, 3], 1: 'hi'}\n",
    "dic"
   ]
  },
  {
   "cell_type": "markdown",
   "id": "fd641eba",
   "metadata": {},
   "source": [
    "#### 딕셔너리 쌍 추가, 삭제하기\n",
    "- 딕셔너리 쌍 추가하기"
   ]
  },
  {
   "cell_type": "code",
   "execution_count": 7,
   "id": "f064a970",
   "metadata": {},
   "outputs": [
    {
     "data": {
      "text/plain": [
       "{1: 'a', 2: 'b', 'name': 'pey', 3: [1, 2, 3]}"
      ]
     },
     "execution_count": 7,
     "metadata": {},
     "output_type": "execute_result"
    }
   ],
   "source": [
    "a = {1: 'a'}\n",
    "a[2] = 'b'\n",
    "a['name'] = 'pey'\n",
    "a[3] = [1, 2, 3]\n",
    "a"
   ]
  },
  {
   "cell_type": "markdown",
   "id": "794d912e",
   "metadata": {},
   "source": [
    "- 딕셔너리 요소 삭제하기"
   ]
  },
  {
   "cell_type": "code",
   "execution_count": 8,
   "id": "58605b5a",
   "metadata": {},
   "outputs": [
    {
     "data": {
      "text/plain": [
       "{1: 'a', 2: 'b', 3: [1, 2, 3]}"
      ]
     },
     "execution_count": 8,
     "metadata": {},
     "output_type": "execute_result"
    }
   ],
   "source": [
    "del a['name']\n",
    "a"
   ]
  },
  {
   "cell_type": "markdown",
   "id": "2245b8a3",
   "metadata": {},
   "source": [
    "#### 딕셔너리를 사용하는 방법\n",
    "- 딕셔너리에서 Key를 사용해 Value 얻기"
   ]
  },
  {
   "cell_type": "code",
   "execution_count": 10,
   "id": "12285aed",
   "metadata": {},
   "outputs": [
    {
     "name": "stdout",
     "output_type": "stream",
     "text": [
      "10 99\n",
      "a b\n",
      "3 4\n"
     ]
    }
   ],
   "source": [
    "grade = {'pey': 10, 'julliet': 99, 1: 'a', 2: 'b', 'a': 3, 'b': 4}\n",
    "print(grade['pey'], grade['julliet'])\n",
    "print(grade[1], grade[2])\n",
    "print(grade['a'], grade['b'])"
   ]
  },
  {
   "cell_type": "markdown",
   "id": "98324e39",
   "metadata": {},
   "source": [
    "- 딕셔너리를 만들 때 주의할 사항\n",
    "  - 중복되는 key 값을 설정하면 하나를 제외한 나머지 것들은 모두 무시된다.\n",
    "  - Key로 리스트는 사용할 수 없지만, 튜플은 사용할 수 있다."
   ]
  },
  {
   "cell_type": "code",
   "execution_count": 13,
   "id": "c6ce3d5c",
   "metadata": {},
   "outputs": [
    {
     "name": "stdout",
     "output_type": "stream",
     "text": [
      "b\n",
      "{1: 'b', (1, 2): 'c'}\n"
     ]
    },
    {
     "ename": "TypeError",
     "evalue": "unhashable type: 'list'",
     "output_type": "error",
     "traceback": [
      "\u001b[1;31m---------------------------------------------------------------------------\u001b[0m",
      "\u001b[1;31mTypeError\u001b[0m                                 Traceback (most recent call last)",
      "\u001b[1;32m<ipython-input-13-7c5db52f1b81>\u001b[0m in \u001b[0;36m<module>\u001b[1;34m\u001b[0m\n\u001b[0;32m      3\u001b[0m \u001b[0ma\u001b[0m\u001b[1;33m[\u001b[0m\u001b[1;33m(\u001b[0m\u001b[1;36m1\u001b[0m\u001b[1;33m,\u001b[0m \u001b[1;36m2\u001b[0m\u001b[1;33m)\u001b[0m\u001b[1;33m]\u001b[0m \u001b[1;33m=\u001b[0m \u001b[1;34m'c'\u001b[0m\u001b[1;33m\u001b[0m\u001b[1;33m\u001b[0m\u001b[0m\n\u001b[0;32m      4\u001b[0m \u001b[0mprint\u001b[0m\u001b[1;33m(\u001b[0m\u001b[0ma\u001b[0m\u001b[1;33m)\u001b[0m\u001b[1;33m\u001b[0m\u001b[1;33m\u001b[0m\u001b[0m\n\u001b[1;32m----> 5\u001b[1;33m \u001b[0ma\u001b[0m\u001b[1;33m[\u001b[0m\u001b[1;33m[\u001b[0m\u001b[1;36m1\u001b[0m\u001b[1;33m,\u001b[0m \u001b[1;36m2\u001b[0m\u001b[1;33m]\u001b[0m\u001b[1;33m]\u001b[0m \u001b[1;33m=\u001b[0m \u001b[1;34m'd'\u001b[0m\u001b[1;33m\u001b[0m\u001b[1;33m\u001b[0m\u001b[0m\n\u001b[0m",
      "\u001b[1;31mTypeError\u001b[0m: unhashable type: 'list'"
     ]
    }
   ],
   "source": [
    "a = {1: 'a', 1: 'b'}\n",
    "print(a[1])\n",
    "a[(1, 2)] = 'c'\n",
    "print(a)\n",
    "a[[1, 2]] = 'd'"
   ]
  },
  {
   "cell_type": "markdown",
   "id": "986e4260",
   "metadata": {},
   "source": [
    "#### 딕셔너리 관련 함수들\n",
    "- Key 리스트 만들기(keys)): 딕셔너리의 Key만을 모아서 dict_keys 객체를 리턴한다."
   ]
  },
  {
   "cell_type": "code",
   "execution_count": 16,
   "id": "3140b012",
   "metadata": {},
   "outputs": [
    {
     "name": "stdout",
     "output_type": "stream",
     "text": [
      "dict_keys(['name', 'birth', 'a', 1])\n",
      "['name', 'birth', 'a', 1]\n"
     ]
    }
   ],
   "source": [
    "a = {'name': 'pey', 'birth': '1118', 'a': [1, 2, 3], 1: 'hi'}\n",
    "print(a.keys())\n",
    "print(list(a.keys())) # 리턴값으로 리스트가 필요한 경우 list() 함수를 사용하면 된다."
   ]
  },
  {
   "cell_type": "code",
   "execution_count": 18,
   "id": "ca32c657",
   "metadata": {},
   "outputs": [
    {
     "name": "stdout",
     "output_type": "stream",
     "text": [
      "name\n",
      "birth\n",
      "a\n",
      "1\n"
     ]
    }
   ],
   "source": [
    "for k in a.keys(): # 반복문에 사용 가능하다.\n",
    "    print(k)"
   ]
  },
  {
   "cell_type": "markdown",
   "id": "379ebc23",
   "metadata": {},
   "source": [
    "- Value 리스트 만들기(values)"
   ]
  },
  {
   "cell_type": "code",
   "execution_count": 20,
   "id": "e4a6df75",
   "metadata": {},
   "outputs": [
    {
     "data": {
      "text/plain": [
       "dict_values(['pey', '1118', [1, 2, 3], 'hi'])"
      ]
     },
     "execution_count": 20,
     "metadata": {},
     "output_type": "execute_result"
    }
   ],
   "source": [
    "a.values()"
   ]
  },
  {
   "cell_type": "markdown",
   "id": "49efb315",
   "metadata": {},
   "source": [
    "- Key, value 쌍 얻기(items)"
   ]
  },
  {
   "cell_type": "code",
   "execution_count": 21,
   "id": "d54cd8da",
   "metadata": {},
   "outputs": [
    {
     "data": {
      "text/plain": [
       "dict_items([('name', 'pey'), ('birth', '1118'), ('a', [1, 2, 3]), (1, 'hi')])"
      ]
     },
     "execution_count": 21,
     "metadata": {},
     "output_type": "execute_result"
    }
   ],
   "source": [
    "a.items()"
   ]
  },
  {
   "cell_type": "markdown",
   "id": "cb084d61",
   "metadata": {},
   "source": [
    "- Key: value 쌍 모두 지우기(clear)"
   ]
  },
  {
   "cell_type": "code",
   "execution_count": 22,
   "id": "ba5c3196",
   "metadata": {},
   "outputs": [
    {
     "data": {
      "text/plain": [
       "{}"
      ]
     },
     "execution_count": 22,
     "metadata": {},
     "output_type": "execute_result"
    }
   ],
   "source": [
    "a.clear()\n",
    "a"
   ]
  },
  {
   "cell_type": "markdown",
   "id": "149b01cd",
   "metadata": {},
   "source": [
    "- Key로 value 얻기(get)"
   ]
  },
  {
   "cell_type": "code",
   "execution_count": 24,
   "id": "a2bf268c",
   "metadata": {},
   "outputs": [
    {
     "name": "stdout",
     "output_type": "stream",
     "text": [
      "pey\n",
      "1118\n",
      "None\n"
     ]
    },
    {
     "ename": "KeyError",
     "evalue": "'nokey'",
     "output_type": "error",
     "traceback": [
      "\u001b[1;31m---------------------------------------------------------------------------\u001b[0m",
      "\u001b[1;31mKeyError\u001b[0m                                  Traceback (most recent call last)",
      "\u001b[1;32m<ipython-input-24-5937e0aa0709>\u001b[0m in \u001b[0;36m<module>\u001b[1;34m\u001b[0m\n\u001b[0;32m      3\u001b[0m \u001b[0mprint\u001b[0m\u001b[1;33m(\u001b[0m\u001b[0ma\u001b[0m\u001b[1;33m.\u001b[0m\u001b[0mget\u001b[0m\u001b[1;33m(\u001b[0m\u001b[1;34m'birth'\u001b[0m\u001b[1;33m)\u001b[0m\u001b[1;33m)\u001b[0m\u001b[1;33m\u001b[0m\u001b[1;33m\u001b[0m\u001b[0m\n\u001b[0;32m      4\u001b[0m \u001b[0mprint\u001b[0m\u001b[1;33m(\u001b[0m\u001b[0ma\u001b[0m\u001b[1;33m.\u001b[0m\u001b[0mget\u001b[0m\u001b[1;33m(\u001b[0m\u001b[1;34m'nokey'\u001b[0m\u001b[1;33m)\u001b[0m\u001b[1;33m)\u001b[0m \u001b[1;31m# 존재하지 않는 키로 값을 가져오려고 할 때 get() 함수는 None을 리턴하지만,\u001b[0m\u001b[1;33m\u001b[0m\u001b[1;33m\u001b[0m\u001b[0m\n\u001b[1;32m----> 5\u001b[1;33m \u001b[0mprint\u001b[0m\u001b[1;33m(\u001b[0m\u001b[0ma\u001b[0m\u001b[1;33m[\u001b[0m\u001b[1;34m'nokey'\u001b[0m\u001b[1;33m]\u001b[0m\u001b[1;33m)\u001b[0m     \u001b[1;31m# 바로 Key로 접근할 경우 에러가 발생한다.\u001b[0m\u001b[1;33m\u001b[0m\u001b[1;33m\u001b[0m\u001b[0m\n\u001b[0m",
      "\u001b[1;31mKeyError\u001b[0m: 'nokey'"
     ]
    }
   ],
   "source": [
    "a = {'name': 'pey', 'birth': '1118', 'a': [1, 2, 3], 1: 'hi'}\n",
    "print(a.get('name'))\n",
    "print(a.get('birth'))\n",
    "print(a.get('nokey')) # 존재하지 않는 키로 값을 가져오려고 할 때 get() 함수는 None을 리턴하지만,\n",
    "print(a['nokey'])     # 바로 Key로 접근할 경우 에러가 발생한다."
   ]
  },
  {
   "cell_type": "code",
   "execution_count": 25,
   "id": "2179c135",
   "metadata": {},
   "outputs": [
    {
     "data": {
      "text/plain": [
       "'bar'"
      ]
     },
     "execution_count": 25,
     "metadata": {},
     "output_type": "execute_result"
    }
   ],
   "source": [
    "a.get('foo', 'bar') # 찾으려는 key 값이 없을 경우 디폴트 값을 리턴하도록 할 수도 있다."
   ]
  },
  {
   "cell_type": "markdown",
   "id": "615fcf1b",
   "metadata": {},
   "source": [
    "- 해당 key가 딕셔너리 안에 있는지 조사하기(in)"
   ]
  },
  {
   "cell_type": "code",
   "execution_count": 27,
   "id": "80465c38",
   "metadata": {},
   "outputs": [
    {
     "name": "stdout",
     "output_type": "stream",
     "text": [
      "True\n",
      "False\n"
     ]
    }
   ],
   "source": [
    "a = {'name': 'pey', 'birth': '1118', 'a': [1, 2, 3], 1: 'hi'}\n",
    "print('name' in a)\n",
    "print('email' in a)"
   ]
  },
  {
   "cell_type": "markdown",
   "id": "e6c608df",
   "metadata": {},
   "source": [
    "### 2.6 집합 자료형\n",
    "#### 집합 자료형은 어떻게 만들까?\n",
    "- 집합(set)은 집합에 관련된 것을 쉽게 처리하기 위해 만든 자료형이다."
   ]
  },
  {
   "cell_type": "code",
   "execution_count": null,
   "id": "fa9adac6",
   "metadata": {},
   "outputs": [],
   "source": [
    "s1 = set([1, 2, 3])\n",
    "print(s1)\n",
    "s2 = set(\"Hello\")\n",
    "print(s2)\n",
    "s3 = set()\n",
    "print(s3)"
   ]
  },
  {
   "cell_type": "markdown",
   "id": "b95de990",
   "metadata": {},
   "source": [
    "#### 집합 자료형의 특징\n",
    "- 중복을 허용하지 않는다. -> 자료형의 중복을 제거하기 위한 필터로도 사용된다.\n",
    "- 순서가 없으므로(Unordered) 인덱싱할 수 없다. -> 인덱싱으로 접근하고 싶으면 리스트나 튜플로 변환하면 된다."
   ]
  },
  {
   "cell_type": "markdown",
   "id": "b37004b0",
   "metadata": {},
   "source": [
    "#### 교집합, 합집합, 차집합 구하기"
   ]
  },
  {
   "cell_type": "code",
   "execution_count": 30,
   "id": "21ba5e28",
   "metadata": {},
   "outputs": [],
   "source": [
    "s1 = set([1, 2, 3, 4, 5, 6])\n",
    "s2 = set([4, 5, 6, 7, 8, 9])"
   ]
  },
  {
   "cell_type": "markdown",
   "id": "90e98a70",
   "metadata": {},
   "source": [
    "1. 교집합: '&' 연산자 또는 intersection() 함수 사용"
   ]
  },
  {
   "cell_type": "code",
   "execution_count": 32,
   "id": "2487f347",
   "metadata": {},
   "outputs": [
    {
     "name": "stdout",
     "output_type": "stream",
     "text": [
      "{4, 5, 6}\n",
      "{4, 5, 6}\n"
     ]
    }
   ],
   "source": [
    "print(s1 & s2)\n",
    "print(s1.intersection(s2))"
   ]
  },
  {
   "cell_type": "markdown",
   "id": "26fb7ec3",
   "metadata": {},
   "source": [
    "2. 합집합: '|' 연산자 또는 union() 함수 사용"
   ]
  },
  {
   "cell_type": "code",
   "execution_count": 34,
   "id": "c526d4a8",
   "metadata": {},
   "outputs": [
    {
     "name": "stdout",
     "output_type": "stream",
     "text": [
      "{1, 2, 3, 4, 5, 6, 7, 8, 9}\n",
      "{1, 2, 3, 4, 5, 6, 7, 8, 9}\n"
     ]
    }
   ],
   "source": [
    "print(s1 | s2)\n",
    "print(s2.union(s1))"
   ]
  },
  {
   "cell_type": "markdown",
   "id": "71b8b034",
   "metadata": {},
   "source": [
    "3. 차집합: '-' 연산자 또는 difference() 함수 사용"
   ]
  },
  {
   "cell_type": "code",
   "execution_count": 35,
   "id": "b7a8986a",
   "metadata": {},
   "outputs": [
    {
     "name": "stdout",
     "output_type": "stream",
     "text": [
      "{1, 2, 3}\n",
      "{8, 9, 7}\n",
      "{1, 2, 3}\n",
      "{8, 9, 7}\n"
     ]
    }
   ],
   "source": [
    "print(s1 - s2)\n",
    "print(s2 - s1)\n",
    "print(s1.difference(s2))\n",
    "print(s2.difference(s1))"
   ]
  },
  {
   "cell_type": "markdown",
   "id": "2c719f76",
   "metadata": {},
   "source": [
    "#### 집합 자료형 관련 함수들\n",
    "- 값 1개 추가하기(add)"
   ]
  },
  {
   "cell_type": "code",
   "execution_count": 38,
   "id": "a4412d2c",
   "metadata": {},
   "outputs": [
    {
     "data": {
      "text/plain": [
       "{1, 2, 3, 4}"
      ]
     },
     "execution_count": 38,
     "metadata": {},
     "output_type": "execute_result"
    }
   ],
   "source": [
    "s1 = set([1, 2, 3])\n",
    "s1.add(4)\n",
    "s1"
   ]
  },
  {
   "cell_type": "markdown",
   "id": "782cfca9",
   "metadata": {},
   "source": [
    "- 값 여러 개 추가하기(update)"
   ]
  },
  {
   "cell_type": "code",
   "execution_count": 40,
   "id": "6e824801",
   "metadata": {},
   "outputs": [
    {
     "data": {
      "text/plain": [
       "{1, 2, 3, 4, 5, 6}"
      ]
     },
     "execution_count": 40,
     "metadata": {},
     "output_type": "execute_result"
    }
   ],
   "source": [
    "s1 = set([1, 2, 3])\n",
    "s1.update([4, 5, 6])\n",
    "s1"
   ]
  },
  {
   "cell_type": "markdown",
   "id": "89162d30",
   "metadata": {},
   "source": [
    "- 특정 값 제거하기(remove)"
   ]
  },
  {
   "cell_type": "code",
   "execution_count": 42,
   "id": "5b340dfd",
   "metadata": {},
   "outputs": [
    {
     "data": {
      "text/plain": [
       "{1, 3}"
      ]
     },
     "execution_count": 42,
     "metadata": {},
     "output_type": "execute_result"
    }
   ],
   "source": [
    "s1 = set([1, 2, 3])\n",
    "s1.remove(2)\n",
    "s1"
   ]
  },
  {
   "cell_type": "markdown",
   "id": "5e6a8a11",
   "metadata": {},
   "source": [
    "### 2.7 불 자료형\n",
    "#### 불(Bool) 자료형이란?\n",
    "- 참(True)과 거짓(False)을 나타내는 자료형이다."
   ]
  },
  {
   "cell_type": "code",
   "execution_count": 43,
   "id": "3ae3eb03",
   "metadata": {},
   "outputs": [
    {
     "name": "stdout",
     "output_type": "stream",
     "text": [
      "<class 'bool'>\n",
      "True\n"
     ]
    }
   ],
   "source": [
    "a = True\n",
    "b = True\n",
    "print(type(a))\n",
    "print(b)"
   ]
  },
  {
   "cell_type": "markdown",
   "id": "cb700b64",
   "metadata": {},
   "source": [
    "- 불 자료형은 조건문의 리턴값으로도 사용된다."
   ]
  },
  {
   "cell_type": "code",
   "execution_count": 45,
   "id": "da7e9a1b",
   "metadata": {},
   "outputs": [
    {
     "name": "stdout",
     "output_type": "stream",
     "text": [
      "True\n",
      "False\n"
     ]
    }
   ],
   "source": [
    "print(1 == 1)\n",
    "print(2 < 1)"
   ]
  },
  {
   "cell_type": "markdown",
   "id": "04576112",
   "metadata": {},
   "source": [
    "#### 자료형의 참과 거짓\n",
    "- 문자열, 리스트, 튜플, 딕셔너리 등의 값이 비어 있으면 False가 된다.\n",
    "- 숫자 0, None도 False를 뜻한다."
   ]
  },
  {
   "cell_type": "code",
   "execution_count": 48,
   "id": "c7f34408",
   "metadata": {},
   "outputs": [
    {
     "name": "stdout",
     "output_type": "stream",
     "text": [
      "4\n",
      "3\n",
      "2\n",
      "1\n"
     ]
    }
   ],
   "source": [
    "a = [1, 2, 3, 4]\n",
    "while a:            # a가 빈 리스트가 될 때까지 반복문이 동작한다.\n",
    "    print(a.pop())"
   ]
  },
  {
   "cell_type": "markdown",
   "id": "0a6c91d7",
   "metadata": {},
   "source": [
    "#### 불 연산\n",
    "- bool 내장 함수를 사용하면 자료형의 참과 거짓을 식별할 수 있다."
   ]
  },
  {
   "cell_type": "code",
   "execution_count": 49,
   "id": "ac545a3f",
   "metadata": {},
   "outputs": [
    {
     "name": "stdout",
     "output_type": "stream",
     "text": [
      "True\n",
      "False\n"
     ]
    }
   ],
   "source": [
    "print(bool('python'))\n",
    "print(bool(''))"
   ]
  },
  {
   "cell_type": "markdown",
   "id": "59277625",
   "metadata": {},
   "source": [
    "### 2.8 자료형의 값을 저장하는 공간, 변수\n",
    "#### 변수는 어떻게 만들까?\n",
    "- 파이썬은 변수에 저장된 값을 스스로 판단하여 자료형을 지정하기 때문에 C나 JAVA보다 편리하다."
   ]
  },
  {
   "cell_type": "markdown",
   "id": "88b9063c",
   "metadata": {},
   "source": [
    "#### 변수란?\n",
    "- 파이썬에서 사용하는 변수는 객체를 가리키는 것이라고도 말할 수 있다.\n",
    "- 리스트 자료형을 선언하면 자동으로 메모리에 변수가 생성되고 변수는 해당 리스트가 저장된 메모리의 주소를 가리킨다.\n",
    "- 변수가 가리키는 메모리의 주소는 id() 함수를 사용하여 확인할 수 있다."
   ]
  },
  {
   "cell_type": "code",
   "execution_count": 50,
   "id": "b07d40ef",
   "metadata": {},
   "outputs": [
    {
     "data": {
      "text/plain": [
       "1543516371200"
      ]
     },
     "execution_count": 50,
     "metadata": {},
     "output_type": "execute_result"
    }
   ],
   "source": [
    "a = [1, 2, 3]\n",
    "id(a)"
   ]
  },
  {
   "cell_type": "markdown",
   "id": "377eab9b",
   "metadata": {},
   "source": [
    "#### 리스트를 복사하고자 할 때\n",
    "- 아래와 같이 b에 a를 대입하면 b는 a와 완전히 동일한 것이 되지만, 여기서 동일하다는 것의 의미는 a와 b가 가리키는 메모리의 주소가 동일하다는 의미이다.\n",
    "- 따라서 이렇게 할 경우 아래의 예시와 같이 a나 b중 하나의 요소값을 변경하면 두 변수가 가리키는 주소가 동일하기 때문에 두 변수의 값이 모두 변경되는 것처럼 보이게 된다."
   ]
  },
  {
   "cell_type": "code",
   "execution_count": 53,
   "id": "2e64bbac",
   "metadata": {},
   "outputs": [
    {
     "name": "stdout",
     "output_type": "stream",
     "text": [
      "1543530919296\n",
      "1543530919296\n",
      "[1, 4, 3]\n",
      "[1, 4, 3]\n"
     ]
    }
   ],
   "source": [
    "a = [1, 2, 3]\n",
    "b = a\n",
    "print(id(a))\n",
    "print(id(b))\n",
    "a[1] = 4\n",
    "print(a)\n",
    "print(b)"
   ]
  },
  {
   "cell_type": "markdown",
   "id": "e6852ead",
   "metadata": {},
   "source": [
    "- 변수를 복사하여 생성할 때 기존의 변수의 값을 가져오면서 새로운 주소를 가리키도록 할 때에는 아래의 두 방법을 사용한다.\n",
    "    1. $[:]$ 이용\n",
    "    2. copy 모듈 이용"
   ]
  },
  {
   "cell_type": "code",
   "execution_count": 55,
   "id": "f0826242",
   "metadata": {},
   "outputs": [
    {
     "name": "stdout",
     "output_type": "stream",
     "text": [
      "[1, 4, 3]\n",
      "[1, 2, 3]\n"
     ]
    }
   ],
   "source": [
    "a = [1, 2, 3]\n",
    "b = a[:]\n",
    "a[1] = 4\n",
    "print(a)\n",
    "print(b)"
   ]
  },
  {
   "cell_type": "code",
   "execution_count": 58,
   "id": "36654908",
   "metadata": {},
   "outputs": [
    {
     "name": "stdout",
     "output_type": "stream",
     "text": [
      "1543523662464\n",
      "1543526012160\n"
     ]
    }
   ],
   "source": [
    "from copy import copy\n",
    "b = copy(a)\n",
    "print(id(a))\n",
    "print(id(b))"
   ]
  },
  {
   "cell_type": "markdown",
   "id": "ebf358ab",
   "metadata": {},
   "source": [
    "#### 변수를 만드는 여러 가지 방법"
   ]
  },
  {
   "cell_type": "code",
   "execution_count": 59,
   "id": "445ed45f",
   "metadata": {},
   "outputs": [],
   "source": [
    "a, b = ('python', 'life')\n",
    "(a, b) = 'python', 'life'\n",
    "[a, b] = ['python', 'life']\n",
    "a = b = 'python'"
   ]
  },
  {
   "cell_type": "code",
   "execution_count": 60,
   "id": "c930637b",
   "metadata": {},
   "outputs": [
    {
     "name": "stdout",
     "output_type": "stream",
     "text": [
      "3 5\n",
      "5 3\n"
     ]
    }
   ],
   "source": [
    "a = 3\n",
    "b = 5\n",
    "print(a, b)\n",
    "a, b = b, a\n",
    "print(a, b)"
   ]
  },
  {
   "cell_type": "markdown",
   "id": "d8b159bf",
   "metadata": {},
   "source": [
    "# 2021/04/27\n",
    "## CH 3. 프로그램의 구조를 쌓는다! 제어문\n",
    "### 3.1 if문\n",
    "#### if문은 왜 필요할까?"
   ]
  },
  {
   "cell_type": "code",
   "execution_count": 2,
   "id": "101b3c09",
   "metadata": {},
   "outputs": [
    {
     "name": "stdout",
     "output_type": "stream",
     "text": [
      "Take a taxi.\n"
     ]
    }
   ],
   "source": [
    "money = True\n",
    "if money:\n",
    "    print(\"Take a taxi.\")\n",
    "else:\n",
    "    print(\"Take a walk.\")"
   ]
  },
  {
   "cell_type": "markdown",
   "id": "e96dfdce",
   "metadata": {},
   "source": [
    "#### if문의 기본 구조\n",
    "- else문은 if문 없이 독립적으로 사용할 수 없다.\n",
    "- 들여쓰기\n",
    "    - if문을 만들 때는 if문 바로 아래 문장부터 if문에 속하는 모든 문장에 들여쓰기(indentation)를 해주어야 한다.\n",
    "    - 들여쓰기를 할 때 공백(spacebar) 4개를 사용하는 것을 권장한다.\n",
    "- 조건문 다음에 콜론을 잊지 말자!\n",
    "\n",
    "#### 조건문이란 무엇인가?\n",
    "- 조건문이란 참과 거짓을 판단하는 문장을 말한다.\n",
    "- __비교연산자__: x < y, x > y, x == y, x != y, x >= y, x <= y"
   ]
  },
  {
   "cell_type": "code",
   "execution_count": 4,
   "id": "cf4158e4",
   "metadata": {},
   "outputs": [
    {
     "name": "stdout",
     "output_type": "stream",
     "text": [
      "Take a walk.\n"
     ]
    }
   ],
   "source": [
    "money = 2000\n",
    "if money >= 3000:\n",
    "    print(\"Take a taxi.\")\n",
    "else:\n",
    "    print(\"Take a walk.\")"
   ]
  },
  {
   "cell_type": "markdown",
   "id": "47e52c51",
   "metadata": {},
   "source": [
    "- __and, or, not__: x or y, x and y, not x"
   ]
  },
  {
   "cell_type": "code",
   "execution_count": 6,
   "id": "08825029",
   "metadata": {},
   "outputs": [
    {
     "name": "stdout",
     "output_type": "stream",
     "text": [
      "Take a taxi.\n"
     ]
    }
   ],
   "source": [
    "money = 2000\n",
    "card = True\n",
    "if money >= 3000 or card:\n",
    "    print(\"Take a taxi.\")\n",
    "else:\n",
    "    print(\"Take a walk.\")"
   ]
  },
  {
   "cell_type": "markdown",
   "id": "7c56c06b",
   "metadata": {},
   "source": [
    "- __x in s, x not in s__: x in 리스트, x in 튜플, x in 문자열"
   ]
  },
  {
   "cell_type": "code",
   "execution_count": 8,
   "id": "243c7526",
   "metadata": {},
   "outputs": [
    {
     "name": "stdout",
     "output_type": "stream",
     "text": [
      "True\n",
      "False\n",
      "True\n",
      "True\n"
     ]
    }
   ],
   "source": [
    "print(1 in [1, 2, 3])\n",
    "print(1 not in [1, 2, 3])\n",
    "print('a' in ('a', 'b', 'c'))\n",
    "print('j' not in 'python')"
   ]
  },
  {
   "cell_type": "code",
   "execution_count": 9,
   "id": "25acf7c2",
   "metadata": {},
   "outputs": [
    {
     "name": "stdout",
     "output_type": "stream",
     "text": [
      "Take a taxi.\n"
     ]
    }
   ],
   "source": [
    "pocket = ['paper', 'cellphone', 'money']\n",
    "if 'money' in pocket:\n",
    "    print(\"Take a taxi.\")\n",
    "else:\n",
    "    print(\"Take a walk.\")"
   ]
  },
  {
   "cell_type": "markdown",
   "id": "8d1af823",
   "metadata": {},
   "source": [
    "- __조건문에서 아무 일도 하지 않게 설정하고 싶다면?__"
   ]
  },
  {
   "cell_type": "code",
   "execution_count": 11,
   "id": "f4c73510",
   "metadata": {},
   "outputs": [],
   "source": [
    "pocket = ['paper', 'cellphone', 'money']\n",
    "if 'money' in pocket:\n",
    "    pass\n",
    "else:\n",
    "    print(\"Give me your card.\")"
   ]
  },
  {
   "cell_type": "markdown",
   "id": "9e40c662",
   "metadata": {},
   "source": [
    "#### 다양한 조건을 판단하는 elif"
   ]
  },
  {
   "cell_type": "code",
   "execution_count": 12,
   "id": "5d5487db",
   "metadata": {},
   "outputs": [
    {
     "name": "stdout",
     "output_type": "stream",
     "text": [
      "Take a taxi.\n"
     ]
    }
   ],
   "source": [
    "pocket = ['paper', 'cellphone']\n",
    "card = True\n",
    "if 'money' in pocket:\n",
    "    print(\"Take a taxi.\")\n",
    "elif card:\n",
    "    print(\"Take a taxi.\")\n",
    "else:\n",
    "    print(\"Take a walk.\")"
   ]
  },
  {
   "cell_type": "markdown",
   "id": "021a188c",
   "metadata": {},
   "source": [
    "- __if문을 한줄로 작성하기__"
   ]
  },
  {
   "cell_type": "code",
   "execution_count": 14,
   "id": "cc33f220",
   "metadata": {},
   "outputs": [
    {
     "name": "stdout",
     "output_type": "stream",
     "text": [
      "Give me your card.\n"
     ]
    }
   ],
   "source": [
    "if 'money' in pocket: pass\n",
    "else: print(\"Give me your card.\")"
   ]
  },
  {
   "cell_type": "markdown",
   "id": "38ede063",
   "metadata": {},
   "source": [
    "#### 조건부 표현식"
   ]
  },
  {
   "cell_type": "code",
   "execution_count": 16,
   "id": "6668cc97",
   "metadata": {},
   "outputs": [
    {
     "data": {
      "text/plain": [
       "'success'"
      ]
     },
     "execution_count": 16,
     "metadata": {},
     "output_type": "execute_result"
    }
   ],
   "source": [
    "score = 70\n",
    "message = 'success' if score >= 60 else 'failure'\n",
    "message"
   ]
  },
  {
   "cell_type": "markdown",
   "id": "6a762059",
   "metadata": {},
   "source": [
    "### 3.2 while문\n",
    "#### while문의 기본 구조\n",
    "- while문은 반복문이라고도 부른다.\n",
    "- while문은 조건문이 참인 동안에 while문 아래의 문장이 반복해서 수행된다."
   ]
  },
  {
   "cell_type": "code",
   "execution_count": 1,
   "id": "13078c1f",
   "metadata": {},
   "outputs": [
    {
     "name": "stdout",
     "output_type": "stream",
     "text": [
      "A tree was hit 1 time(s).\n",
      "A tree was hit 2 time(s).\n",
      "A tree was hit 3 time(s).\n",
      "A tree was hit 4 time(s).\n",
      "A tree was hit 5 time(s).\n",
      "A tree was hit 6 time(s).\n",
      "A tree was hit 7 time(s).\n",
      "A tree was hit 8 time(s).\n",
      "A tree was hit 9 time(s).\n",
      "A tree was hit 10 time(s).\n",
      "A tree is broken.\n"
     ]
    }
   ],
   "source": [
    "treeHit = 0\n",
    "while treeHit < 10:\n",
    "    treeHit += 1\n",
    "    print(\"A tree was hit %d time(s).\" % treeHit)\n",
    "    if treeHit == 10:\n",
    "        print(\"A tree is broken.\")"
   ]
  },
  {
   "cell_type": "markdown",
   "id": "c57bf10e",
   "metadata": {},
   "source": [
    "#### while문 만들기"
   ]
  },
  {
   "cell_type": "code",
   "execution_count": 2,
   "id": "3b94e232",
   "metadata": {},
   "outputs": [],
   "source": [
    "prompt = \"\"\"1. Add\n",
    "2. Del\n",
    "3. List\n",
    "4. Quit\n",
    "\n",
    "Enter number: \"\"\""
   ]
  },
  {
   "cell_type": "code",
   "execution_count": 5,
   "id": "858d2792",
   "metadata": {},
   "outputs": [
    {
     "name": "stdout",
     "output_type": "stream",
     "text": [
      "1. Add\n",
      "2. Del\n",
      "3. List\n",
      "4. Quit\n",
      "\n",
      "Enter number: \n",
      "Quit.\n"
     ]
    }
   ],
   "source": [
    "number = 0\n",
    "while number != 4:\n",
    "    print(prompt)\n",
    "    number = int(input())\n",
    "    if number == 4:\n",
    "        print(\"Quit.\")"
   ]
  },
  {
   "cell_type": "markdown",
   "id": "11fb4f4d",
   "metadata": {},
   "source": [
    "#### while문 강제로 빠져나가기\n",
    "- break문을 사용하면 while문을 강제로 멈추게 할 수 있다."
   ]
  },
  {
   "cell_type": "code",
   "execution_count": 6,
   "id": "a5845a1c",
   "metadata": {},
   "outputs": [
    {
     "name": "stdout",
     "output_type": "stream",
     "text": [
      "Enough money. Bring a cup of coffee.\n",
      "9 cup(s) of coffee left.\n",
      "Enough money. Bring a cup of coffee.\n",
      "8 cup(s) of coffee left.\n",
      "Enough money. Bring a cup of coffee.\n",
      "7 cup(s) of coffee left.\n",
      "Enough money. Bring a cup of coffee.\n",
      "6 cup(s) of coffee left.\n",
      "Enough money. Bring a cup of coffee.\n",
      "5 cup(s) of coffee left.\n",
      "Enough money. Bring a cup of coffee.\n",
      "4 cup(s) of coffee left.\n",
      "Enough money. Bring a cup of coffee.\n",
      "3 cup(s) of coffee left.\n",
      "Enough money. Bring a cup of coffee.\n",
      "2 cup(s) of coffee left.\n",
      "Enough money. Bring a cup of coffee.\n",
      "1 cup(s) of coffee left.\n",
      "Enough money. Bring a cup of coffee.\n",
      "0 cup(s) of coffee left.\n",
      "No more coffee left.\n"
     ]
    }
   ],
   "source": [
    "coffee = 10\n",
    "money = 300\n",
    "while money:\n",
    "    print(\"Enough money. Bring a cup of coffee.\")\n",
    "    coffee -= 1\n",
    "    print(\"%d cup(s) of coffee left.\" % coffee)\n",
    "    if coffee == 0:\n",
    "        print(\"No more coffee left.\")\n",
    "        break"
   ]
  },
  {
   "cell_type": "code",
   "execution_count": 14,
   "id": "36ffbf7d",
   "metadata": {},
   "outputs": [
    {
     "name": "stdout",
     "output_type": "stream",
     "text": [
      "Enough money. Bring a cup of coffee.\n",
      "4 cup(s) of coffee left.\n",
      "Enough money. Bring a cup of coffee.\n",
      "Changes: 100\n",
      "3 cup(s) of coffee left.\n",
      "Not enough money.\n",
      "3 cup(s) of coffee left.\n",
      "Enough money. Bring a cup of coffee.\n",
      "Changes: 100\n",
      "2 cup(s) of coffee left.\n",
      "Enough money. Bring a cup of coffee.\n",
      "1 cup(s) of coffee left.\n",
      "Enough money. Bring a cup of coffee.\n",
      "0 cup(s) of coffee left.\n",
      "No more coffee left.\n"
     ]
    }
   ],
   "source": [
    "coffee = 5\n",
    "while True:\n",
    "    money = int(input(\"Insert coin(s): \"))\n",
    "    if money == 300:\n",
    "        print(\"Enough money. Bring a cup of coffee.\")\n",
    "        coffee -= 1\n",
    "    elif money > 300:\n",
    "        print(\"Enough money. Bring a cup of coffee.\")\n",
    "        coffee -= 1\n",
    "        print(\"Changes: %d\" % (money - 300))\n",
    "    else:\n",
    "        print(\"Not enough money.\")\n",
    "    print(\"%d cup(s) of coffee left.\" % coffee)\n",
    "    if coffee == 0:\n",
    "        print(\"No more coffee left.\")\n",
    "        break"
   ]
  },
  {
   "cell_type": "markdown",
   "id": "83e40ddf",
   "metadata": {},
   "source": [
    "#### while문의 맨 처음으로 돌아가기\n",
    "- while문을 빠져나가지 않고 while문의 맨 처음으로 다시 돌아가게 만들고 싶은 경우에는 continue문을 사용하면 된다."
   ]
  },
  {
   "cell_type": "code",
   "execution_count": 15,
   "id": "9fa30087",
   "metadata": {},
   "outputs": [
    {
     "name": "stdout",
     "output_type": "stream",
     "text": [
      "1\n",
      "3\n",
      "5\n",
      "7\n",
      "9\n"
     ]
    }
   ],
   "source": [
    "a = 0\n",
    "while a < 10:\n",
    "    a += 1\n",
    "    if a % 2 == 0: continue\n",
    "    print(a)"
   ]
  },
  {
   "cell_type": "markdown",
   "id": "06b4ce2f",
   "metadata": {},
   "source": [
    "#### 무한 루프"
   ]
  },
  {
   "cell_type": "code",
   "execution_count": null,
   "id": "96a96aac",
   "metadata": {
    "tags": [
     "outputPrepend"
    ]
   },
   "outputs": [],
   "source": [
    "while True:\n",
    "    print(\"Press Ctrl+C to quit.\")"
   ]
  },
  {
   "cell_type": "markdown",
   "id": "8e01b016",
   "metadata": {},
   "source": [
    "### 3.3 for문\n",
    "#### for문의 기본 구조\n",
    "#### 예제를 통해 for문 이해하기\n",
    "1. 전형적인 for문"
   ]
  },
  {
   "cell_type": "code",
   "execution_count": 17,
   "id": "3ab34cc1",
   "metadata": {},
   "outputs": [
    {
     "name": "stdout",
     "output_type": "stream",
     "text": [
      "one\n",
      "two\n",
      "three\n"
     ]
    }
   ],
   "source": [
    "test_list = ['one', 'two', 'three']\n",
    "for i in test_list:\n",
    "    print(i)"
   ]
  },
  {
   "cell_type": "markdown",
   "id": "6041149a",
   "metadata": {},
   "source": [
    "2. 다양한 for문 사용"
   ]
  },
  {
   "cell_type": "code",
   "execution_count": 18,
   "id": "2a6b26bc",
   "metadata": {},
   "outputs": [
    {
     "name": "stdout",
     "output_type": "stream",
     "text": [
      "3\n",
      "7\n",
      "11\n"
     ]
    }
   ],
   "source": [
    "a = [(1, 2), (3, 4), (5, 6)]\n",
    "for (first, last) in a:\n",
    "    print(first + last)"
   ]
  },
  {
   "cell_type": "markdown",
   "id": "6f37b9cd",
   "metadata": {},
   "source": [
    "3. for문의 응용"
   ]
  },
  {
   "cell_type": "code",
   "execution_count": 19,
   "id": "62eef2b6",
   "metadata": {},
   "outputs": [
    {
     "name": "stdout",
     "output_type": "stream",
     "text": [
      "student 1 pass the test.\n",
      "student 2 fail the test.\n",
      "student 3 pass the test.\n",
      "student 4 fail the test.\n",
      "student 5 pass the test.\n"
     ]
    }
   ],
   "source": [
    "marks = [90, 25, 67, 45, 80]\n",
    "\n",
    "number = 0\n",
    "for mark in marks:\n",
    "    number += 1\n",
    "    if mark >= 60:\n",
    "        print(\"student %d pass the test.\" % number)\n",
    "    else:\n",
    "        print(\"student %d fail the test.\" % number)"
   ]
  },
  {
   "cell_type": "markdown",
   "id": "89db7f34",
   "metadata": {},
   "source": [
    "#### for문과 continue\n",
    "- for문 안의 문장을 수행하는 도중에 continue문을 만나면 for문의 처음으로 돌아가게 된다."
   ]
  },
  {
   "cell_type": "code",
   "execution_count": 20,
   "id": "ad603a46",
   "metadata": {},
   "outputs": [
    {
     "name": "stdout",
     "output_type": "stream",
     "text": [
      "student 1 pass the test.\n",
      "student 3 pass the test.\n",
      "student 5 pass the test.\n"
     ]
    }
   ],
   "source": [
    "marks = [90, 25, 67, 45, 80]\n",
    "\n",
    "number = 0\n",
    "for mark in marks:\n",
    "    number += 1\n",
    "    if mark < 60: continue\n",
    "    print(\"student %d pass the test.\" % number)"
   ]
  },
  {
   "cell_type": "markdown",
   "id": "7eecf7e2",
   "metadata": {},
   "source": [
    "#### for문과 함께 자주 사용하는 range 함수\n",
    "- for문은 숫자 리스트를 자동으로 만들어주는 range 함수와 사용하는 경우가 많다."
   ]
  },
  {
   "cell_type": "code",
   "execution_count": 22,
   "id": "140a7992",
   "metadata": {},
   "outputs": [
    {
     "name": "stdout",
     "output_type": "stream",
     "text": [
      "range(0, 10)\n",
      "range(1, 11)\n"
     ]
    }
   ],
   "source": [
    "a = range(10) # 0부터 10 미만의 숫자를 포함하는 range 객체가 생성된다.\n",
    "print(a)\n",
    "a = range(1, 11) # 시작 숫자와 끝 숫자를 지정하려면 다음과 같이 입력한다. 여기서 끝 숫자는 포함되지 않는다.\n",
    "print(a)"
   ]
  },
  {
   "cell_type": "markdown",
   "id": "305068da",
   "metadata": {},
   "source": [
    "- __range 함수의 예시 살펴보기__"
   ]
  },
  {
   "cell_type": "code",
   "execution_count": 23,
   "id": "e636a947",
   "metadata": {},
   "outputs": [
    {
     "name": "stdout",
     "output_type": "stream",
     "text": [
      "55\n"
     ]
    }
   ],
   "source": [
    "add = 0\n",
    "for i in range(1, 11):\n",
    "    add += i\n",
    "print(add)"
   ]
  },
  {
   "cell_type": "code",
   "execution_count": 24,
   "id": "4f03a704",
   "metadata": {},
   "outputs": [
    {
     "name": "stdout",
     "output_type": "stream",
     "text": [
      "student 0 pass the test.\n",
      "student 2 pass the test.\n",
      "student 4 pass the test.\n"
     ]
    }
   ],
   "source": [
    "marks = [90, 25, 67, 45, 80]\n",
    "\n",
    "for i in range(len(marks)):\n",
    "    if marks[i] < 60: continue\n",
    "    print(\"student %d pass the test.\" % i)"
   ]
  },
  {
   "cell_type": "markdown",
   "id": "cd55646d",
   "metadata": {},
   "source": [
    "- __for와 range를 이용한 구구단__"
   ]
  },
  {
   "cell_type": "code",
   "execution_count": 32,
   "id": "0c3afac5",
   "metadata": {},
   "outputs": [
    {
     "name": "stdout",
     "output_type": "stream",
     "text": [
      "2 * 1 = 2 2 * 2 = 4 2 * 3 = 6 2 * 4 = 8 2 * 5 = 10 2 * 6 = 12 2 * 7 = 14 2 * 8 = 16 2 * 9 = 18 \n",
      "3 * 1 = 3 3 * 2 = 6 3 * 3 = 9 3 * 4 = 12 3 * 5 = 15 3 * 6 = 18 3 * 7 = 21 3 * 8 = 24 3 * 9 = 27 \n",
      "4 * 1 = 4 4 * 2 = 8 4 * 3 = 12 4 * 4 = 16 4 * 5 = 20 4 * 6 = 24 4 * 7 = 28 4 * 8 = 32 4 * 9 = 36 \n",
      "5 * 1 = 5 5 * 2 = 10 5 * 3 = 15 5 * 4 = 20 5 * 5 = 25 5 * 6 = 30 5 * 7 = 35 5 * 8 = 40 5 * 9 = 45 \n",
      "6 * 1 = 6 6 * 2 = 12 6 * 3 = 18 6 * 4 = 24 6 * 5 = 30 6 * 6 = 36 6 * 7 = 42 6 * 8 = 48 6 * 9 = 54 \n",
      "7 * 1 = 7 7 * 2 = 14 7 * 3 = 21 7 * 4 = 28 7 * 5 = 35 7 * 6 = 42 7 * 7 = 49 7 * 8 = 56 7 * 9 = 63 \n",
      "8 * 1 = 8 8 * 2 = 16 8 * 3 = 24 8 * 4 = 32 8 * 5 = 40 8 * 6 = 48 8 * 7 = 56 8 * 8 = 64 8 * 9 = 72 \n",
      "9 * 1 = 9 9 * 2 = 18 9 * 3 = 27 9 * 4 = 36 9 * 5 = 45 9 * 6 = 54 9 * 7 = 63 9 * 8 = 72 9 * 9 = 81 \n"
     ]
    }
   ],
   "source": [
    "for i in range(2, 10):\n",
    "    for j in range(1, 10):\n",
    "        print(\"{} * {} = {}\".format(i, j, (i * j)), end=' ')\n",
    "    print()"
   ]
  },
  {
   "cell_type": "markdown",
   "id": "34c6f78a",
   "metadata": {},
   "source": [
    "- __매개변수 end를 넣어 준 이유는 무엇일까?__\n",
    "    - 해당 결괏값을 출력할 때 다음줄로 넘기지 않고 그 줄에 계속해서 출력하기 위해서이다."
   ]
  },
  {
   "cell_type": "markdown",
   "id": "e4ff20f1",
   "metadata": {},
   "source": [
    "#### 리스트 내포(List comprehension) 사용하기\n",
    "\\[표현식 for 항목1 in 반복가능객체1 if 조건문1  \n",
    "         for 항목2 in 반복가능객체2 if 조건문2  \n",
    "        ...]"
   ]
  },
  {
   "cell_type": "code",
   "execution_count": 35,
   "id": "bcb19f0f",
   "metadata": {},
   "outputs": [
    {
     "name": "stdout",
     "output_type": "stream",
     "text": [
      "[3, 6, 9, 12]\n",
      "[6, 12]\n"
     ]
    }
   ],
   "source": [
    "a = [1, 2, 3, 4]\n",
    "result = [num * 3 for num in a]\n",
    "print(result)\n",
    "result = [num * 3 for num in a if num % 2 == 0] # 조건문을 통해 원하는 값만 사용할 수도 있다.\n",
    "print(result)"
   ]
  },
  {
   "cell_type": "code",
   "execution_count": 37,
   "id": "9dad8f2b",
   "metadata": {},
   "outputs": [
    {
     "name": "stdout",
     "output_type": "stream",
     "text": [
      "[2, 4, 6, 8, 10, 12, 14, 16, 18, 3, 6, 9, 12, 15, 18, 21, 24, 27, 4, 8, 12, 16, 20, 24, 28, 32, 36, 5, 10, 15, 20, 25, 30, 35, 40, 45, 6, 12, 18, 24, 30, 36, 42, 48, 54, 7, 14, 21, 28, 35, 42, 49, 56, 63, 8, 16, 24, 32, 40, 48, 56, 64, 72, 9, 18, 27, 36, 45, 54, 63, 72, 81]\n"
     ]
    }
   ],
   "source": [
    "result = [x * y for x in range(2, 10)\n",
    "                    for y in range(1, 10)]\n",
    "\n",
    "print(result)"
   ]
  },
  {
   "cell_type": "markdown",
   "id": "2d338a0f",
   "metadata": {},
   "source": [
    "# 2021/04/30\n",
    "## CH 4. 프로그램의 입력과 출력은 어떻게 해야 할까?\n",
    "### 4.1 함수\n",
    "#### 함수란 무엇인가?\n",
    "- 입력값을 가지고 어떤 일을 수행한 다음에 그 결과물을 내어놓은 것이 함수가 하는 일이다.\n",
    "#### 함수를 사용하는 이유는 무엇일까?\n",
    "- 어떤 일을 할 때 반복되는 부분이 있을 경우 \"어떤 입력값을 주었을 때 어떤 결괏값을 돌려준다\"라는 식의 함수로 작성하는 것이 현명하다.\n",
    "- 자신이 만든 프로그램을 함수화하면 프로그램 흐름을 일목요연하게 볼 수 있다.\n",
    "#### 파이썬 함수의 구조\n",
    "- `def`는 함수를 만들 때 사용하는 예약어이다.\n",
    "    ``` python\n",
    "    def 함수명(매개변수):\n",
    "        <수행할 문장1>\n",
    "        <수행할 문장2>\n",
    "    ```\n",
    "- 아래의 함수는 다음과 같이 풀이된다.  \n",
    "\"이 함수의 이름은 add이고 입력으로 2개의 값을 받으며 결괏값은 2개의 입력값을 더한 값이다.\""
   ]
  },
  {
   "cell_type": "code",
   "execution_count": 3,
   "id": "d9dd191f",
   "metadata": {},
   "outputs": [],
   "source": [
    "def add(a, b):\n",
    "    return a + b"
   ]
  },
  {
   "cell_type": "code",
   "execution_count": 4,
   "id": "022fc14c",
   "metadata": {},
   "outputs": [
    {
     "name": "stdout",
     "output_type": "stream",
     "text": [
      "3 4 7\n"
     ]
    }
   ],
   "source": [
    "a, b = 3, 4\n",
    "c = add(a, b)\n",
    "print(a, b, c)"
   ]
  },
  {
   "cell_type": "markdown",
   "id": "10f334f6",
   "metadata": {},
   "source": [
    "#### 매개변수(parameter)와 인수(argument)\n",
    "- 매개변수는 함수에 입력으로 전달된 값을 받는 변수를 의미한다.\n",
    "- 인수는 함수를 호출할 때 전달하는 입력값을 의미한다."
   ]
  },
  {
   "cell_type": "code",
   "execution_count": 5,
   "id": "d5474f10",
   "metadata": {},
   "outputs": [],
   "source": [
    "def add(a, b):   # 여기서 a와 b는 매개변수이다.\n",
    "    return a + b\n",
    "\n",
    "a, b = 3, 4\n",
    "c = add(a, b)    # 여기서 a와 b는 인수이다."
   ]
  },
  {
   "cell_type": "markdown",
   "id": "10968d79",
   "metadata": {},
   "source": [
    "- __같은 의미를 가진 여러가지 용어들에 주의하자__\n",
    "    - 공부를 하다보면 의미는 같지만 표현이 다른 용어들을 자주 만나게 된다.\n",
    "    - 예를 들어, 입력값을 인수, 매개변수 등으로 말하기도 하고, 결괏값을 출력값, 반환 값, 돌려주는 값 등으로 말하기도 한다.\n",
    "    - 많은 용어가 여러가지 다른 말로 표현되지만 의미는 동일한 경우가 많으므로 이러한 용어들을 기억해 놓아야 머리가 덜 아플 것이다."
   ]
  },
  {
   "cell_type": "markdown",
   "id": "7ffd586a",
   "metadata": {},
   "source": [
    "#### 입력값과 결괏값에 따른 함수의 형태\n",
    "- __일반적인 함수__\n",
    "    - 입력값이 있고 결괏값이 있는 함수"
   ]
  },
  {
   "cell_type": "code",
   "execution_count": 7,
   "id": "632a7049",
   "metadata": {},
   "outputs": [
    {
     "name": "stdout",
     "output_type": "stream",
     "text": [
      "7\n"
     ]
    }
   ],
   "source": [
    "def add(a, b):\n",
    "    result = a + b\n",
    "    return result\n",
    "\n",
    "a = add(3, 4)\n",
    "print(a)"
   ]
  },
  {
   "cell_type": "markdown",
   "id": "979308c4",
   "metadata": {},
   "source": [
    "- __입력값이 없는 함수__"
   ]
  },
  {
   "cell_type": "code",
   "execution_count": 8,
   "id": "9d4a45aa",
   "metadata": {},
   "outputs": [
    {
     "name": "stdout",
     "output_type": "stream",
     "text": [
      "Hi\n"
     ]
    }
   ],
   "source": [
    "def say():\n",
    "    return \"Hi\"\n",
    "\n",
    "a = say()\n",
    "print(a)"
   ]
  },
  {
   "cell_type": "markdown",
   "id": "6cf5bd4a",
   "metadata": {},
   "source": [
    "- __결괏값이 없는 함수__"
   ]
  },
  {
   "cell_type": "code",
   "execution_count": 13,
   "id": "88b1135c",
   "metadata": {},
   "outputs": [
    {
     "name": "stdout",
     "output_type": "stream",
     "text": [
      "3 + 4 = 7\n",
      "3 + 4 = 7\n",
      "None\n"
     ]
    }
   ],
   "source": [
    "def add (a, b):\n",
    "    print(\"%d + %d = %d\" % (a, b, a+b))\n",
    "\n",
    "add(3, 4)\n",
    "a = add(3, 4)\n",
    "print(a)      # 함수의 결괏값이 없으므로 a의 값이 None(거짓을 나타내는 자료형)인 것을 알 수 있다."
   ]
  },
  {
   "cell_type": "markdown",
   "id": "502c6713",
   "metadata": {},
   "source": [
    "- __입력값도 결괏값도 없는 함수__"
   ]
  },
  {
   "cell_type": "code",
   "execution_count": 14,
   "id": "f67268d3",
   "metadata": {},
   "outputs": [
    {
     "name": "stdout",
     "output_type": "stream",
     "text": [
      "Hi\n"
     ]
    }
   ],
   "source": [
    "def say():\n",
    "    print(\"Hi\")\n",
    "\n",
    "say()"
   ]
  },
  {
   "cell_type": "markdown",
   "id": "64592e48",
   "metadata": {},
   "source": [
    "#### 매개변수 지정하여 호출하기"
   ]
  },
  {
   "cell_type": "code",
   "execution_count": 15,
   "id": "a7445c0a",
   "metadata": {},
   "outputs": [],
   "source": [
    "def add(a, b):\n",
    "    return a + b"
   ]
  },
  {
   "cell_type": "code",
   "execution_count": 18,
   "id": "73445194",
   "metadata": {},
   "outputs": [
    {
     "name": "stdout",
     "output_type": "stream",
     "text": [
      "10\n",
      "8\n"
     ]
    }
   ],
   "source": [
    "result = add(a = 3, b = 7)\n",
    "print(result)\n",
    "result = add(b = 5, a = 3) # 매개변수를 지정하여 함수를 호출하면 매개변수의 순서에 상관없이 사용할 수 있다.\n",
    "print(result)"
   ]
  },
  {
   "cell_type": "markdown",
   "id": "e9ba80dd",
   "metadata": {},
   "source": [
    "#### 입력값이 몇 개가 될지 모를 때는 어떻게 해야 할까?\n",
    "    ``` python\n",
    "    def 함수이름(*매개변수):\n",
    "        <수행할 문장>\n",
    "    ```\n",
    "- __여러 개의 입력값을 받는 함수 만들기__\n",
    "    - *args처럼 매개변수 이름 앞에 \\*을 붙이면 입력값을 전부 모아서 튜플로 만들어준다.\n",
    "    - 여기서 args는 매개변수를 뜻하는 단어 arguments의 약자이며 관례적으로 자구 사용한다."
   ]
  },
  {
   "cell_type": "code",
   "execution_count": 21,
   "id": "bc023c97",
   "metadata": {},
   "outputs": [
    {
     "name": "stdout",
     "output_type": "stream",
     "text": [
      "6\n",
      "55\n"
     ]
    }
   ],
   "source": [
    "def add_many(*args):\n",
    "    result = 0\n",
    "    for i in args:\n",
    "        result += i\n",
    "    return result\n",
    "\n",
    "result = add_many(1, 2, 3)\n",
    "print(result)\n",
    "result = add_many(1, 2, 3, 4, 5, 6, 7, 8, 9, 10)\n",
    "print(result)"
   ]
  },
  {
   "cell_type": "markdown",
   "id": "d26b26e6",
   "metadata": {},
   "source": [
    "- 아래와 같이 여러 개의 매개변수를 동일하게 사용도 가능하다."
   ]
  },
  {
   "cell_type": "code",
   "execution_count": 22,
   "id": "a7d55984",
   "metadata": {},
   "outputs": [
    {
     "name": "stdout",
     "output_type": "stream",
     "text": [
      "15\n",
      "120\n"
     ]
    }
   ],
   "source": [
    "def add_mul(choice, *args):\n",
    "    if choice == \"add\":\n",
    "        result = 0\n",
    "        for i in args:\n",
    "            result += i\n",
    "    elif choice == \"mul\":\n",
    "        result = 1\n",
    "        for i in args:\n",
    "            result *= i\n",
    "    return result\n",
    "\n",
    "result = add_mul('add', 1, 2, 3, 4, 5)\n",
    "print(result)\n",
    "result = add_mul('mul', 1, 2, 3, 4, 5)\n",
    "print(result)"
   ]
  },
  {
   "cell_type": "markdown",
   "id": "ace2e50b",
   "metadata": {},
   "source": [
    "- __키워드 파라미터 kwargs__\n",
    "    - 키워드 파라미터를 사용할 때는 매개변수 앞에 별 두개를 붙인다.\n",
    "    - 함수의 출력 결과를 보면, 입력값이 모두 딕셔너리로 만들어져 출력된다는 것을 확인할 수 있다.\n",
    "    - 즉, \\**kwargs처럼 매배변수 이름 앞에 **을 붙이면 매개변수 kwargs는 딕셔너리가 되고 모든 key=value 형태의 결괏값이 그 딕셔너리에 저장된다."
   ]
  },
  {
   "cell_type": "code",
   "execution_count": 24,
   "id": "03d9e580",
   "metadata": {},
   "outputs": [
    {
     "name": "stdout",
     "output_type": "stream",
     "text": [
      "{'a': 1}\n",
      "{'name': 'foo', 'age': 3}\n"
     ]
    }
   ],
   "source": [
    "def print_kwargs(**kwargs):\n",
    "    print(kwargs)\n",
    "\n",
    "print_kwargs(a = 1)\n",
    "print_kwargs(name='foo', age=3)"
   ]
  },
  {
   "cell_type": "markdown",
   "id": "bb6e6cbd",
   "metadata": {},
   "source": [
    "#### 함수의 결괏값은 언제나 하나이다.\n",
    "- 아래의 함수는 오류가 발생할 것 같지만 오류가 발생하지 않는다.\n",
    "- 그 이유는 함수의 결괏값은 언제나 1개라는 데 있는데, 아래의 함수는 결괏값 2개를 튜플값 하나의 형태로 리턴한다.\n",
    "- 만약 하나의 튜플 값을 2개의 결괏값처럼 받고 싶다면 2개의 변수를 사용하면 된다."
   ]
  },
  {
   "cell_type": "code",
   "execution_count": 26,
   "id": "c29a91ea",
   "metadata": {},
   "outputs": [
    {
     "name": "stdout",
     "output_type": "stream",
     "text": [
      "(7, 12)\n",
      "7 12\n"
     ]
    }
   ],
   "source": [
    "def add_and_mul(a, b):\n",
    "    return a + b, a * b\n",
    "\n",
    "result = add_and_mul(3, 4)\n",
    "print(result)\n",
    "res1, res2 = add_and_mul(3, 4)\n",
    "print(res1, res2)"
   ]
  },
  {
   "cell_type": "markdown",
   "id": "e5267c87",
   "metadata": {},
   "source": [
    "- 함수는 return문을 만나는 순간 결괏값을 리턴한 다음 함수를 빠져나가므로 아래에서 두번째 return문은 실행되지 않는다."
   ]
  },
  {
   "cell_type": "code",
   "execution_count": 27,
   "id": "c4723f24",
   "metadata": {},
   "outputs": [
    {
     "name": "stdout",
     "output_type": "stream",
     "text": [
      "7\n"
     ]
    }
   ],
   "source": [
    "def add_and_mul(a, b):\n",
    "    return a + b\n",
    "    return a * b\n",
    "result = add_and_mul(3, 4)\n",
    "print(result)"
   ]
  },
  {
   "cell_type": "markdown",
   "id": "51701d33",
   "metadata": {},
   "source": [
    "- __return의 또 다른 쓰임새__\n",
    "    - 특별한 상황일 때 함수를 빠져나가고 싶다면 return을 단독으로 써서 함수를 즉시 빠져나갈 수 있다."
   ]
  },
  {
   "cell_type": "code",
   "execution_count": 28,
   "id": "f4f486b4",
   "metadata": {},
   "outputs": [
    {
     "name": "stdout",
     "output_type": "stream",
     "text": [
      "My nickname is apple\n"
     ]
    }
   ],
   "source": [
    "def say_nick(nick):\n",
    "    if nick == 'fool':\n",
    "        return\n",
    "    print(\"My nickname is %s\" % nick)\n",
    "\n",
    "say_nick('fool')\n",
    "say_nick('apple')"
   ]
  },
  {
   "cell_type": "markdown",
   "id": "f19899a4",
   "metadata": {},
   "source": [
    "# 2021/05/04\n",
    "#### 매개변수에 초깃값 미리 설정하기\n",
    "- 초깃값을 미리 설정할 매개변수는 항상 뒤쪽에 놓아야 한다."
   ]
  },
  {
   "cell_type": "code",
   "execution_count": 9,
   "id": "27a0a3c9",
   "metadata": {},
   "outputs": [],
   "source": [
    "def say_myself(name, old, man=True):\n",
    "    print(\"My name is %s.\" % name)\n",
    "    print(\"I'm %d.\" % old)\n",
    "    if man:\n",
    "        print(\"I'm a man.\")\n",
    "    else:\n",
    "        print(\"I'm a woman.\")"
   ]
  },
  {
   "cell_type": "code",
   "execution_count": 10,
   "id": "ac00b078",
   "metadata": {},
   "outputs": [
    {
     "name": "stdout",
     "output_type": "stream",
     "text": [
      "My name is Son.\n",
      "I'm 29.\n",
      "I'm a man.\n",
      "My name is Jang.\n",
      "I'm 25.\n",
      "I'm a woman.\n"
     ]
    }
   ],
   "source": [
    "say_myself(name=\"Son\", old=29)\n",
    "say_myself(\"Jang\", 25, man=False)"
   ]
  },
  {
   "cell_type": "markdown",
   "id": "183f5f02",
   "metadata": {},
   "source": [
    "#### 함수 안에서 선언한 변수의 효력 범위\n",
    "- 함수 안에서 사용하는 매개변수는 함수 밖의 변수 이름과는 전혀 상관이 없다."
   ]
  },
  {
   "cell_type": "markdown",
   "id": "365dbb98",
   "metadata": {},
   "source": [
    "#### 함수 안에서 함수 밖의 변수를 변경하는 방법\n",
    "1. return 사용하기"
   ]
  },
  {
   "cell_type": "code",
   "execution_count": 11,
   "id": "7254131b",
   "metadata": {},
   "outputs": [
    {
     "name": "stdout",
     "output_type": "stream",
     "text": [
      "1\n",
      "2\n"
     ]
    }
   ],
   "source": [
    "def vartest(a):\n",
    "    a += 1\n",
    "    return a\n",
    "\n",
    "a = 1\n",
    "print(a)\n",
    "a = vartest(a)\n",
    "print(a)"
   ]
  },
  {
   "cell_type": "markdown",
   "id": "b520a39f",
   "metadata": {},
   "source": [
    "2. global 명령어 사용하기\n",
    "    - global 명령어를 사용하면 함수 안에서 함수 밖의 변수를 직접 사용할 수 있다.\n",
    "    - 그러나 함수는 독립적으로 존재하는 것이 좋기 때문에 프로그래밍을 할 때 global 명령어는 사용하지 않는 것이 좋다."
   ]
  },
  {
   "cell_type": "code",
   "execution_count": 12,
   "id": "2e7b11d9",
   "metadata": {},
   "outputs": [
    {
     "name": "stdout",
     "output_type": "stream",
     "text": [
      "1\n",
      "2\n"
     ]
    }
   ],
   "source": [
    "a = 1\n",
    "def vartest():\n",
    "    global a\n",
    "    a += 1\n",
    "\n",
    "print(a)\n",
    "vartest()\n",
    "print(a)"
   ]
  },
  {
   "cell_type": "markdown",
   "id": "8784f2a6",
   "metadata": {},
   "source": [
    "#### lambda\n",
    "- lambda는 함수를 생성할 때 사용하는 예약어로, def와 동일한 역할을 한다.\n",
    "- 보통 함수를 한줄로 간결하게 만들 때 사용한다.\n",
    "- 사용법은 다음과 같다.  \n",
    "`lambda 매개변수1, 매개변수2, ...: 매개변수를 이용한 표현식`\n",
    "- lambda로 만든 함수는 return 명령어가 없어도 결괏값을 리턴한다."
   ]
  },
  {
   "cell_type": "code",
   "execution_count": 13,
   "id": "875d3f08",
   "metadata": {},
   "outputs": [
    {
     "name": "stdout",
     "output_type": "stream",
     "text": [
      "7\n"
     ]
    }
   ],
   "source": [
    "add = lambda a, b: a + b\n",
    "result = add(3, 4)\n",
    "print(result)"
   ]
  },
  {
   "cell_type": "markdown",
   "id": "ef42453d",
   "metadata": {},
   "source": [
    "# 2021/05/05\n",
    "### 4.2 사용자 입력과 출력\n",
    "#### 사용자 입력\n",
    "- input의 사용"
   ]
  },
  {
   "cell_type": "code",
   "execution_count": 2,
   "id": "930eb6ad",
   "metadata": {},
   "outputs": [
    {
     "name": "stdout",
     "output_type": "stream",
     "text": [
      "Lift is too short, you need python\n"
     ]
    }
   ],
   "source": [
    "a = input()\n",
    "print(a)"
   ]
  },
  {
   "cell_type": "markdown",
   "id": "382e92f3",
   "metadata": {},
   "source": [
    "- 프롬프트를 띄워서 사용자 입력 받기"
   ]
  },
  {
   "cell_type": "code",
   "execution_count": 4,
   "id": "b2ee4d01",
   "metadata": {},
   "outputs": [
    {
     "name": "stdout",
     "output_type": "stream",
     "text": [
      "23\n"
     ]
    }
   ],
   "source": [
    "number = input(\"Input a number: \")\n",
    "print(number)"
   ]
  },
  {
   "cell_type": "markdown",
   "id": "7e3d0770",
   "metadata": {},
   "source": [
    "#### print 자세히 알기\n",
    "- 큰따옴표로 둘러싸인 문자열은 + 연산과 동일하다."
   ]
  },
  {
   "cell_type": "code",
   "execution_count": 5,
   "id": "9cf56813",
   "metadata": {},
   "outputs": [
    {
     "name": "stdout",
     "output_type": "stream",
     "text": [
      "Lifeistoo short\n",
      "Lifeistoo short\n"
     ]
    }
   ],
   "source": [
    "print(\"Life\"\"is\"\"too short\")\n",
    "print(\"Life\"+\"is\"+\"too short\")"
   ]
  },
  {
   "cell_type": "markdown",
   "id": "8498e38e",
   "metadata": {},
   "source": [
    "- 문자열 띄어쓰기는 콤마로 한다."
   ]
  },
  {
   "cell_type": "code",
   "execution_count": 6,
   "id": "97ea4ced",
   "metadata": {},
   "outputs": [
    {
     "name": "stdout",
     "output_type": "stream",
     "text": [
      "Life is too short\n"
     ]
    }
   ],
   "source": [
    "print(\"Life\", \"is\", \"too short\")"
   ]
  },
  {
   "cell_type": "markdown",
   "id": "cf1e1cf8",
   "metadata": {},
   "source": [
    "- 한 줄에 결괏값 출력하기"
   ]
  },
  {
   "cell_type": "code",
   "execution_count": 7,
   "id": "0a9a2531",
   "metadata": {},
   "outputs": [
    {
     "name": "stdout",
     "output_type": "stream",
     "text": [
      "0 1 2 3 4 5 6 7 8 9 "
     ]
    }
   ],
   "source": [
    "for i in range(10):\n",
    "    print(i, end=' ')"
   ]
  },
  {
   "cell_type": "markdown",
   "id": "9ff9cfc5",
   "metadata": {},
   "source": [
    "### 4.3 파일 읽고 쓰기\n",
    "#### 파일 생성하기\n",
    "- 파일을 생성할 때에는 파이썬 내장 함수 open을 사용한다.\n",
    "- 파일 열기 모드에는 다음과 같은 것들이 있다.\n",
    "    - 'r': 읽기모드 - 파일을 읽기만 할 때 사용\n",
    "    - 'w': 쓰기모드 - 파일에 내용을 쓸 때 사용\n",
    "    - 'a': 추가모드 - 파일의 마지막에 새로운 내용을 추가시킬 때 사용\n",
    "- 파일을 쓰기 모드로 열면 해당 파일이 이미 존재할 경우 원래 있던 내용이 모두 사라지고, 해당 파일이 존재하지 않으면 새로운 파일이 생성된다.\n",
    "- 프로그램을 종료할 때 파이썬 프로그램이 열려 있는 파일 객체를 자동으로 close하지만, 쓰기모드로 열었던 파일을 닫지 않고 다시 사용하려고 할 때 오류가 발생할 수 있으므로 close()를 사용해서 열려 있는 파일을 직접 닫아 주는 것이 좋다."
   ]
  },
  {
   "cell_type": "code",
   "execution_count": 8,
   "id": "4e3fa9fd",
   "metadata": {},
   "outputs": [],
   "source": [
    "f = open(\"test.txt\", 'w') # 현재 파일명만 적었지만 파일 생성 디렉토리를 작성하면 원하는 디렉토리에 파일을 생성할 수 있다.\n",
    "f.close()"
   ]
  },
  {
   "cell_type": "markdown",
   "id": "3b0357d2",
   "metadata": {},
   "source": [
    "#### 파일을 쓰기 모드로 열어 출력값 적기"
   ]
  },
  {
   "cell_type": "code",
   "execution_count": 10,
   "id": "14a34f1e",
   "metadata": {},
   "outputs": [],
   "source": [
    "f = open(\"./test.txt\", 'w')\n",
    "for i in range(1, 11):\n",
    "    data = \"It is line %d.\\n\" % i\n",
    "    f.write(data)\n",
    "f.close()"
   ]
  },
  {
   "cell_type": "markdown",
   "id": "6abe2abb",
   "metadata": {},
   "source": [
    "#### 프로그램의 외부에 저장된 파일을 읽는 여러 가지 방법\n",
    "1. readline() 함수 이용하기\n",
    "    - readline() 함수는 파일을 한 줄씩 읽어들이는 함수이다.\n",
    "    - readline()은 더 이상 읽을 줄이 없을 경우 빈 문자열을 리턴한다."
   ]
  },
  {
   "cell_type": "code",
   "execution_count": 13,
   "id": "828eef70",
   "metadata": {},
   "outputs": [
    {
     "name": "stdout",
     "output_type": "stream",
     "text": [
      "It is line 1.\n",
      "\n",
      "\n",
      "It is line 1.\n",
      "\n",
      "It is line 2.\n",
      "\n",
      "It is line 3.\n",
      "\n",
      "It is line 4.\n",
      "\n",
      "It is line 5.\n",
      "\n",
      "It is line 6.\n",
      "\n",
      "It is line 7.\n",
      "\n",
      "It is line 8.\n",
      "\n",
      "It is line 9.\n",
      "\n",
      "It is line 10.\n",
      "\n"
     ]
    }
   ],
   "source": [
    "f = open(\"./test.txt\", 'r')\n",
    "line = f.readline()\n",
    "print(line)\n",
    "f.close()\n",
    "print()\n",
    "\n",
    "f = open(\"./test.txt\", 'r')\n",
    "while True:\n",
    "    line = f.readline()\n",
    "    if not line:\n",
    "        break\n",
    "    print(line)\n",
    "f.close()"
   ]
  },
  {
   "cell_type": "markdown",
   "id": "06435553",
   "metadata": {},
   "source": [
    "2. readlines() 함수 사용하기\n",
    "    - readlines() 함수는 파일의 모든 줄을 읽어서 각각의 줄을 요소로 갖는 리스트를 리턴한다."
   ]
  },
  {
   "cell_type": "code",
   "execution_count": 14,
   "id": "1ae8a698",
   "metadata": {},
   "outputs": [
    {
     "name": "stdout",
     "output_type": "stream",
     "text": [
      "It is line 1.\n",
      "\n",
      "It is line 2.\n",
      "\n",
      "It is line 3.\n",
      "\n",
      "It is line 4.\n",
      "\n",
      "It is line 5.\n",
      "\n",
      "It is line 6.\n",
      "\n",
      "It is line 7.\n",
      "\n",
      "It is line 8.\n",
      "\n",
      "It is line 9.\n",
      "\n",
      "It is line 10.\n",
      "\n"
     ]
    }
   ],
   "source": [
    "f = open(\"./test.txt\", 'r')\n",
    "lines = f.readlines()\n",
    "for line in lines:\n",
    "    print(line)\n",
    "f.close()"
   ]
  },
  {
   "cell_type": "markdown",
   "id": "bcb467fe",
   "metadata": {},
   "source": [
    "3. read() 함수 사용하기\n",
    "    - read() 함수는 파일의 내용 전체를 문자열 형태로 리턴한다."
   ]
  },
  {
   "cell_type": "code",
   "execution_count": 16,
   "id": "80e03ad1",
   "metadata": {},
   "outputs": [
    {
     "name": "stdout",
     "output_type": "stream",
     "text": [
      "It is line 1.\n",
      "It is line 2.\n",
      "It is line 3.\n",
      "It is line 4.\n",
      "It is line 5.\n",
      "It is line 6.\n",
      "It is line 7.\n",
      "It is line 8.\n",
      "It is line 9.\n",
      "It is line 10.\n",
      "\n"
     ]
    }
   ],
   "source": [
    "f = open('./test.txt', 'r')\n",
    "data = f.read()\n",
    "print(data)\n",
    "f.close()"
   ]
  },
  {
   "cell_type": "markdown",
   "id": "1a78d849",
   "metadata": {},
   "source": [
    "#### 파일에 새로운 내용 추가하기\n",
    "- 원래 있던 값을 유지하면서 단지 새로운 값만 추가할 때에는 추가 모드('a')로 파일을 열면 된다."
   ]
  },
  {
   "cell_type": "code",
   "execution_count": 17,
   "id": "56f61974",
   "metadata": {},
   "outputs": [],
   "source": [
    "f = open('./test.txt', 'a')\n",
    "for i in range(11, 21):\n",
    "    data = \"It is line %d\\n\" % i\n",
    "    f.write(data)\n",
    "f.close()"
   ]
  },
  {
   "cell_type": "markdown",
   "id": "222a8da5",
   "metadata": {},
   "source": [
    "#### with문과 함께 사용하기\n",
    "- 파이썬의 with문은 파일을 열고 닫는 것을 자동으로 처리해준다."
   ]
  },
  {
   "cell_type": "code",
   "execution_count": 18,
   "id": "6312424f",
   "metadata": {},
   "outputs": [],
   "source": [
    "with open(\"./test.txt\", 'a') as f:\n",
    "    for i in range(21, 31):\n",
    "        data = \"It is line %d\\n\" % i\n",
    "        f.write(data)"
   ]
  },
  {
   "cell_type": "markdown",
   "id": "431b7e53",
   "metadata": {},
   "source": [
    "# 2021/05/07\n",
    "## CH 5. 파이썬 날개달기 \n",
    "### 5.1 클래스\n",
    "#### 클래스는 왜 필요한가?\n",
    "#### 클래스와 객체\n",
    "- 클래스란 똑같은 무엇인가를 계속해서 만들어 낼 수 있는 설계 도면이고, 객체란 클래스로 만든 피조물을 뜻한다.\n",
    "- 동일한 클래스로 만든 객체들은 객체마다 고유한 성격을 가지기 때문에 서로에게 전혀 영향을 주지 않는다.\n",
    "- 객체는 클래스로 만들며, 1개의 클래스는 무수히 많은 객체를 만들어 낼 수 있다.\n",
    "- __객체와 인스턴스의 차이__\n",
    "    - 클래스로 만든 객체를 인스턴스라고도 하는데, `a = Cookie()`로 만든 a는 객체이고 a 객체는 Cookie의 인스턴스이다.\n",
    "    - 인스턴스라는 말은 특정 객체(a)가 어떤 클래스(Cookie)의 객체인지를 관계 위주로 설명할 때 사용한다.\n",
    "    - 따라서 말로 표현할 때 'a는 객체이고, a는 Cookie의 인스턴스'라고 표현하는 것이 자연스럽다.\n",
    "\n",
    "#### 사칙연산 클래스 만들기\n",
    "- __클래스를 어떻게 만들지 먼저 구상하기__\n",
    "- __클래스 구조 만들기__\n",
    "- __객체에 숫자 지정할 수 있게 만들기__\n",
    "  - 클래스 안에 구현된 함수는 다른 말고 메서드(Method)라고 부른다.\n",
    "1. __setdata 메서드의 매개변수__\n",
    "    - 메서드의 첫 번째 매개변수 self는 특별한 의미를 가진다.\n",
    "    - setdata 메서드의 첫 번째 매개변수 self.에는 setdata 메서드를 호출한 객체가 자동으로 전달된다.\n",
    "    - 메서드의 첫번째 매개변수 이름은 관례적으로 self를 사용한다.\n",
    "    - 객체호출한 객체 자신이 전달되기 때문에 self를 사용한 것이다."
   ]
  },
  {
   "cell_type": "code",
   "execution_count": 5,
   "id": "b8fd2348",
   "metadata": {},
   "outputs": [],
   "source": [
    "class FourCal:\n",
    "    def setdata(self, first, second):\n",
    "        self.first = first\n",
    "        self.second = second\n",
    "    \n",
    "    def add(self):\n",
    "        return self.first + self.second\n",
    "\n",
    "    def mul(self):\n",
    "        return self.first * self.second\n",
    "\n",
    "    def sub(self):\n",
    "        return self.first - self.second\n",
    "\n",
    "    def div(self):\n",
    "        if self.second != 0:\n",
    "            return self.first / self.second\n",
    "        return None    "
   ]
  },
  {
   "cell_type": "markdown",
   "id": "83e86c3f",
   "metadata": {},
   "source": [
    "2. __setdata 메서드의 수행문__\n",
    "    - 객체에 생성되는 객체만의 변수를 객체변수라고 부른다.\n",
    "    - 아래를 보면, a 객체의 first 값은 b 객체의 first 값에 영향받지 않고 원래 값을 유지하고 있음을 확인할 수 있다.\n",
    "    - 클래스로 만든 객체의 객체변수는 다른 객체의 객체변수에 상관없이 독립적인 값을 유지한다.\n",
    "    - id 함수를 사용하면 객체변수가 독립적인 값을 유지한다는 점을 좀 더 명확하게 증명해 보일 수 있다."
   ]
  },
  {
   "cell_type": "code",
   "execution_count": 9,
   "id": "6e1c7a7b",
   "metadata": {},
   "outputs": [
    {
     "name": "stdout",
     "output_type": "stream",
     "text": [
      "4 3\n",
      "140708234371568\n",
      "140708234371536\n"
     ]
    }
   ],
   "source": [
    "a = FourCal()\n",
    "a.setdata(4, 2) # 객체를 통해 클래스의 메서드를 호출하려면 도트(.) 연산자를 사용해야 한다.\n",
    "b = FourCal()\n",
    "b.setdata(3, 7)\n",
    "print(a.first, b.first)\n",
    "print(id(a.first))\n",
    "print(id(b.first))"
   ]
  },
  {
   "cell_type": "code",
   "execution_count": 10,
   "id": "4d6d2dbb",
   "metadata": {},
   "outputs": [
    {
     "name": "stdout",
     "output_type": "stream",
     "text": [
      "6 8 2 2.0\n",
      "10 21 -4 0.42857142857142855\n"
     ]
    }
   ],
   "source": [
    "print(a.add(), a.mul(), a.sub(), a.div())\n",
    "print(b.add(), b.mul(), b.sub(), b.div())"
   ]
  },
  {
   "cell_type": "markdown",
   "id": "66c3cb3c",
   "metadata": {},
   "source": [
    "# 2021/05/11\n",
    "#### 생성자(Constructor)\n",
    "- 생성자는 객체가 생성될 때 자동으로 호출되는 메서드이다.\n",
    "- 객체에 초깃값을 설정해야 할 필요가 있을 때는 생성자를 구현하는 것이 좋다."
   ]
  },
  {
   "cell_type": "code",
   "execution_count": 1,
   "id": "f5eaaeee",
   "metadata": {},
   "outputs": [],
   "source": [
    "class FourCal:\n",
    "    def __init__(self, first, second):\n",
    "        self.first = first\n",
    "        self.second = second\n",
    "        \n",
    "    def setdata(self, first, second):\n",
    "        self.first = first\n",
    "        self.second = second\n",
    "    \n",
    "    def add(self):\n",
    "        return self.first + self.second\n",
    "\n",
    "    def mul(self):\n",
    "        return self.first * self.second\n",
    "\n",
    "    def sub(self):\n",
    "        return self.first - self.second\n",
    "\n",
    "    def div(self):\n",
    "        if self.second != 0:\n",
    "            return self.first / self.second\n",
    "        return None    "
   ]
  },
  {
   "cell_type": "code",
   "execution_count": 3,
   "id": "41a17bf8",
   "metadata": {},
   "outputs": [
    {
     "name": "stdout",
     "output_type": "stream",
     "text": [
      "4 2\n",
      "6\n"
     ]
    }
   ],
   "source": [
    "a = FourCal(4, 2) # 초기화해야 할 값을 함께 전달하여 객체를 생성한다.\n",
    "print(a.first, a.second)\n",
    "print(a.add())"
   ]
  },
  {
   "cell_type": "markdown",
   "id": "f42f605a",
   "metadata": {},
   "source": [
    "#### 클래스의 상속\n",
    "- 어떤 클래스를 만들 때 다른 클래스의 기능을 물려받을 수 있게 만들 수 있다.\n",
    "- 클래스를 상속하기 위해서는 클래스 이름 뒤 괄호 안에 상속할 클래스 이름을 넣어주면 된다.\n",
    "- 클래스가 상속되면, 상속한 클래스의 모든 메서드들을 사용할 수 있다.\n",
    "- 기존의 존재하는 클래스가 라이브러리 형태로 제공되거나 수정이 허용되지 않는 상황일 때 상속을 주로 사용한다."
   ]
  },
  {
   "cell_type": "code",
   "execution_count": 7,
   "id": "a0cbb136",
   "metadata": {},
   "outputs": [],
   "source": [
    "class MoreFourCal(FourCal):\n",
    "    def pow(self):\n",
    "        return self.first ** self.second"
   ]
  },
  {
   "cell_type": "code",
   "execution_count": 8,
   "id": "e41d8507",
   "metadata": {},
   "outputs": [
    {
     "name": "stdout",
     "output_type": "stream",
     "text": [
      "7 1 12 1.3333333333333333\n",
      "64\n"
     ]
    }
   ],
   "source": [
    "a = MoreFourCal(4, 3)\n",
    "print(a.add(), a.sub(), a.mul(), a.div()) # 상속한 클래스의 메서드 실행\n",
    "print(a.pow())                            # 새롭게 작성한 클래스의 메서드 실행"
   ]
  },
  {
   "cell_type": "markdown",
   "id": "bc9a258e",
   "metadata": {},
   "source": [
    "#### 메서드 오버라이딩(Overriding, 덮어쓰기)\n",
    "- 부모 클래스에 있는 메서드를 동일한 이름으로 다시 만드는 것을 메서드 오버라이딩이라고 한다.\n",
    "- 메서드를 오버라이딩하면 부모클래스의 메서드 대신 오버라이딩한 메서드가 호출된다."
   ]
  },
  {
   "cell_type": "code",
   "execution_count": 9,
   "id": "b880a72c",
   "metadata": {},
   "outputs": [],
   "source": [
    "class SafeFourCal(FourCal):\n",
    "    def div(self):\n",
    "        if self.second == 0:\n",
    "            return 0\n",
    "        else:\n",
    "            return self.first / self.second"
   ]
  },
  {
   "cell_type": "code",
   "execution_count": 11,
   "id": "5c7457fe",
   "metadata": {},
   "outputs": [
    {
     "name": "stdout",
     "output_type": "stream",
     "text": [
      "0\n"
     ]
    }
   ],
   "source": [
    "a = SafeFourCal(4, 0)\n",
    "print(a.div())"
   ]
  },
  {
   "cell_type": "markdown",
   "id": "52dc721f",
   "metadata": {},
   "source": [
    "#### 클래스 변수\n",
    "- 클래스 변수는 클래스 안에 변수를 선언하여 생성한다.\n",
    "- 클래스 변수는 클래스로 만든 모든 객체가 서로 공유한다는 특징이 있다."
   ]
  },
  {
   "cell_type": "code",
   "execution_count": 17,
   "id": "f6066715",
   "metadata": {},
   "outputs": [],
   "source": [
    "class Family:\n",
    "    lastname = \"Kim\""
   ]
  },
  {
   "cell_type": "code",
   "execution_count": 18,
   "id": "99efb92e",
   "metadata": {},
   "outputs": [
    {
     "name": "stdout",
     "output_type": "stream",
     "text": [
      "Kim Kim\n",
      "Park Park\n"
     ]
    }
   ],
   "source": [
    "a = Family()\n",
    "b = Family()\n",
    "print(a.lastname, b.lastname)\n",
    "\n",
    "Family.lastname = \"Park\"      # 클래스 변수를 변경하면\n",
    "print(a.lastname, b.lastname) # 모든 객체의 클래스 변수가 변경된다."
   ]
  },
  {
   "cell_type": "markdown",
   "id": "ce324c3f",
   "metadata": {},
   "source": [
    "- id()를 사용하여 클래스 변수에 대한 주소값을 확인해보면, 클래스 변수를 공유한다는 것을 알 수 있다."
   ]
  },
  {
   "cell_type": "code",
   "execution_count": 19,
   "id": "bee555e8",
   "metadata": {},
   "outputs": [
    {
     "name": "stdout",
     "output_type": "stream",
     "text": [
      "2293357094512 2293357094512 2293357094512\n"
     ]
    }
   ],
   "source": [
    "print(id(Family.lastname), id(a.lastname), id(b.lastname))"
   ]
  },
  {
   "cell_type": "markdown",
   "id": "a7b5c149",
   "metadata": {},
   "source": [
    "### 5.2 모듈\n",
    "- 모듈이란 함수나 변수 또는 클래스를 모아 놓은 파일이다.\n",
    "#### 모듈 만들기\n",
    "- 파이썬 확장자 .py로 만든 파이썬 파일은 모두 모듈이다.\n",
    "#### 모듈 불러오기\n",
    "- `import` 명령어를 사용하여 파일을 불러오면 된다.\n",
    "- `import`는 이미 만들어 놓은 파이썬 모듈을 사용할 수 있게 해주는 명령어이다.\n",
    "- 실수로 `.py`까지 붙여서 입력하지 않도록 주의한다.\n",
    "- `from 모듈 이름 import 모듈 함수`를 사용하면 함수를 호출할 때 \"모듈 이름.모듈 함수\"로 호출할 필요없이 함수 이름만 사용하여 호출할 수 있다."
   ]
  },
  {
   "cell_type": "code",
   "execution_count": null,
   "id": "26e5e5d5",
   "metadata": {},
   "outputs": [],
   "source": [
    "# import mod1\n",
    "# from mod1 import mul\n",
    "\n",
    "# mod1.add(2, 3)\n",
    "# mul(2, 3)"
   ]
  },
  {
   "cell_type": "markdown",
   "id": "32167322",
   "metadata": {},
   "source": [
    "# 2021/05/17"
   ]
  },
  {
   "cell_type": "code",
   "execution_count": null,
   "id": "fe30bbdd",
   "metadata": {},
   "outputs": [],
   "source": [
    "# from mod1 import add, sub ## 콤마로 구분하여 필요한 함수를 여러 개 불러올 수 있다.\n",
    "# from mod1 import *        ## 정규 표현식에서 * 문자는 \"모든 것\"이라는 뜻이다."
   ]
  },
  {
   "cell_type": "markdown",
   "id": "a0aae731",
   "metadata": {},
   "source": [
    "#### if __name__ == \"__main__\": 의 의미\n",
    "- if __name__ == \"__main__\"을 사용하면 해당 파일을 직접 실행했을 때 __name__ == \"__main__\"이 참이 되어 if문 다음 문장만 수행된다.\n",
    "- 반대로 대화형 인터프리터나 다른 파일에서 이 모듈을 불러서 사용할 때는 __name__ == \"__main__\"이 거짓이 되어 if문 다음 문장이 수행되지 않는다.\n",
    "\n",
    "`__name__ 변수란?`\n",
    "- __name__ 변수는 파이썬이 내부적으로 사용하는 특별한 변수이다.\n",
    "- 파이썬 모듈(.py)을 직접 실행할 경우 .py의 __name__ 변수에는 __main__ 값이 저장된다.\n",
    "- 그러나 파이썬 셸이나 다른 파이썬 모듈에서 .py를 import할 경우에는 __name__에 해당 파이썬 모듈 이름 값이 저장된다."
   ]
  },
  {
   "cell_type": "markdown",
   "id": "8fda29e7",
   "metadata": {},
   "source": [
    "#### 클래스나 변수 등을 포함한 모듈\n",
    "- 파이썬 모듈은 함수 뿐만 아니라 클래스나 변수 등을 포함할 수도 있다.\n",
    "- 이들을 사용할 때에는 함수와 동일하게 모듈 이름 뒤에 \".\"을 붙여서 사용하면 된다."
   ]
  },
  {
   "cell_type": "markdown",
   "id": "29495472",
   "metadata": {},
   "source": [
    "#### 다른 파일에서 모듈 불러오기\n",
    "- 서로 다른 파이썬 파일에서 작성한 모듈을 동일하게 import하여 사용할 수 있다."
   ]
  },
  {
   "cell_type": "markdown",
   "id": "02041d0c",
   "metadata": {},
   "source": [
    "#### [모듈을 불러오는 또 다른 방법]\n",
    "1. sys.path.append(모듈을 저장한 디렉토리) 사용하기\n",
    "    - sys 모듈은 파이썬을 설치할 때 함께 설치되는 라이브러리 모듈이다.\n",
    "    - sys 모듈을 통해 파이썬 라이브러리가 설치되어 있는 디렉토리를 확인할 수 있다.\n",
    "    - sys.path.append를 사용하여 원하는 디렉토리를 추가하면, 어느 위치에서든 원하는 파이썬 모듈을 import 하여 사용할 수 있다."
   ]
  },
  {
   "cell_type": "code",
   "execution_count": 1,
   "id": "f45bbdff",
   "metadata": {},
   "outputs": [
    {
     "output_type": "stream",
     "name": "stdout",
     "text": [
      "['g:\\\\내 드라이브\\\\2_master\\\\1_Github\\\\TIL\\\\Python', 'c:\\\\Users\\\\user\\\\.vscode\\\\extensions\\\\ms-toolsai.jupyter-2021.6.832593372\\\\pythonFiles', 'c:\\\\Users\\\\user\\\\.vscode\\\\extensions\\\\ms-toolsai.jupyter-2021.6.832593372\\\\pythonFiles', 'c:\\\\Users\\\\user\\\\.vscode\\\\extensions\\\\ms-toolsai.jupyter-2021.6.832593372\\\\pythonFiles\\\\lib\\\\python', 'D:\\\\Anaconda\\\\envs\\\\tf2.0\\\\python37.zip', 'D:\\\\Anaconda\\\\envs\\\\tf2.0\\\\DLLs', 'D:\\\\Anaconda\\\\envs\\\\tf2.0\\\\lib', 'D:\\\\Anaconda\\\\envs\\\\tf2.0', '', 'D:\\\\Anaconda\\\\envs\\\\tf2.0\\\\lib\\\\site-packages', 'D:\\\\Anaconda\\\\envs\\\\tf2.0\\\\lib\\\\site-packages\\\\win32', 'D:\\\\Anaconda\\\\envs\\\\tf2.0\\\\lib\\\\site-packages\\\\win32\\\\lib', 'D:\\\\Anaconda\\\\envs\\\\tf2.0\\\\lib\\\\site-packages\\\\Pythonwin', 'D:\\\\Anaconda\\\\envs\\\\tf2.0\\\\lib\\\\site-packages\\\\IPython\\\\extensions', 'C:\\\\Users\\\\user\\\\.ipython']\n['g:\\\\내 드라이브\\\\2_master\\\\1_Github\\\\TIL\\\\Python', 'c:\\\\Users\\\\user\\\\.vscode\\\\extensions\\\\ms-toolsai.jupyter-2021.6.832593372\\\\pythonFiles', 'c:\\\\Users\\\\user\\\\.vscode\\\\extensions\\\\ms-toolsai.jupyter-2021.6.832593372\\\\pythonFiles', 'c:\\\\Users\\\\user\\\\.vscode\\\\extensions\\\\ms-toolsai.jupyter-2021.6.832593372\\\\pythonFiles\\\\lib\\\\python', 'D:\\\\Anaconda\\\\envs\\\\tf2.0\\\\python37.zip', 'D:\\\\Anaconda\\\\envs\\\\tf2.0\\\\DLLs', 'D:\\\\Anaconda\\\\envs\\\\tf2.0\\\\lib', 'D:\\\\Anaconda\\\\envs\\\\tf2.0', '', 'D:\\\\Anaconda\\\\envs\\\\tf2.0\\\\lib\\\\site-packages', 'D:\\\\Anaconda\\\\envs\\\\tf2.0\\\\lib\\\\site-packages\\\\win32', 'D:\\\\Anaconda\\\\envs\\\\tf2.0\\\\lib\\\\site-packages\\\\win32\\\\lib', 'D:\\\\Anaconda\\\\envs\\\\tf2.0\\\\lib\\\\site-packages\\\\Pythonwin', 'D:\\\\Anaconda\\\\envs\\\\tf2.0\\\\lib\\\\site-packages\\\\IPython\\\\extensions', 'C:\\\\Users\\\\user\\\\.ipython', './TIL']\n"
     ]
    }
   ],
   "source": [
    "import sys\n",
    "\n",
    "print(sys.path)\n",
    "\n",
    "sys.path.append(\"./TIL\")\n",
    "print(sys.path)"
   ]
  },
  {
   "source": [
    "2. PYTHONPATH 환경 변수 사용하기\n",
    "    - 파이썬 환경 변수의 디렉토리를 사용할 모듈이 있는 디렉토리로 변경하면 디렉토리 이동이나 별도듸 모듈 추가 작업 없이 모듈을 불러와 사용할 수 있다."
   ],
   "cell_type": "markdown",
   "metadata": {}
  },
  {
   "cell_type": "code",
   "execution_count": null,
   "metadata": {},
   "outputs": [],
   "source": [
    "# !set PYTHONPATH=\"directory...\""
   ]
  },
  {
   "source": [
    "### 5.3 패키지\n",
    "#### 패키지란 무엇인가?\n",
    "- 패키지는 도트(.)를 사용하여 파이썬 모듈을 계층적(디렉터리 구조)으로 관리할 수 있게 해준다.\n",
    "- 어렵게 생각할 필요 없이 어떤 프로그램을 만들 때 파이썬 파일들을 적절한 디렉토리에 나누어 작성하고, 이를 적절히 import하여 사용하면 된다는 내용이다.\n",
    "#### 패키지 만들기\n",
    "- ./doit/game 폴더에 패키지를 만들기 위한 파일들을 추가하였다.\n",
    "#### 패키지 안의 함수 실행하기\n",
    "- 패키지 안의 함수를 실행하는 방법은 아래와 같이 3가지가 있다."
   ],
   "cell_type": "markdown",
   "metadata": {}
  },
  {
   "cell_type": "code",
   "execution_count": 2,
   "metadata": {},
   "outputs": [
    {
     "output_type": "stream",
     "name": "stdout",
     "text": [
      "echo\n"
     ]
    }
   ],
   "source": [
    "import doit.game.sound.echo\n",
    "\n",
    "doit.game.sound.echo.echo_test()"
   ]
  },
  {
   "cell_type": "code",
   "execution_count": 3,
   "metadata": {},
   "outputs": [
    {
     "output_type": "stream",
     "name": "stdout",
     "text": [
      "echo\n"
     ]
    }
   ],
   "source": [
    "from doit.game.sound import echo\n",
    "\n",
    "echo.echo_test()"
   ]
  },
  {
   "cell_type": "code",
   "execution_count": 5,
   "metadata": {},
   "outputs": [
    {
     "output_type": "stream",
     "name": "stdout",
     "text": [
      "echo\n"
     ]
    }
   ],
   "source": [
    "from doit.game.sound.echo import echo_test\n",
    "\n",
    "echo_test()"
   ]
  },
  {
   "source": [
    "- 그러나 아래와 같이 함수를 실행하는 것은 불가능하다.\n",
    "- import doit.game을 수행하면 game 디렉토리의 모듈 또는 game 디렉토리의 __init__.py에 정의된 함수만 참조할 수 있다."
   ],
   "cell_type": "markdown",
   "metadata": {}
  },
  {
   "cell_type": "code",
   "execution_count": 1,
   "metadata": {},
   "outputs": [
    {
     "output_type": "error",
     "ename": "AttributeError",
     "evalue": "module 'doit.game' has no attribute 'sound'",
     "traceback": [
      "\u001b[1;31m---------------------------------------------------------------------------\u001b[0m",
      "\u001b[1;31mAttributeError\u001b[0m                            Traceback (most recent call last)",
      "\u001b[1;32m<ipython-input-1-bcf97139e846>\u001b[0m in \u001b[0;36m<module>\u001b[1;34m\u001b[0m\n\u001b[0;32m      1\u001b[0m \u001b[1;32mimport\u001b[0m \u001b[0mdoit\u001b[0m\u001b[1;33m.\u001b[0m\u001b[0mgame\u001b[0m\u001b[1;33m\u001b[0m\u001b[1;33m\u001b[0m\u001b[0m\n\u001b[0;32m      2\u001b[0m \u001b[1;33m\u001b[0m\u001b[0m\n\u001b[1;32m----> 3\u001b[1;33m \u001b[0mdoit\u001b[0m\u001b[1;33m.\u001b[0m\u001b[0mgame\u001b[0m\u001b[1;33m.\u001b[0m\u001b[0msound\u001b[0m\u001b[1;33m.\u001b[0m\u001b[0mecho\u001b[0m\u001b[1;33m.\u001b[0m\u001b[0mecho_test\u001b[0m\u001b[1;33m(\u001b[0m\u001b[1;33m)\u001b[0m\u001b[1;33m\u001b[0m\u001b[1;33m\u001b[0m\u001b[0m\n\u001b[0m",
      "\u001b[1;31mAttributeError\u001b[0m: module 'doit.game' has no attribute 'sound'"
     ]
    }
   ],
   "source": [
    "import doit.game\n",
    "\n",
    "doit.game.sound.echo.echo_test()"
   ]
  },
  {
   "source": [
    "- 아래와 같이 사용하는 것도 불가능하다.\n",
    "- 도트 연산자를 사용하여 import할 때 가장 마지막 항목은 반드시 모듈 또는 패키지여야만 하기 때문이다."
   ],
   "cell_type": "markdown",
   "metadata": {}
  },
  {
   "cell_type": "code",
   "execution_count": 2,
   "metadata": {},
   "outputs": [
    {
     "output_type": "error",
     "ename": "ModuleNotFoundError",
     "evalue": "No module named 'doit.game.sound.echo.echo_test'; 'doit.game.sound.echo' is not a package",
     "traceback": [
      "\u001b[1;31m---------------------------------------------------------------------------\u001b[0m",
      "\u001b[1;31mModuleNotFoundError\u001b[0m                       Traceback (most recent call last)",
      "\u001b[1;32m<ipython-input-2-af76f81c4083>\u001b[0m in \u001b[0;36m<module>\u001b[1;34m\u001b[0m\n\u001b[1;32m----> 1\u001b[1;33m \u001b[1;32mimport\u001b[0m \u001b[0mdoit\u001b[0m\u001b[1;33m.\u001b[0m\u001b[0mgame\u001b[0m\u001b[1;33m.\u001b[0m\u001b[0msound\u001b[0m\u001b[1;33m.\u001b[0m\u001b[0mecho\u001b[0m\u001b[1;33m.\u001b[0m\u001b[0mecho_test\u001b[0m\u001b[1;33m\u001b[0m\u001b[1;33m\u001b[0m\u001b[0m\n\u001b[0m",
      "\u001b[1;31mModuleNotFoundError\u001b[0m: No module named 'doit.game.sound.echo.echo_test'; 'doit.game.sound.echo' is not a package"
     ]
    }
   ],
   "source": [
    "import doit.game.sound.echo.echo_test"
   ]
  },
  {
   "source": [
    "#### \\__init__.py의 용도\n",
    "- __init__.py 파일은 해당 디렉토리가 패키지의 일부임을 알려주는 역할을 한다.\n",
    "- 그러나 python3.3 버전부터는 해당 파일이 없어도 패키지로 인식된다고 한다."
   ],
   "cell_type": "markdown",
   "metadata": {}
  }
 ],
 "metadata": {
  "kernelspec": {
   "name": "python379jvsc74a57bd0b7dea5568a8011761eb94fc783bf0961f4238ecb1b6b3a02e938e0ea93593243",
   "display_name": "Python 3.7.9 64-bit ('tf2.0': conda)"
  },
  "language_info": {
   "codemirror_mode": {
    "name": "ipython",
    "version": 3
   },
   "file_extension": ".py",
   "mimetype": "text/x-python",
   "name": "python",
   "nbconvert_exporter": "python",
   "pygments_lexer": "ipython3",
   "version": "3.7.9"
  },
  "metadata": {
   "interpreter": {
    "hash": "f0ae4c3309fa795e37237bddd975c48eb3258e30ed256b4db790c5387737a83e"
   }
  }
 },
 "nbformat": 4,
 "nbformat_minor": 5
}