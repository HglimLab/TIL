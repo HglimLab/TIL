{
 "cells": [
  {
   "cell_type": "markdown",
   "id": "f7f42fc8",
   "metadata": {},
   "source": [
    "# 2021/04/15\n",
    "- 딥러닝 연구실에서 다양한 프로그래밍 연구를 하고 있는데 한번도 프로그래밍 책을 완독한 적이 없었던 것 같다.\n",
    "- 평소에 구글링을 통해 필요한 내용을 그 때마다 찾아가며 코드를 작성하였지만, 좀 더 체계적으로 머릿속에 파이썬이 정리되어 있으면 훨씬 효율적일 것 같다는 생각을 항상 해왔다.\n",
    "- 그래서 오늘부터 `점프 투 파이썬`을 빠르게 훑어보며 파이썬에서 새롭게 배우거나 유용한 내용만 간략하게 요약하여 기록하고 필요할 때마다 찾아보려고 한다."
   ]
  },
  {
   "cell_type": "markdown",
   "id": "0ee5bb24",
   "metadata": {},
   "source": [
    "## CH 1. 파이썬이란 무엇인가?\n",
    "### 1.1 파이썬이란?\n",
    "### 1.2 파이썬의 특징\n",
    "- 파이썬은 C와의 연동성이 매우 좋다고 한다.\n",
    "- 어떤 프로그램을 만들 때 전반적인 뼈대는 파이썬으로 만들고, 빠른 실행 속도가 필요한 부분은 C로 만들어 파이썬 프로그램 안에 포함시킬 수 있어 매우 유용하다.\n",
    "- 또한 C나 C++로 만든 프로그램을 파이썬에서 사용할 수 있고, 파이썬으로 만든 프로그램 역시 C나 C++에서 사용할 수 있어 접착(glue) 언어라고도 불린다.\n",
    "\n",
    "### 1.3 파이썬으로 무엇을 할 수 있을까?\n",
    "- 파이썬의 피클(pickle)이라는 모듈은 파이썬에서 사용하는 자료를 변형 없이 그대로 파일에 저장하고 불러오는 일을 맡아 하는 모듈이다(5장에 등장한다.).\n",
    "- 연구실의 프로젝트에서 TCP/IP 통신을 할 때 피클을 사용한다는 얘기를 들었는데 정확히 무슨 역할을 하는지 잘 몰랐었다.\n",
    "- 5장에 관련 내용이 나온다고 하니 뒤에서 공부해보기로 한다.\n",
    "\n",
    "### 1.4 파이썬 설치하기\n",
    "### 1.5 파이썬 둘러보기\n",
    "### 1.6 파이썬과 에디터"
   ]
  },
  {
   "cell_type": "markdown",
   "id": "17cb7073",
   "metadata": {
    "ExecuteTime": {
     "end_time": "2021-04-16T02:28:44.887816Z",
     "start_time": "2021-04-16T02:28:44.873816Z"
    }
   },
   "source": [
    "# 2021/04/16\n",
    "## CH 2. 파이썬 프로그래밍의 기초, 자료형\n",
    "### 2.1 숫자형\n",
    "- 8진수와 16진수\n",
    "    - 8진수를 만들기 위해서는 숫자가 `0o`나 `0O`(숫자 0 + 알파벳 소문자 o 또는 대문자 O)로 시작하면 된다.\n",
    "    - 16진수를 만들기 위해서는 숫자가 `0x`로 시작하면 된다."
   ]
  },
  {
   "cell_type": "code",
   "execution_count": 4,
   "id": "dfb5cc0c",
   "metadata": {
    "ExecuteTime": {
     "end_time": "2021-04-16T02:30:25.490638Z",
     "start_time": "2021-04-16T02:30:25.471583Z"
    }
   },
   "outputs": [
    {
     "name": "stdout",
     "output_type": "stream",
     "text": [
      "127 2303\n"
     ]
    }
   ],
   "source": [
    "octal = 0o177\n",
    "hexadecimal = 0x8ff\n",
    "print(octal, hexadecimal)"
   ]
  },
  {
   "cell_type": "markdown",
   "id": "99a3f50f",
   "metadata": {},
   "source": [
    "### 2.2 문자열 자료형\n",
    "- 문자열 안에 작은따옴표나 큰따옴표를 포함시키고 싶을 때는 아래와 같은 3가지 방법을 사용할 수 있다."
   ]
  },
  {
   "cell_type": "code",
   "execution_count": 6,
   "id": "97e0b9f3",
   "metadata": {
    "ExecuteTime": {
     "end_time": "2021-04-16T02:39:13.915952Z",
     "start_time": "2021-04-16T02:39:13.904953Z"
    }
   },
   "outputs": [
    {
     "name": "stdout",
     "output_type": "stream",
     "text": [
      "Python's favorite food is perl\n",
      "\"Python is very easy.\" he says.\n",
      "Python's favorite food is perl\n",
      "\"Python is very easy.\" he says.\n"
     ]
    }
   ],
   "source": [
    "food = \"Python's favorite food is perl\"   # 1. 문자열을 큰따옴표로 둘러싸 작은따옴표를 포함시킨다.\n",
    "say = '\"Python is very easy.\" he says.'   # 2. 문자열을 작은따옴표로 둘러싸 큰따옴표를 포함시킨다.\n",
    "print(food)\n",
    "print(say)\n",
    "food = 'Python\\'s favorite food is perl'  # 3. 백슬래시(\\)를 사용하여 작은따옴표나 큰따옴표를 포함시킨다.\n",
    "say = \"\\\"Python is very easy.\\\" he says.\"\n",
    "print(food)\n",
    "print(say)"
   ]
  },
  {
   "cell_type": "markdown",
   "id": "ec52a98d",
   "metadata": {},
   "source": [
    "- 여러 줄의 문자열을 변수에 대입하고 싶을 때는 아래와 같이 처리한다."
   ]
  },
  {
   "cell_type": "code",
   "execution_count": 13,
   "id": "96db8b02",
   "metadata": {
    "ExecuteTime": {
     "end_time": "2021-04-16T14:44:08.911403Z",
     "start_time": "2021-04-16T14:44:08.898396Z"
    }
   },
   "outputs": [
    {
     "name": "stdout",
     "output_type": "stream",
     "text": [
      "Life is too short.\n",
      "You need python.\n",
      "Life is too short.\n",
      "You need python.\n"
     ]
    }
   ],
   "source": [
    "multiline = \"Life is too short.\\nYou need python.\" # 1. 문장 사이에 이스케이프 코드 \\n을 삽입한다.\n",
    "print(multiline)\n",
    "# 2. 작은따옴표 3개나 큰따옴표 3개를 입력하는 방법도 있다.\n",
    "multiline = '''Life is too short.\n",
    "You need python.'''\n",
    "print(multiline)"
   ]
  },
  {
   "cell_type": "markdown",
   "id": "6545a1e9",
   "metadata": {},
   "source": [
    "- 추가적으로, 자주 사용되는 이스케이프 코드를 정리하면 아래와 같다.\n",
    "    - \\n: 문자열 안에서 줄을 바꿀 때 사용\n",
    "    - \\t: 문자열 사이에 탭 간격을 줄 때 사용\n",
    "    - \\\\\\\\: 문자 \\를 그대로 표현할 때 사용\n",
    "    - \\\\': 작은따옴표(')를 그대로 표현할 때 사용\n",
    "    - \\\\\": 큰따옴표(\")를 그대로 표현할 때 사용"
   ]
  },
  {
   "cell_type": "markdown",
   "id": "54f88586",
   "metadata": {},
   "source": [
    "- 파이썬에서는 문자열 연산(덧셈 및 곱셈)이 가능하다."
   ]
  },
  {
   "cell_type": "code",
   "execution_count": 14,
   "id": "c66fe1d3",
   "metadata": {
    "ExecuteTime": {
     "end_time": "2021-04-16T14:49:51.918430Z",
     "start_time": "2021-04-16T14:49:51.912431Z"
    }
   },
   "outputs": [
    {
     "name": "stdout",
     "output_type": "stream",
     "text": [
      "==================================================\n",
      "MyPython\n",
      "==================================================\n"
     ]
    }
   ],
   "source": [
    "print(\"=\" * 50)\n",
    "print(\"My\" + \"Python\")\n",
    "print(\"=\" * 50)"
   ]
  },
  {
   "cell_type": "markdown",
   "id": "44bf947a",
   "metadata": {
    "ExecuteTime": {
     "end_time": "2021-04-16T14:58:07.463656Z",
     "start_time": "2021-04-16T14:58:07.454653Z"
    }
   },
   "source": [
    "#### 문자열 인덱싱과 슬라이싱"
   ]
  },
  {
   "cell_type": "code",
   "execution_count": 16,
   "id": "99a7cb07",
   "metadata": {
    "ExecuteTime": {
     "end_time": "2021-04-16T14:59:29.885655Z",
     "start_time": "2021-04-16T14:59:29.878655Z"
    }
   },
   "outputs": [
    {
     "name": "stdout",
     "output_type": "stream",
     "text": [
      "0416\n",
      "20210416\n",
      "Rainy\n"
     ]
    }
   ],
   "source": [
    "a = \"20210416Rainy\"\n",
    "print(a[4:-5]) # -5에 해당하는 문자는 포함되지 않는다.\n",
    "print(a[:8])\n",
    "print(a[8:])"
   ]
  },
  {
   "cell_type": "markdown",
   "id": "bd013c81",
   "metadata": {},
   "source": [
    "- 문자열의 값을 변경할 때 아래와 같이 작성하면 에러가 발생한다.\n",
    "- 문자열 자료형은 문자열 내의 요소를 인덱싱으로 변경할 수 없기 때문이다.\n",
    "- 따라서 문자열 자료형의 요소를 변경하고 싶으면 슬라이싱 방법을 사용해야 한다."
   ]
  },
  {
   "cell_type": "code",
   "execution_count": 17,
   "id": "e39a9b8f",
   "metadata": {
    "ExecuteTime": {
     "end_time": "2021-04-16T15:01:11.676997Z",
     "start_time": "2021-04-16T15:01:11.617014Z"
    }
   },
   "outputs": [
    {
     "name": "stdout",
     "output_type": "stream",
     "text": [
      "i\n"
     ]
    },
    {
     "ename": "TypeError",
     "evalue": "'str' object does not support item assignment",
     "output_type": "error",
     "traceback": [
      "\u001b[1;31m---------------------------------------------------------------------------\u001b[0m",
      "\u001b[1;31mTypeError\u001b[0m                                 Traceback (most recent call last)",
      "\u001b[1;32m<ipython-input-17-60dee05f070c>\u001b[0m in \u001b[0;36m<module>\u001b[1;34m\u001b[0m\n\u001b[0;32m      1\u001b[0m \u001b[0ma\u001b[0m \u001b[1;33m=\u001b[0m \u001b[1;34m\"Pithon\"\u001b[0m\u001b[1;33m\u001b[0m\u001b[1;33m\u001b[0m\u001b[0m\n\u001b[0;32m      2\u001b[0m \u001b[0mprint\u001b[0m\u001b[1;33m(\u001b[0m\u001b[0ma\u001b[0m\u001b[1;33m[\u001b[0m\u001b[1;36m1\u001b[0m\u001b[1;33m]\u001b[0m\u001b[1;33m)\u001b[0m\u001b[1;33m\u001b[0m\u001b[1;33m\u001b[0m\u001b[0m\n\u001b[1;32m----> 3\u001b[1;33m \u001b[0ma\u001b[0m\u001b[1;33m[\u001b[0m\u001b[1;36m1\u001b[0m\u001b[1;33m]\u001b[0m \u001b[1;33m=\u001b[0m \u001b[1;34m'y'\u001b[0m\u001b[1;33m\u001b[0m\u001b[1;33m\u001b[0m\u001b[0m\n\u001b[0m",
      "\u001b[1;31mTypeError\u001b[0m: 'str' object does not support item assignment"
     ]
    }
   ],
   "source": [
    "a = \"Pithon\"\n",
    "print(a[1])\n",
    "a[1] = 'y'"
   ]
  },
  {
   "cell_type": "code",
   "execution_count": 18,
   "id": "8db8acea",
   "metadata": {
    "ExecuteTime": {
     "end_time": "2021-04-16T15:03:11.377127Z",
     "start_time": "2021-04-16T15:03:11.369153Z"
    }
   },
   "outputs": [
    {
     "name": "stdout",
     "output_type": "stream",
     "text": [
      "Python\n"
     ]
    }
   ],
   "source": [
    "a = a[:1] + 'y' + a[2:]\n",
    "print(a)"
   ]
  },
  {
   "cell_type": "markdown",
   "id": "5ce8b5bc",
   "metadata": {},
   "source": [
    "#### 문자열 포매팅\n",
    "- format 함수를 사용한 포매팅"
   ]
  },
  {
   "cell_type": "code",
   "execution_count": 26,
   "id": "c6da3468",
   "metadata": {
    "ExecuteTime": {
     "end_time": "2021-04-16T15:13:21.719221Z",
     "start_time": "2021-04-16T15:13:21.703250Z"
    }
   },
   "outputs": [
    {
     "name": "stdout",
     "output_type": "stream",
     "text": [
      "I ate 10 apples, so I was sick for three days\n",
      "hi        \n",
      "        hi\n",
      "    hi    \n",
      "====hi====\n",
      "3.4213\n",
      "    3.4213\n",
      "{ and }\n"
     ]
    }
   ],
   "source": [
    "number = 10\n",
    "day = \"three\"\n",
    "print(\"I ate {} apples, so I was sick for {} days\".format(number, day))\n",
    "\n",
    "# 왼쪽 정렬\n",
    "print(\"{:<10}\".format(\"hi\"))\n",
    "\n",
    "# 오른쪽 정렬\n",
    "print(\"{:>10}\".format(\"hi\"))\n",
    "\n",
    "# 가운데 정렬\n",
    "print(\"{:^10}\".format(\"hi\"))\n",
    "\n",
    "# 공백 채우기\n",
    "print(\"{:=^10}\".format(\"hi\"))\n",
    "\n",
    "# 소수점 표현하기\n",
    "y = 3.42134234\n",
    "print(\"{:0.4f}\".format(y))\n",
    "print(\"{:10.4f}\".format(y)) # 자릿수를 10으로 맞추기\n",
    "\n",
    "# { 또는 } 문자 표현하기\n",
    "print(\"{{ and }}\".format()) # 연속해서 2번 쓰면 사용 가능"
   ]
  },
  {
   "cell_type": "markdown",
   "id": "db2c10b5",
   "metadata": {
    "ExecuteTime": {
     "end_time": "2021-04-16T15:15:19.945660Z",
     "start_time": "2021-04-16T15:15:19.930661Z"
    }
   },
   "source": [
    "- f 문자열 포매팅\n",
    "    - 문자열 앞에 f 접두사를 붙이면 f 문자열 포매팅 기능을 사용할 수 있다.\n",
    "    - 기본적인 사용법은 format 함수를 사용하는 법과 동일하다."
   ]
  },
  {
   "cell_type": "markdown",
   "id": "065f0cd4",
   "metadata": {},
   "source": [
    "# 2021/04/19\n",
    "#### 문자열 관련 함수들\n",
    "- 문자 개수 세기(count)"
   ]
  },
  {
   "cell_type": "code",
   "execution_count": 3,
   "id": "4ec65d4e",
   "metadata": {
    "ExecuteTime": {
     "end_time": "2021-04-19T08:31:51.104414Z",
     "start_time": "2021-04-19T08:31:51.092414Z"
    }
   },
   "outputs": [
    {
     "data": {
      "text/plain": [
       "2"
      ]
     },
     "execution_count": 3,
     "metadata": {},
     "output_type": "execute_result"
    }
   ],
   "source": [
    "a = \"hobby\"\n",
    "a.count('b')"
   ]
  },
  {
   "cell_type": "markdown",
   "id": "8e7946de",
   "metadata": {},
   "source": [
    "- 위치 알려주기(find, index)"
   ]
  },
  {
   "cell_type": "code",
   "execution_count": 7,
   "id": "81a38c2f",
   "metadata": {
    "ExecuteTime": {
     "end_time": "2021-04-19T08:35:53.040408Z",
     "start_time": "2021-04-19T08:35:53.030410Z"
    }
   },
   "outputs": [
    {
     "name": "stdout",
     "output_type": "stream",
     "text": [
      "14\n",
      "-1\n",
      "8\n"
     ]
    },
    {
     "ename": "ValueError",
     "evalue": "substring not found",
     "output_type": "error",
     "traceback": [
      "\u001b[1;31m---------------------------------------------------------------------------\u001b[0m",
      "\u001b[1;31mValueError\u001b[0m                                Traceback (most recent call last)",
      "\u001b[1;32m<ipython-input-7-35e4f8f93eeb>\u001b[0m in \u001b[0;36m<module>\u001b[1;34m\u001b[0m\n\u001b[0;32m      7\u001b[0m \u001b[0ma\u001b[0m \u001b[1;33m=\u001b[0m \u001b[1;34m\"Life is too short\"\u001b[0m\u001b[1;33m\u001b[0m\u001b[1;33m\u001b[0m\u001b[0m\n\u001b[0;32m      8\u001b[0m \u001b[0mprint\u001b[0m\u001b[1;33m(\u001b[0m\u001b[0ma\u001b[0m\u001b[1;33m.\u001b[0m\u001b[0mindex\u001b[0m\u001b[1;33m(\u001b[0m\u001b[1;34m't'\u001b[0m\u001b[1;33m)\u001b[0m\u001b[1;33m)\u001b[0m\u001b[1;33m\u001b[0m\u001b[1;33m\u001b[0m\u001b[0m\n\u001b[1;32m----> 9\u001b[1;33m \u001b[0mprint\u001b[0m\u001b[1;33m(\u001b[0m\u001b[0ma\u001b[0m\u001b[1;33m.\u001b[0m\u001b[0mindex\u001b[0m\u001b[1;33m(\u001b[0m\u001b[1;34m'k'\u001b[0m\u001b[1;33m)\u001b[0m\u001b[1;33m)\u001b[0m\u001b[1;33m\u001b[0m\u001b[1;33m\u001b[0m\u001b[0m\n\u001b[0m",
      "\u001b[1;31mValueError\u001b[0m: substring not found"
     ]
    }
   ],
   "source": [
    "## find()\n",
    "a = \"Python is the best choice\"\n",
    "print(a.find('b')) # 찾는 문자가 처음 나온 인덱스 리턴\n",
    "print(a.find('k')) # 존재하지 않는 문자이면 -1 리턴\n",
    "\n",
    "## index()\n",
    "a = \"Life is too short\"\n",
    "print(a.index('t'))\n",
    "print(a.index('k')) # index() 함수의 경우 존재하지 않는 문자이면 에러 발생"
   ]
  },
  {
   "cell_type": "markdown",
   "id": "f5da7fbb",
   "metadata": {},
   "source": [
    "- 문자열 삽입(join)"
   ]
  },
  {
   "cell_type": "code",
   "execution_count": 9,
   "id": "c984701b",
   "metadata": {
    "ExecuteTime": {
     "end_time": "2021-04-19T08:37:35.636558Z",
     "start_time": "2021-04-19T08:37:35.631591Z"
    }
   },
   "outputs": [
    {
     "name": "stdout",
     "output_type": "stream",
     "text": [
      "a,b,c,d\n",
      "a b c d\n"
     ]
    }
   ],
   "source": [
    "print(\",\".join('abcd'))\n",
    "print(\" \".join(['a', 'b', 'c', 'd'])) # 리스트나 튜플에 대해서도 사용 가능"
   ]
  },
  {
   "cell_type": "markdown",
   "id": "5849d9e5",
   "metadata": {},
   "source": [
    "- 소문자 <-> 대문자 바꾸기(upper, lower)"
   ]
  },
  {
   "cell_type": "code",
   "execution_count": 10,
   "id": "a0709b28",
   "metadata": {
    "ExecuteTime": {
     "end_time": "2021-04-19T08:39:04.858586Z",
     "start_time": "2021-04-19T08:39:04.846586Z"
    }
   },
   "outputs": [
    {
     "name": "stdout",
     "output_type": "stream",
     "text": [
      "HI\n",
      "hi\n"
     ]
    }
   ],
   "source": [
    "a = \"hi\"\n",
    "print(a.upper())\n",
    "a = \"HI\"\n",
    "print(a.lower())"
   ]
  },
  {
   "cell_type": "markdown",
   "id": "95c6c340",
   "metadata": {},
   "source": [
    "- 공백 지우기(lstrip, rstrip, strip)"
   ]
  },
  {
   "cell_type": "code",
   "execution_count": 16,
   "id": "6a022599",
   "metadata": {
    "ExecuteTime": {
     "end_time": "2021-04-19T08:49:33.413824Z",
     "start_time": "2021-04-19T08:49:33.400645Z"
    }
   },
   "outputs": [
    {
     "name": "stdout",
     "output_type": "stream",
     "text": [
      "hi \n",
      " hi\n",
      "hi\n"
     ]
    }
   ],
   "source": [
    "a = \" hi \"\n",
    "print(a.lstrip()) # 왼쪽 공백 지우기\n",
    "print(a.rstrip()) # 오른쪽 공백 지우기\n",
    "print(a.strip())  # 양쪽 공백 지우기"
   ]
  },
  {
   "cell_type": "markdown",
   "id": "516e234b",
   "metadata": {},
   "source": [
    "- 문자열 바꾸기(replace)"
   ]
  },
  {
   "cell_type": "code",
   "execution_count": 12,
   "id": "64f22bcf",
   "metadata": {
    "ExecuteTime": {
     "end_time": "2021-04-19T08:43:36.303801Z",
     "start_time": "2021-04-19T08:43:36.296800Z"
    }
   },
   "outputs": [
    {
     "name": "stdout",
     "output_type": "stream",
     "text": [
      "Your leg is too short\n"
     ]
    }
   ],
   "source": [
    "a = \"Life is too short\"\n",
    "print(a.replace(\"Life\", \"Your leg\"))"
   ]
  },
  {
   "cell_type": "markdown",
   "id": "61edb0dd",
   "metadata": {},
   "source": [
    "- 문자열 나누기(split)"
   ]
  },
  {
   "cell_type": "code",
   "execution_count": 14,
   "id": "4cd13925",
   "metadata": {
    "ExecuteTime": {
     "end_time": "2021-04-19T08:45:47.861704Z",
     "start_time": "2021-04-19T08:45:47.855704Z"
    },
    "scrolled": true
   },
   "outputs": [
    {
     "name": "stdout",
     "output_type": "stream",
     "text": [
      "['Life', 'is', 'too', 'short']\n",
      "['a', 'b', 'c', 'd']\n"
     ]
    }
   ],
   "source": [
    "a = \"Life is too short\"\n",
    "print(a.split())    # 공백을 기준으로 나누기\n",
    "b = \"a:b:c:d\"\n",
    "print(b.split(':')) # 입력한 문자를 기준으로 나누기"
   ]
  },
  {
   "cell_type": "markdown",
   "id": "1b3340a2",
   "metadata": {},
   "source": [
    "### 2.3 리스트 자료형"
   ]
  },
  {
   "cell_type": "markdown",
   "id": "621b5f36",
   "metadata": {},
   "source": [
    "#### 리스트는 어떻게 만들고 사용할까?"
   ]
  },
  {
   "cell_type": "code",
   "execution_count": 19,
   "id": "748d8f9c",
   "metadata": {
    "ExecuteTime": {
     "end_time": "2021-04-19T08:56:12.966406Z",
     "start_time": "2021-04-19T08:56:12.950408Z"
    }
   },
   "outputs": [
    {
     "name": "stdout",
     "output_type": "stream",
     "text": [
      "[1, 3, 5, 7, 9]\n",
      "[1, 2, ['Life', 'is']]\n",
      "[]\n"
     ]
    }
   ],
   "source": [
    "odd = [1, 3, 5, 7, 9]\n",
    "example = [1, 2, ['Life', 'is']]\n",
    "a = list()\n",
    "print(odd)\n",
    "print(example)\n",
    "print(a)"
   ]
  },
  {
   "cell_type": "markdown",
   "id": "31f0cc50",
   "metadata": {},
   "source": [
    "#### 리스트의 인덱싱과 슬라이싱\n",
    "- 리스트의 인덱싱"
   ]
  },
  {
   "cell_type": "code",
   "execution_count": 21,
   "id": "a11c2a98",
   "metadata": {
    "ExecuteTime": {
     "end_time": "2021-04-19T08:59:51.042280Z",
     "start_time": "2021-04-19T08:59:51.028280Z"
    },
    "scrolled": true
   },
   "outputs": [
    {
     "name": "stdout",
     "output_type": "stream",
     "text": [
      "2\n",
      "[['Life', 'is'], 'a', 'b']\n",
      "[['Life', 'is'], 'a', 'b']\n",
      "b\n",
      "['Life', 'is']\n",
      "is\n"
     ]
    }
   ],
   "source": [
    "a = [1, 2, 3, [['Life', 'is'], 'a', 'b']]\n",
    "print(a[1])\n",
    "print(a[3])\n",
    "print(a[-1])\n",
    "print(a[-1][-1])\n",
    "print(a[-1][0])\n",
    "print(a[-1][0][1])"
   ]
  },
  {
   "cell_type": "markdown",
   "id": "d95cff01",
   "metadata": {},
   "source": [
    "- 리스트의 슬라이싱"
   ]
  },
  {
   "cell_type": "code",
   "execution_count": 22,
   "id": "4341b547",
   "metadata": {
    "ExecuteTime": {
     "end_time": "2021-04-19T09:07:40.463792Z",
     "start_time": "2021-04-19T09:07:40.450791Z"
    }
   },
   "outputs": [
    {
     "name": "stdout",
     "output_type": "stream",
     "text": [
      "[3, ['a', 'b', 'c'], 4]\n",
      "['b', 'c']\n"
     ]
    }
   ],
   "source": [
    "a = [1, 2, 3, ['a', 'b', 'c'], 4, 5]\n",
    "print(a[2:-1])\n",
    "print(a[3][1:])"
   ]
  },
  {
   "cell_type": "markdown",
   "id": "27da7d85",
   "metadata": {},
   "source": [
    "#### 리스트 연산하기\n",
    "- 리스트 더하기(+) 및 반복하기(*)"
   ]
  },
  {
   "cell_type": "code",
   "execution_count": 24,
   "id": "5b3ea0ca",
   "metadata": {
    "ExecuteTime": {
     "end_time": "2021-04-19T09:11:39.523022Z",
     "start_time": "2021-04-19T09:11:39.512023Z"
    }
   },
   "outputs": [
    {
     "name": "stdout",
     "output_type": "stream",
     "text": [
      "[1, 2, 3, 4, 5, 6]\n",
      "[1, 2, 3, 1, 2, 3, 1, 2, 3]\n"
     ]
    }
   ],
   "source": [
    "a = [1, 2, 3]\n",
    "b = [4, 5, 6]\n",
    "print(a + b)\n",
    "print(a * 3)"
   ]
  },
  {
   "cell_type": "markdown",
   "id": "02a89a1c",
   "metadata": {},
   "source": [
    "- 리스트 길이 구하기"
   ]
  },
  {
   "cell_type": "code",
   "execution_count": 25,
   "id": "f5009558",
   "metadata": {
    "ExecuteTime": {
     "end_time": "2021-04-19T09:12:22.486084Z",
     "start_time": "2021-04-19T09:12:22.479084Z"
    }
   },
   "outputs": [
    {
     "name": "stdout",
     "output_type": "stream",
     "text": [
      "3\n"
     ]
    }
   ],
   "source": [
    "a = [1, 2, 3]\n",
    "print(len(a))"
   ]
  },
  {
   "cell_type": "markdown",
   "id": "356b04d4",
   "metadata": {},
   "source": [
    "- 문자열과 더하기"
   ]
  },
  {
   "cell_type": "code",
   "execution_count": 26,
   "id": "1475dff9",
   "metadata": {
    "ExecuteTime": {
     "end_time": "2021-04-19T09:13:29.679081Z",
     "start_time": "2021-04-19T09:13:29.671078Z"
    }
   },
   "outputs": [
    {
     "ename": "TypeError",
     "evalue": "unsupported operand type(s) for +: 'int' and 'str'",
     "output_type": "error",
     "traceback": [
      "\u001b[1;31m---------------------------------------------------------------------------\u001b[0m",
      "\u001b[1;31mTypeError\u001b[0m                                 Traceback (most recent call last)",
      "\u001b[1;32m<ipython-input-26-6012387c82e6>\u001b[0m in \u001b[0;36m<module>\u001b[1;34m\u001b[0m\n\u001b[0;32m      1\u001b[0m \u001b[0ma\u001b[0m \u001b[1;33m=\u001b[0m \u001b[1;33m[\u001b[0m\u001b[1;36m1\u001b[0m\u001b[1;33m,\u001b[0m \u001b[1;36m2\u001b[0m\u001b[1;33m,\u001b[0m \u001b[1;36m3\u001b[0m\u001b[1;33m]\u001b[0m\u001b[1;33m\u001b[0m\u001b[1;33m\u001b[0m\u001b[0m\n\u001b[1;32m----> 2\u001b[1;33m \u001b[0mprint\u001b[0m\u001b[1;33m(\u001b[0m\u001b[0ma\u001b[0m\u001b[1;33m[\u001b[0m\u001b[1;36m2\u001b[0m\u001b[1;33m]\u001b[0m \u001b[1;33m+\u001b[0m \u001b[1;34m\"hi\"\u001b[0m\u001b[1;33m)\u001b[0m \u001b[1;31m# 에러 발생\u001b[0m\u001b[1;33m\u001b[0m\u001b[1;33m\u001b[0m\u001b[0m\n\u001b[0m",
      "\u001b[1;31mTypeError\u001b[0m: unsupported operand type(s) for +: 'int' and 'str'"
     ]
    }
   ],
   "source": [
    "a = [1, 2, 3]\n",
    "print(a[2] + \"hi\") # 에러 발생"
   ]
  },
  {
   "cell_type": "code",
   "execution_count": 27,
   "id": "9e0b7d46",
   "metadata": {
    "ExecuteTime": {
     "end_time": "2021-04-19T09:13:51.214480Z",
     "start_time": "2021-04-19T09:13:51.200481Z"
    }
   },
   "outputs": [
    {
     "data": {
      "text/plain": [
       "'3hi'"
      ]
     },
     "execution_count": 27,
     "metadata": {},
     "output_type": "execute_result"
    }
   ],
   "source": [
    "str(a[2]) + 'hi'"
   ]
  },
  {
   "cell_type": "markdown",
   "id": "a17b2e12",
   "metadata": {},
   "source": [
    "#### 리스트의 수정과 삭제\n",
    "- 리스트에서 값 수정하기"
   ]
  },
  {
   "cell_type": "code",
   "execution_count": 28,
   "id": "841983c8",
   "metadata": {
    "ExecuteTime": {
     "end_time": "2021-04-19T09:15:14.976985Z",
     "start_time": "2021-04-19T09:15:14.964985Z"
    }
   },
   "outputs": [
    {
     "name": "stdout",
     "output_type": "stream",
     "text": [
      "[1, 2, 3]\n",
      "[1, 2, 4]\n"
     ]
    }
   ],
   "source": [
    "a = [1, 2, 3]\n",
    "print(a)\n",
    "a[2] = 4\n",
    "print(a)"
   ]
  },
  {
   "cell_type": "markdown",
   "id": "3a0da88e",
   "metadata": {
    "ExecuteTime": {
     "end_time": "2021-04-19T09:15:32.797835Z",
     "start_time": "2021-04-19T09:15:32.786862Z"
    }
   },
   "source": [
    "- del 함수 사용해 리스트 요소 삭제하기\n",
    "    - del 함수는 파이썬 내장 삭제 함수이다.\n",
    "    - 아래와 같이 리스트 뿐만 아니라 어떤 객체도 올 수 있다.\n",
    "    ``` python\n",
    "    del 객체\n",
    "    ```"
   ]
  },
  {
   "cell_type": "code",
   "execution_count": 31,
   "id": "07391d7b",
   "metadata": {
    "ExecuteTime": {
     "end_time": "2021-04-19T09:24:22.586110Z",
     "start_time": "2021-04-19T09:24:22.580109Z"
    }
   },
   "outputs": [
    {
     "name": "stdout",
     "output_type": "stream",
     "text": [
      "[1]\n"
     ]
    }
   ],
   "source": [
    "a = [1, 2, 3]\n",
    "del a[1:]\n",
    "print(a)"
   ]
  },
  {
   "cell_type": "markdown",
   "id": "2414f7a7",
   "metadata": {
    "ExecuteTime": {
     "end_time": "2021-04-19T09:24:38.288562Z",
     "start_time": "2021-04-19T09:24:38.284562Z"
    }
   },
   "source": [
    "#### 리스트 관련 함수들\n",
    "- 리스트에 요소 추가(append)"
   ]
  },
  {
   "cell_type": "code",
   "execution_count": 34,
   "id": "af674784",
   "metadata": {
    "ExecuteTime": {
     "end_time": "2021-04-19T09:25:22.219315Z",
     "start_time": "2021-04-19T09:25:22.216290Z"
    }
   },
   "outputs": [
    {
     "name": "stdout",
     "output_type": "stream",
     "text": [
      "[1, 2, 3, [5, 6]]\n"
     ]
    }
   ],
   "source": [
    "a = [1, 2, 3]\n",
    "a.append([5, 6])\n",
    "print(a)"
   ]
  },
  {
   "cell_type": "markdown",
   "id": "f6dc3382",
   "metadata": {
    "ExecuteTime": {
     "end_time": "2021-04-19T09:26:00.665138Z",
     "start_time": "2021-04-19T09:26:00.656138Z"
    }
   },
   "source": [
    "- 리스트 정렬(sort)"
   ]
  },
  {
   "cell_type": "code",
   "execution_count": 37,
   "id": "d71f9afd",
   "metadata": {
    "ExecuteTime": {
     "end_time": "2021-04-19T09:27:38.679386Z",
     "start_time": "2021-04-19T09:27:38.674385Z"
    }
   },
   "outputs": [
    {
     "name": "stdout",
     "output_type": "stream",
     "text": [
      "[1, 2, 3, 4]\n",
      "['a', 'b', 'c']\n"
     ]
    }
   ],
   "source": [
    "a = [1, 4, 3, 2]\n",
    "a.sort()\n",
    "print(a)\n",
    "a = ['a', 'c', 'b']\n",
    "a.sort()\n",
    "print(a)"
   ]
  },
  {
   "cell_type": "markdown",
   "id": "651abe1c",
   "metadata": {},
   "source": [
    "- 리스트 뒤집기(reverse)"
   ]
  },
  {
   "cell_type": "code",
   "execution_count": 38,
   "id": "518f715b",
   "metadata": {
    "ExecuteTime": {
     "end_time": "2021-04-19T09:28:54.896516Z",
     "start_time": "2021-04-19T09:28:54.879547Z"
    }
   },
   "outputs": [
    {
     "name": "stdout",
     "output_type": "stream",
     "text": [
      "['b', 'c', 'a']\n"
     ]
    }
   ],
   "source": [
    "a = ['a', 'c', 'b']\n",
    "a.reverse()\n",
    "print(a)"
   ]
  },
  {
   "cell_type": "markdown",
   "id": "a67785b0",
   "metadata": {},
   "source": [
    "- 위치 반환(index)"
   ]
  },
  {
   "cell_type": "code",
   "execution_count": 39,
   "id": "caea8daf",
   "metadata": {
    "ExecuteTime": {
     "end_time": "2021-04-19T09:29:33.265767Z",
     "start_time": "2021-04-19T09:29:33.259737Z"
    }
   },
   "outputs": [
    {
     "name": "stdout",
     "output_type": "stream",
     "text": [
      "1\n"
     ]
    }
   ],
   "source": [
    "a = ['a', 'c', 'b']\n",
    "print(a.index('c'))"
   ]
  },
  {
   "cell_type": "markdown",
   "id": "11775c56",
   "metadata": {},
   "source": [
    "- 리스트에 요소 삽입(insert)"
   ]
  },
  {
   "cell_type": "code",
   "execution_count": 41,
   "id": "eb6997e7",
   "metadata": {
    "ExecuteTime": {
     "end_time": "2021-04-19T09:30:36.415232Z",
     "start_time": "2021-04-19T09:30:36.399232Z"
    }
   },
   "outputs": [
    {
     "name": "stdout",
     "output_type": "stream",
     "text": [
      "[4, 1, 2, 5, 3]\n"
     ]
    }
   ],
   "source": [
    "a = [1, 2, 3]\n",
    "a.insert(0, 4)\n",
    "a.insert(3, 5)\n",
    "print(a)"
   ]
  },
  {
   "cell_type": "markdown",
   "id": "e431d562",
   "metadata": {},
   "source": [
    "- 리스트 요소 제거(remove)"
   ]
  },
  {
   "cell_type": "code",
   "execution_count": 42,
   "id": "6c80d2dd",
   "metadata": {
    "ExecuteTime": {
     "end_time": "2021-04-19T09:31:25.203756Z",
     "start_time": "2021-04-19T09:31:25.199756Z"
    }
   },
   "outputs": [
    {
     "data": {
      "text/plain": [
       "[1, 2, 1, 2, 3]"
      ]
     },
     "execution_count": 42,
     "metadata": {},
     "output_type": "execute_result"
    }
   ],
   "source": [
    "a = [1, 2, 3, 1, 2, 3]\n",
    "a.remove(3)\n",
    "a"
   ]
  },
  {
   "cell_type": "markdown",
   "id": "8c19b6da",
   "metadata": {},
   "source": [
    "- 리스트 요소 끄집어내기(pop)"
   ]
  },
  {
   "cell_type": "code",
   "execution_count": 45,
   "id": "24dafc59",
   "metadata": {
    "ExecuteTime": {
     "end_time": "2021-04-19T09:32:33.480612Z",
     "start_time": "2021-04-19T09:32:33.463612Z"
    }
   },
   "outputs": [
    {
     "name": "stdout",
     "output_type": "stream",
     "text": [
      "3\n",
      "[1, 2]\n",
      "1\n",
      "[2, 3]\n"
     ]
    }
   ],
   "source": [
    "a = [1, 2, 3]\n",
    "print(a.pop())\n",
    "print(a)\n",
    "a = [1, 2, 3]\n",
    "print(a.pop(0))\n",
    "print(a)"
   ]
  },
  {
   "cell_type": "markdown",
   "id": "8614655f",
   "metadata": {},
   "source": [
    "- 리스트에 포함된 요소 x의 개수 세기(count)"
   ]
  },
  {
   "cell_type": "code",
   "execution_count": 46,
   "id": "accc2d88",
   "metadata": {
    "ExecuteTime": {
     "end_time": "2021-04-19T09:33:15.468280Z",
     "start_time": "2021-04-19T09:33:15.455280Z"
    }
   },
   "outputs": [
    {
     "data": {
      "text/plain": [
       "2"
      ]
     },
     "execution_count": 46,
     "metadata": {},
     "output_type": "execute_result"
    }
   ],
   "source": [
    "a = [1, 2, 3, 1]\n",
    "a.count(1)"
   ]
  },
  {
   "cell_type": "markdown",
   "id": "0a98b006",
   "metadata": {},
   "source": [
    "- 리스트 확장(extend)"
   ]
  },
  {
   "cell_type": "code",
   "execution_count": 48,
   "id": "c8c28168",
   "metadata": {
    "ExecuteTime": {
     "end_time": "2021-04-19T09:34:00.479580Z",
     "start_time": "2021-04-19T09:34:00.464611Z"
    }
   },
   "outputs": [
    {
     "name": "stdout",
     "output_type": "stream",
     "text": [
      "[1, 2, 3, 4, 5]\n",
      "[1, 2, 3, 4, 5]\n"
     ]
    }
   ],
   "source": [
    "a = [1, 2, 3]\n",
    "a.extend([4, 5])\n",
    "print(a)\n",
    "a = [1, 2, 3]\n",
    "a += [4, 5]\n",
    "print(a)"
   ]
  },
  {
   "cell_type": "markdown",
   "id": "2c2b8a7c",
   "metadata": {},
   "source": [
    "### 2.4 튜플 자료형\n",
    "#### 튜플은 어떻게 만들까?\n",
    "- 튜플은 아래의 내용을 제외하고는 리스트와 거의 비슷한 자료형이다.\n",
    "    - 튜플은 ( )으로 둘러싼다.\n",
    "    - 리스트는 값의 생성, 삭제, 수정이 가능하지만, 튜플은 값을 바꿀 수 없다.\n",
    "    - 1개의 요소만을 가질 때에는 반드시 요소 뒤에 콤마를 붙여야 한다."
   ]
  },
  {
   "cell_type": "code",
   "execution_count": 53,
   "id": "d1a2f0c4",
   "metadata": {
    "ExecuteTime": {
     "end_time": "2021-04-19T12:26:31.077216Z",
     "start_time": "2021-04-19T12:26:31.054217Z"
    }
   },
   "outputs": [
    {
     "name": "stdout",
     "output_type": "stream",
     "text": [
      "(2,)\n",
      "(1, 2, 3)\n"
     ]
    },
    {
     "ename": "TypeError",
     "evalue": "'tuple' object doesn't support item deletion",
     "output_type": "error",
     "traceback": [
      "\u001b[1;31m---------------------------------------------------------------------------\u001b[0m",
      "\u001b[1;31mTypeError\u001b[0m                                 Traceback (most recent call last)",
      "\u001b[1;32m<ipython-input-53-2316129d6cbb>\u001b[0m in \u001b[0;36m<module>\u001b[1;34m\u001b[0m\n\u001b[0;32m      3\u001b[0m \u001b[0ma\u001b[0m \u001b[1;33m=\u001b[0m \u001b[1;36m1\u001b[0m\u001b[1;33m,\u001b[0m \u001b[1;36m2\u001b[0m\u001b[1;33m,\u001b[0m \u001b[1;36m3\u001b[0m \u001b[1;31m# 괄호를 치지 않아도 튜플 생성이 가능하다.\u001b[0m\u001b[1;33m\u001b[0m\u001b[1;33m\u001b[0m\u001b[0m\n\u001b[0;32m      4\u001b[0m \u001b[0mprint\u001b[0m\u001b[1;33m(\u001b[0m\u001b[0ma\u001b[0m\u001b[1;33m)\u001b[0m\u001b[1;33m\u001b[0m\u001b[1;33m\u001b[0m\u001b[0m\n\u001b[1;32m----> 5\u001b[1;33m \u001b[1;32mdel\u001b[0m \u001b[0ma\u001b[0m\u001b[1;33m[\u001b[0m\u001b[1;36m1\u001b[0m\u001b[1;33m]\u001b[0m    \u001b[1;31m# 튜플은 값을 변경할 수 없으므로 튜플의 요소를 삭제하려고 하면 에러가 발생한다.\u001b[0m\u001b[1;33m\u001b[0m\u001b[1;33m\u001b[0m\u001b[0m\n\u001b[0m",
      "\u001b[1;31mTypeError\u001b[0m: 'tuple' object doesn't support item deletion"
     ]
    }
   ],
   "source": [
    "a = (2,)\n",
    "print(a)\n",
    "a = 1, 2, 3 # 괄호를 치지 않아도 튜플 생성이 가능하다.\n",
    "print(a)\n",
    "del a[1]    # 튜플은 값을 변경할 수 없으므로 튜플의 요소를 삭제하려고 하면 에러가 발생한다."
   ]
  },
  {
   "cell_type": "markdown",
   "id": "548114ad",
   "metadata": {},
   "source": [
    "#### 튜플 다루기\n",
    "- 인덱싱하기"
   ]
  },
  {
   "cell_type": "code",
   "execution_count": 54,
   "id": "257a7ab8",
   "metadata": {
    "ExecuteTime": {
     "end_time": "2021-04-19T12:28:06.288227Z",
     "start_time": "2021-04-19T12:28:06.276228Z"
    }
   },
   "outputs": [
    {
     "name": "stdout",
     "output_type": "stream",
     "text": [
      "1 b\n"
     ]
    }
   ],
   "source": [
    "t1 = (1, 2, 'a', 'b')\n",
    "print(t1[0], t1[3])"
   ]
  },
  {
   "cell_type": "markdown",
   "id": "3bd6ca48",
   "metadata": {},
   "source": [
    "- 슬라이싱하기"
   ]
  },
  {
   "cell_type": "code",
   "execution_count": 55,
   "id": "4638af61",
   "metadata": {
    "ExecuteTime": {
     "end_time": "2021-04-19T12:28:42.233047Z",
     "start_time": "2021-04-19T12:28:42.229050Z"
    }
   },
   "outputs": [
    {
     "name": "stdout",
     "output_type": "stream",
     "text": [
      "(2, 'a', 'b')\n"
     ]
    }
   ],
   "source": [
    "t1 = (1, 2, 'a', 'b')\n",
    "print(t1[1:])"
   ]
  },
  {
   "cell_type": "markdown",
   "id": "fde0f0ff",
   "metadata": {},
   "source": [
    "- 튜플 더하기 및 곱하기"
   ]
  },
  {
   "cell_type": "code",
   "execution_count": 57,
   "id": "8331008f",
   "metadata": {
    "ExecuteTime": {
     "end_time": "2021-04-19T12:29:29.194601Z",
     "start_time": "2021-04-19T12:29:29.177600Z"
    }
   },
   "outputs": [
    {
     "name": "stdout",
     "output_type": "stream",
     "text": [
      "(1, 2, 'a', 'b', 3, 4)\n"
     ]
    }
   ],
   "source": [
    "t1 = (1, 2, 'a', 'b')\n",
    "t2 = (3, 4)\n",
    "print(t1 + t2)"
   ]
  },
  {
   "cell_type": "markdown",
   "id": "6ea9dd85",
   "metadata": {},
   "source": [
    "- 튜플 길이 구하기"
   ]
  },
  {
   "cell_type": "code",
   "execution_count": 58,
   "id": "0f5665da",
   "metadata": {
    "ExecuteTime": {
     "end_time": "2021-04-19T12:29:52.987685Z",
     "start_time": "2021-04-19T12:29:52.970684Z"
    }
   },
   "outputs": [
    {
     "data": {
      "text/plain": [
       "4"
      ]
     },
     "execution_count": 58,
     "metadata": {},
     "output_type": "execute_result"
    }
   ],
   "source": [
    "t1 = (1, 2, 'a', 'b')\n",
    "len(t1)"
   ]
  },
  {
   "source": [
    "# 2021/04/20\n",
    "### 2.5 딕셔너리 자료형\n",
    "#### 딕셔너리란?\n",
    "- Key와 value를 한 쌍으로 가지는 자료형이다.\n",
    "#### 딕셔너리는 어떻게 만들까?\n",
    "- Key에는 변하지 않는 값을 사용하고, Value에는 변하는 값과 변하지 않는 값 모두 사용할 수 있다."
   ],
   "cell_type": "markdown",
   "metadata": {}
  },
  {
   "cell_type": "code",
   "execution_count": 5,
   "metadata": {},
   "outputs": [
    {
     "output_type": "execute_result",
     "data": {
      "text/plain": [
       "{'name': 'pey', 'birth': '1118', 'a': [1, 2, 3], 1: 'hi'}"
      ]
     },
     "metadata": {},
     "execution_count": 5
    }
   ],
   "source": [
    "dic = {'name': 'pey', 'birth': '1118', 'a': [1, 2, 3], 1: 'hi'}\n",
    "dic"
   ]
  },
  {
   "source": [
    "#### 딕셔너리 쌍 추가, 삭제하기\n",
    "- 딕셔너리 쌍 추가하기"
   ],
   "cell_type": "markdown",
   "metadata": {}
  },
  {
   "cell_type": "code",
   "execution_count": 7,
   "metadata": {},
   "outputs": [
    {
     "output_type": "execute_result",
     "data": {
      "text/plain": [
       "{1: 'a', 2: 'b', 'name': 'pey', 3: [1, 2, 3]}"
      ]
     },
     "metadata": {},
     "execution_count": 7
    }
   ],
   "source": [
    "a = {1: 'a'}\n",
    "a[2] = 'b'\n",
    "a['name'] = 'pey'\n",
    "a[3] = [1, 2, 3]\n",
    "a"
   ]
  },
  {
   "source": [
    "- 딕셔너리 요소 삭제하기"
   ],
   "cell_type": "markdown",
   "metadata": {}
  },
  {
   "cell_type": "code",
   "execution_count": 8,
   "metadata": {},
   "outputs": [
    {
     "output_type": "execute_result",
     "data": {
      "text/plain": [
       "{1: 'a', 2: 'b', 3: [1, 2, 3]}"
      ]
     },
     "metadata": {},
     "execution_count": 8
    }
   ],
   "source": [
    "del a['name']\n",
    "a"
   ]
  },
  {
   "source": [
    "#### 딕셔너리를 사용하는 방법\n",
    "- 딕셔너리에서 Key를 사용해 Value 얻기"
   ],
   "cell_type": "markdown",
   "metadata": {}
  },
  {
   "cell_type": "code",
   "execution_count": 10,
   "metadata": {},
   "outputs": [
    {
     "output_type": "stream",
     "name": "stdout",
     "text": [
      "10 99\na b\n3 4\n"
     ]
    }
   ],
   "source": [
    "grade = {'pey': 10, 'julliet': 99, 1: 'a', 2: 'b', 'a': 3, 'b': 4}\n",
    "print(grade['pey'], grade['julliet'])\n",
    "print(grade[1], grade[2])\n",
    "print(grade['a'], grade['b'])"
   ]
  },
  {
   "source": [
    "- 딕셔너리를 만들 때 주의할 사항\n",
    "  - 중복되는 key 값을 설정하면 하나를 제외한 나머지 것들은 모두 무시된다.\n",
    "  - Key로 리스트는 사용할 수 없지만, 튜플은 사용할 수 있다."
   ],
   "cell_type": "markdown",
   "metadata": {}
  },
  {
   "cell_type": "code",
   "execution_count": 13,
   "metadata": {},
   "outputs": [
    {
     "output_type": "stream",
     "name": "stdout",
     "text": [
      "b\n{1: 'b', (1, 2): 'c'}\n"
     ]
    },
    {
     "output_type": "error",
     "ename": "TypeError",
     "evalue": "unhashable type: 'list'",
     "traceback": [
      "\u001b[1;31m---------------------------------------------------------------------------\u001b[0m",
      "\u001b[1;31mTypeError\u001b[0m                                 Traceback (most recent call last)",
      "\u001b[1;32m<ipython-input-13-7c5db52f1b81>\u001b[0m in \u001b[0;36m<module>\u001b[1;34m\u001b[0m\n\u001b[0;32m      3\u001b[0m \u001b[0ma\u001b[0m\u001b[1;33m[\u001b[0m\u001b[1;33m(\u001b[0m\u001b[1;36m1\u001b[0m\u001b[1;33m,\u001b[0m \u001b[1;36m2\u001b[0m\u001b[1;33m)\u001b[0m\u001b[1;33m]\u001b[0m \u001b[1;33m=\u001b[0m \u001b[1;34m'c'\u001b[0m\u001b[1;33m\u001b[0m\u001b[1;33m\u001b[0m\u001b[0m\n\u001b[0;32m      4\u001b[0m \u001b[0mprint\u001b[0m\u001b[1;33m(\u001b[0m\u001b[0ma\u001b[0m\u001b[1;33m)\u001b[0m\u001b[1;33m\u001b[0m\u001b[1;33m\u001b[0m\u001b[0m\n\u001b[1;32m----> 5\u001b[1;33m \u001b[0ma\u001b[0m\u001b[1;33m[\u001b[0m\u001b[1;33m[\u001b[0m\u001b[1;36m1\u001b[0m\u001b[1;33m,\u001b[0m \u001b[1;36m2\u001b[0m\u001b[1;33m]\u001b[0m\u001b[1;33m]\u001b[0m \u001b[1;33m=\u001b[0m \u001b[1;34m'd'\u001b[0m\u001b[1;33m\u001b[0m\u001b[1;33m\u001b[0m\u001b[0m\n\u001b[0m",
      "\u001b[1;31mTypeError\u001b[0m: unhashable type: 'list'"
     ]
    }
   ],
   "source": [
    "a = {1: 'a', 1: 'b'}\n",
    "print(a[1])\n",
    "a[(1, 2)] = 'c'\n",
    "print(a)\n",
    "a[[1, 2]] = 'd'"
   ]
  },
  {
   "source": [
    "#### 딕셔너리 관련 함수들\n",
    "- Key 리스트 만들기(keys)): 딕셔너리의 Key만을 모아서 dict_keys 객체를 리턴한다."
   ],
   "cell_type": "markdown",
   "metadata": {}
  },
  {
   "cell_type": "code",
   "execution_count": 16,
   "metadata": {},
   "outputs": [
    {
     "output_type": "stream",
     "name": "stdout",
     "text": [
      "dict_keys(['name', 'birth', 'a', 1])\n['name', 'birth', 'a', 1]\n"
     ]
    }
   ],
   "source": [
    "a = {'name': 'pey', 'birth': '1118', 'a': [1, 2, 3], 1: 'hi'}\n",
    "print(a.keys())\n",
    "print(list(a.keys())) # 리턴값으로 리스트가 필요한 경우 list() 함수를 사용하면 된다."
   ]
  },
  {
   "cell_type": "code",
   "execution_count": 18,
   "metadata": {},
   "outputs": [
    {
     "output_type": "stream",
     "name": "stdout",
     "text": [
      "name\nbirth\na\n1\n"
     ]
    }
   ],
   "source": [
    "for k in a.keys(): # 반복문에 사용 가능하다.\n",
    "    print(k)"
   ]
  },
  {
   "source": [
    "- Value 리스트 만들기(values)"
   ],
   "cell_type": "markdown",
   "metadata": {}
  },
  {
   "source": [
    "a.values()"
   ],
   "cell_type": "code",
   "metadata": {},
   "execution_count": 20,
   "outputs": [
    {
     "output_type": "execute_result",
     "data": {
      "text/plain": [
       "dict_values(['pey', '1118', [1, 2, 3], 'hi'])"
      ]
     },
     "metadata": {},
     "execution_count": 20
    }
   ]
  },
  {
   "source": [
    "- Key, value 쌍 얻기(items)"
   ],
   "cell_type": "markdown",
   "metadata": {}
  },
  {
   "cell_type": "code",
   "execution_count": 21,
   "metadata": {},
   "outputs": [
    {
     "output_type": "execute_result",
     "data": {
      "text/plain": [
       "dict_items([('name', 'pey'), ('birth', '1118'), ('a', [1, 2, 3]), (1, 'hi')])"
      ]
     },
     "metadata": {},
     "execution_count": 21
    }
   ],
   "source": [
    "a.items()"
   ]
  },
  {
   "source": [
    "- Key: value 쌍 모두 지우기(clear)"
   ],
   "cell_type": "markdown",
   "metadata": {}
  },
  {
   "cell_type": "code",
   "execution_count": 22,
   "metadata": {},
   "outputs": [
    {
     "output_type": "execute_result",
     "data": {
      "text/plain": [
       "{}"
      ]
     },
     "metadata": {},
     "execution_count": 22
    }
   ],
   "source": [
    "a.clear()\n",
    "a"
   ]
  },
  {
   "source": [
    "- Key로 value 얻기(get)"
   ],
   "cell_type": "markdown",
   "metadata": {}
  },
  {
   "cell_type": "code",
   "execution_count": 24,
   "metadata": {},
   "outputs": [
    {
     "output_type": "stream",
     "name": "stdout",
     "text": [
      "pey\n1118\nNone\n"
     ]
    },
    {
     "output_type": "error",
     "ename": "KeyError",
     "evalue": "'nokey'",
     "traceback": [
      "\u001b[1;31m---------------------------------------------------------------------------\u001b[0m",
      "\u001b[1;31mKeyError\u001b[0m                                  Traceback (most recent call last)",
      "\u001b[1;32m<ipython-input-24-5937e0aa0709>\u001b[0m in \u001b[0;36m<module>\u001b[1;34m\u001b[0m\n\u001b[0;32m      3\u001b[0m \u001b[0mprint\u001b[0m\u001b[1;33m(\u001b[0m\u001b[0ma\u001b[0m\u001b[1;33m.\u001b[0m\u001b[0mget\u001b[0m\u001b[1;33m(\u001b[0m\u001b[1;34m'birth'\u001b[0m\u001b[1;33m)\u001b[0m\u001b[1;33m)\u001b[0m\u001b[1;33m\u001b[0m\u001b[1;33m\u001b[0m\u001b[0m\n\u001b[0;32m      4\u001b[0m \u001b[0mprint\u001b[0m\u001b[1;33m(\u001b[0m\u001b[0ma\u001b[0m\u001b[1;33m.\u001b[0m\u001b[0mget\u001b[0m\u001b[1;33m(\u001b[0m\u001b[1;34m'nokey'\u001b[0m\u001b[1;33m)\u001b[0m\u001b[1;33m)\u001b[0m \u001b[1;31m# 존재하지 않는 키로 값을 가져오려고 할 때 get() 함수는 None을 리턴하지만,\u001b[0m\u001b[1;33m\u001b[0m\u001b[1;33m\u001b[0m\u001b[0m\n\u001b[1;32m----> 5\u001b[1;33m \u001b[0mprint\u001b[0m\u001b[1;33m(\u001b[0m\u001b[0ma\u001b[0m\u001b[1;33m[\u001b[0m\u001b[1;34m'nokey'\u001b[0m\u001b[1;33m]\u001b[0m\u001b[1;33m)\u001b[0m     \u001b[1;31m# 바로 Key로 접근할 경우 에러가 발생한다.\u001b[0m\u001b[1;33m\u001b[0m\u001b[1;33m\u001b[0m\u001b[0m\n\u001b[0m",
      "\u001b[1;31mKeyError\u001b[0m: 'nokey'"
     ]
    }
   ],
   "source": [
    "a = {'name': 'pey', 'birth': '1118', 'a': [1, 2, 3], 1: 'hi'}\n",
    "print(a.get('name'))\n",
    "print(a.get('birth'))\n",
    "print(a.get('nokey')) # 존재하지 않는 키로 값을 가져오려고 할 때 get() 함수는 None을 리턴하지만,\n",
    "print(a['nokey'])     # 바로 Key로 접근할 경우 에러가 발생한다."
   ]
  },
  {
   "cell_type": "code",
   "execution_count": 25,
   "metadata": {},
   "outputs": [
    {
     "output_type": "execute_result",
     "data": {
      "text/plain": [
       "'bar'"
      ]
     },
     "metadata": {},
     "execution_count": 25
    }
   ],
   "source": [
    "a.get('foo', 'bar') # 찾으려는 key 값이 없을 경우 디폴트 값을 리턴하도록 할 수도 있다."
   ]
  },
  {
   "source": [
    "- 해당 key가 딕셔너리 안에 있는지 조사하기(in)"
   ],
   "cell_type": "markdown",
   "metadata": {}
  },
  {
   "cell_type": "code",
   "execution_count": 27,
   "metadata": {},
   "outputs": [
    {
     "output_type": "stream",
     "name": "stdout",
     "text": [
      "True\nFalse\n"
     ]
    }
   ],
   "source": [
    "a = {'name': 'pey', 'birth': '1118', 'a': [1, 2, 3], 1: 'hi'}\n",
    "print('name' in a)\n",
    "print('email' in a)"
   ]
  },
  {
   "source": [
    "### 2.6 집합 자료형\n",
    "#### 집합 자료형은 어떻게 만들까?\n",
    "- 집합(set)은 집합에 관련된 것을 쉽게 처리하기 위해 만든 자료형이다."
   ],
   "cell_type": "markdown",
   "metadata": {}
  },
  {
   "source": [
    "s1 = set([1, 2, 3])\r\n",
    "print(s1)\r\n",
    "s2 = set(\"Hello\")\r\n",
    "print(s2)\r\n",
    "s3 = set()\r\n",
    "print(s3)"
   ],
   "cell_type": "code",
   "metadata": {},
   "execution_count": null,
   "outputs": []
  },
  {
   "source": [
    "#### 집합 자료형의 특징\n",
    "- 중복을 허용하지 않는다. -> 자료형의 중복을 제거하기 위한 필터로도 사용된다.\n",
    "- 순서가 없으므로(Unordered) 인덱싱할 수 없다. -> 인덱싱으로 접근하고 싶으면 리스트나 튜플로 변환하면 된다."
   ],
   "cell_type": "markdown",
   "metadata": {}
  },
  {
   "source": [
    "#### 교집합, 합집합, 차집합 구하기"
   ],
   "cell_type": "markdown",
   "metadata": {}
  },
  {
   "cell_type": "code",
   "execution_count": 30,
   "metadata": {},
   "outputs": [],
   "source": [
    "s1 = set([1, 2, 3, 4, 5, 6])\n",
    "s2 = set([4, 5, 6, 7, 8, 9])"
   ]
  },
  {
   "source": [
    "1. 교집합: '&' 연산자 또는 intersection() 함수 사용"
   ],
   "cell_type": "markdown",
   "metadata": {}
  },
  {
   "cell_type": "code",
   "execution_count": 32,
   "metadata": {},
   "outputs": [
    {
     "output_type": "stream",
     "name": "stdout",
     "text": [
      "{4, 5, 6}\n{4, 5, 6}\n"
     ]
    }
   ],
   "source": [
    "print(s1 & s2)\n",
    "print(s1.intersection(s2))"
   ]
  },
  {
   "source": [
    "2. 합집합: '|' 연산자 또는 union() 함수 사용"
   ],
   "cell_type": "markdown",
   "metadata": {}
  },
  {
   "source": [
    "print(s1 | s2)\n",
    "print(s2.union(s1))"
   ],
   "cell_type": "code",
   "metadata": {},
   "execution_count": 34,
   "outputs": [
    {
     "output_type": "stream",
     "name": "stdout",
     "text": [
      "{1, 2, 3, 4, 5, 6, 7, 8, 9}\n{1, 2, 3, 4, 5, 6, 7, 8, 9}\n"
     ]
    }
   ]
  },
  {
   "source": [
    "3. 차집합: '-' 연산자 또는 difference() 함수 사용"
   ],
   "cell_type": "markdown",
   "metadata": {}
  },
  {
   "cell_type": "code",
   "execution_count": 35,
   "metadata": {},
   "outputs": [
    {
     "output_type": "stream",
     "name": "stdout",
     "text": [
      "{1, 2, 3}\n{8, 9, 7}\n{1, 2, 3}\n{8, 9, 7}\n"
     ]
    }
   ],
   "source": [
    "print(s1 - s2)\n",
    "print(s2 - s1)\n",
    "print(s1.difference(s2))\n",
    "print(s2.difference(s1))"
   ]
  },
  {
   "source": [
    "#### 집합 자료형 관련 함수들\n",
    "- 값 1개 추가하기(add)"
   ],
   "cell_type": "markdown",
   "metadata": {}
  },
  {
   "source": [
    "s1 = set([1, 2, 3])\n",
    "s1.add(4)\n",
    "s1"
   ],
   "cell_type": "code",
   "metadata": {},
   "execution_count": 38,
   "outputs": [
    {
     "output_type": "execute_result",
     "data": {
      "text/plain": [
       "{1, 2, 3, 4}"
      ]
     },
     "metadata": {},
     "execution_count": 38
    }
   ]
  },
  {
   "source": [
    "- 값 여러 개 추가하기(update)"
   ],
   "cell_type": "markdown",
   "metadata": {}
  },
  {
   "cell_type": "code",
   "execution_count": 40,
   "metadata": {},
   "outputs": [
    {
     "output_type": "execute_result",
     "data": {
      "text/plain": [
       "{1, 2, 3, 4, 5, 6}"
      ]
     },
     "metadata": {},
     "execution_count": 40
    }
   ],
   "source": [
    "s1 = set([1, 2, 3])\n",
    "s1.update([4, 5, 6])\n",
    "s1"
   ]
  },
  {
   "source": [
    "- 특정 값 제거하기(remove)"
   ],
   "cell_type": "markdown",
   "metadata": {}
  },
  {
   "source": [
    "s1 = set([1, 2, 3])\n",
    "s1.remove(2)\n",
    "s1"
   ],
   "cell_type": "code",
   "metadata": {},
   "execution_count": 42,
   "outputs": [
    {
     "output_type": "execute_result",
     "data": {
      "text/plain": [
       "{1, 3}"
      ]
     },
     "metadata": {},
     "execution_count": 42
    }
   ]
  },
  {
   "source": [
    "### 2.7 불 자료형\n",
    "#### 불(Bool) 자료형이란?\n",
    "- 참(True)과 거짓(False)을 나타내는 자료형이다."
   ],
   "cell_type": "markdown",
   "metadata": {}
  },
  {
   "cell_type": "code",
   "execution_count": 43,
   "metadata": {},
   "outputs": [
    {
     "output_type": "stream",
     "name": "stdout",
     "text": [
      "<class 'bool'>\nTrue\n"
     ]
    }
   ],
   "source": [
    "a = True\n",
    "b = True\n",
    "print(type(a))\n",
    "print(b)"
   ]
  },
  {
   "source": [
    "- 불 자료형은 조건문의 리턴값으로도 사용된다."
   ],
   "cell_type": "markdown",
   "metadata": {}
  },
  {
   "cell_type": "code",
   "execution_count": 45,
   "metadata": {},
   "outputs": [
    {
     "output_type": "stream",
     "name": "stdout",
     "text": [
      "True\nFalse\n"
     ]
    }
   ],
   "source": [
    "print(1 == 1)\n",
    "print(2 < 1)"
   ]
  },
  {
   "source": [
    "#### 자료형의 참과 거짓\n",
    "- 문자열, 리스트, 튜플, 딕셔너리 등의 값이 비어 있으면 False가 된다.\n",
    "- 숫자 0, None도 False를 뜻한다."
   ],
   "cell_type": "markdown",
   "metadata": {}
  },
  {
   "cell_type": "code",
   "execution_count": 48,
   "metadata": {},
   "outputs": [
    {
     "output_type": "stream",
     "name": "stdout",
     "text": [
      "4\n3\n2\n1\n"
     ]
    }
   ],
   "source": [
    "a = [1, 2, 3, 4]\n",
    "while a:            # a가 빈 리스트가 될 때까지 반복문이 동작한다.\n",
    "    print(a.pop())"
   ]
  },
  {
   "source": [
    "#### 불 연산\n",
    "- bool 내장 함수를 사용하면 자료형의 참과 거짓을 식별할 수 있다."
   ],
   "cell_type": "markdown",
   "metadata": {}
  },
  {
   "cell_type": "code",
   "execution_count": 49,
   "metadata": {},
   "outputs": [
    {
     "output_type": "stream",
     "name": "stdout",
     "text": [
      "True\nFalse\n"
     ]
    }
   ],
   "source": [
    "print(bool('python'))\n",
    "print(bool(''))"
   ]
  },
  {
   "source": [
    "### 2.8 자료형의 값을 저장하는 공간, 변수\n",
    "#### 변수는 어떻게 만들까?\n",
    "- 파이썬은 변수에 저장된 값을 스스로 판단하여 자료형을 지정하기 때문에 C나 JAVA보다 편리하다."
   ],
   "cell_type": "markdown",
   "metadata": {}
  },
  {
   "source": [
    "#### 변수란?\n",
    "- 파이썬에서 사용하는 변수는 객체를 가리키는 것이라고도 말할 수 있다.\n",
    "- 리스트 자료형을 선언하면 자동으로 메모리에 변수가 생성되고 변수는 해당 리스트가 저장된 메모리의 주소를 가리킨다.\n",
    "- 변수가 가리키는 메모리의 주소는 id() 함수를 사용하여 확인할 수 있다."
   ],
   "cell_type": "markdown",
   "metadata": {}
  },
  {
   "cell_type": "code",
   "execution_count": 50,
   "metadata": {},
   "outputs": [
    {
     "output_type": "execute_result",
     "data": {
      "text/plain": [
       "1543516371200"
      ]
     },
     "metadata": {},
     "execution_count": 50
    }
   ],
   "source": [
    "a = [1, 2, 3]\n",
    "id(a)"
   ]
  },
  {
   "source": [
    "#### 리스트를 복사하고자 할 때\n",
    "- 아래와 같이 b에 a를 대입하면 b는 a와 완전히 동일한 것이 되지만, 여기서 동일하다는 것의 의미는 a와 b가 가리키는 메모리의 주소가 동일하다는 의미이다.\n",
    "- 따라서 이렇게 할 경우 아래의 예시와 같이 a나 b중 하나의 요소값을 변경하면 두 변수가 가리키는 주소가 동일하기 때문에 두 변수의 값이 모두 변경되는 것처럼 보이게 된다."
   ],
   "cell_type": "markdown",
   "metadata": {}
  },
  {
   "cell_type": "code",
   "execution_count": 53,
   "metadata": {},
   "outputs": [
    {
     "output_type": "stream",
     "name": "stdout",
     "text": [
      "1543530919296\n1543530919296\n[1, 4, 3]\n[1, 4, 3]\n"
     ]
    }
   ],
   "source": [
    "a = [1, 2, 3]\n",
    "b = a\n",
    "print(id(a))\n",
    "print(id(b))\n",
    "a[1] = 4\n",
    "print(a)\n",
    "print(b)"
   ]
  },
  {
   "source": [
    "- 변수를 복사하여 생성할 때 기존의 변수의 값을 가져오면서 새로운 주소를 가리키도록 할 때에는 아래의 두 방법을 사용한다.\n",
    "    1. $[:]$ 이용\n",
    "    2. copy 모듈 이용"
   ],
   "cell_type": "markdown",
   "metadata": {}
  },
  {
   "cell_type": "code",
   "execution_count": 55,
   "metadata": {},
   "outputs": [
    {
     "output_type": "stream",
     "name": "stdout",
     "text": [
      "[1, 4, 3]\n[1, 2, 3]\n"
     ]
    }
   ],
   "source": [
    "a = [1, 2, 3]\n",
    "b = a[:]\n",
    "a[1] = 4\n",
    "print(a)\n",
    "print(b)"
   ]
  },
  {
   "source": [
    "from copy import copy\n",
    "b = copy(a)\n",
    "print(id(a))\n",
    "print(id(b))"
   ],
   "cell_type": "code",
   "metadata": {},
   "execution_count": 58,
   "outputs": [
    {
     "output_type": "stream",
     "name": "stdout",
     "text": [
      "1543523662464\n1543526012160\n"
     ]
    }
   ]
  },
  {
   "source": [
    "#### 변수를 만드는 여러 가지 방법"
   ],
   "cell_type": "markdown",
   "metadata": {}
  },
  {
   "cell_type": "code",
   "execution_count": 59,
   "metadata": {},
   "outputs": [],
   "source": [
    "a, b = ('python', 'life')\n",
    "(a, b) = 'python', 'life'\n",
    "[a, b] = ['python', 'life']\n",
    "a = b = 'python'"
   ]
  },
  {
   "cell_type": "code",
   "execution_count": 60,
   "metadata": {},
   "outputs": [
    {
     "output_type": "stream",
     "name": "stdout",
     "text": [
      "3 5\n5 3\n"
     ]
    }
   ],
   "source": [
    "a = 3\n",
    "b = 5\n",
    "print(a, b)\n",
    "a, b = b, a\n",
    "print(a, b)"
   ]
  },
  {
   "source": [
    "# 2021/04/27\n",
    "## CH 3. 프로그램의 구조를 쌓는다! 제어문\n",
    "### 3.1 if문\n",
    "#### if문은 왜 필요할까?"
   ],
   "cell_type": "markdown",
   "metadata": {}
  },
  {
   "cell_type": "code",
   "execution_count": 2,
   "metadata": {},
   "outputs": [
    {
     "output_type": "stream",
     "name": "stdout",
     "text": [
      "Take a taxi.\n"
     ]
    }
   ],
   "source": [
    "money = True\n",
    "if money:\n",
    "    print(\"Take a taxi.\")\n",
    "else:\n",
    "    print(\"Take a walk.\")"
   ]
  },
  {
   "source": [
    "#### if문의 기본 구조\n",
    "- else문은 if문 없이 독립적으로 사용할 수 없다.\n",
    "- 들여쓰기\n",
    "    - if문을 만들 때는 if문 바로 아래 문장부터 if문에 속하는 모든 문장에 들여쓰기(indentation)를 해주어야 한다.\n",
    "    - 들여쓰기를 할 때 공백(spacebar) 4개를 사용하는 것을 권장한다.\n",
    "- 조건문 다음에 콜론을 잊지 말자!\n",
    "\n",
    "#### 조건문이란 무엇인가?\n",
    "- 조건문이란 참과 거짓을 판단하는 문장을 말한다.\n",
    "- __비교연산자__: x < y, x > y, x == y, x != y, x >= y, x <= y"
   ],
   "cell_type": "markdown",
   "metadata": {}
  },
  {
   "source": [
    "money = 2000\n",
    "if money >= 3000:\n",
    "    print(\"Take a taxi.\")\n",
    "else:\n",
    "    print(\"Take a walk.\")"
   ],
   "cell_type": "code",
   "metadata": {},
   "execution_count": 4,
   "outputs": [
    {
     "output_type": "stream",
     "name": "stdout",
     "text": [
      "Take a walk.\n"
     ]
    }
   ]
  },
  {
   "source": [
    "- __and, or, not__: x or y, x and y, not x"
   ],
   "cell_type": "markdown",
   "metadata": {}
  },
  {
   "source": [
    "money = 2000\n",
    "card = True\n",
    "if money >= 3000 or card:\n",
    "    print(\"Take a taxi.\")\n",
    "else:\n",
    "    print(\"Take a walk.\")"
   ],
   "cell_type": "code",
   "metadata": {},
   "execution_count": 6,
   "outputs": [
    {
     "output_type": "stream",
     "name": "stdout",
     "text": [
      "Take a taxi.\n"
     ]
    }
   ]
  },
  {
   "source": [
    "- __x in s, x not in s__: x in 리스트, x in 튜플, x in 문자열"
   ],
   "cell_type": "markdown",
   "metadata": {}
  },
  {
   "cell_type": "code",
   "execution_count": 8,
   "metadata": {},
   "outputs": [
    {
     "output_type": "stream",
     "name": "stdout",
     "text": [
      "True\nFalse\nTrue\nTrue\n"
     ]
    }
   ],
   "source": [
    "print(1 in [1, 2, 3])\n",
    "print(1 not in [1, 2, 3])\n",
    "print('a' in ('a', 'b', 'c'))\n",
    "print('j' not in 'python')"
   ]
  },
  {
   "cell_type": "code",
   "execution_count": 9,
   "metadata": {},
   "outputs": [
    {
     "output_type": "stream",
     "name": "stdout",
     "text": [
      "Take a taxi.\n"
     ]
    }
   ],
   "source": [
    "pocket = ['paper', 'cellphone', 'money']\n",
    "if 'money' in pocket:\n",
    "    print(\"Take a taxi.\")\n",
    "else:\n",
    "    print(\"Take a walk.\")"
   ]
  },
  {
   "source": [
    "- __조건문에서 아무 일도 하지 않게 설정하고 싶다면?__"
   ],
   "cell_type": "markdown",
   "metadata": {}
  },
  {
   "cell_type": "code",
   "execution_count": 11,
   "metadata": {},
   "outputs": [],
   "source": [
    "pocket = ['paper', 'cellphone', 'money']\n",
    "if 'money' in pocket:\n",
    "    pass\n",
    "else:\n",
    "    print(\"Give me your card.\")"
   ]
  },
  {
   "source": [
    "#### 다양한 조건을 판단하는 elif"
   ],
   "cell_type": "markdown",
   "metadata": {}
  },
  {
   "cell_type": "code",
   "execution_count": 12,
   "metadata": {},
   "outputs": [
    {
     "output_type": "stream",
     "name": "stdout",
     "text": [
      "Take a taxi.\n"
     ]
    }
   ],
   "source": [
    "pocket = ['paper', 'cellphone']\n",
    "card = True\n",
    "if 'money' in pocket:\n",
    "    print(\"Take a taxi.\")\n",
    "elif card:\n",
    "    print(\"Take a taxi.\")\n",
    "else:\n",
    "    print(\"Take a walk.\")"
   ]
  },
  {
   "source": [
    "- __if문을 한줄로 작성하기__"
   ],
   "cell_type": "markdown",
   "metadata": {}
  },
  {
   "cell_type": "code",
   "execution_count": 14,
   "metadata": {},
   "outputs": [
    {
     "output_type": "stream",
     "name": "stdout",
     "text": [
      "Give me your card.\n"
     ]
    }
   ],
   "source": [
    "if 'money' in pocket: pass\n",
    "else: print(\"Give me your card.\")"
   ]
  },
  {
   "source": [
    "#### 조건부 표현식"
   ],
   "cell_type": "markdown",
   "metadata": {}
  },
  {
   "cell_type": "code",
   "execution_count": 16,
   "metadata": {},
   "outputs": [
    {
     "output_type": "execute_result",
     "data": {
      "text/plain": [
       "'success'"
      ]
     },
     "metadata": {},
     "execution_count": 16
    }
   ],
   "source": [
    "score = 70\n",
    "message = 'success' if score >= 60 else 'failure'\n",
    "message"
   ]
  },
  {
   "source": [
    "### 3.2 while문\n",
    "#### while문의 기본 구조\n",
    "- while문은 반복문이라고도 부른다.\n",
    "- while문은 조건문이 참인 동안에 while문 아래의 문장이 반복해서 수행된다."
   ],
   "cell_type": "markdown",
   "metadata": {}
  },
  {
   "cell_type": "code",
   "execution_count": 1,
   "metadata": {},
   "outputs": [
    {
     "output_type": "stream",
     "name": "stdout",
     "text": [
      "A tree was hit 1 time(s).\nA tree was hit 2 time(s).\nA tree was hit 3 time(s).\nA tree was hit 4 time(s).\nA tree was hit 5 time(s).\nA tree was hit 6 time(s).\nA tree was hit 7 time(s).\nA tree was hit 8 time(s).\nA tree was hit 9 time(s).\nA tree was hit 10 time(s).\nA tree is broken.\n"
     ]
    }
   ],
   "source": [
    "treeHit = 0\n",
    "while treeHit < 10:\n",
    "    treeHit += 1\n",
    "    print(\"A tree was hit %d time(s).\" % treeHit)\n",
    "    if treeHit == 10:\n",
    "        print(\"A tree is broken.\")"
   ]
  },
  {
   "source": [
    "#### while문 만들기"
   ],
   "cell_type": "markdown",
   "metadata": {}
  },
  {
   "cell_type": "code",
   "execution_count": 2,
   "metadata": {},
   "outputs": [],
   "source": [
    "prompt = \"\"\"1. Add\n",
    "2. Del\n",
    "3. List\n",
    "4. Quit\n",
    "\n",
    "Enter number: \"\"\""
   ]
  },
  {
   "cell_type": "code",
   "execution_count": 5,
   "metadata": {},
   "outputs": [
    {
     "output_type": "stream",
     "name": "stdout",
     "text": [
      "1. Add\n",
      "2. Del\n",
      "3. List\n",
      "4. Quit\n",
      "\n",
      "Enter number: \n",
      "Quit.\n"
     ]
    }
   ],
   "source": [
    "number = 0\n",
    "while number != 4:\n",
    "    print(prompt)\n",
    "    number = int(input())\n",
    "    if number == 4:\n",
    "        print(\"Quit.\")"
   ]
  },
  {
   "source": [
    "#### while문 강제로 빠져나가기\n",
    "- break문을 사용하면 while문을 강제로 멈추게 할 수 있다."
   ],
   "cell_type": "markdown",
   "metadata": {}
  },
  {
   "cell_type": "code",
   "execution_count": 6,
   "metadata": {},
   "outputs": [
    {
     "output_type": "stream",
     "name": "stdout",
     "text": [
      "Enough money. Bring a cup of coffee.\n9 cup(s) of coffee left.\nEnough money. Bring a cup of coffee.\n8 cup(s) of coffee left.\nEnough money. Bring a cup of coffee.\n7 cup(s) of coffee left.\nEnough money. Bring a cup of coffee.\n6 cup(s) of coffee left.\nEnough money. Bring a cup of coffee.\n5 cup(s) of coffee left.\nEnough money. Bring a cup of coffee.\n4 cup(s) of coffee left.\nEnough money. Bring a cup of coffee.\n3 cup(s) of coffee left.\nEnough money. Bring a cup of coffee.\n2 cup(s) of coffee left.\nEnough money. Bring a cup of coffee.\n1 cup(s) of coffee left.\nEnough money. Bring a cup of coffee.\n0 cup(s) of coffee left.\nNo more coffee left.\n"
     ]
    }
   ],
   "source": [
    "coffee = 10\n",
    "money = 300\n",
    "while money:\n",
    "    print(\"Enough money. Bring a cup of coffee.\")\n",
    "    coffee -= 1\n",
    "    print(\"%d cup(s) of coffee left.\" % coffee)\n",
    "    if coffee == 0:\n",
    "        print(\"No more coffee left.\")\n",
    "        break"
   ]
  },
  {
   "cell_type": "code",
   "execution_count": 14,
   "metadata": {},
   "outputs": [
    {
     "output_type": "stream",
     "name": "stdout",
     "text": [
      "Enough money. Bring a cup of coffee.\n",
      "4 cup(s) of coffee left.\n",
      "Enough money. Bring a cup of coffee.\n",
      "Changes: 100\n",
      "3 cup(s) of coffee left.\n",
      "Not enough money.\n",
      "3 cup(s) of coffee left.\n",
      "Enough money. Bring a cup of coffee.\n",
      "Changes: 100\n",
      "2 cup(s) of coffee left.\n",
      "Enough money. Bring a cup of coffee.\n",
      "1 cup(s) of coffee left.\n",
      "Enough money. Bring a cup of coffee.\n",
      "0 cup(s) of coffee left.\n",
      "No more coffee left.\n"
     ]
    }
   ],
   "source": [
    "coffee = 5\n",
    "while True:\n",
    "    money = int(input(\"Insert coin(s): \"))\n",
    "    if money == 300:\n",
    "        print(\"Enough money. Bring a cup of coffee.\")\n",
    "        coffee -= 1\n",
    "    elif money > 300:\n",
    "        print(\"Enough money. Bring a cup of coffee.\")\n",
    "        coffee -= 1\n",
    "        print(\"Changes: %d\" % (money - 300))\n",
    "    else:\n",
    "        print(\"Not enough money.\")\n",
    "    print(\"%d cup(s) of coffee left.\" % coffee)\n",
    "    if coffee == 0:\n",
    "        print(\"No more coffee left.\")\n",
    "        break"
   ]
  },
  {
   "source": [
    "#### while문의 맨 처음으로 돌아가기\n",
    "- while문을 빠져나가지 않고 while문의 맨 처음으로 다시 돌아가게 만들고 싶은 경우에는 continue문을 사용하면 된다."
   ],
   "cell_type": "markdown",
   "metadata": {}
  },
  {
   "cell_type": "code",
   "execution_count": 15,
   "metadata": {},
   "outputs": [
    {
     "output_type": "stream",
     "name": "stdout",
     "text": [
      "1\n3\n5\n7\n9\n"
     ]
    }
   ],
   "source": [
    "a = 0\n",
    "while a < 10:\n",
    "    a += 1\n",
    "    if a % 2 == 0: continue\n",
    "    print(a)"
   ]
  },
  {
   "source": [
    "#### 무한 루프"
   ],
   "cell_type": "markdown",
   "metadata": {}
  },
  {
   "source": [
    "while True:\n",
    "    print(\"Press Ctrl+C to quit.\")"
   ],
   "cell_type": "code",
   "metadata": {
    "tags": [
     "outputPrepend"
    ]
   },
   "execution_count": null,
   "outputs": []
  },
  {
   "source": [
    "### 3.3 for문\n",
    "#### for문의 기본 구조\n",
    "#### 예제를 통해 for문 이해하기\n",
    "1. 전형적인 for문"
   ],
   "cell_type": "markdown",
   "metadata": {}
  },
  {
   "cell_type": "code",
   "execution_count": 17,
   "metadata": {},
   "outputs": [
    {
     "output_type": "stream",
     "name": "stdout",
     "text": [
      "one\ntwo\nthree\n"
     ]
    }
   ],
   "source": [
    "test_list = ['one', 'two', 'three']\n",
    "for i in test_list:\n",
    "    print(i)"
   ]
  },
  {
   "source": [
    "2. 다양한 for문 사용"
   ],
   "cell_type": "markdown",
   "metadata": {}
  },
  {
   "cell_type": "code",
   "execution_count": 18,
   "metadata": {},
   "outputs": [
    {
     "output_type": "stream",
     "name": "stdout",
     "text": [
      "3\n7\n11\n"
     ]
    }
   ],
   "source": [
    "a = [(1, 2), (3, 4), (5, 6)]\n",
    "for (first, last) in a:\n",
    "    print(first + last)"
   ]
  },
  {
   "source": [
    "3. for문의 응용"
   ],
   "cell_type": "markdown",
   "metadata": {}
  },
  {
   "cell_type": "code",
   "execution_count": 19,
   "metadata": {},
   "outputs": [
    {
     "output_type": "stream",
     "name": "stdout",
     "text": [
      "student 1 pass the test.\nstudent 2 fail the test.\nstudent 3 pass the test.\nstudent 4 fail the test.\nstudent 5 pass the test.\n"
     ]
    }
   ],
   "source": [
    "marks = [90, 25, 67, 45, 80]\n",
    "\n",
    "number = 0\n",
    "for mark in marks:\n",
    "    number += 1\n",
    "    if mark >= 60:\n",
    "        print(\"student %d pass the test.\" % number)\n",
    "    else:\n",
    "        print(\"student %d fail the test.\" % number)"
   ]
  },
  {
   "source": [
    "#### for문과 continue\n",
    "- for문 안의 문장을 수행하는 도중에 continue문을 만나면 for문의 처음으로 돌아가게 된다."
   ],
   "cell_type": "markdown",
   "metadata": {}
  },
  {
   "cell_type": "code",
   "execution_count": 20,
   "metadata": {},
   "outputs": [
    {
     "output_type": "stream",
     "name": "stdout",
     "text": [
      "student 1 pass the test.\nstudent 3 pass the test.\nstudent 5 pass the test.\n"
     ]
    }
   ],
   "source": [
    "marks = [90, 25, 67, 45, 80]\n",
    "\n",
    "number = 0\n",
    "for mark in marks:\n",
    "    number += 1\n",
    "    if mark < 60: continue\n",
    "    print(\"student %d pass the test.\" % number)"
   ]
  },
  {
   "source": [
    "#### for문과 함께 자주 사용하는 range 함수\n",
    "- for문은 숫자 리스트를 자동으로 만들어주는 range 함수와 사용하는 경우가 많다."
   ],
   "cell_type": "markdown",
   "metadata": {}
  },
  {
   "cell_type": "code",
   "execution_count": 22,
   "metadata": {},
   "outputs": [
    {
     "output_type": "stream",
     "name": "stdout",
     "text": [
      "range(0, 10)\nrange(1, 11)\n"
     ]
    }
   ],
   "source": [
    "a = range(10) # 0부터 10 미만의 숫자를 포함하는 range 객체가 생성된다.\n",
    "print(a)\n",
    "a = range(1, 11) # 시작 숫자와 끝 숫자를 지정하려면 다음과 같이 입력한다. 여기서 끝 숫자는 포함되지 않는다.\n",
    "print(a)"
   ]
  },
  {
   "source": [
    "- __range 함수의 예시 살펴보기__"
   ],
   "cell_type": "markdown",
   "metadata": {}
  },
  {
   "cell_type": "code",
   "execution_count": 23,
   "metadata": {},
   "outputs": [
    {
     "output_type": "stream",
     "name": "stdout",
     "text": [
      "55\n"
     ]
    }
   ],
   "source": [
    "add = 0\n",
    "for i in range(1, 11):\n",
    "    add += i\n",
    "print(add)"
   ]
  },
  {
   "cell_type": "code",
   "execution_count": 24,
   "metadata": {},
   "outputs": [
    {
     "output_type": "stream",
     "name": "stdout",
     "text": [
      "student 0 pass the test.\nstudent 2 pass the test.\nstudent 4 pass the test.\n"
     ]
    }
   ],
   "source": [
    "marks = [90, 25, 67, 45, 80]\n",
    "\n",
    "for i in range(len(marks)):\n",
    "    if marks[i] < 60: continue\n",
    "    print(\"student %d pass the test.\" % i)"
   ]
  },
  {
   "source": [
    "- __for와 range를 이용한 구구단__"
   ],
   "cell_type": "markdown",
   "metadata": {}
  },
  {
   "source": [
    "for i in range(2, 10):\n",
    "    for j in range(1, 10):\n",
    "        print(\"{} * {} = {}\".format(i, j, (i * j)), end=' ')\n",
    "    print()"
   ],
   "cell_type": "code",
   "metadata": {},
   "execution_count": 32,
   "outputs": [
    {
     "output_type": "stream",
     "name": "stdout",
     "text": [
      "2 * 1 = 2 2 * 2 = 4 2 * 3 = 6 2 * 4 = 8 2 * 5 = 10 2 * 6 = 12 2 * 7 = 14 2 * 8 = 16 2 * 9 = 18 \n3 * 1 = 3 3 * 2 = 6 3 * 3 = 9 3 * 4 = 12 3 * 5 = 15 3 * 6 = 18 3 * 7 = 21 3 * 8 = 24 3 * 9 = 27 \n4 * 1 = 4 4 * 2 = 8 4 * 3 = 12 4 * 4 = 16 4 * 5 = 20 4 * 6 = 24 4 * 7 = 28 4 * 8 = 32 4 * 9 = 36 \n5 * 1 = 5 5 * 2 = 10 5 * 3 = 15 5 * 4 = 20 5 * 5 = 25 5 * 6 = 30 5 * 7 = 35 5 * 8 = 40 5 * 9 = 45 \n6 * 1 = 6 6 * 2 = 12 6 * 3 = 18 6 * 4 = 24 6 * 5 = 30 6 * 6 = 36 6 * 7 = 42 6 * 8 = 48 6 * 9 = 54 \n7 * 1 = 7 7 * 2 = 14 7 * 3 = 21 7 * 4 = 28 7 * 5 = 35 7 * 6 = 42 7 * 7 = 49 7 * 8 = 56 7 * 9 = 63 \n8 * 1 = 8 8 * 2 = 16 8 * 3 = 24 8 * 4 = 32 8 * 5 = 40 8 * 6 = 48 8 * 7 = 56 8 * 8 = 64 8 * 9 = 72 \n9 * 1 = 9 9 * 2 = 18 9 * 3 = 27 9 * 4 = 36 9 * 5 = 45 9 * 6 = 54 9 * 7 = 63 9 * 8 = 72 9 * 9 = 81 \n"
     ]
    }
   ]
  },
  {
   "source": [
    "- __매개변수 end를 넣어 준 이유는 무엇일까?__\n",
    "    - 해당 결괏값을 출력할 때 다음줄로 넘기지 않고 그 줄에 계속해서 출력하기 위해서이다."
   ],
   "cell_type": "markdown",
   "metadata": {}
  },
  {
   "source": [
    "#### 리스트 내포(List comprehension) 사용하기\n",
    "\\[표현식 for 항목1 in 반복가능객체1 if 조건문1  \n",
    "         for 항목2 in 반복가능객체2 if 조건문2  \n",
    "        ...]"
   ],
   "cell_type": "markdown",
   "metadata": {}
  },
  {
   "cell_type": "code",
   "execution_count": 35,
   "metadata": {},
   "outputs": [
    {
     "output_type": "stream",
     "name": "stdout",
     "text": [
      "[3, 6, 9, 12]\n[6, 12]\n"
     ]
    }
   ],
   "source": [
    "a = [1, 2, 3, 4]\n",
    "result = [num * 3 for num in a]\n",
    "print(result)\n",
    "result = [num * 3 for num in a if num % 2 == 0] # 조건문을 통해 원하는 값만 사용할 수도 있다.\n",
    "print(result)"
   ]
  },
  {
   "cell_type": "code",
   "execution_count": 37,
   "metadata": {},
   "outputs": [
    {
     "output_type": "stream",
     "name": "stdout",
     "text": [
      "[2, 4, 6, 8, 10, 12, 14, 16, 18, 3, 6, 9, 12, 15, 18, 21, 24, 27, 4, 8, 12, 16, 20, 24, 28, 32, 36, 5, 10, 15, 20, 25, 30, 35, 40, 45, 6, 12, 18, 24, 30, 36, 42, 48, 54, 7, 14, 21, 28, 35, 42, 49, 56, 63, 8, 16, 24, 32, 40, 48, 56, 64, 72, 9, 18, 27, 36, 45, 54, 63, 72, 81]\n"
     ]
    }
   ],
   "source": [
    "result = [x * y for x in range(2, 10)\n",
    "                    for y in range(1, 10)]\n",
    "\n",
    "print(result)"
   ]
  },
  {
   "source": [
    "# 2021/04/30\n",
    "## CH 4. 프로그램의 입력과 출력은 어떻게 해야 할까?\n",
    "### 4.1 함수\n",
    "#### 함수란 무엇인가?\n",
    "- 입력값을 가지고 어떤 일을 수행한 다음에 그 결과물을 내어놓은 것이 함수가 하는 일이다.\n",
    "#### 함수를 사용하는 이유는 무엇일까?\n",
    "- 어떤 일을 할 때 반복되는 부분이 있을 경우 \"어떤 입력값을 주었을 때 어떤 결괏값을 돌려준다\"라는 식의 함수로 작성하는 것이 현명하다.\n",
    "- 자신이 만든 프로그램을 함수화하면 프로그램 흐름을 일목요연하게 볼 수 있다.\n",
    "#### 파이썬 함수의 구조\n",
    "- `def`는 함수를 만들 때 사용하는 예약어이다.\n",
    "    ``` python\n",
    "    def 함수명(매개변수):\n",
    "        <수행할 문장1>\n",
    "        <수행할 문장2>\n",
    "    ```\n",
    "- 아래의 함수는 다음과 같이 풀이된다.  \n",
    "\"이 함수의 이름은 add이고 입력으로 2개의 값을 받으며 결괏값은 2개의 입력값을 더한 값이다.\""
   ],
   "cell_type": "markdown",
   "metadata": {}
  },
  {
   "cell_type": "code",
   "execution_count": 3,
   "metadata": {},
   "outputs": [],
   "source": [
    "def add(a, b):\n",
    "    return a + b"
   ]
  },
  {
   "cell_type": "code",
   "execution_count": 4,
   "metadata": {},
   "outputs": [
    {
     "output_type": "stream",
     "name": "stdout",
     "text": [
      "3 4 7\n"
     ]
    }
   ],
   "source": [
    "a, b = 3, 4\n",
    "c = add(a, b)\n",
    "print(a, b, c)"
   ]
  },
  {
   "source": [
    "#### 매개변수(parameter)와 인수(argument)\n",
    "- 매개변수는 함수에 입력으로 전달된 값을 받는 변수를 의미한다.\n",
    "- 인수는 함수를 호출할 때 전달하는 입력값을 의미한다."
   ],
   "cell_type": "markdown",
   "metadata": {}
  },
  {
   "cell_type": "code",
   "execution_count": 5,
   "metadata": {},
   "outputs": [],
   "source": [
    "def add(a, b):   # 여기서 a와 b는 매개변수이다.\n",
    "    return a + b\n",
    "\n",
    "a, b = 3, 4\n",
    "c = add(a, b)    # 여기서 a와 b는 인수이다."
   ]
  },
  {
   "source": [
    "- __같은 의미를 가진 여러가지 용어들에 주의하자__\n",
    "    - 공부를 하다보면 의미는 같지만 표현이 다른 용어들을 자주 만나게 된다.\n",
    "    - 예를 들어, 입력값을 인수, 매개변수 등으로 말하기도 하고, 결괏값을 출력값, 반환 값, 돌려주는 값 등으로 말하기도 한다.\n",
    "    - 많은 용어가 여러가지 다른 말로 표현되지만 의미는 동일한 경우가 많으므로 이러한 용어들을 기억해 놓아야 머리가 덜 아플 것이다."
   ],
   "cell_type": "markdown",
   "metadata": {}
  },
  {
   "source": [
    "#### 입력값과 결괏값에 따른 함수의 형태\n",
    "- __일반적인 함수__\n",
    "    - 입력값이 있고 결괏값이 있는 함수"
   ],
   "cell_type": "markdown",
   "metadata": {}
  },
  {
   "cell_type": "code",
   "execution_count": 7,
   "metadata": {},
   "outputs": [
    {
     "output_type": "stream",
     "name": "stdout",
     "text": [
      "7\n"
     ]
    }
   ],
   "source": [
    "def add(a, b):\n",
    "    result = a + b\n",
    "    return result\n",
    "\n",
    "a = add(3, 4)\n",
    "print(a)"
   ]
  },
  {
   "source": [
    "- __입력값이 없는 함수__"
   ],
   "cell_type": "markdown",
   "metadata": {}
  },
  {
   "cell_type": "code",
   "execution_count": 8,
   "metadata": {},
   "outputs": [
    {
     "output_type": "stream",
     "name": "stdout",
     "text": [
      "Hi\n"
     ]
    }
   ],
   "source": [
    "def say():\n",
    "    return \"Hi\"\n",
    "\n",
    "a = say()\n",
    "print(a)"
   ]
  },
  {
   "source": [
    "- __결괏값이 없는 함수__"
   ],
   "cell_type": "markdown",
   "metadata": {}
  },
  {
   "cell_type": "code",
   "execution_count": 13,
   "metadata": {},
   "outputs": [
    {
     "output_type": "stream",
     "name": "stdout",
     "text": [
      "3 + 4 = 7\n3 + 4 = 7\nNone\n"
     ]
    }
   ],
   "source": [
    "def add (a, b):\n",
    "    print(\"%d + %d = %d\" % (a, b, a+b))\n",
    "\n",
    "add(3, 4)\n",
    "a = add(3, 4)\n",
    "print(a)      # 함수의 결괏값이 없으므로 a의 값이 None(거짓을 나타내는 자료형)인 것을 알 수 있다."
   ]
  },
  {
   "source": [
    "- __입력값도 결괏값도 없는 함수__"
   ],
   "cell_type": "markdown",
   "metadata": {}
  },
  {
   "cell_type": "code",
   "execution_count": 14,
   "metadata": {},
   "outputs": [
    {
     "output_type": "stream",
     "name": "stdout",
     "text": [
      "Hi\n"
     ]
    }
   ],
   "source": [
    "def say():\n",
    "    print(\"Hi\")\n",
    "\n",
    "say()"
   ]
  },
  {
   "source": [
    "#### 매개변수 지정하여 호출하기"
   ],
   "cell_type": "markdown",
   "metadata": {}
  },
  {
   "cell_type": "code",
   "execution_count": 15,
   "metadata": {},
   "outputs": [],
   "source": [
    "def add(a, b):\n",
    "    return a + b"
   ]
  },
  {
   "cell_type": "code",
   "execution_count": 18,
   "metadata": {},
   "outputs": [
    {
     "output_type": "stream",
     "name": "stdout",
     "text": [
      "10\n8\n"
     ]
    }
   ],
   "source": [
    "result = add(a = 3, b = 7)\n",
    "print(result)\n",
    "result = add(b = 5, a = 3) # 매개변수를 지정하여 함수를 호출하면 매개변수의 순서에 상관없이 사용할 수 있다.\n",
    "print(result)"
   ]
  },
  {
   "source": [
    "#### 입력값이 몇 개가 될지 모를 때는 어떻게 해야 할까?\n",
    "    ``` python\n",
    "    def 함수이름(*매개변수):\n",
    "        <수행할 문장>\n",
    "    ```\n",
    "- __여러 개의 입력값을 받는 함수 만들기__\n",
    "    - *args처럼 매개변수 이름 앞에 \\*을 붙이면 입력값을 전부 모아서 튜플로 만들어준다.\n",
    "    - 여기서 args는 매개변수를 뜻하는 단어 arguments의 약자이며 관례적으로 자구 사용한다."
   ],
   "cell_type": "markdown",
   "metadata": {}
  },
  {
   "source": [
    "def add_many(*args):\n",
    "    result = 0\n",
    "    for i in args:\n",
    "        result += i\n",
    "    return result\n",
    "\n",
    "result = add_many(1, 2, 3)\n",
    "print(result)\n",
    "result = add_many(1, 2, 3, 4, 5, 6, 7, 8, 9, 10)\n",
    "print(result)"
   ],
   "cell_type": "code",
   "metadata": {},
   "execution_count": 21,
   "outputs": [
    {
     "output_type": "stream",
     "name": "stdout",
     "text": [
      "6\n55\n"
     ]
    }
   ]
  },
  {
   "source": [
    "- 아래와 같이 여러 개의 매개변수를 동일하게 사용도 가능하다."
   ],
   "cell_type": "markdown",
   "metadata": {}
  },
  {
   "cell_type": "code",
   "execution_count": 22,
   "metadata": {},
   "outputs": [
    {
     "output_type": "stream",
     "name": "stdout",
     "text": [
      "15\n120\n"
     ]
    }
   ],
   "source": [
    "def add_mul(choice, *args):\n",
    "    if choice == \"add\":\n",
    "        result = 0\n",
    "        for i in args:\n",
    "            result += i\n",
    "    elif choice == \"mul\":\n",
    "        result = 1\n",
    "        for i in args:\n",
    "            result *= i\n",
    "    return result\n",
    "\n",
    "result = add_mul('add', 1, 2, 3, 4, 5)\n",
    "print(result)\n",
    "result = add_mul('mul', 1, 2, 3, 4, 5)\n",
    "print(result)"
   ]
  },
  {
   "source": [
    "- __키워드 파라미터 kwargs__\n",
    "    - 키워드 파라미터를 사용할 때는 매개변수 앞에 별 두개를 붙인다.\n",
    "    - 함수의 출력 결과를 보면, 입력값이 모두 딕셔너리로 만들어져 출력된다는 것을 확인할 수 있다.\n",
    "    - 즉, \\**kwargs처럼 매배변수 이름 앞에 **을 붙이면 매개변수 kwargs는 딕셔너리가 되고 모든 key=value 형태의 결괏값이 그 딕셔너리에 저장된다."
   ],
   "cell_type": "markdown",
   "metadata": {}
  },
  {
   "cell_type": "code",
   "execution_count": 24,
   "metadata": {},
   "outputs": [
    {
     "output_type": "stream",
     "name": "stdout",
     "text": [
      "{'a': 1}\n{'name': 'foo', 'age': 3}\n"
     ]
    }
   ],
   "source": [
    "def print_kwargs(**kwargs):\n",
    "    print(kwargs)\n",
    "\n",
    "print_kwargs(a = 1)\n",
    "print_kwargs(name='foo', age=3)"
   ]
  },
  {
   "source": [
    "#### 함수의 결괏값은 언제나 하나이다.\n",
    "- 아래의 함수는 오류가 발생할 것 같지만 오류가 발생하지 않는다.\n",
    "- 그 이유는 함수의 결괏값은 언제나 1개라는 데 있는데, 아래의 함수는 결괏값 2개를 튜플값 하나의 형태로 리턴한다.\n",
    "- 만약 하나의 튜플 값을 2개의 결괏값처럼 받고 싶다면 2개의 변수를 사용하면 된다."
   ],
   "cell_type": "markdown",
   "metadata": {}
  },
  {
   "cell_type": "code",
   "execution_count": 26,
   "metadata": {},
   "outputs": [
    {
     "output_type": "stream",
     "name": "stdout",
     "text": [
      "(7, 12)\n7 12\n"
     ]
    }
   ],
   "source": [
    "def add_and_mul(a, b):\n",
    "    return a + b, a * b\n",
    "\n",
    "result = add_and_mul(3, 4)\n",
    "print(result)\n",
    "res1, res2 = add_and_mul(3, 4)\n",
    "print(res1, res2)"
   ]
  },
  {
   "source": [
    "- 함수는 return문을 만나는 순간 결괏값을 리턴한 다음 함수를 빠져나가므로 아래에서 두번째 return문은 실행되지 않는다."
   ],
   "cell_type": "markdown",
   "metadata": {}
  },
  {
   "cell_type": "code",
   "execution_count": 27,
   "metadata": {},
   "outputs": [
    {
     "output_type": "stream",
     "name": "stdout",
     "text": [
      "7\n"
     ]
    }
   ],
   "source": [
    "def add_and_mul(a, b):\n",
    "    return a + b\n",
    "    return a * b\n",
    "result = add_and_mul(3, 4)\n",
    "print(result)"
   ]
  },
  {
   "source": [
    "- __return의 또 다른 쓰임새__\n",
    "    - 특별한 상황일 때 함수를 빠져나가고 싶다면 return을 단독으로 써서 함수를 즉시 빠져나갈 수 있다."
   ],
   "cell_type": "markdown",
   "metadata": {}
  },
  {
   "cell_type": "code",
   "execution_count": 28,
   "metadata": {},
   "outputs": [
    {
     "output_type": "stream",
     "name": "stdout",
     "text": [
      "My nickname is apple\n"
     ]
    }
   ],
   "source": [
    "def say_nick(nick):\n",
    "    if nick == 'fool':\n",
    "        return\n",
    "    print(\"My nickname is %s\" % nick)\n",
    "\n",
    "say_nick('fool')\n",
    "say_nick('apple')"
   ]
  },
  {
   "source": [
    "# 2021/05/04\n",
    "#### 매개변수에 초깃값 미리 설정하기\n",
    "- 초깃값을 미리 설정할 매개변수는 항상 뒤쪽에 놓아야 한다."
   ],
   "cell_type": "markdown",
   "metadata": {}
  },
  {
   "cell_type": "code",
   "execution_count": 9,
   "metadata": {},
   "outputs": [],
   "source": [
    "def say_myself(name, old, man=True):\n",
    "    print(\"My name is %s.\" % name)\n",
    "    print(\"I'm %d.\" % old)\n",
    "    if man:\n",
    "        print(\"I'm a man.\")\n",
    "    else:\n",
    "        print(\"I'm a woman.\")"
   ]
  },
  {
   "cell_type": "code",
   "execution_count": 10,
   "metadata": {},
   "outputs": [
    {
     "output_type": "stream",
     "name": "stdout",
     "text": [
      "My name is Son.\nI'm 29.\nI'm a man.\nMy name is Jang.\nI'm 25.\nI'm a woman.\n"
     ]
    }
   ],
   "source": [
    "say_myself(name=\"Son\", old=29)\n",
    "say_myself(\"Jang\", 25, man=False)"
   ]
  },
  {
   "source": [
    "#### 함수 안에서 선언한 변수의 효력 범위\n",
    "- 함수 안에서 사용하는 매개변수는 함수 밖의 변수 이름과는 전혀 상관이 없다."
   ],
   "cell_type": "markdown",
   "metadata": {}
  },
  {
   "source": [
    "#### 함수 안에서 함수 밖의 변수를 변경하는 방법\n",
    "1. return 사용하기"
   ],
   "cell_type": "markdown",
   "metadata": {}
  },
  {
   "cell_type": "code",
   "execution_count": 11,
   "metadata": {},
   "outputs": [
    {
     "output_type": "stream",
     "name": "stdout",
     "text": [
      "1\n2\n"
     ]
    }
   ],
   "source": [
    "def vartest(a):\n",
    "    a += 1\n",
    "    return a\n",
    "\n",
    "a = 1\n",
    "print(a)\n",
    "a = vartest(a)\n",
    "print(a)"
   ]
  },
  {
   "source": [
    "2. global 명령어 사용하기\n",
    "    - global 명령어를 사용하면 함수 안에서 함수 밖의 변수를 직접 사용할 수 있다.\n",
    "    - 그러나 함수는 독립적으로 존재하는 것이 좋기 때문에 프로그래밍을 할 때 global 명령어는 사용하지 않는 것이 좋다."
   ],
   "cell_type": "markdown",
   "metadata": {}
  },
  {
   "cell_type": "code",
   "execution_count": 12,
   "metadata": {},
   "outputs": [
    {
     "output_type": "stream",
     "name": "stdout",
     "text": [
      "1\n2\n"
     ]
    }
   ],
   "source": [
    "a = 1\n",
    "def vartest():\n",
    "    global a\n",
    "    a += 1\n",
    "\n",
    "print(a)\n",
    "vartest()\n",
    "print(a)"
   ]
  },
  {
   "source": [
    "#### lambda\n",
    "- lambda는 함수를 생성할 때 사용하는 예약어로, def와 동일한 역할을 한다.\n",
    "- 보통 함수를 한줄로 간결하게 만들 때 사용한다.\n",
    "- 사용법은 다음과 같다.  \n",
    "`lambda 매개변수1, 매개변수2, ...: 매개변수를 이용한 표현식`\n",
    "- lambda로 만든 함수는 return 명령어가 없어도 결괏값을 리턴한다."
   ],
   "cell_type": "markdown",
   "metadata": {}
  },
  {
   "cell_type": "code",
   "execution_count": 13,
   "metadata": {},
   "outputs": [
    {
     "output_type": "stream",
     "name": "stdout",
     "text": [
      "7\n"
     ]
    }
   ],
   "source": [
    "add = lambda a, b: a + b\n",
    "result = add(3, 4)\n",
    "print(result)"
   ]
  }
 ],
 "metadata": {
  "kernelspec": {
   "name": "python379jvsc74a57bd0b7dea5568a8011761eb94fc783bf0961f4238ecb1b6b3a02e938e0ea93593243",
   "display_name": "Python 3.7.9 64-bit ('tf2.0': conda)"
  },
  "language_info": {
   "codemirror_mode": {
    "name": "ipython",
    "version": 3
   },
   "file_extension": ".py",
   "mimetype": "text/x-python",
   "name": "python",
   "nbconvert_exporter": "python",
   "pygments_lexer": "ipython3",
   "version": "3.7.9"
  }
 },
 "nbformat": 4,
 "nbformat_minor": 5
}