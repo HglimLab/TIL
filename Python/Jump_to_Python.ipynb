{
 "cells": [
  {
   "cell_type": "markdown",
   "id": "f7f42fc8",
   "metadata": {},
   "source": [
    "# 2021/04/15\n",
    "- 딥러닝 연구실에서 다양한 프로그래밍 연구를 하고 있는데 한번도 프로그래밍 책을 완독한 적이 없었던 것 같다.\n",
    "- 평소에 구글링을 통해 필요한 내용을 그 때마다 찾아가며 코드를 작성하였지만, 좀 더 체계적으로 머릿속에 파이썬이 정리되어 있으면 훨씬 효율적일 것 같다는 생각을 항상 해왔다.\n",
    "- 그래서 오늘부터 `점프 투 파이썬`을 빠르게 훑어보며 파이썬에서 새롭게 배우거나 유용한 내용만 간략하게 요약하여 기록하고 필요할 때마다 찾아보려고 한다."
   ]
  },
  {
   "cell_type": "markdown",
   "id": "0ee5bb24",
   "metadata": {},
   "source": [
    "## CH 1. 파이썬이란 무엇인가?\n",
    "### 1.1 파이썬이란?\n",
    "### 1.2 파이썬의 특징\n",
    "- 파이썬은 C와의 연동성이 매우 좋다고 한다.\n",
    "- 어떤 프로그램을 만들 때 전반적인 뼈대는 파이썬으로 만들고, 빠른 실행 속도가 필요한 부분은 C로 만들어 파이썬 프로그램 안에 포함시킬 수 있어 매우 유용하다.\n",
    "- 또한 C나 C++로 만든 프로그램을 파이썬에서 사용할 수 있고, 파이썬으로 만든 프로그램 역시 C나 C++에서 사용할 수 있어 접착(glue) 언어라고도 불린다.\n",
    "\n",
    "### 1.3 파이썬으로 무엇을 할 수 있을까?\n",
    "- 파이썬의 피클(pickle)이라는 모듈은 파이썬에서 사용하는 자료를 변형 없이 그대로 파일에 저장하고 불러오는 일을 맡아 하는 모듈이다(5장에 등장한다.).\n",
    "- 연구실의 프로젝트에서 TCP/IP 통신을 할 때 피클을 사용한다는 얘기를 들었는데 정확히 무슨 역할을 하는지 잘 몰랐었다.\n",
    "- 5장에 관련 내용이 나온다고 하니 뒤에서 공부해보기로 한다.\n",
    "\n",
    "### 1.4 파이썬 설치하기\n",
    "### 1.5 파이썬 둘러보기\n",
    "### 1.6 파이썬과 에디터"
   ]
  },
  {
   "cell_type": "markdown",
   "id": "17cb7073",
   "metadata": {
    "ExecuteTime": {
     "end_time": "2021-04-16T02:28:44.887816Z",
     "start_time": "2021-04-16T02:28:44.873816Z"
    }
   },
   "source": [
    "# 2021/04/16\n",
    "## CH 2. 파이썬 프로그래밍의 기초, 자료형\n",
    "### 2.1 숫자형\n",
    "- 8진수와 16진수\n",
    "    - 8진수를 만들기 위해서는 숫자가 `0o`나 `0O`(숫자 0 + 알파벳 소문자 o 또는 대문자 O)로 시작하면 된다.\n",
    "    - 16진수를 만들기 위해서는 숫자가 `0x`로 시작하면 된다."
   ]
  },
  {
   "cell_type": "code",
   "execution_count": 4,
   "id": "dfb5cc0c",
   "metadata": {
    "ExecuteTime": {
     "end_time": "2021-04-16T02:30:25.490638Z",
     "start_time": "2021-04-16T02:30:25.471583Z"
    }
   },
   "outputs": [
    {
     "name": "stdout",
     "output_type": "stream",
     "text": [
      "127 2303\n"
     ]
    }
   ],
   "source": [
    "octal = 0o177\n",
    "hexadecimal = 0x8ff\n",
    "print(octal, hexadecimal)"
   ]
  },
  {
   "cell_type": "markdown",
   "id": "99a3f50f",
   "metadata": {},
   "source": [
    "### 2.2 문자열 자료형\n",
    "- 문자열 안에 작은따옴표나 큰따옴표를 포함시키고 싶을 때는 아래와 같은 3가지 방법을 사용할 수 있다."
   ]
  },
  {
   "cell_type": "code",
   "execution_count": 6,
   "id": "97e0b9f3",
   "metadata": {
    "ExecuteTime": {
     "end_time": "2021-04-16T02:39:13.915952Z",
     "start_time": "2021-04-16T02:39:13.904953Z"
    }
   },
   "outputs": [
    {
     "name": "stdout",
     "output_type": "stream",
     "text": [
      "Python's favorite food is perl\n",
      "\"Python is very easy.\" he says.\n",
      "Python's favorite food is perl\n",
      "\"Python is very easy.\" he says.\n"
     ]
    }
   ],
   "source": [
    "food = \"Python's favorite food is perl\"   # 1. 문자열을 큰따옴표로 둘러싸 작은따옴표를 포함시킨다.\n",
    "say = '\"Python is very easy.\" he says.'   # 2. 문자열을 작은따옴표로 둘러싸 큰따옴표를 포함시킨다.\n",
    "print(food)\n",
    "print(say)\n",
    "food = 'Python\\'s favorite food is perl'  # 3. 백슬래시(\\)를 사용하여 작은따옴표나 큰따옴표를 포함시킨다.\n",
    "say = \"\\\"Python is very easy.\\\" he says.\"\n",
    "print(food)\n",
    "print(say)"
   ]
  },
  {
   "cell_type": "markdown",
   "id": "ec52a98d",
   "metadata": {},
   "source": [
    "- 여러 줄의 문자열을 변수에 대입하고 싶을 때는 아래와 같이 처리한다."
   ]
  },
  {
   "cell_type": "code",
   "execution_count": 13,
   "id": "96db8b02",
   "metadata": {
    "ExecuteTime": {
     "end_time": "2021-04-16T14:44:08.911403Z",
     "start_time": "2021-04-16T14:44:08.898396Z"
    }
   },
   "outputs": [
    {
     "name": "stdout",
     "output_type": "stream",
     "text": [
      "Life is too short.\n",
      "You need python.\n",
      "Life is too short.\n",
      "You need python.\n"
     ]
    }
   ],
   "source": [
    "multiline = \"Life is too short.\\nYou need python.\" # 1. 문장 사이에 이스케이프 코드 \\n을 삽입한다.\n",
    "print(multiline)\n",
    "# 2. 작은따옴표 3개나 큰따옴표 3개를 입력하는 방법도 있다.\n",
    "multiline = '''Life is too short.\n",
    "You need python.'''\n",
    "print(multiline)"
   ]
  },
  {
   "cell_type": "markdown",
   "id": "6545a1e9",
   "metadata": {},
   "source": [
    "- 추가적으로, 자주 사용되는 이스케이프 코드를 정리하면 아래와 같다.\n",
    "    - \\n: 문자열 안에서 줄을 바꿀 때 사용\n",
    "    - \\t: 문자열 사이에 탭 간격을 줄 때 사용\n",
    "    - \\\\\\\\: 문자 \\를 그대로 표현할 때 사용\n",
    "    - \\\\': 작은따옴표(')를 그대로 표현할 때 사용\n",
    "    - \\\\\": 큰따옴표(\")를 그대로 표현할 때 사용"
   ]
  },
  {
   "cell_type": "markdown",
   "id": "54f88586",
   "metadata": {},
   "source": [
    "- 파이썬에서는 문자열 연산(덧셈 및 곱셈)이 가능하다."
   ]
  },
  {
   "cell_type": "code",
   "execution_count": 14,
   "id": "c66fe1d3",
   "metadata": {
    "ExecuteTime": {
     "end_time": "2021-04-16T14:49:51.918430Z",
     "start_time": "2021-04-16T14:49:51.912431Z"
    }
   },
   "outputs": [
    {
     "name": "stdout",
     "output_type": "stream",
     "text": [
      "==================================================\n",
      "MyPython\n",
      "==================================================\n"
     ]
    }
   ],
   "source": [
    "print(\"=\" * 50)\n",
    "print(\"My\" + \"Python\")\n",
    "print(\"=\" * 50)"
   ]
  },
  {
   "cell_type": "markdown",
   "id": "44bf947a",
   "metadata": {
    "ExecuteTime": {
     "end_time": "2021-04-16T14:58:07.463656Z",
     "start_time": "2021-04-16T14:58:07.454653Z"
    }
   },
   "source": [
    "#### 문자열 인덱싱과 슬라이싱"
   ]
  },
  {
   "cell_type": "code",
   "execution_count": 16,
   "id": "99a7cb07",
   "metadata": {
    "ExecuteTime": {
     "end_time": "2021-04-16T14:59:29.885655Z",
     "start_time": "2021-04-16T14:59:29.878655Z"
    }
   },
   "outputs": [
    {
     "name": "stdout",
     "output_type": "stream",
     "text": [
      "0416\n",
      "20210416\n",
      "Rainy\n"
     ]
    }
   ],
   "source": [
    "a = \"20210416Rainy\"\n",
    "print(a[4:-5]) # -5에 해당하는 문자는 포함되지 않는다.\n",
    "print(a[:8])\n",
    "print(a[8:])"
   ]
  },
  {
   "cell_type": "markdown",
   "id": "bd013c81",
   "metadata": {},
   "source": [
    "- 문자열의 값을 변경할 때 아래와 같이 작성하면 에러가 발생한다.\n",
    "- 문자열 자료형은 문자열 내의 요소를 인덱싱으로 변경할 수 없기 때문이다.\n",
    "- 따라서 문자열 자료형의 요소를 변경하고 싶으면 슬라이싱 방법을 사용해야 한다."
   ]
  },
  {
   "cell_type": "code",
   "execution_count": 17,
   "id": "e39a9b8f",
   "metadata": {
    "ExecuteTime": {
     "end_time": "2021-04-16T15:01:11.676997Z",
     "start_time": "2021-04-16T15:01:11.617014Z"
    }
   },
   "outputs": [
    {
     "name": "stdout",
     "output_type": "stream",
     "text": [
      "i\n"
     ]
    },
    {
     "ename": "TypeError",
     "evalue": "'str' object does not support item assignment",
     "output_type": "error",
     "traceback": [
      "\u001b[1;31m---------------------------------------------------------------------------\u001b[0m",
      "\u001b[1;31mTypeError\u001b[0m                                 Traceback (most recent call last)",
      "\u001b[1;32m<ipython-input-17-60dee05f070c>\u001b[0m in \u001b[0;36m<module>\u001b[1;34m\u001b[0m\n\u001b[0;32m      1\u001b[0m \u001b[0ma\u001b[0m \u001b[1;33m=\u001b[0m \u001b[1;34m\"Pithon\"\u001b[0m\u001b[1;33m\u001b[0m\u001b[1;33m\u001b[0m\u001b[0m\n\u001b[0;32m      2\u001b[0m \u001b[0mprint\u001b[0m\u001b[1;33m(\u001b[0m\u001b[0ma\u001b[0m\u001b[1;33m[\u001b[0m\u001b[1;36m1\u001b[0m\u001b[1;33m]\u001b[0m\u001b[1;33m)\u001b[0m\u001b[1;33m\u001b[0m\u001b[1;33m\u001b[0m\u001b[0m\n\u001b[1;32m----> 3\u001b[1;33m \u001b[0ma\u001b[0m\u001b[1;33m[\u001b[0m\u001b[1;36m1\u001b[0m\u001b[1;33m]\u001b[0m \u001b[1;33m=\u001b[0m \u001b[1;34m'y'\u001b[0m\u001b[1;33m\u001b[0m\u001b[1;33m\u001b[0m\u001b[0m\n\u001b[0m",
      "\u001b[1;31mTypeError\u001b[0m: 'str' object does not support item assignment"
     ]
    }
   ],
   "source": [
    "a = \"Pithon\"\n",
    "print(a[1])\n",
    "a[1] = 'y'"
   ]
  },
  {
   "cell_type": "code",
   "execution_count": 18,
   "id": "8db8acea",
   "metadata": {
    "ExecuteTime": {
     "end_time": "2021-04-16T15:03:11.377127Z",
     "start_time": "2021-04-16T15:03:11.369153Z"
    }
   },
   "outputs": [
    {
     "name": "stdout",
     "output_type": "stream",
     "text": [
      "Python\n"
     ]
    }
   ],
   "source": [
    "a = a[:1] + 'y' + a[2:]\n",
    "print(a)"
   ]
  },
  {
   "cell_type": "markdown",
   "id": "5ce8b5bc",
   "metadata": {},
   "source": [
    "#### 문자열 포매팅\n",
    "- format 함수를 사용한 포매팅"
   ]
  },
  {
   "cell_type": "code",
   "execution_count": 26,
   "id": "c6da3468",
   "metadata": {
    "ExecuteTime": {
     "end_time": "2021-04-16T15:13:21.719221Z",
     "start_time": "2021-04-16T15:13:21.703250Z"
    }
   },
   "outputs": [
    {
     "name": "stdout",
     "output_type": "stream",
     "text": [
      "I ate 10 apples, so I was sick for three days\n",
      "hi        \n",
      "        hi\n",
      "    hi    \n",
      "====hi====\n",
      "3.4213\n",
      "    3.4213\n",
      "{ and }\n"
     ]
    }
   ],
   "source": [
    "number = 10\n",
    "day = \"three\"\n",
    "print(\"I ate {} apples, so I was sick for {} days\".format(number, day))\n",
    "\n",
    "# 왼쪽 정렬\n",
    "print(\"{:<10}\".format(\"hi\"))\n",
    "\n",
    "# 오른쪽 정렬\n",
    "print(\"{:>10}\".format(\"hi\"))\n",
    "\n",
    "# 가운데 정렬\n",
    "print(\"{:^10}\".format(\"hi\"))\n",
    "\n",
    "# 공백 채우기\n",
    "print(\"{:=^10}\".format(\"hi\"))\n",
    "\n",
    "# 소수점 표현하기\n",
    "y = 3.42134234\n",
    "print(\"{:0.4f}\".format(y))\n",
    "print(\"{:10.4f}\".format(y)) # 자릿수를 10으로 맞추기\n",
    "\n",
    "# { 또는 } 문자 표현하기\n",
    "print(\"{{ and }}\".format()) # 연속해서 2번 쓰면 사용 가능"
   ]
  },
  {
   "cell_type": "markdown",
   "id": "db2c10b5",
   "metadata": {
    "ExecuteTime": {
     "end_time": "2021-04-16T15:15:19.945660Z",
     "start_time": "2021-04-16T15:15:19.930661Z"
    }
   },
   "source": [
    "- f 문자열 포매팅\n",
    "    - 문자열 앞에 f 접두사를 붙이면 f 문자열 포매팅 기능을 사용할 수 있다.\n",
    "    - 기본적인 사용법은 format 함수를 사용하는 법과 동일하다."
   ]
  }
 ],
 "metadata": {
  "kernelspec": {
   "display_name": "Python 3",
   "language": "python",
   "name": "python3"
  },
  "language_info": {
   "codemirror_mode": {
    "name": "ipython",
    "version": 3
   },
   "file_extension": ".py",
   "mimetype": "text/x-python",
   "name": "python",
   "nbconvert_exporter": "python",
   "pygments_lexer": "ipython3",
   "version": "3.7.9"
  }
 },
 "nbformat": 4,
 "nbformat_minor": 5
}
