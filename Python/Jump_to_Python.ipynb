{
 "cells": [
  {
   "cell_type": "markdown",
   "id": "f7f42fc8",
   "metadata": {},
   "source": [
    "# 2021/04/15\n",
    "- 딥러닝 연구실에서 다양한 프로그래밍 연구를 하고 있는데 한번도 프로그래밍 책을 완독한 적이 없었던 것 같다.\n",
    "- 평소에 구글링을 통해 필요한 내용을 그 때마다 찾아가며 코드를 작성하였지만, 좀 더 체계적으로 머릿속에 파이썬이 정리되어 있으면 훨씬 효율적일 것 같다는 생각을 항상 해왔다.\n",
    "- 그래서 오늘부터 `점프 투 파이썬`을 빠르게 훑어보며 파이썬에서 새롭게 배우거나 유용한 내용만 간략하게 요약하여 기록하고 필요할 때마다 찾아보려고 한다."
   ]
  },
  {
   "cell_type": "markdown",
   "id": "0ee5bb24",
   "metadata": {},
   "source": [
    "## CH 1. 파이썬이란 무엇인가?\n",
    "### 1.1 파이썬이란?\n",
    "### 1.2 파이썬의 특징\n",
    "- 파이썬은 C와의 연동성이 매우 좋다고 한다.\n",
    "- 어떤 프로그램을 만들 때 전반적인 뼈대는 파이썬으로 만들고, 빠른 실행 속도가 필요한 부분은 C로 만들어 파이썬 프로그램 안에 포함시킬 수 있어 매우 유용하다.\n",
    "- 또한 C나 C++로 만든 프로그램을 파이썬에서 사용할 수 있고, 파이썬으로 만든 프로그램 역시 C나 C++에서 사용할 수 있어 접착(glue) 언어라고도 불린다.\n",
    "\n",
    "### 1.3 파이썬으로 무엇을 할 수 있을까?\n",
    "- 파이썬의 피클(pickle)이라는 모듈은 파이썬에서 사용하는 자료를 변형 없이 그대로 파일에 저장하고 불러오는 일을 맡아 하는 모듈이다(5장에 등장한다.).\n",
    "- 연구실의 프로젝트에서 TCP/IP 통신을 할 때 피클을 사용한다는 얘기를 들었는데 정확히 무슨 역할을 하는지 잘 몰랐었다.\n",
    "- 5장에 관련 내용이 나온다고 하니 뒤에서 공부해보기로 한다.\n",
    "\n",
    "### 1.4 파이썬 설치하기\n",
    "### 1.5 파이썬 둘러보기\n",
    "### 1.6 파이썬과 에디터"
   ]
  },
  {
   "cell_type": "markdown",
   "id": "17cb7073",
   "metadata": {
    "ExecuteTime": {
     "end_time": "2021-04-16T02:28:44.887816Z",
     "start_time": "2021-04-16T02:28:44.873816Z"
    }
   },
   "source": [
    "# 2021/04/16\n",
    "## CH 2. 파이썬 프로그래밍의 기초, 자료형\n",
    "### 2.1 숫자형\n",
    "- 8진수와 16진수\n",
    "    - 8진수를 만들기 위해서는 숫자가 `0o`나 `0O`(숫자 0 + 알파벳 소문자 o 또는 대문자 O)로 시작하면 된다.\n",
    "    - 16진수를 만들기 위해서는 숫자가 `0x`로 시작하면 된다."
   ]
  },
  {
   "cell_type": "code",
   "execution_count": 4,
   "id": "dfb5cc0c",
   "metadata": {
    "ExecuteTime": {
     "end_time": "2021-04-16T02:30:25.490638Z",
     "start_time": "2021-04-16T02:30:25.471583Z"
    }
   },
   "outputs": [
    {
     "name": "stdout",
     "output_type": "stream",
     "text": [
      "127 2303\n"
     ]
    }
   ],
   "source": [
    "octal = 0o177\n",
    "hexadecimal = 0x8ff\n",
    "print(octal, hexadecimal)"
   ]
  },
  {
   "cell_type": "markdown",
   "id": "99a3f50f",
   "metadata": {},
   "source": [
    "### 2.2 문자열 자료형\n",
    "- 문자열 안에 작은따옴표나 큰따옴표를 포함시키고 싶을 때는 아래와 같은 3가지 방법을 사용할 수 있다."
   ]
  },
  {
   "cell_type": "code",
   "execution_count": 6,
   "id": "97e0b9f3",
   "metadata": {
    "ExecuteTime": {
     "end_time": "2021-04-16T02:39:13.915952Z",
     "start_time": "2021-04-16T02:39:13.904953Z"
    }
   },
   "outputs": [
    {
     "name": "stdout",
     "output_type": "stream",
     "text": [
      "Python's favorite food is perl\n",
      "\"Python is very easy.\" he says.\n",
      "Python's favorite food is perl\n",
      "\"Python is very easy.\" he says.\n"
     ]
    }
   ],
   "source": [
    "food = \"Python's favorite food is perl\"   # 1. 문자열을 큰따옴표로 둘러싸 작은따옴표를 포함시킨다.\n",
    "say = '\"Python is very easy.\" he says.'   # 2. 문자열을 작은따옴표로 둘러싸 큰따옴표를 포함시킨다.\n",
    "print(food)\n",
    "print(say)\n",
    "food = 'Python\\'s favorite food is perl'  # 3. 백슬래시(\\)를 사용하여 작은따옴표나 큰따옴표를 포함시킨다.\n",
    "say = \"\\\"Python is very easy.\\\" he says.\"\n",
    "print(food)\n",
    "print(say)"
   ]
  },
  {
   "cell_type": "markdown",
   "id": "ec52a98d",
   "metadata": {},
   "source": [
    "- 여러 줄의 문자열을 변수에 대입하고 싶을 때는 아래와 같이 처리한다."
   ]
  },
  {
   "cell_type": "code",
   "execution_count": 13,
   "id": "96db8b02",
   "metadata": {
    "ExecuteTime": {
     "end_time": "2021-04-16T14:44:08.911403Z",
     "start_time": "2021-04-16T14:44:08.898396Z"
    }
   },
   "outputs": [
    {
     "name": "stdout",
     "output_type": "stream",
     "text": [
      "Life is too short.\n",
      "You need python.\n",
      "Life is too short.\n",
      "You need python.\n"
     ]
    }
   ],
   "source": [
    "multiline = \"Life is too short.\\nYou need python.\" # 1. 문장 사이에 이스케이프 코드 \\n을 삽입한다.\n",
    "print(multiline)\n",
    "# 2. 작은따옴표 3개나 큰따옴표 3개를 입력하는 방법도 있다.\n",
    "multiline = '''Life is too short.\n",
    "You need python.'''\n",
    "print(multiline)"
   ]
  },
  {
   "cell_type": "markdown",
   "id": "6545a1e9",
   "metadata": {},
   "source": [
    "- 추가적으로, 자주 사용되는 이스케이프 코드를 정리하면 아래와 같다.\n",
    "    - \\n: 문자열 안에서 줄을 바꿀 때 사용\n",
    "    - \\t: 문자열 사이에 탭 간격을 줄 때 사용\n",
    "    - \\\\\\\\: 문자 \\를 그대로 표현할 때 사용\n",
    "    - \\\\': 작은따옴표(')를 그대로 표현할 때 사용\n",
    "    - \\\\\": 큰따옴표(\")를 그대로 표현할 때 사용"
   ]
  },
  {
   "cell_type": "markdown",
   "id": "54f88586",
   "metadata": {},
   "source": [
    "- 파이썬에서는 문자열 연산(덧셈 및 곱셈)이 가능하다."
   ]
  },
  {
   "cell_type": "code",
   "execution_count": 14,
   "id": "c66fe1d3",
   "metadata": {
    "ExecuteTime": {
     "end_time": "2021-04-16T14:49:51.918430Z",
     "start_time": "2021-04-16T14:49:51.912431Z"
    }
   },
   "outputs": [
    {
     "name": "stdout",
     "output_type": "stream",
     "text": [
      "==================================================\n",
      "MyPython\n",
      "==================================================\n"
     ]
    }
   ],
   "source": [
    "print(\"=\" * 50)\n",
    "print(\"My\" + \"Python\")\n",
    "print(\"=\" * 50)"
   ]
  },
  {
   "cell_type": "markdown",
   "id": "44bf947a",
   "metadata": {
    "ExecuteTime": {
     "end_time": "2021-04-16T14:58:07.463656Z",
     "start_time": "2021-04-16T14:58:07.454653Z"
    }
   },
   "source": [
    "#### 문자열 인덱싱과 슬라이싱"
   ]
  },
  {
   "cell_type": "code",
   "execution_count": 16,
   "id": "99a7cb07",
   "metadata": {
    "ExecuteTime": {
     "end_time": "2021-04-16T14:59:29.885655Z",
     "start_time": "2021-04-16T14:59:29.878655Z"
    }
   },
   "outputs": [
    {
     "name": "stdout",
     "output_type": "stream",
     "text": [
      "0416\n",
      "20210416\n",
      "Rainy\n"
     ]
    }
   ],
   "source": [
    "a = \"20210416Rainy\"\n",
    "print(a[4:-5]) # -5에 해당하는 문자는 포함되지 않는다.\n",
    "print(a[:8])\n",
    "print(a[8:])"
   ]
  },
  {
   "cell_type": "markdown",
   "id": "bd013c81",
   "metadata": {},
   "source": [
    "- 문자열의 값을 변경할 때 아래와 같이 작성하면 에러가 발생한다.\n",
    "- 문자열 자료형은 문자열 내의 요소를 인덱싱으로 변경할 수 없기 때문이다.\n",
    "- 따라서 문자열 자료형의 요소를 변경하고 싶으면 슬라이싱 방법을 사용해야 한다."
   ]
  },
  {
   "cell_type": "code",
   "execution_count": 17,
   "id": "e39a9b8f",
   "metadata": {
    "ExecuteTime": {
     "end_time": "2021-04-16T15:01:11.676997Z",
     "start_time": "2021-04-16T15:01:11.617014Z"
    }
   },
   "outputs": [
    {
     "name": "stdout",
     "output_type": "stream",
     "text": [
      "i\n"
     ]
    },
    {
     "ename": "TypeError",
     "evalue": "'str' object does not support item assignment",
     "output_type": "error",
     "traceback": [
      "\u001b[1;31m---------------------------------------------------------------------------\u001b[0m",
      "\u001b[1;31mTypeError\u001b[0m                                 Traceback (most recent call last)",
      "\u001b[1;32m<ipython-input-17-60dee05f070c>\u001b[0m in \u001b[0;36m<module>\u001b[1;34m\u001b[0m\n\u001b[0;32m      1\u001b[0m \u001b[0ma\u001b[0m \u001b[1;33m=\u001b[0m \u001b[1;34m\"Pithon\"\u001b[0m\u001b[1;33m\u001b[0m\u001b[1;33m\u001b[0m\u001b[0m\n\u001b[0;32m      2\u001b[0m \u001b[0mprint\u001b[0m\u001b[1;33m(\u001b[0m\u001b[0ma\u001b[0m\u001b[1;33m[\u001b[0m\u001b[1;36m1\u001b[0m\u001b[1;33m]\u001b[0m\u001b[1;33m)\u001b[0m\u001b[1;33m\u001b[0m\u001b[1;33m\u001b[0m\u001b[0m\n\u001b[1;32m----> 3\u001b[1;33m \u001b[0ma\u001b[0m\u001b[1;33m[\u001b[0m\u001b[1;36m1\u001b[0m\u001b[1;33m]\u001b[0m \u001b[1;33m=\u001b[0m \u001b[1;34m'y'\u001b[0m\u001b[1;33m\u001b[0m\u001b[1;33m\u001b[0m\u001b[0m\n\u001b[0m",
      "\u001b[1;31mTypeError\u001b[0m: 'str' object does not support item assignment"
     ]
    }
   ],
   "source": [
    "a = \"Pithon\"\n",
    "print(a[1])\n",
    "a[1] = 'y'"
   ]
  },
  {
   "cell_type": "code",
   "execution_count": 18,
   "id": "8db8acea",
   "metadata": {
    "ExecuteTime": {
     "end_time": "2021-04-16T15:03:11.377127Z",
     "start_time": "2021-04-16T15:03:11.369153Z"
    }
   },
   "outputs": [
    {
     "name": "stdout",
     "output_type": "stream",
     "text": [
      "Python\n"
     ]
    }
   ],
   "source": [
    "a = a[:1] + 'y' + a[2:]\n",
    "print(a)"
   ]
  },
  {
   "cell_type": "markdown",
   "id": "5ce8b5bc",
   "metadata": {},
   "source": [
    "#### 문자열 포매팅\n",
    "- format 함수를 사용한 포매팅"
   ]
  },
  {
   "cell_type": "code",
   "execution_count": 26,
   "id": "c6da3468",
   "metadata": {
    "ExecuteTime": {
     "end_time": "2021-04-16T15:13:21.719221Z",
     "start_time": "2021-04-16T15:13:21.703250Z"
    }
   },
   "outputs": [
    {
     "name": "stdout",
     "output_type": "stream",
     "text": [
      "I ate 10 apples, so I was sick for three days\n",
      "hi        \n",
      "        hi\n",
      "    hi    \n",
      "====hi====\n",
      "3.4213\n",
      "    3.4213\n",
      "{ and }\n"
     ]
    }
   ],
   "source": [
    "number = 10\n",
    "day = \"three\"\n",
    "print(\"I ate {} apples, so I was sick for {} days\".format(number, day))\n",
    "\n",
    "# 왼쪽 정렬\n",
    "print(\"{:<10}\".format(\"hi\"))\n",
    "\n",
    "# 오른쪽 정렬\n",
    "print(\"{:>10}\".format(\"hi\"))\n",
    "\n",
    "# 가운데 정렬\n",
    "print(\"{:^10}\".format(\"hi\"))\n",
    "\n",
    "# 공백 채우기\n",
    "print(\"{:=^10}\".format(\"hi\"))\n",
    "\n",
    "# 소수점 표현하기\n",
    "y = 3.42134234\n",
    "print(\"{:0.4f}\".format(y))\n",
    "print(\"{:10.4f}\".format(y)) # 자릿수를 10으로 맞추기\n",
    "\n",
    "# { 또는 } 문자 표현하기\n",
    "print(\"{{ and }}\".format()) # 연속해서 2번 쓰면 사용 가능"
   ]
  },
  {
   "cell_type": "markdown",
   "id": "db2c10b5",
   "metadata": {
    "ExecuteTime": {
     "end_time": "2021-04-16T15:15:19.945660Z",
     "start_time": "2021-04-16T15:15:19.930661Z"
    }
   },
   "source": [
    "- f 문자열 포매팅\n",
    "    - 문자열 앞에 f 접두사를 붙이면 f 문자열 포매팅 기능을 사용할 수 있다.\n",
    "    - 기본적인 사용법은 format 함수를 사용하는 법과 동일하다."
   ]
  },
  {
   "cell_type": "markdown",
   "id": "065f0cd4",
   "metadata": {},
   "source": [
    "# 2021/04/19\n",
    "#### 문자열 관련 함수들\n",
    "- 문자 개수 세기(count)"
   ]
  },
  {
   "cell_type": "code",
   "execution_count": 3,
   "id": "4ec65d4e",
   "metadata": {
    "ExecuteTime": {
     "end_time": "2021-04-19T08:31:51.104414Z",
     "start_time": "2021-04-19T08:31:51.092414Z"
    }
   },
   "outputs": [
    {
     "data": {
      "text/plain": [
       "2"
      ]
     },
     "execution_count": 3,
     "metadata": {},
     "output_type": "execute_result"
    }
   ],
   "source": [
    "a = \"hobby\"\n",
    "a.count('b')"
   ]
  },
  {
   "cell_type": "markdown",
   "id": "8e7946de",
   "metadata": {},
   "source": [
    "- 위치 알려주기(find, index)"
   ]
  },
  {
   "cell_type": "code",
   "execution_count": 7,
   "id": "81a38c2f",
   "metadata": {
    "ExecuteTime": {
     "end_time": "2021-04-19T08:35:53.040408Z",
     "start_time": "2021-04-19T08:35:53.030410Z"
    }
   },
   "outputs": [
    {
     "name": "stdout",
     "output_type": "stream",
     "text": [
      "14\n",
      "-1\n",
      "8\n"
     ]
    },
    {
     "ename": "ValueError",
     "evalue": "substring not found",
     "output_type": "error",
     "traceback": [
      "\u001b[1;31m---------------------------------------------------------------------------\u001b[0m",
      "\u001b[1;31mValueError\u001b[0m                                Traceback (most recent call last)",
      "\u001b[1;32m<ipython-input-7-35e4f8f93eeb>\u001b[0m in \u001b[0;36m<module>\u001b[1;34m\u001b[0m\n\u001b[0;32m      7\u001b[0m \u001b[0ma\u001b[0m \u001b[1;33m=\u001b[0m \u001b[1;34m\"Life is too short\"\u001b[0m\u001b[1;33m\u001b[0m\u001b[1;33m\u001b[0m\u001b[0m\n\u001b[0;32m      8\u001b[0m \u001b[0mprint\u001b[0m\u001b[1;33m(\u001b[0m\u001b[0ma\u001b[0m\u001b[1;33m.\u001b[0m\u001b[0mindex\u001b[0m\u001b[1;33m(\u001b[0m\u001b[1;34m't'\u001b[0m\u001b[1;33m)\u001b[0m\u001b[1;33m)\u001b[0m\u001b[1;33m\u001b[0m\u001b[1;33m\u001b[0m\u001b[0m\n\u001b[1;32m----> 9\u001b[1;33m \u001b[0mprint\u001b[0m\u001b[1;33m(\u001b[0m\u001b[0ma\u001b[0m\u001b[1;33m.\u001b[0m\u001b[0mindex\u001b[0m\u001b[1;33m(\u001b[0m\u001b[1;34m'k'\u001b[0m\u001b[1;33m)\u001b[0m\u001b[1;33m)\u001b[0m\u001b[1;33m\u001b[0m\u001b[1;33m\u001b[0m\u001b[0m\n\u001b[0m",
      "\u001b[1;31mValueError\u001b[0m: substring not found"
     ]
    }
   ],
   "source": [
    "## find()\n",
    "a = \"Python is the best choice\"\n",
    "print(a.find('b')) # 찾는 문자가 처음 나온 인덱스 리턴\n",
    "print(a.find('k')) # 존재하지 않는 문자이면 -1 리턴\n",
    "\n",
    "## index()\n",
    "a = \"Life is too short\"\n",
    "print(a.index('t'))\n",
    "print(a.index('k')) # index() 함수의 경우 존재하지 않는 문자이면 에러 발생"
   ]
  },
  {
   "cell_type": "markdown",
   "id": "f5da7fbb",
   "metadata": {},
   "source": [
    "- 문자열 삽입(join)"
   ]
  },
  {
   "cell_type": "code",
   "execution_count": 9,
   "id": "c984701b",
   "metadata": {
    "ExecuteTime": {
     "end_time": "2021-04-19T08:37:35.636558Z",
     "start_time": "2021-04-19T08:37:35.631591Z"
    }
   },
   "outputs": [
    {
     "name": "stdout",
     "output_type": "stream",
     "text": [
      "a,b,c,d\n",
      "a b c d\n"
     ]
    }
   ],
   "source": [
    "print(\",\".join('abcd'))\n",
    "print(\" \".join(['a', 'b', 'c', 'd'])) # 리스트나 튜플에 대해서도 사용 가능"
   ]
  },
  {
   "cell_type": "markdown",
   "id": "5849d9e5",
   "metadata": {},
   "source": [
    "- 소문자 <-> 대문자 바꾸기(upper, lower)"
   ]
  },
  {
   "cell_type": "code",
   "execution_count": 10,
   "id": "a0709b28",
   "metadata": {
    "ExecuteTime": {
     "end_time": "2021-04-19T08:39:04.858586Z",
     "start_time": "2021-04-19T08:39:04.846586Z"
    }
   },
   "outputs": [
    {
     "name": "stdout",
     "output_type": "stream",
     "text": [
      "HI\n",
      "hi\n"
     ]
    }
   ],
   "source": [
    "a = \"hi\"\n",
    "print(a.upper())\n",
    "a = \"HI\"\n",
    "print(a.lower())"
   ]
  },
  {
   "cell_type": "markdown",
   "id": "95c6c340",
   "metadata": {},
   "source": [
    "- 공백 지우기(lstrip, rstrip, strip)"
   ]
  },
  {
   "cell_type": "code",
   "execution_count": 16,
   "id": "6a022599",
   "metadata": {
    "ExecuteTime": {
     "end_time": "2021-04-19T08:49:33.413824Z",
     "start_time": "2021-04-19T08:49:33.400645Z"
    }
   },
   "outputs": [
    {
     "name": "stdout",
     "output_type": "stream",
     "text": [
      "hi \n",
      " hi\n",
      "hi\n"
     ]
    }
   ],
   "source": [
    "a = \" hi \"\n",
    "print(a.lstrip()) # 왼쪽 공백 지우기\n",
    "print(a.rstrip()) # 오른쪽 공백 지우기\n",
    "print(a.strip())  # 양쪽 공백 지우기"
   ]
  },
  {
   "cell_type": "markdown",
   "id": "516e234b",
   "metadata": {},
   "source": [
    "- 문자열 바꾸기(replace)"
   ]
  },
  {
   "cell_type": "code",
   "execution_count": 12,
   "id": "64f22bcf",
   "metadata": {
    "ExecuteTime": {
     "end_time": "2021-04-19T08:43:36.303801Z",
     "start_time": "2021-04-19T08:43:36.296800Z"
    }
   },
   "outputs": [
    {
     "name": "stdout",
     "output_type": "stream",
     "text": [
      "Your leg is too short\n"
     ]
    }
   ],
   "source": [
    "a = \"Life is too short\"\n",
    "print(a.replace(\"Life\", \"Your leg\"))"
   ]
  },
  {
   "cell_type": "markdown",
   "id": "61edb0dd",
   "metadata": {},
   "source": [
    "- 문자열 나누기(split)"
   ]
  },
  {
   "cell_type": "code",
   "execution_count": 14,
   "id": "4cd13925",
   "metadata": {
    "ExecuteTime": {
     "end_time": "2021-04-19T08:45:47.861704Z",
     "start_time": "2021-04-19T08:45:47.855704Z"
    },
    "scrolled": true
   },
   "outputs": [
    {
     "name": "stdout",
     "output_type": "stream",
     "text": [
      "['Life', 'is', 'too', 'short']\n",
      "['a', 'b', 'c', 'd']\n"
     ]
    }
   ],
   "source": [
    "a = \"Life is too short\"\n",
    "print(a.split())    # 공백을 기준으로 나누기\n",
    "b = \"a:b:c:d\"\n",
    "print(b.split(':')) # 입력한 문자를 기준으로 나누기"
   ]
  },
  {
   "cell_type": "markdown",
   "id": "1b3340a2",
   "metadata": {},
   "source": [
    "### 2.3 리스트 자료형"
   ]
  },
  {
   "cell_type": "markdown",
   "id": "621b5f36",
   "metadata": {},
   "source": [
    "#### 리스트는 어떻게 만들고 사용할까?"
   ]
  },
  {
   "cell_type": "code",
   "execution_count": 19,
   "id": "748d8f9c",
   "metadata": {
    "ExecuteTime": {
     "end_time": "2021-04-19T08:56:12.966406Z",
     "start_time": "2021-04-19T08:56:12.950408Z"
    }
   },
   "outputs": [
    {
     "name": "stdout",
     "output_type": "stream",
     "text": [
      "[1, 3, 5, 7, 9]\n",
      "[1, 2, ['Life', 'is']]\n",
      "[]\n"
     ]
    }
   ],
   "source": [
    "odd = [1, 3, 5, 7, 9]\n",
    "example = [1, 2, ['Life', 'is']]\n",
    "a = list()\n",
    "print(odd)\n",
    "print(example)\n",
    "print(a)"
   ]
  },
  {
   "cell_type": "markdown",
   "id": "31f0cc50",
   "metadata": {},
   "source": [
    "#### 리스트의 인덱싱과 슬라이싱\n",
    "- 리스트의 인덱싱"
   ]
  },
  {
   "cell_type": "code",
   "execution_count": 21,
   "id": "a11c2a98",
   "metadata": {
    "ExecuteTime": {
     "end_time": "2021-04-19T08:59:51.042280Z",
     "start_time": "2021-04-19T08:59:51.028280Z"
    },
    "scrolled": true
   },
   "outputs": [
    {
     "name": "stdout",
     "output_type": "stream",
     "text": [
      "2\n",
      "[['Life', 'is'], 'a', 'b']\n",
      "[['Life', 'is'], 'a', 'b']\n",
      "b\n",
      "['Life', 'is']\n",
      "is\n"
     ]
    }
   ],
   "source": [
    "a = [1, 2, 3, [['Life', 'is'], 'a', 'b']]\n",
    "print(a[1])\n",
    "print(a[3])\n",
    "print(a[-1])\n",
    "print(a[-1][-1])\n",
    "print(a[-1][0])\n",
    "print(a[-1][0][1])"
   ]
  },
  {
   "cell_type": "markdown",
   "id": "d95cff01",
   "metadata": {},
   "source": [
    "- 리스트의 슬라이싱"
   ]
  },
  {
   "cell_type": "code",
   "execution_count": 22,
   "id": "4341b547",
   "metadata": {
    "ExecuteTime": {
     "end_time": "2021-04-19T09:07:40.463792Z",
     "start_time": "2021-04-19T09:07:40.450791Z"
    }
   },
   "outputs": [
    {
     "name": "stdout",
     "output_type": "stream",
     "text": [
      "[3, ['a', 'b', 'c'], 4]\n",
      "['b', 'c']\n"
     ]
    }
   ],
   "source": [
    "a = [1, 2, 3, ['a', 'b', 'c'], 4, 5]\n",
    "print(a[2:-1])\n",
    "print(a[3][1:])"
   ]
  },
  {
   "cell_type": "markdown",
   "id": "27da7d85",
   "metadata": {},
   "source": [
    "#### 리스트 연산하기\n",
    "- 리스트 더하기(+) 및 반복하기(*)"
   ]
  },
  {
   "cell_type": "code",
   "execution_count": 24,
   "id": "5b3ea0ca",
   "metadata": {
    "ExecuteTime": {
     "end_time": "2021-04-19T09:11:39.523022Z",
     "start_time": "2021-04-19T09:11:39.512023Z"
    }
   },
   "outputs": [
    {
     "name": "stdout",
     "output_type": "stream",
     "text": [
      "[1, 2, 3, 4, 5, 6]\n",
      "[1, 2, 3, 1, 2, 3, 1, 2, 3]\n"
     ]
    }
   ],
   "source": [
    "a = [1, 2, 3]\n",
    "b = [4, 5, 6]\n",
    "print(a + b)\n",
    "print(a * 3)"
   ]
  },
  {
   "cell_type": "markdown",
   "id": "02a89a1c",
   "metadata": {},
   "source": [
    "- 리스트 길이 구하기"
   ]
  },
  {
   "cell_type": "code",
   "execution_count": 25,
   "id": "f5009558",
   "metadata": {
    "ExecuteTime": {
     "end_time": "2021-04-19T09:12:22.486084Z",
     "start_time": "2021-04-19T09:12:22.479084Z"
    }
   },
   "outputs": [
    {
     "name": "stdout",
     "output_type": "stream",
     "text": [
      "3\n"
     ]
    }
   ],
   "source": [
    "a = [1, 2, 3]\n",
    "print(len(a))"
   ]
  },
  {
   "cell_type": "markdown",
   "id": "356b04d4",
   "metadata": {},
   "source": [
    "- 문자열과 더하기"
   ]
  },
  {
   "cell_type": "code",
   "execution_count": 26,
   "id": "1475dff9",
   "metadata": {
    "ExecuteTime": {
     "end_time": "2021-04-19T09:13:29.679081Z",
     "start_time": "2021-04-19T09:13:29.671078Z"
    }
   },
   "outputs": [
    {
     "ename": "TypeError",
     "evalue": "unsupported operand type(s) for +: 'int' and 'str'",
     "output_type": "error",
     "traceback": [
      "\u001b[1;31m---------------------------------------------------------------------------\u001b[0m",
      "\u001b[1;31mTypeError\u001b[0m                                 Traceback (most recent call last)",
      "\u001b[1;32m<ipython-input-26-6012387c82e6>\u001b[0m in \u001b[0;36m<module>\u001b[1;34m\u001b[0m\n\u001b[0;32m      1\u001b[0m \u001b[0ma\u001b[0m \u001b[1;33m=\u001b[0m \u001b[1;33m[\u001b[0m\u001b[1;36m1\u001b[0m\u001b[1;33m,\u001b[0m \u001b[1;36m2\u001b[0m\u001b[1;33m,\u001b[0m \u001b[1;36m3\u001b[0m\u001b[1;33m]\u001b[0m\u001b[1;33m\u001b[0m\u001b[1;33m\u001b[0m\u001b[0m\n\u001b[1;32m----> 2\u001b[1;33m \u001b[0mprint\u001b[0m\u001b[1;33m(\u001b[0m\u001b[0ma\u001b[0m\u001b[1;33m[\u001b[0m\u001b[1;36m2\u001b[0m\u001b[1;33m]\u001b[0m \u001b[1;33m+\u001b[0m \u001b[1;34m\"hi\"\u001b[0m\u001b[1;33m)\u001b[0m \u001b[1;31m# 에러 발생\u001b[0m\u001b[1;33m\u001b[0m\u001b[1;33m\u001b[0m\u001b[0m\n\u001b[0m",
      "\u001b[1;31mTypeError\u001b[0m: unsupported operand type(s) for +: 'int' and 'str'"
     ]
    }
   ],
   "source": [
    "a = [1, 2, 3]\n",
    "print(a[2] + \"hi\") # 에러 발생"
   ]
  },
  {
   "cell_type": "code",
   "execution_count": 27,
   "id": "9e0b7d46",
   "metadata": {
    "ExecuteTime": {
     "end_time": "2021-04-19T09:13:51.214480Z",
     "start_time": "2021-04-19T09:13:51.200481Z"
    }
   },
   "outputs": [
    {
     "data": {
      "text/plain": [
       "'3hi'"
      ]
     },
     "execution_count": 27,
     "metadata": {},
     "output_type": "execute_result"
    }
   ],
   "source": [
    "str(a[2]) + 'hi'"
   ]
  },
  {
   "cell_type": "markdown",
   "id": "a17b2e12",
   "metadata": {},
   "source": [
    "#### 리스트의 수정과 삭제\n",
    "- 리스트에서 값 수정하기"
   ]
  },
  {
   "cell_type": "code",
   "execution_count": 28,
   "id": "841983c8",
   "metadata": {
    "ExecuteTime": {
     "end_time": "2021-04-19T09:15:14.976985Z",
     "start_time": "2021-04-19T09:15:14.964985Z"
    }
   },
   "outputs": [
    {
     "name": "stdout",
     "output_type": "stream",
     "text": [
      "[1, 2, 3]\n",
      "[1, 2, 4]\n"
     ]
    }
   ],
   "source": [
    "a = [1, 2, 3]\n",
    "print(a)\n",
    "a[2] = 4\n",
    "print(a)"
   ]
  },
  {
   "cell_type": "markdown",
   "id": "3a0da88e",
   "metadata": {
    "ExecuteTime": {
     "end_time": "2021-04-19T09:15:32.797835Z",
     "start_time": "2021-04-19T09:15:32.786862Z"
    }
   },
   "source": [
    "- del 함수 사용해 리스트 요소 삭제하기\n",
    "    - del 함수는 파이썬 내장 삭제 함수이다.\n",
    "    - 아래와 같이 리스트 뿐만 아니라 어떤 객체도 올 수 있다.\n",
    "    ``` python\n",
    "    del 객체\n",
    "    ```"
   ]
  },
  {
   "cell_type": "code",
   "execution_count": 31,
   "id": "07391d7b",
   "metadata": {
    "ExecuteTime": {
     "end_time": "2021-04-19T09:24:22.586110Z",
     "start_time": "2021-04-19T09:24:22.580109Z"
    }
   },
   "outputs": [
    {
     "name": "stdout",
     "output_type": "stream",
     "text": [
      "[1]\n"
     ]
    }
   ],
   "source": [
    "a = [1, 2, 3]\n",
    "del a[1:]\n",
    "print(a)"
   ]
  },
  {
   "cell_type": "markdown",
   "id": "2414f7a7",
   "metadata": {
    "ExecuteTime": {
     "end_time": "2021-04-19T09:24:38.288562Z",
     "start_time": "2021-04-19T09:24:38.284562Z"
    }
   },
   "source": [
    "#### 리스트 관련 함수들\n",
    "- 리스트에 요소 추가(append)"
   ]
  },
  {
   "cell_type": "code",
   "execution_count": 34,
   "id": "af674784",
   "metadata": {
    "ExecuteTime": {
     "end_time": "2021-04-19T09:25:22.219315Z",
     "start_time": "2021-04-19T09:25:22.216290Z"
    }
   },
   "outputs": [
    {
     "name": "stdout",
     "output_type": "stream",
     "text": [
      "[1, 2, 3, [5, 6]]\n"
     ]
    }
   ],
   "source": [
    "a = [1, 2, 3]\n",
    "a.append([5, 6])\n",
    "print(a)"
   ]
  },
  {
   "cell_type": "markdown",
   "id": "f6dc3382",
   "metadata": {
    "ExecuteTime": {
     "end_time": "2021-04-19T09:26:00.665138Z",
     "start_time": "2021-04-19T09:26:00.656138Z"
    }
   },
   "source": [
    "- 리스트 정렬(sort)"
   ]
  },
  {
   "cell_type": "code",
   "execution_count": 37,
   "id": "d71f9afd",
   "metadata": {
    "ExecuteTime": {
     "end_time": "2021-04-19T09:27:38.679386Z",
     "start_time": "2021-04-19T09:27:38.674385Z"
    }
   },
   "outputs": [
    {
     "name": "stdout",
     "output_type": "stream",
     "text": [
      "[1, 2, 3, 4]\n",
      "['a', 'b', 'c']\n"
     ]
    }
   ],
   "source": [
    "a = [1, 4, 3, 2]\n",
    "a.sort()\n",
    "print(a)\n",
    "a = ['a', 'c', 'b']\n",
    "a.sort()\n",
    "print(a)"
   ]
  },
  {
   "cell_type": "markdown",
   "id": "651abe1c",
   "metadata": {},
   "source": [
    "- 리스트 뒤집기(reverse)"
   ]
  },
  {
   "cell_type": "code",
   "execution_count": 38,
   "id": "518f715b",
   "metadata": {
    "ExecuteTime": {
     "end_time": "2021-04-19T09:28:54.896516Z",
     "start_time": "2021-04-19T09:28:54.879547Z"
    }
   },
   "outputs": [
    {
     "name": "stdout",
     "output_type": "stream",
     "text": [
      "['b', 'c', 'a']\n"
     ]
    }
   ],
   "source": [
    "a = ['a', 'c', 'b']\n",
    "a.reverse()\n",
    "print(a)"
   ]
  },
  {
   "cell_type": "markdown",
   "id": "a67785b0",
   "metadata": {},
   "source": [
    "- 위치 반환(index)"
   ]
  },
  {
   "cell_type": "code",
   "execution_count": 39,
   "id": "caea8daf",
   "metadata": {
    "ExecuteTime": {
     "end_time": "2021-04-19T09:29:33.265767Z",
     "start_time": "2021-04-19T09:29:33.259737Z"
    }
   },
   "outputs": [
    {
     "name": "stdout",
     "output_type": "stream",
     "text": [
      "1\n"
     ]
    }
   ],
   "source": [
    "a = ['a', 'c', 'b']\n",
    "print(a.index('c'))"
   ]
  },
  {
   "cell_type": "markdown",
   "id": "11775c56",
   "metadata": {},
   "source": [
    "- 리스트에 요소 삽입(insert)"
   ]
  },
  {
   "cell_type": "code",
   "execution_count": 41,
   "id": "eb6997e7",
   "metadata": {
    "ExecuteTime": {
     "end_time": "2021-04-19T09:30:36.415232Z",
     "start_time": "2021-04-19T09:30:36.399232Z"
    }
   },
   "outputs": [
    {
     "name": "stdout",
     "output_type": "stream",
     "text": [
      "[4, 1, 2, 5, 3]\n"
     ]
    }
   ],
   "source": [
    "a = [1, 2, 3]\n",
    "a.insert(0, 4)\n",
    "a.insert(3, 5)\n",
    "print(a)"
   ]
  },
  {
   "cell_type": "markdown",
   "id": "e431d562",
   "metadata": {},
   "source": [
    "- 리스트 요소 제거(remove)"
   ]
  },
  {
   "cell_type": "code",
   "execution_count": 42,
   "id": "6c80d2dd",
   "metadata": {
    "ExecuteTime": {
     "end_time": "2021-04-19T09:31:25.203756Z",
     "start_time": "2021-04-19T09:31:25.199756Z"
    }
   },
   "outputs": [
    {
     "data": {
      "text/plain": [
       "[1, 2, 1, 2, 3]"
      ]
     },
     "execution_count": 42,
     "metadata": {},
     "output_type": "execute_result"
    }
   ],
   "source": [
    "a = [1, 2, 3, 1, 2, 3]\n",
    "a.remove(3)\n",
    "a"
   ]
  },
  {
   "cell_type": "markdown",
   "id": "8c19b6da",
   "metadata": {},
   "source": [
    "- 리스트 요소 끄집어내기(pop)"
   ]
  },
  {
   "cell_type": "code",
   "execution_count": 45,
   "id": "24dafc59",
   "metadata": {
    "ExecuteTime": {
     "end_time": "2021-04-19T09:32:33.480612Z",
     "start_time": "2021-04-19T09:32:33.463612Z"
    }
   },
   "outputs": [
    {
     "name": "stdout",
     "output_type": "stream",
     "text": [
      "3\n",
      "[1, 2]\n",
      "1\n",
      "[2, 3]\n"
     ]
    }
   ],
   "source": [
    "a = [1, 2, 3]\n",
    "print(a.pop())\n",
    "print(a)\n",
    "a = [1, 2, 3]\n",
    "print(a.pop(0))\n",
    "print(a)"
   ]
  },
  {
   "cell_type": "markdown",
   "id": "8614655f",
   "metadata": {},
   "source": [
    "- 리스트에 포함된 요소 x의 개수 세기(count)"
   ]
  },
  {
   "cell_type": "code",
   "execution_count": 46,
   "id": "accc2d88",
   "metadata": {
    "ExecuteTime": {
     "end_time": "2021-04-19T09:33:15.468280Z",
     "start_time": "2021-04-19T09:33:15.455280Z"
    }
   },
   "outputs": [
    {
     "data": {
      "text/plain": [
       "2"
      ]
     },
     "execution_count": 46,
     "metadata": {},
     "output_type": "execute_result"
    }
   ],
   "source": [
    "a = [1, 2, 3, 1]\n",
    "a.count(1)"
   ]
  },
  {
   "cell_type": "markdown",
   "id": "0a98b006",
   "metadata": {},
   "source": [
    "- 리스트 확장(extend)"
   ]
  },
  {
   "cell_type": "code",
   "execution_count": 48,
   "id": "c8c28168",
   "metadata": {
    "ExecuteTime": {
     "end_time": "2021-04-19T09:34:00.479580Z",
     "start_time": "2021-04-19T09:34:00.464611Z"
    }
   },
   "outputs": [
    {
     "name": "stdout",
     "output_type": "stream",
     "text": [
      "[1, 2, 3, 4, 5]\n",
      "[1, 2, 3, 4, 5]\n"
     ]
    }
   ],
   "source": [
    "a = [1, 2, 3]\n",
    "a.extend([4, 5])\n",
    "print(a)\n",
    "a = [1, 2, 3]\n",
    "a += [4, 5]\n",
    "print(a)"
   ]
  },
  {
   "cell_type": "markdown",
   "id": "2c2b8a7c",
   "metadata": {},
   "source": [
    "### 2.4 튜플 자료형\n",
    "#### 튜플은 어떻게 만들까?\n",
    "- 튜플은 아래의 내용을 제외하고는 리스트와 거의 비슷한 자료형이다.\n",
    "    - 튜플은 ( )으로 둘러싼다.\n",
    "    - 리스트는 값의 생성, 삭제, 수정이 가능하지만, 튜플은 값을 바꿀 수 없다.\n",
    "    - 1개의 요소만을 가질 때에는 반드시 요소 뒤에 콤마를 붙여야 한다."
   ]
  },
  {
   "cell_type": "code",
   "execution_count": 53,
   "id": "d1a2f0c4",
   "metadata": {
    "ExecuteTime": {
     "end_time": "2021-04-19T12:26:31.077216Z",
     "start_time": "2021-04-19T12:26:31.054217Z"
    }
   },
   "outputs": [
    {
     "name": "stdout",
     "output_type": "stream",
     "text": [
      "(2,)\n",
      "(1, 2, 3)\n"
     ]
    },
    {
     "ename": "TypeError",
     "evalue": "'tuple' object doesn't support item deletion",
     "output_type": "error",
     "traceback": [
      "\u001b[1;31m---------------------------------------------------------------------------\u001b[0m",
      "\u001b[1;31mTypeError\u001b[0m                                 Traceback (most recent call last)",
      "\u001b[1;32m<ipython-input-53-2316129d6cbb>\u001b[0m in \u001b[0;36m<module>\u001b[1;34m\u001b[0m\n\u001b[0;32m      3\u001b[0m \u001b[0ma\u001b[0m \u001b[1;33m=\u001b[0m \u001b[1;36m1\u001b[0m\u001b[1;33m,\u001b[0m \u001b[1;36m2\u001b[0m\u001b[1;33m,\u001b[0m \u001b[1;36m3\u001b[0m \u001b[1;31m# 괄호를 치지 않아도 튜플 생성이 가능하다.\u001b[0m\u001b[1;33m\u001b[0m\u001b[1;33m\u001b[0m\u001b[0m\n\u001b[0;32m      4\u001b[0m \u001b[0mprint\u001b[0m\u001b[1;33m(\u001b[0m\u001b[0ma\u001b[0m\u001b[1;33m)\u001b[0m\u001b[1;33m\u001b[0m\u001b[1;33m\u001b[0m\u001b[0m\n\u001b[1;32m----> 5\u001b[1;33m \u001b[1;32mdel\u001b[0m \u001b[0ma\u001b[0m\u001b[1;33m[\u001b[0m\u001b[1;36m1\u001b[0m\u001b[1;33m]\u001b[0m    \u001b[1;31m# 튜플은 값을 변경할 수 없으므로 튜플의 요소를 삭제하려고 하면 에러가 발생한다.\u001b[0m\u001b[1;33m\u001b[0m\u001b[1;33m\u001b[0m\u001b[0m\n\u001b[0m",
      "\u001b[1;31mTypeError\u001b[0m: 'tuple' object doesn't support item deletion"
     ]
    }
   ],
   "source": [
    "a = (2,)\n",
    "print(a)\n",
    "a = 1, 2, 3 # 괄호를 치지 않아도 튜플 생성이 가능하다.\n",
    "print(a)\n",
    "del a[1]    # 튜플은 값을 변경할 수 없으므로 튜플의 요소를 삭제하려고 하면 에러가 발생한다."
   ]
  },
  {
   "cell_type": "markdown",
   "id": "548114ad",
   "metadata": {},
   "source": [
    "#### 튜플 다루기\n",
    "- 인덱싱하기"
   ]
  },
  {
   "cell_type": "code",
   "execution_count": 54,
   "id": "257a7ab8",
   "metadata": {
    "ExecuteTime": {
     "end_time": "2021-04-19T12:28:06.288227Z",
     "start_time": "2021-04-19T12:28:06.276228Z"
    }
   },
   "outputs": [
    {
     "name": "stdout",
     "output_type": "stream",
     "text": [
      "1 b\n"
     ]
    }
   ],
   "source": [
    "t1 = (1, 2, 'a', 'b')\n",
    "print(t1[0], t1[3])"
   ]
  },
  {
   "cell_type": "markdown",
   "id": "3bd6ca48",
   "metadata": {},
   "source": [
    "- 슬라이싱하기"
   ]
  },
  {
   "cell_type": "code",
   "execution_count": 55,
   "id": "4638af61",
   "metadata": {
    "ExecuteTime": {
     "end_time": "2021-04-19T12:28:42.233047Z",
     "start_time": "2021-04-19T12:28:42.229050Z"
    }
   },
   "outputs": [
    {
     "name": "stdout",
     "output_type": "stream",
     "text": [
      "(2, 'a', 'b')\n"
     ]
    }
   ],
   "source": [
    "t1 = (1, 2, 'a', 'b')\n",
    "print(t1[1:])"
   ]
  },
  {
   "cell_type": "markdown",
   "id": "fde0f0ff",
   "metadata": {},
   "source": [
    "- 튜플 더하기 및 곱하기"
   ]
  },
  {
   "cell_type": "code",
   "execution_count": 57,
   "id": "8331008f",
   "metadata": {
    "ExecuteTime": {
     "end_time": "2021-04-19T12:29:29.194601Z",
     "start_time": "2021-04-19T12:29:29.177600Z"
    }
   },
   "outputs": [
    {
     "name": "stdout",
     "output_type": "stream",
     "text": [
      "(1, 2, 'a', 'b', 3, 4)\n"
     ]
    }
   ],
   "source": [
    "t1 = (1, 2, 'a', 'b')\n",
    "t2 = (3, 4)\n",
    "print(t1 + t2)"
   ]
  },
  {
   "cell_type": "markdown",
   "id": "6ea9dd85",
   "metadata": {},
   "source": [
    "- 튜플 길이 구하기"
   ]
  },
  {
   "cell_type": "code",
   "execution_count": 58,
   "id": "0f5665da",
   "metadata": {
    "ExecuteTime": {
     "end_time": "2021-04-19T12:29:52.987685Z",
     "start_time": "2021-04-19T12:29:52.970684Z"
    }
   },
   "outputs": [
    {
     "data": {
      "text/plain": [
       "4"
      ]
     },
     "execution_count": 58,
     "metadata": {},
     "output_type": "execute_result"
    }
   ],
   "source": [
    "t1 = (1, 2, 'a', 'b')\n",
    "len(t1)"
   ]
  }
 ],
 "metadata": {
  "kernelspec": {
   "display_name": "Python 3",
   "language": "python",
   "name": "python3"
  },
  "language_info": {
   "codemirror_mode": {
    "name": "ipython",
    "version": 3
   },
   "file_extension": ".py",
   "mimetype": "text/x-python",
   "name": "python",
   "nbconvert_exporter": "python",
   "pygments_lexer": "ipython3",
   "version": "3.7.9"
  }
 },
 "nbformat": 4,
 "nbformat_minor": 5
}
