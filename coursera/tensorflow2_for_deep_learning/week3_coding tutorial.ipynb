{
 "cells": [
  {
   "cell_type": "code",
   "execution_count": 1,
   "metadata": {
    "ExecuteTime": {
     "end_time": "2021-02-22T13:11:59.908328Z",
     "start_time": "2021-02-22T13:11:52.325836Z"
    },
    "id": "ygsWDtvs3Mbu",
    "scrolled": true
   },
   "outputs": [
    {
     "name": "stdout",
     "output_type": "stream",
     "text": [
      "2.0.0\n"
     ]
    }
   ],
   "source": [
    "import tensorflow as tf\n",
    "print(tf.__version__)"
   ]
  },
  {
   "cell_type": "markdown",
   "metadata": {
    "id": "h9oMPb5A3McA"
   },
   "source": [
    "# Validation, regularisation and callbacks"
   ]
  },
  {
   "cell_type": "markdown",
   "metadata": {
    "id": "Ve8H-Nxg3McJ"
   },
   "source": [
    " ## Coding tutorials\n",
    " #### [1. Validation sets](#coding_tutorial_1)\n",
    " #### [2. Model regularisation](#coding_tutorial_2)\n",
    " #### [3. Introduction to callbacks](#coding_tutorial_3)\n",
    " #### [4. Early stopping / patience](#coding_tutorial_4)"
   ]
  },
  {
   "cell_type": "markdown",
   "metadata": {
    "id": "muj8MX183McM"
   },
   "source": [
    "***\n",
    "<a id=\"coding_tutorial_1\"></a>\n",
    "## Validation sets"
   ]
  },
  {
   "cell_type": "markdown",
   "metadata": {},
   "source": [
    "# 2021/02/22"
   ]
  },
  {
   "cell_type": "markdown",
   "metadata": {},
   "source": [
    "- 모델을 훈련할 때 검증(Validation) 데이터셋을 사용할 경우 `model.fit` 메서드를 사용할 때 `validation_split` 옵션을 주면 된다.\n",
    "- 또는 사이킷런의 `train_test_split`을 이용하는 방법도 있다.\n",
    "- `train_test_split`은 전체 데이터셋을 훈련 데이터셋과 테스트 데이터셋을 나누기 위해 사용하는 함수이지만, \n",
    "훈련 데이터셋에서 원하는 비율만큼 검증 데이터셋을 나눌 때에도 동일하게 사용할 수 있다.\n",
    "- `train_test_split`을 이용하여 훈련 데이터셋과 검증 데이터셋을 미리 나눈 경우 `model.fit` 메서드에서 \n",
    "`validation_data` 옵션을 통해 검증 데이터셋을 입력하면 된다.\n",
    "- 검증 데이터셋을 사용할 경우 `history`에 훈련 데이터셋에 대한 평가 지표와 더불어 검증 데이터셋에 대한 평가 지표 또한 입력된다."
   ]
  },
  {
   "cell_type": "code",
   "execution_count": null,
   "metadata": {
    "ExecuteTime": {
     "end_time": "2021-02-22T13:38:08.767573Z",
     "start_time": "2021-02-22T13:38:06.195471Z"
    }
   },
   "outputs": [],
   "source": [
    "import tensorflow as tf\n",
    "from tensorflow.keras.models import Sequential\n",
    "from tensorflow.keras.layers import Dense\n",
    "from tensorflow.keras.optimizers import Adam\n",
    "from sklearn.model_selection import train_test_split\n",
    "\n",
    "(X_train, y_train), (X_test, y_test) = tf.keras.datasets.fashion_mnist.load_data()\n",
    "\n",
    "X_train, X_val, y_train, y_val = train_test_split(X_train, y_train, test_size=0.1)\n",
    "\n",
    "# history = model.fit(X_train, y_train, validation_split=0.2)\n",
    "history = model.fit(X_train, y_train, validation_data=(X_val, y_val))\n",
    "print(history.history.keys())"
   ]
  },
  {
   "cell_type": "markdown",
   "metadata": {
    "id": "rNHi2tUG3McN"
   },
   "source": [
    "#### Load the data"
   ]
  },
  {
   "cell_type": "code",
   "execution_count": 23,
   "metadata": {
    "ExecuteTime": {
     "end_time": "2021-02-22T13:56:58.250693Z",
     "start_time": "2021-02-22T13:56:58.233727Z"
    },
    "id": "duORZisF3McO"
   },
   "outputs": [
    {
     "name": "stdout",
     "output_type": "stream",
     "text": [
      ".. _diabetes_dataset:\n",
      "\n",
      "Diabetes dataset\n",
      "----------------\n",
      "\n",
      "Ten baseline variables, age, sex, body mass index, average blood\n",
      "pressure, and six blood serum measurements were obtained for each of n =\n",
      "442 diabetes patients, as well as the response of interest, a\n",
      "quantitative measure of disease progression one year after baseline.\n",
      "\n",
      "**Data Set Characteristics:**\n",
      "\n",
      "  :Number of Instances: 442\n",
      "\n",
      "  :Number of Attributes: First 10 columns are numeric predictive values\n",
      "\n",
      "  :Target: Column 11 is a quantitative measure of disease progression one year after baseline\n",
      "\n",
      "  :Attribute Information:\n",
      "      - age     age in years\n",
      "      - sex\n",
      "      - bmi     body mass index\n",
      "      - bp      average blood pressure\n",
      "      - s1      tc, T-Cells (a type of white blood cells)\n",
      "      - s2      ldl, low-density lipoproteins\n",
      "      - s3      hdl, high-density lipoproteins\n",
      "      - s4      tch, thyroid stimulating hormone\n",
      "      - s5      ltg, lamotrigine\n",
      "      - s6      glu, blood sugar level\n",
      "\n",
      "Note: Each of these 10 feature variables have been mean centered and scaled by the standard deviation times `n_samples` (i.e. the sum of squares of each column totals 1).\n",
      "\n",
      "Source URL:\n",
      "https://www4.stat.ncsu.edu/~boos/var.select/diabetes.html\n",
      "\n",
      "For more information see:\n",
      "Bradley Efron, Trevor Hastie, Iain Johnstone and Robert Tibshirani (2004) \"Least Angle Regression,\" Annals of Statistics (with discussion), 407-499.\n",
      "(https://web.stanford.edu/~hastie/Papers/LARS/LeastAngle_2002.pdf)\n"
     ]
    }
   ],
   "source": [
    "# Load the diabetes dataset\n",
    "from sklearn.datasets import load_diabetes\n",
    "\n",
    "diabetes_dataset = load_diabetes()\n",
    "print(diabetes_dataset[\"DESCR\"])"
   ]
  },
  {
   "cell_type": "code",
   "execution_count": 26,
   "metadata": {
    "ExecuteTime": {
     "end_time": "2021-02-22T13:58:31.138190Z",
     "start_time": "2021-02-22T13:58:31.124221Z"
    },
    "id": "FsecNGzJ3McP"
   },
   "outputs": [],
   "source": [
    "# Save the input and target variables\n",
    "# print(diabetes_dataset.keys())\n",
    "data = diabetes_dataset[\"data\"]\n",
    "targets = diabetes_dataset[\"target\"]"
   ]
  },
  {
   "cell_type": "code",
   "execution_count": 28,
   "metadata": {
    "ExecuteTime": {
     "end_time": "2021-02-22T13:59:22.931707Z",
     "start_time": "2021-02-22T13:59:22.911706Z"
    },
    "id": "rZyszXUs3McQ"
   },
   "outputs": [
    {
     "data": {
      "text/plain": [
       "array([-1.47194752e-02, -1.00165882e+00, -1.44579915e-01,  6.99512942e-01,\n",
       "       -2.22496178e-01, -7.15965848e-01, -1.83538046e-01, -1.15749134e+00,\n",
       "       -5.47147277e-01,  2.05006151e+00, -6.64021672e-01, -1.07957508e+00,\n",
       "        3.48889755e-01,  4.26806019e-01, -4.43258925e-01,  2.45001404e-01,\n",
       "        1.80071184e-01, -1.05621783e-01, -7.15965848e-01,  2.06043272e-01,\n",
       "       -1.09256112e+00, -1.33929596e+00, -1.09256112e+00,  1.20596866e+00,\n",
       "        4.13819975e-01,  6.47568766e-01, -1.96524090e-01, -8.71798376e-01,\n",
       "       -2.74440354e-01,  1.69943833e+00, -3.00412442e-01, -1.20943552e+00,\n",
       "        2.45262887e+00, -8.45826288e-01, -1.13151925e+00, -6.51035629e-01,\n",
       "        1.46568953e+00,  1.60853602e+00,  1.29687096e+00, -8.06868156e-01,\n",
       "       -6.77007716e-01, -1.26137969e+00, -1.18346343e+00, -7.80896068e-01,\n",
       "        1.38777327e+00, -1.28735178e+00,  4.91736239e-01, -1.31593871e-01,\n",
       "       -1.00165882e+00, -1.31593871e-01,  3.72247006e-02,  9.46247777e-01,\n",
       "       -1.20943552e+00, -6.25063541e-01,  3.87847887e-01, -3.13398486e-01,\n",
       "       -1.30033783e+00, -1.49512849e+00,  2.32015360e-01,  2.32015360e-01,\n",
       "       -1.18346343e+00, -1.05621783e-01, -1.30033783e+00, -3.13398486e-01,\n",
       "       -1.05360299e+00,  1.41113052e-01, -2.77055191e-02, -7.15965848e-01,\n",
       "        1.02154920e-01,  3.35903711e-01, -1.35228200e+00,  1.53061975e+00,\n",
       "        6.47568766e-01, -5.34161233e-01, -8.71798376e-01, -1.43019827e+00,\n",
       "        2.32015360e-01,  6.21596678e-01,  1.29687096e+00, -5.08189145e-01,\n",
       "       -1.18607827e-01, -1.31332387e+00, -1.30033783e+00,  7.51457118e-01,\n",
       "       -1.13151925e+00, -1.44579915e-01, -1.26137969e+00, -2.35482222e-01,\n",
       "       -1.43019827e+00, -5.34161233e-01, -7.02979804e-01,  1.54099096e-01,\n",
       "       -1.35228200e+00, -7.28951892e-01, -8.06868156e-01,  1.28127008e-01,\n",
       "       -2.77055191e-02,  1.64749415e+00, -7.80896068e-01, -8.97770464e-01,\n",
       "       -3.13398486e-01, -6.51035629e-01,  1.94617316e+00,  5.95624590e-01,\n",
       "       -7.41937936e-01, -1.28735178e+00, -2.35482222e-01, -1.05621783e-01,\n",
       "        1.03715008e+00, -9.23742551e-01, -6.25063541e-01, -1.20943552e+00,\n",
       "        1.21895470e+00,  1.88124294e+00,  1.37478723e+00,  9.98191953e-01,\n",
       "        1.59554997e+00,  1.67346624e+00,  3.48889755e-01,  6.21596678e-01,\n",
       "        6.21596678e-01,  2.70973492e-01,  3.61875799e-01, -8.84784420e-01,\n",
       "       -4.04300794e-01,  1.15140964e-01, -6.89993760e-01, -5.60133321e-01,\n",
       "       -4.82217057e-01,  1.50464767e+00,  1.58256393e+00,  7.61828325e-02,\n",
       "       -5.86105409e-01, -8.97770464e-01, -6.38049585e-01,  1.55659184e+00,\n",
       "       -8.71798376e-01,  1.66048019e+00,  2.38769865e+00,  1.67346624e+00,\n",
       "       -4.43258925e-01,  2.14096382e+00,  1.07610822e+00, -1.19644947e+00,\n",
       "        2.83959536e-01,  1.38777327e+00,  3.35903711e-01, -3.13398486e-01,\n",
       "       -7.28951892e-01, -3.39370574e-01,  1.76436855e+00, -8.32840244e-01,\n",
       "        1.81631272e+00, -1.05360299e+00,  5.82638546e-01,  4.39792063e-01,\n",
       "       -1.65096101e+00, -8.84784420e-01, -7.28951892e-01,  5.56666458e-01,\n",
       "       -1.28735178e+00,  8.42359425e-01,  2.57987448e-01, -2.74440354e-01,\n",
       "        8.03401293e-01, -1.20943552e+00, -1.06658903e+00,  8.81317557e-01,\n",
       "        1.50464767e+00, -1.73343121e-03, -1.36526805e+00, -1.01464486e+00,\n",
       "        1.85527085e+00, -6.64021672e-01, -1.47194752e-02, -3.26384530e-01,\n",
       "        1.10208030e+00,  9.46247777e-01, -9.23742551e-01, -1.47194752e-02,\n",
       "       -5.86105409e-01, -1.14450530e+00, -1.83538046e-01,  4.26806019e-01,\n",
       "        1.46568953e+00, -6.64021672e-01, -1.96524090e-01, -1.18607827e-01,\n",
       "       -1.44579915e-01, -9.49714639e-01,  1.81631272e+00,  3.35903711e-01,\n",
       "       -7.93882112e-01, -4.69231013e-01, -8.58812332e-01, -3.91314750e-01,\n",
       "       -1.04061695e+00, -3.00412442e-01, -1.31593871e-01, -8.06868156e-01,\n",
       "        7.61828325e-02, -1.46915640e+00,  5.69652502e-01,  9.07289645e-01,\n",
       "        1.62152206e+00, -6.89993760e-01,  5.69652502e-01,  6.47568766e-01,\n",
       "        3.72247006e-02, -9.75686727e-01,  5.04722283e-01, -1.06658903e+00,\n",
       "       -1.02763090e+00, -1.33929596e+00, -1.13151925e+00,  1.43971745e+00,\n",
       "        1.24492679e+00,  1.86825690e+00,  8.03401293e-01,  4.26806019e-01,\n",
       "       -9.62700683e-01, -7.67910024e-01,  1.29687096e+00, -2.77055191e-02,\n",
       "       -9.75686727e-01,  7.25485030e-01, -9.75686727e-01, -5.73119365e-01,\n",
       "        1.02154920e-01, -1.28735178e+00,  8.81317557e-01,  2.42386567e-02,\n",
       "        1.38777327e+00, -8.06868156e-01,  1.21895470e+00, -3.65342662e-01,\n",
       "       -1.10554717e+00, -1.04061695e+00,  1.36180118e+00,  1.42673140e+00,\n",
       "        1.59554997e+00,  3.22917667e-01, -1.05360299e+00, -1.36526805e+00,\n",
       "        4.52778107e-01, -3.52356618e-01, -9.62700683e-01, -1.31332387e+00,\n",
       "        1.37478723e+00,  8.16387337e-01,  1.95915920e+00,  1.17999657e+00,\n",
       "       -7.93882112e-01, -2.77055191e-02,  2.05006151e+00,  1.12526127e-02,\n",
       "        2.51755909e+00, -1.15749134e+00, -8.19854200e-01, -1.32630991e+00,\n",
       "       -1.46915640e+00, -6.38049585e-01,  2.02408942e+00, -4.69231013e-01,\n",
       "       -9.26357388e-02, -1.01464486e+00, -1.39124013e+00, -4.82217057e-01,\n",
       "        1.45270349e+00, -8.45826288e-01,  6.47568766e-01, -3.26384530e-01,\n",
       "        3.87847887e-01,  1.15402448e+00, -1.11853321e+00, -7.54923980e-01,\n",
       "        1.69943833e+00, -1.14450530e+00, -6.51035629e-01,  6.21596678e-01,\n",
       "        1.46568953e+00, -7.54923980e-01,  1.01117800e+00,  3.74861843e-01,\n",
       "        5.02107446e-02,  1.05013613e+00, -1.19644947e+00,  8.68331513e-01,\n",
       "       -9.36728595e-01, -1.09256112e+00,  2.33575448e+00,  1.24492679e+00,\n",
       "       -8.84784420e-01,  6.21596678e-01, -1.26137969e+00, -8.71798376e-01,\n",
       "       -8.19854200e-01, -1.57304475e+00, -3.00412442e-01, -8.97770464e-01,\n",
       "        1.59554997e+00, -1.13151925e+00,  5.95624590e-01,  1.08909426e+00,\n",
       "        1.30985701e+00, -3.65342662e-01, -1.40422618e+00,  2.57987448e-01,\n",
       "       -4.95203101e-01, -1.31593871e-01, -5.60133321e-01,  3.61875799e-01,\n",
       "       -1.05621783e-01,  1.41113052e-01, -6.66636509e-02, -7.15965848e-01,\n",
       "        8.81317557e-01,  4.91736239e-01, -5.60133321e-01,  5.04722283e-01,\n",
       "       -3.91314750e-01,  1.01117800e+00,  1.16701052e+00,  1.24492679e+00,\n",
       "        1.25791283e+00,  5.17708327e-01, -2.74440354e-01,  1.10208030e+00,\n",
       "       -9.62700683e-01, -2.22496178e-01,  1.19298261e+00,  6.08610634e-01,\n",
       "        1.53061975e+00,  1.54099096e-01, -1.04061695e+00, -7.28951892e-01,\n",
       "        1.99811734e+00, -7.93882112e-01,  8.03401293e-01, -7.41937936e-01,\n",
       "        8.29373381e-01,  1.43971745e+00,  3.35903711e-01, -5.08189145e-01,\n",
       "        6.21596678e-01, -1.70552003e-01, -1.70552003e-01, -8.32840244e-01,\n",
       "       -5.36776070e-02, -8.32840244e-01,  1.17999657e+00, -1.05360299e+00,\n",
       "       -9.75686727e-01, -5.60133321e-01,  1.55659184e+00, -1.19644947e+00,\n",
       "       -1.27436574e+00,  8.94303601e-01, -8.06868156e-01,  2.06304756e+00,\n",
       "        1.67346624e+00,  3.87847887e-01,  2.19290800e+00, -1.22242156e+00,\n",
       "        1.42673140e+00,  6.99512942e-01,  1.05013613e+00,  1.16701052e+00,\n",
       "       -3.78328706e-01,  1.93057228e-01, -1.15749134e+00,  5.82638546e-01,\n",
       "       -1.05360299e+00,  2.06043272e-01, -1.57565959e-01,  8.42359425e-01,\n",
       "       -4.04300794e-01,  1.07610822e+00,  1.20596866e+00, -1.45617035e+00,\n",
       "       -1.30033783e+00, -6.25063541e-01, -2.61454310e-01, -8.32840244e-01,\n",
       "       -1.07957508e+00,  8.68331513e-01, -1.04061695e+00,  6.34582722e-01,\n",
       "       -5.47147277e-01, -1.31332387e+00,  1.62152206e+00, -1.15749134e+00,\n",
       "       -4.43258925e-01, -1.07957508e+00,  1.56957789e+00,  1.37478723e+00,\n",
       "       -1.41721222e+00,  5.95624590e-01,  1.16701052e+00,  1.03715008e+00,\n",
       "        2.96945580e-01, -7.67910024e-01,  2.06043272e-01,  1.59554997e+00,\n",
       "        1.82929877e+00,  1.67346624e+00, -1.04061695e+00, -1.57565959e-01,\n",
       "        4.78750195e-01,  3.74861843e-01,  7.38471074e-01, -2.09510134e-01,\n",
       "        1.41374536e+00, -5.08189145e-01, -2.74440354e-01,  2.83959536e-01,\n",
       "        1.36180118e+00, -1.26137969e+00, -8.84784420e-01, -1.43019827e+00,\n",
       "       -7.96496949e-02,  7.77429206e-01,  1.05013613e+00, -7.93882112e-01,\n",
       "       -5.34161233e-01, -1.73343121e-03, -4.17286837e-01, -1.10554717e+00,\n",
       "        2.05006151e+00, -7.54923980e-01,  4.00833931e-01, -1.11853321e+00,\n",
       "        2.70973492e-01, -1.04061695e+00, -1.33929596e+00, -1.14450530e+00,\n",
       "       -1.35228200e+00,  3.35903711e-01, -6.25063541e-01, -2.61454310e-01,\n",
       "        8.81317557e-01, -1.23540761e+00])"
      ]
     },
     "execution_count": 28,
     "metadata": {},
     "output_type": "execute_result"
    }
   ],
   "source": [
    "# Normalise the target data (this will make clearer training curves)\n",
    "targets = (targets - targets.mean(axis=0)) / targets.std()\n",
    "targets\n"
   ]
  },
  {
   "cell_type": "code",
   "execution_count": 29,
   "metadata": {
    "ExecuteTime": {
     "end_time": "2021-02-22T14:01:27.534881Z",
     "start_time": "2021-02-22T14:01:27.527882Z"
    },
    "id": "rGdwBC7B3McR"
   },
   "outputs": [
    {
     "name": "stdout",
     "output_type": "stream",
     "text": [
      "(397, 10)\n",
      "(45, 10)\n",
      "(397,)\n",
      "(45,)\n"
     ]
    }
   ],
   "source": [
    "# Split the data into train and test sets\n",
    "from sklearn.model_selection import train_test_split\n",
    "train_data, test_data, train_targets, test_targets = train_test_split(data, targets, test_size=0.1)\n",
    "print(train_data.shape)\n",
    "print(test_data.shape)\n",
    "print(train_targets.shape)\n",
    "print(test_targets.shape)"
   ]
  },
  {
   "cell_type": "markdown",
   "metadata": {
    "id": "ZgmapeMS3McS"
   },
   "source": [
    "#### Train a feedforward neural network model"
   ]
  },
  {
   "cell_type": "code",
   "execution_count": 34,
   "metadata": {
    "ExecuteTime": {
     "end_time": "2021-02-22T14:05:21.547257Z",
     "start_time": "2021-02-22T14:05:21.448225Z"
    },
    "id": "SR5gQaj53McT"
   },
   "outputs": [],
   "source": [
    "# Build the model\n",
    "from tensorflow.keras.models import Sequential\n",
    "from tensorflow.keras.layers import Dense\n",
    "\n",
    "def get_model():\n",
    "    model = Sequential([\n",
    "        Dense(128, activation='relu', input_shape=(train_data.shape[1],)), \n",
    "        Dense(128, activation='relu'),\n",
    "        Dense(128, activation='relu'),\n",
    "        Dense(128, activation='relu'),\n",
    "        Dense(128, activation='relu'),\n",
    "        Dense(128, activation='relu'),\n",
    "        Dense(1)\n",
    "    ])\n",
    "    return model\n",
    "\n",
    "model = get_model()"
   ]
  },
  {
   "cell_type": "code",
   "execution_count": 35,
   "metadata": {
    "ExecuteTime": {
     "end_time": "2021-02-22T14:05:22.888590Z",
     "start_time": "2021-02-22T14:05:22.881582Z"
    },
    "id": "5vWsq11t3McU"
   },
   "outputs": [
    {
     "name": "stdout",
     "output_type": "stream",
     "text": [
      "Model: \"sequential_8\"\n",
      "_________________________________________________________________\n",
      "Layer (type)                 Output Shape              Param #   \n",
      "=================================================================\n",
      "dense_20 (Dense)             (None, 128)               1408      \n",
      "_________________________________________________________________\n",
      "dense_21 (Dense)             (None, 128)               16512     \n",
      "_________________________________________________________________\n",
      "dense_22 (Dense)             (None, 128)               16512     \n",
      "_________________________________________________________________\n",
      "dense_23 (Dense)             (None, 128)               16512     \n",
      "_________________________________________________________________\n",
      "dense_24 (Dense)             (None, 128)               16512     \n",
      "_________________________________________________________________\n",
      "dense_25 (Dense)             (None, 128)               16512     \n",
      "_________________________________________________________________\n",
      "dense_26 (Dense)             (None, 1)                 129       \n",
      "=================================================================\n",
      "Total params: 84,097\n",
      "Trainable params: 84,097\n",
      "Non-trainable params: 0\n",
      "_________________________________________________________________\n"
     ]
    }
   ],
   "source": [
    "# Print the model summary\n",
    "model.summary()"
   ]
  },
  {
   "cell_type": "code",
   "execution_count": 36,
   "metadata": {
    "ExecuteTime": {
     "end_time": "2021-02-22T14:06:21.537312Z",
     "start_time": "2021-02-22T14:06:21.491289Z"
    },
    "id": "oqA8r20P3McU"
   },
   "outputs": [],
   "source": [
    "# Compile the model\n",
    "model.compile(optimizer='adam', loss='mse', metrics=['mae'])"
   ]
  },
  {
   "cell_type": "code",
   "execution_count": 37,
   "metadata": {
    "ExecuteTime": {
     "end_time": "2021-02-22T14:07:09.144393Z",
     "start_time": "2021-02-22T14:07:06.269855Z"
    },
    "id": "ftkK-z_z3McV"
   },
   "outputs": [],
   "source": [
    "# Train the model, with some of the data reserved for validation\n",
    "history = model.fit(train_data, train_targets, epochs=100, \n",
    "                    validation_split=0.15, batch_size=64, verbose=False)"
   ]
  },
  {
   "cell_type": "code",
   "execution_count": 38,
   "metadata": {
    "ExecuteTime": {
     "end_time": "2021-02-22T14:07:35.068572Z",
     "start_time": "2021-02-22T14:07:35.011573Z"
    },
    "id": "jNRmo4-j3McX"
   },
   "outputs": [
    {
     "name": "stdout",
     "output_type": "stream",
     "text": [
      "45/1 - 0s - loss: 0.7901 - mae: 0.7256\n"
     ]
    },
    {
     "data": {
      "text/plain": [
       "[0.8539056102434794, 0.72564316]"
      ]
     },
     "execution_count": 38,
     "metadata": {},
     "output_type": "execute_result"
    }
   ],
   "source": [
    "# Evaluate the model on the test set\n",
    "model.evaluate(test_data, test_targets, verbose=2)"
   ]
  },
  {
   "cell_type": "markdown",
   "metadata": {
    "id": "vw8jEVN-3Mcb"
   },
   "source": [
    "#### Plot the learning curves"
   ]
  },
  {
   "cell_type": "code",
   "execution_count": 40,
   "metadata": {
    "ExecuteTime": {
     "end_time": "2021-02-22T14:07:59.915393Z",
     "start_time": "2021-02-22T14:07:59.425984Z"
    },
    "id": "VyjSOMT43Mcd"
   },
   "outputs": [],
   "source": [
    "import matplotlib.pyplot as plt\n",
    "%matplotlib inline"
   ]
  },
  {
   "cell_type": "code",
   "execution_count": 41,
   "metadata": {
    "ExecuteTime": {
     "end_time": "2021-02-22T14:08:01.024801Z",
     "start_time": "2021-02-22T14:08:00.792924Z"
    },
    "id": "fK75BSbN3Mcg"
   },
   "outputs": [
    {
     "data": {
      "image/png": "[encoded data removed]",
      "text/plain": [
       "<Figure size 432x288 with 1 Axes>"
      ]
     },
     "metadata": {
      "needs_background": "light"
     },
     "output_type": "display_data"
    }
   ],
   "source": [
    "# Plot the training and validation loss\n",
    "\n",
    "plt.plot(history.history['loss'])\n",
    "plt.plot(history.history['val_loss'])\n",
    "plt.title('Loss vs. epochs')\n",
    "plt.ylabel('Loss')\n",
    "plt.xlabel('Epoch')\n",
    "plt.legend(['Training', 'Validation'], loc='upper right')\n",
    "plt.show()"
   ]
  },
  {
   "cell_type": "markdown",
   "metadata": {
    "id": "NSM7d6HJ3Mch"
   },
   "source": [
    "***\n",
    "<a id=\"coding_tutorial_2\"></a>\n",
    "## Model regularisation"
   ]
  },
  {
   "cell_type": "markdown",
   "metadata": {
    "id": "GGYV5De63Mci"
   },
   "source": [
    "#### Adding regularisation with weight decay and dropout"
   ]
  },
  {
   "cell_type": "code",
   "execution_count": null,
   "metadata": {
    "id": "HJkU5IiU3Mcj"
   },
   "outputs": [],
   "source": [
    "from tensorflow.keras.layers import Dropout\n",
    "from tensorflow.keras import regularizers"
   ]
  },
  {
   "cell_type": "code",
   "execution_count": null,
   "metadata": {
    "id": "uiG4z5Yu3Mck"
   },
   "outputs": [],
   "source": [
    "def get_regularised_model(wd, rate):\n",
    "    model = Sequential([\n",
    "        Dense(128, activation=\"relu\", input_shape=(train_data.shape[1],)),\n",
    "        Dense(128, activation=\"relu\"),\n",
    "        Dense(128, activation=\"relu\"),\n",
    "        Dense(128, activation=\"relu\"),\n",
    "        Dense(128, activation=\"relu\"),\n",
    "        Dense(128, activation=\"relu\"),\n",
    "        Dense(1)\n",
    "    ])\n",
    "    return model"
   ]
  },
  {
   "cell_type": "code",
   "execution_count": null,
   "metadata": {
    "id": "K7aO7p2G3Mc0"
   },
   "outputs": [],
   "source": [
    "# Re-build the model with weight decay and dropout layers\n",
    "\n"
   ]
  },
  {
   "cell_type": "code",
   "execution_count": null,
   "metadata": {
    "id": "EXjWm1fb3Mc1"
   },
   "outputs": [],
   "source": [
    "# Compile the model\n",
    "\n"
   ]
  },
  {
   "cell_type": "code",
   "execution_count": null,
   "metadata": {
    "id": "Od0Frmin3Mc2"
   },
   "outputs": [],
   "source": [
    "# Train the model, with some of the data reserved for validation\n",
    "\n"
   ]
  },
  {
   "cell_type": "code",
   "execution_count": null,
   "metadata": {
    "id": "r4RpAlme3Mc3"
   },
   "outputs": [],
   "source": [
    "# Evaluate the model on the test set\n",
    "\n"
   ]
  },
  {
   "cell_type": "markdown",
   "metadata": {
    "id": "ntpYUubo3Mc3"
   },
   "source": [
    "#### Plot the learning curves"
   ]
  },
  {
   "cell_type": "code",
   "execution_count": null,
   "metadata": {
    "id": "UjHwnyw_3Mc4"
   },
   "outputs": [],
   "source": [
    "# Plot the training and validation loss\n",
    "\n",
    "import matplotlib.pyplot as plt\n",
    "\n",
    "plt.plot(history.history['loss'])\n",
    "plt.plot(history.history['val_loss'])\n",
    "plt.title('Loss vs. epochs')\n",
    "plt.ylabel('Loss')\n",
    "plt.xlabel('Epoch')\n",
    "plt.legend(['Training', 'Validation'], loc='upper right')\n",
    "plt.show()"
   ]
  },
  {
   "cell_type": "markdown",
   "metadata": {
    "id": "n4i9kG2_3Mc6"
   },
   "source": [
    "***\n",
    "<a id=\"coding_tutorial_3\"></a>\n",
    "## Introduction to callbacks"
   ]
  },
  {
   "cell_type": "markdown",
   "metadata": {
    "id": "aWCQqTWm3Mc7"
   },
   "source": [
    "#### Example training callback"
   ]
  },
  {
   "cell_type": "code",
   "execution_count": null,
   "metadata": {
    "id": "pLPBhBfm3Mc7"
   },
   "outputs": [],
   "source": [
    "# Write a custom callback\n",
    "\n"
   ]
  },
  {
   "cell_type": "code",
   "execution_count": null,
   "metadata": {
    "id": "ClC-4xgF3Mc8"
   },
   "outputs": [],
   "source": [
    "# Re-build the model\n",
    "\n"
   ]
  },
  {
   "cell_type": "code",
   "execution_count": null,
   "metadata": {
    "id": "UDgMDp_d3Mc8"
   },
   "outputs": [],
   "source": [
    "# Compile the model\n",
    "\n"
   ]
  },
  {
   "cell_type": "markdown",
   "metadata": {
    "id": "zj71SmDT3Mc9"
   },
   "source": [
    "#### Train the model with the callback"
   ]
  },
  {
   "cell_type": "code",
   "execution_count": null,
   "metadata": {
    "id": "C_ZHa8ZK3Mc9"
   },
   "outputs": [],
   "source": [
    "# Train the model, with some of the data reserved for validation\n",
    "\n"
   ]
  },
  {
   "cell_type": "code",
   "execution_count": null,
   "metadata": {
    "id": "g-v-LjxN3Mc-"
   },
   "outputs": [],
   "source": [
    "# Evaluate the model\n",
    "\n"
   ]
  },
  {
   "cell_type": "code",
   "execution_count": null,
   "metadata": {
    "id": "m-nlej4J3Mc_"
   },
   "outputs": [],
   "source": [
    "# Make predictions with the model\n",
    "\n"
   ]
  },
  {
   "cell_type": "markdown",
   "metadata": {
    "id": "TFlKgXXg3Mc_"
   },
   "source": [
    "***\n",
    "<a id=\"coding_tutorial_4\"></a>\n",
    "## Early stopping / patience"
   ]
  },
  {
   "cell_type": "markdown",
   "metadata": {
    "id": "CuXVSAiN3MdA"
   },
   "source": [
    "#### Re-train the models with early stopping"
   ]
  },
  {
   "cell_type": "code",
   "execution_count": null,
   "metadata": {
    "id": "2VXnHBB23MdA"
   },
   "outputs": [],
   "source": [
    "# Re-train the unregularised model\n",
    "\n"
   ]
  },
  {
   "cell_type": "code",
   "execution_count": null,
   "metadata": {
    "id": "ucFPeOog3MdB"
   },
   "outputs": [],
   "source": [
    "# Evaluate the model on the test set\n",
    "\n"
   ]
  },
  {
   "cell_type": "code",
   "execution_count": null,
   "metadata": {
    "id": "OmqyxcVQ3MdB"
   },
   "outputs": [],
   "source": [
    "# Re-train the regularised model\n",
    "\n"
   ]
  },
  {
   "cell_type": "code",
   "execution_count": null,
   "metadata": {
    "id": "Eb59at9h3MdC"
   },
   "outputs": [],
   "source": [
    "# Evaluate the model on the test set\n",
    "\n"
   ]
  },
  {
   "cell_type": "markdown",
   "metadata": {
    "id": "LGebxmdc3MdC"
   },
   "source": [
    "#### Plot the learning curves"
   ]
  },
  {
   "cell_type": "code",
   "execution_count": null,
   "metadata": {
    "id": "b_EOx-5T3MdD"
   },
   "outputs": [],
   "source": [
    "# Plot the training and validation loss\n",
    "\n",
    "import matplotlib.pyplot as plt\n",
    "\n",
    "fig = plt.figure(figsize=(12, 5))\n",
    "\n",
    "fig.add_subplot(121)\n",
    "\n",
    "plt.plot(unreg_history.history['loss'])\n",
    "plt.plot(unreg_history.history['val_loss'])\n",
    "plt.title('Unregularised model: loss vs. epochs')\n",
    "plt.ylabel('Loss')\n",
    "plt.xlabel('Epoch')\n",
    "plt.legend(['Training', 'Validation'], loc='upper right')\n",
    "\n",
    "fig.add_subplot(122)\n",
    "\n",
    "plt.plot(reg_history.history['loss'])\n",
    "plt.plot(reg_history.history['val_loss'])\n",
    "plt.title('Regularised model: loss vs. epochs')\n",
    "plt.ylabel('Loss')\n",
    "plt.xlabel('Epoch')\n",
    "plt.legend(['Training', 'Validation'], loc='upper right')\n",
    "\n",
    "plt.show()"
   ]
  }
 ],
 "metadata": {
  "colab": {
   "collapsed_sections": [],
   "name": "week3_coding tutorial.ipynb",
   "provenance": [
    {
     "file_id": "1mQp_ZL3ravQlTiGgw5pEAf29T8jfS_Po",
     "timestamp": 1613999437689
    }
   ]
  },
  "kernelspec": {
   "display_name": "Python 3",
   "language": "python",
   "name": "python3"
  },
  "language_info": {
   "codemirror_mode": {
    "name": "ipython",
    "version": 3
   },
   "file_extension": ".py",
   "mimetype": "text/x-python",
   "name": "python",
   "nbconvert_exporter": "python",
   "pygments_lexer": "ipython3",
   "version": "3.7.9"
  }
 },
 "nbformat": 4,
 "nbformat_minor": 1
}
