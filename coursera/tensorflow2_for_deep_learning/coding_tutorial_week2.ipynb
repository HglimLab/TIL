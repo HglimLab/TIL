{
 "cells": [
  {
   "cell_type": "code",
   "execution_count": 1,
   "metadata": {
    "id": "7Vb6OJNsoLKO"
   },
   "outputs": [
    {
     "name": "stdout",
     "output_type": "stream",
     "text": [
      "2.1.0\n"
     ]
    }
   ],
   "source": [
    "import tensorflow as tf\n",
    "print(tf.__version__)"
   ]
  },
  {
   "cell_type": "markdown",
   "metadata": {},
   "source": [
    "# 0129"
   ]
  },
  {
   "cell_type": "markdown",
   "metadata": {
    "id": "BqNOP8CLoLKc"
   },
   "source": [
    "# The Sequential model API"
   ]
  },
  {
   "cell_type": "markdown",
   "metadata": {
    "id": "HJUTIdt1oLKd"
   },
   "source": [
    " ## Coding tutorials\n",
    " #### [1. Building a Sequential model](#coding_tutorial_1)\n",
    " #### [2. Convolutional and pooling layers](#coding_tutorial_2)\n",
    " #### [3. The compile method](#coding_tutorial_3)\n",
    " #### [4. The fit method](#coding_tutorial_4)\n",
    " #### [5. The evaluate and predict methods](#coding_tutorial_5)"
   ]
  },
  {
   "cell_type": "markdown",
   "metadata": {
    "id": "kCbTFKc3oLKf"
   },
   "source": [
    "***\n",
    "<a id=\"coding_tutorial_1\"></a>\n",
    "## Building a Sequential model"
   ]
  },
  {
   "cell_type": "code",
   "execution_count": 2,
   "metadata": {
    "id": "MiPhqdB0oLKf"
   },
   "outputs": [],
   "source": [
    "from tensorflow.keras.models import Sequential\n",
    "from tensorflow.keras.layers import Dense, Flatten, Softmax"
   ]
  },
  {
   "cell_type": "markdown",
   "metadata": {
    "id": "VgeyL5oqoLKh"
   },
   "source": [
    "#### Build a feedforward neural network model"
   ]
  },
  {
   "cell_type": "code",
   "execution_count": 3,
   "metadata": {
    "id": "0onivWlMoLKh"
   },
   "outputs": [],
   "source": [
    "# Build the Sequential feedforward neural network model\n",
    "model = Sequential([\n",
    "    Dense(16, activation='relu'),\n",
    "    Dense(16, activation='relu'),\n",
    "    Dense(10, activation='softmax')\n",
    "])"
   ]
  },
  {
   "cell_type": "code",
   "execution_count": 4,
   "metadata": {
    "id": "XLpPc0CLoLKi"
   },
   "outputs": [
    {
     "ename": "ValueError",
     "evalue": "Weights for model sequential have not yet been created. Weights are created when the Model is first called on inputs or `build()` is called with an `input_shape`.",
     "output_type": "error",
     "traceback": [
      "\u001b[1;31m---------------------------------------------------------------------------\u001b[0m",
      "\u001b[1;31mValueError\u001b[0m                                Traceback (most recent call last)",
      "\u001b[1;32m<ipython-input-4-b734739fb1f0>\u001b[0m in \u001b[0;36m<module>\u001b[1;34m\u001b[0m\n\u001b[0;32m      1\u001b[0m \u001b[1;31m# Print the model summary\u001b[0m\u001b[1;33m\u001b[0m\u001b[1;33m\u001b[0m\u001b[1;33m\u001b[0m\u001b[0m\n\u001b[1;32m----> 2\u001b[1;33m \u001b[0mmodel\u001b[0m\u001b[1;33m.\u001b[0m\u001b[0mweights\u001b[0m\u001b[1;33m\u001b[0m\u001b[1;33m\u001b[0m\u001b[0m\n\u001b[0m",
      "\u001b[1;32m~\\anaconda3\\envs\\tf_gpu2.2\\lib\\site-packages\\tensorflow_core\\python\\keras\\engine\\network.py\u001b[0m in \u001b[0;36mweights\u001b[1;34m(self)\u001b[0m\n\u001b[0;32m    483\u001b[0m       \u001b[0mA\u001b[0m \u001b[0mlist\u001b[0m \u001b[0mof\u001b[0m \u001b[0mvariables\u001b[0m\u001b[1;33m.\u001b[0m\u001b[1;33m\u001b[0m\u001b[1;33m\u001b[0m\u001b[0m\n\u001b[0;32m    484\u001b[0m     \"\"\"\n\u001b[1;32m--> 485\u001b[1;33m     \u001b[1;32mreturn\u001b[0m \u001b[0mself\u001b[0m\u001b[1;33m.\u001b[0m\u001b[0m_dedup_weights\u001b[0m\u001b[1;33m(\u001b[0m\u001b[0mself\u001b[0m\u001b[1;33m.\u001b[0m\u001b[0m_undeduplicated_weights\u001b[0m\u001b[1;33m)\u001b[0m\u001b[1;33m\u001b[0m\u001b[1;33m\u001b[0m\u001b[0m\n\u001b[0m\u001b[0;32m    486\u001b[0m \u001b[1;33m\u001b[0m\u001b[0m\n\u001b[0;32m    487\u001b[0m   \u001b[1;33m@\u001b[0m\u001b[0mproperty\u001b[0m\u001b[1;33m\u001b[0m\u001b[1;33m\u001b[0m\u001b[0m\n",
      "\u001b[1;32m~\\anaconda3\\envs\\tf_gpu2.2\\lib\\site-packages\\tensorflow_core\\python\\keras\\engine\\network.py\u001b[0m in \u001b[0;36m_undeduplicated_weights\u001b[1;34m(self)\u001b[0m\n\u001b[0;32m    488\u001b[0m   \u001b[1;32mdef\u001b[0m \u001b[0m_undeduplicated_weights\u001b[0m\u001b[1;33m(\u001b[0m\u001b[0mself\u001b[0m\u001b[1;33m)\u001b[0m\u001b[1;33m:\u001b[0m\u001b[1;33m\u001b[0m\u001b[1;33m\u001b[0m\u001b[0m\n\u001b[0;32m    489\u001b[0m     \u001b[1;34m\"\"\"Returns the undeduplicated list of all layer variables/weights.\"\"\"\u001b[0m\u001b[1;33m\u001b[0m\u001b[1;33m\u001b[0m\u001b[0m\n\u001b[1;32m--> 490\u001b[1;33m     \u001b[0mself\u001b[0m\u001b[1;33m.\u001b[0m\u001b[0m_assert_weights_created\u001b[0m\u001b[1;33m(\u001b[0m\u001b[1;33m)\u001b[0m\u001b[1;33m\u001b[0m\u001b[1;33m\u001b[0m\u001b[0m\n\u001b[0m\u001b[0;32m    491\u001b[0m     \u001b[0mweights\u001b[0m \u001b[1;33m=\u001b[0m \u001b[1;33m[\u001b[0m\u001b[1;33m]\u001b[0m\u001b[1;33m\u001b[0m\u001b[1;33m\u001b[0m\u001b[0m\n\u001b[0;32m    492\u001b[0m     \u001b[1;32mfor\u001b[0m \u001b[0mlayer\u001b[0m \u001b[1;32min\u001b[0m \u001b[0mself\u001b[0m\u001b[1;33m.\u001b[0m\u001b[0m_layers\u001b[0m\u001b[1;33m:\u001b[0m\u001b[1;33m\u001b[0m\u001b[1;33m\u001b[0m\u001b[0m\n",
      "\u001b[1;32m~\\anaconda3\\envs\\tf_gpu2.2\\lib\\site-packages\\tensorflow_core\\python\\keras\\engine\\network.py\u001b[0m in \u001b[0;36m_assert_weights_created\u001b[1;34m(self)\u001b[0m\n\u001b[0;32m   1472\u001b[0m                        \u001b[1;34m'Weights are created when the Model is first called on '\u001b[0m\u001b[1;33m\u001b[0m\u001b[1;33m\u001b[0m\u001b[0m\n\u001b[0;32m   1473\u001b[0m                        \u001b[1;34m'inputs or `build()` is called with an `input_shape`.'\u001b[0m \u001b[1;33m%\u001b[0m\u001b[1;33m\u001b[0m\u001b[1;33m\u001b[0m\u001b[0m\n\u001b[1;32m-> 1474\u001b[1;33m                        self.name)\n\u001b[0m\u001b[0;32m   1475\u001b[0m \u001b[1;33m\u001b[0m\u001b[0m\n\u001b[0;32m   1476\u001b[0m   \u001b[1;32mdef\u001b[0m \u001b[0m_graph_network_add_loss\u001b[0m\u001b[1;33m(\u001b[0m\u001b[0mself\u001b[0m\u001b[1;33m,\u001b[0m \u001b[0msymbolic_loss\u001b[0m\u001b[1;33m)\u001b[0m\u001b[1;33m:\u001b[0m\u001b[1;33m\u001b[0m\u001b[1;33m\u001b[0m\u001b[0m\n",
      "\u001b[1;31mValueError\u001b[0m: Weights for model sequential have not yet been created. Weights are created when the Model is first called on inputs or `build()` is called with an `input_shape`."
     ]
    }
   ],
   "source": [
    "# Print the model summary\n",
    "model.weights"
   ]
  },
  {
   "cell_type": "markdown",
   "metadata": {},
   "source": [
    "- model.weights는 model의 input shape이 지정되지 않은 채 호출하면 에러가 난다.\n",
    "- model의 input shape을 입력해줄 때는 Flatten 층을 사용하면 된다.\n",
    "- model의 input shape을 지정해준 후 model.weights를 실행하면 초기화된 weights를 볼 수 있다."
   ]
  },
  {
   "cell_type": "code",
   "execution_count": 5,
   "metadata": {},
   "outputs": [
    {
     "data": {
      "text/plain": [
       "[<tf.Variable 'dense_3/kernel:0' shape=(784, 16) dtype=float32, numpy=\n",
       " array([[-0.0650277 ,  0.07807954,  0.06764354, ...,  0.00652854,\n",
       "         -0.05637303,  0.00596736],\n",
       "        [-0.0042644 ,  0.00158584, -0.00260895, ...,  0.0761317 ,\n",
       "         -0.0142888 , -0.01683686],\n",
       "        [-0.03792803,  0.03108539,  0.01594734, ..., -0.04934676,\n",
       "          0.00375046, -0.02559318],\n",
       "        ...,\n",
       "        [-0.02132875,  0.01411453, -0.08265388, ..., -0.04310441,\n",
       "         -0.04600396, -0.06125903],\n",
       "        [-0.00911707, -0.04432638,  0.00119944, ...,  0.02903779,\n",
       "          0.01528352, -0.08365975],\n",
       "        [-0.04809976, -0.00607476,  0.08067831, ...,  0.07138084,\n",
       "          0.00350781, -0.03302382]], dtype=float32)>,\n",
       " <tf.Variable 'dense_3/bias:0' shape=(16,) dtype=float32, numpy=\n",
       " array([0., 0., 0., 0., 0., 0., 0., 0., 0., 0., 0., 0., 0., 0., 0., 0.],\n",
       "       dtype=float32)>,\n",
       " <tf.Variable 'dense_4/kernel:0' shape=(16, 16) dtype=float32, numpy=\n",
       " array([[-3.40135098e-01, -3.16406101e-01, -8.69231224e-02,\n",
       "          3.87053281e-01,  2.69946307e-01,  1.16200477e-01,\n",
       "          1.54047102e-01, -1.19864374e-01,  2.31253952e-01,\n",
       "         -2.55324453e-01, -2.70684868e-01,  1.88069135e-01,\n",
       "          1.41203016e-01, -4.41330075e-02, -1.31620437e-01,\n",
       "          3.92751127e-01],\n",
       "        [-5.74613810e-02, -2.87961662e-01,  1.44082516e-01,\n",
       "         -2.29418561e-01,  4.14745122e-01,  1.64557904e-01,\n",
       "         -3.57624799e-01, -3.16397548e-01,  4.42511141e-02,\n",
       "          1.39994413e-01, -4.20022637e-01, -3.81517112e-02,\n",
       "         -1.07920647e-01, -1.99293196e-02, -1.42240524e-02,\n",
       "         -1.03748053e-01],\n",
       "        [-2.23936722e-01, -3.79477352e-01, -3.99897873e-01,\n",
       "         -2.73836106e-01, -3.80541116e-01, -3.27533543e-01,\n",
       "          1.11806422e-01, -3.93430412e-01,  1.59842879e-01,\n",
       "          1.23695582e-01,  2.89114445e-01, -3.13554555e-01,\n",
       "          3.82731944e-01, -2.59102046e-01, -2.75767386e-01,\n",
       "         -1.87183887e-01],\n",
       "        [-1.63817465e-01, -3.12296510e-01, -2.65548140e-01,\n",
       "         -1.23840511e-01,  1.05280131e-01,  3.64495903e-01,\n",
       "         -3.11080545e-01,  2.30161756e-01, -3.46905470e-01,\n",
       "          2.14773208e-01, -3.44380885e-01, -3.57478410e-01,\n",
       "         -1.11879826e-01, -4.20819819e-02,  2.66739696e-01,\n",
       "         -3.51527542e-01],\n",
       "        [ 3.27004105e-01, -3.83089483e-02, -2.61521041e-02,\n",
       "          1.85731202e-01, -2.60929346e-01, -4.26484019e-01,\n",
       "         -3.14082086e-01,  1.61479443e-01, -1.20433420e-01,\n",
       "          3.22465748e-01,  1.16351992e-01,  8.52624476e-02,\n",
       "         -1.83116719e-01, -1.66817605e-02,  4.03484106e-02,\n",
       "         -4.99649346e-02],\n",
       "        [-2.97400773e-01, -2.50339091e-01,  3.42426807e-01,\n",
       "          1.95241243e-01,  1.05666310e-01, -4.15773869e-01,\n",
       "          2.10306257e-01, -3.32630515e-01,  7.74620473e-02,\n",
       "         -1.61637574e-01, -3.47258449e-01, -3.58734608e-01,\n",
       "         -1.08254820e-01, -3.32930624e-01, -2.30154037e-01,\n",
       "         -1.67645544e-01],\n",
       "        [ 3.36092710e-03, -2.87523329e-01, -1.78969622e-01,\n",
       "         -1.44534826e-01,  1.77425891e-01, -2.05488041e-01,\n",
       "         -1.63858145e-01, -2.18423888e-01,  4.30494249e-02,\n",
       "          1.21648610e-02,  3.18837792e-01, -3.23435783e-01,\n",
       "          1.43045515e-01,  8.67002308e-02, -1.96054325e-01,\n",
       "         -2.82535166e-01],\n",
       "        [ 1.98829383e-01, -3.24311465e-01, -1.15114182e-01,\n",
       "          3.71772051e-03, -1.67269021e-01, -2.41153449e-01,\n",
       "         -1.41743153e-01,  2.85092682e-01,  1.59349591e-01,\n",
       "         -1.88496977e-01,  5.37136197e-02, -2.57809520e-01,\n",
       "         -9.50005651e-02, -1.47983998e-01,  2.91892678e-01,\n",
       "         -2.25137383e-01],\n",
       "        [-4.37496901e-02, -2.96726823e-03, -3.67968678e-01,\n",
       "         -1.24842316e-01, -1.20756149e-01,  3.01660448e-01,\n",
       "          4.14877623e-01,  3.80324513e-01, -2.08493099e-01,\n",
       "         -2.20343471e-02, -1.62603468e-01,  2.74455458e-01,\n",
       "         -4.16558057e-01,  1.42447025e-01,  7.39246607e-03,\n",
       "          1.23835772e-01],\n",
       "        [ 3.42494279e-01,  1.29914314e-01, -2.76453912e-01,\n",
       "         -1.20639086e-01, -2.71566004e-01, -2.44732723e-01,\n",
       "         -1.94952577e-01,  7.18740523e-02,  1.92945510e-01,\n",
       "          1.78344756e-01, -1.81298852e-02, -3.45631838e-01,\n",
       "          3.52532059e-01,  3.21586877e-01,  1.29488707e-02,\n",
       "          5.14583886e-02],\n",
       "        [ 1.61378652e-01, -4.03704941e-02,  2.94291407e-01,\n",
       "          4.11685407e-02, -4.32219833e-01, -2.96510220e-01,\n",
       "         -2.71590471e-01,  8.26517045e-02,  2.87633926e-01,\n",
       "         -1.73729777e-01, -3.15335989e-02, -2.32017279e-01,\n",
       "         -9.02560353e-03, -1.46977544e-01,  3.57055157e-01,\n",
       "          3.45433056e-02],\n",
       "        [-2.48923883e-01,  2.01372236e-01,  2.11583942e-01,\n",
       "          1.84381276e-01, -1.49583906e-01, -2.60610878e-01,\n",
       "          1.28620952e-01,  3.81492585e-01,  3.80157262e-01,\n",
       "         -8.23732913e-02,  1.56130344e-01,  4.09777075e-01,\n",
       "          2.95277566e-01, -3.31099600e-01,  3.21862370e-01,\n",
       "          2.61381119e-01],\n",
       "        [-3.13178867e-01, -3.74012530e-01,  4.76753712e-03,\n",
       "         -1.85456276e-02,  1.27893120e-01, -6.34056330e-02,\n",
       "          3.09409946e-01, -7.85987079e-02, -3.84700894e-02,\n",
       "         -2.87680984e-01,  3.08066815e-01,  3.28490645e-01,\n",
       "          6.15386963e-02,  1.44482166e-01,  3.08813542e-01,\n",
       "         -2.56635070e-01],\n",
       "        [ 4.19331342e-01,  7.22274184e-03, -3.91286880e-01,\n",
       "         -4.33506668e-02,  2.21703023e-01,  3.45933169e-01,\n",
       "         -1.87759131e-01,  9.69469547e-05, -3.75796795e-01,\n",
       "          8.68351758e-02,  1.20059401e-01, -3.77589852e-01,\n",
       "          6.85713589e-02, -4.12681699e-02, -1.43870890e-01,\n",
       "          2.45608002e-01],\n",
       "        [ 3.90741915e-01, -1.35296881e-02,  3.26553911e-01,\n",
       "          2.20898986e-02, -2.80465543e-01,  9.11160409e-02,\n",
       "          2.66496807e-01,  2.73332506e-01, -1.74216956e-01,\n",
       "         -1.79688781e-01,  1.79407597e-02, -1.26935691e-01,\n",
       "          3.63559872e-01, -3.07956874e-01, -3.26897591e-01,\n",
       "          3.69127899e-01],\n",
       "        [-1.92972049e-01, -2.09720075e-01, -1.92322478e-01,\n",
       "         -3.62158626e-01, -1.29242748e-01,  1.20829940e-02,\n",
       "         -2.02870220e-01, -1.36149794e-01,  1.94607645e-01,\n",
       "          2.66700178e-01, -2.43856013e-02,  3.31678241e-01,\n",
       "          2.82559097e-02, -4.10860121e-01, -3.09409201e-02,\n",
       "         -3.65658820e-01]], dtype=float32)>,\n",
       " <tf.Variable 'dense_4/bias:0' shape=(16,) dtype=float32, numpy=\n",
       " array([0., 0., 0., 0., 0., 0., 0., 0., 0., 0., 0., 0., 0., 0., 0., 0.],\n",
       "       dtype=float32)>,\n",
       " <tf.Variable 'dense_5/kernel:0' shape=(16, 10) dtype=float32, numpy=\n",
       " array([[-0.36102572,  0.12316889,  0.40999138, -0.47866166,  0.47005624,\n",
       "          0.14081973,  0.27558637, -0.2899807 , -0.3837011 , -0.10208952],\n",
       "        [-0.26359582,  0.02076977,  0.37560743,  0.3116057 , -0.10574129,\n",
       "         -0.4240254 ,  0.3070013 , -0.04952353, -0.02244529,  0.43903005],\n",
       "        [ 0.23878783, -0.25746512,  0.09472644,  0.02312583, -0.22224155,\n",
       "         -0.04417041, -0.10679981, -0.33249062,  0.3587252 , -0.08895826],\n",
       "        [-0.31488055,  0.4441759 , -0.34506205,  0.07422137, -0.2435059 ,\n",
       "          0.34020448, -0.11487904, -0.17967632,  0.4067045 ,  0.40111428],\n",
       "        [ 0.3819703 ,  0.0764727 , -0.37404406, -0.28340918, -0.07733378,\n",
       "          0.20140475,  0.22732657, -0.19014174,  0.17494965,  0.45957434],\n",
       "        [-0.3417186 , -0.11123025, -0.2594911 ,  0.32478625,  0.29817033,\n",
       "          0.28542584, -0.2864799 , -0.354902  , -0.32207018, -0.0540233 ],\n",
       "        [-0.43959886,  0.00294018, -0.00455359, -0.00571769, -0.3575697 ,\n",
       "         -0.34940583, -0.4621336 , -0.17480296, -0.09476104,  0.0518235 ],\n",
       "        [-0.32771748,  0.47345722, -0.32073063,  0.19190049, -0.3581893 ,\n",
       "         -0.1798898 , -0.387901  ,  0.2659449 , -0.1354498 , -0.08250836],\n",
       "        [-0.07016245,  0.02499777,  0.32857186,  0.0695768 , -0.3915743 ,\n",
       "          0.16484344,  0.1373105 ,  0.09771323,  0.09492058,  0.3659317 ],\n",
       "        [-0.13109857,  0.16534257,  0.10329729,  0.32829505, -0.18099803,\n",
       "         -0.13819021,  0.17922848, -0.15681583, -0.32713518,  0.3428172 ],\n",
       "        [-0.42425686,  0.22027087, -0.42230386,  0.23500073,  0.20942926,\n",
       "         -0.05458429, -0.29911774,  0.03823763,  0.41740632,  0.2077896 ],\n",
       "        [-0.44276613,  0.42204309, -0.32564145, -0.28942168,  0.4708197 ,\n",
       "          0.14709431,  0.34629786,  0.4437282 , -0.47897297,  0.35163188],\n",
       "        [ 0.4593628 , -0.44714254,  0.0899176 , -0.25787973,  0.33462733,\n",
       "         -0.20759237,  0.13349056,  0.0584383 , -0.01837903,  0.023965  ],\n",
       "        [ 0.07299024,  0.11777663,  0.2112211 , -0.24329275, -0.20516747,\n",
       "          0.46785623, -0.14262512,  0.02931964,  0.2483849 ,  0.2796768 ],\n",
       "        [-0.30985898, -0.19503215,  0.2516858 ,  0.3609618 ,  0.10912216,\n",
       "         -0.24223126,  0.07404929,  0.14964002, -0.42927384, -0.00699976],\n",
       "        [ 0.38197005,  0.37482768,  0.41404706, -0.0964306 , -0.27459955,\n",
       "         -0.04190725,  0.4240483 ,  0.4449876 ,  0.47684884, -0.4143625 ]],\n",
       "       dtype=float32)>,\n",
       " <tf.Variable 'dense_5/bias:0' shape=(10,) dtype=float32, numpy=array([0., 0., 0., 0., 0., 0., 0., 0., 0., 0.], dtype=float32)>]"
      ]
     },
     "execution_count": 5,
     "metadata": {},
     "output_type": "execute_result"
    }
   ],
   "source": [
    "# Build the Sequential feedforward neural network model\n",
    "model = Sequential([\n",
    "    Flatten(input_shape=(28, 28)),\n",
    "    Dense(16, activation='relu'),\n",
    "    Dense(16, activation='relu'),\n",
    "    Dense(10, activation='softmax')\n",
    "])\n",
    "\n",
    "model.weights"
   ]
  },
  {
   "cell_type": "code",
   "execution_count": null,
   "metadata": {},
   "outputs": [],
   "source": [
    "# This is an example snippet!\n",
    "# To create your own, add a new snippet block to the\n",
    "# snippets.json file in your jupyter nbextensions directory:\n",
    "# /nbextensions/snippets/snippets.json\n",
    "import this"
   ]
  },
  {
   "cell_type": "markdown",
   "metadata": {},
   "source": [
    "- model.summary을 통해 model의 요약을 볼 수 있다."
   ]
  },
  {
   "cell_type": "code",
   "execution_count": 6,
   "metadata": {},
   "outputs": [
    {
     "name": "stdout",
     "output_type": "stream",
     "text": [
      "Model: \"sequential_1\"\n",
      "_________________________________________________________________\n",
      "Layer (type)                 Output Shape              Param #   \n",
      "=================================================================\n",
      "flatten (Flatten)            (None, 784)               0         \n",
      "_________________________________________________________________\n",
      "dense_3 (Dense)              (None, 16)                12560     \n",
      "_________________________________________________________________\n",
      "dense_4 (Dense)              (None, 16)                272       \n",
      "_________________________________________________________________\n",
      "dense_5 (Dense)              (None, 10)                170       \n",
      "=================================================================\n",
      "Total params: 13,002\n",
      "Trainable params: 13,002\n",
      "Non-trainable params: 0\n",
      "_________________________________________________________________\n"
     ]
    }
   ],
   "source": [
    "model.summary()"
   ]
  },
  {
   "cell_type": "markdown",
   "metadata": {},
   "source": [
    "- 아래와 같이 softmax를 활성함수로 사용하지 않고, Softmax 층으로 나눌 수도 있다."
   ]
  },
  {
   "cell_type": "code",
   "execution_count": 7,
   "metadata": {},
   "outputs": [
    {
     "name": "stdout",
     "output_type": "stream",
     "text": [
      "Model: \"sequential_2\"\n",
      "_________________________________________________________________\n",
      "Layer (type)                 Output Shape              Param #   \n",
      "=================================================================\n",
      "flatten_1 (Flatten)          (None, 784)               0         \n",
      "_________________________________________________________________\n",
      "dense_6 (Dense)              (None, 16)                12560     \n",
      "_________________________________________________________________\n",
      "dense_7 (Dense)              (None, 16)                272       \n",
      "_________________________________________________________________\n",
      "dense_8 (Dense)              (None, 10)                170       \n",
      "_________________________________________________________________\n",
      "softmax (Softmax)            (None, 10)                0         \n",
      "=================================================================\n",
      "Total params: 13,002\n",
      "Trainable params: 13,002\n",
      "Non-trainable params: 0\n",
      "_________________________________________________________________\n"
     ]
    }
   ],
   "source": [
    "model = Sequential([\n",
    "    Flatten(input_shape=(28, 28)),\n",
    "    Dense(16, activation='relu'),\n",
    "    Dense(16, activation='relu'),\n",
    "    Dense(10),\n",
    "    Softmax()\n",
    "])\n",
    "\n",
    "model.summary()"
   ]
  },
  {
   "cell_type": "markdown",
   "metadata": {},
   "source": [
    "- name=\"layer_1\"과 같은 옵션을 통해 각 층의 이름을 지을 수도 있다.\n",
    "- 활성함수로 sigmoid나 tanh를 사용할 때에는 activation='sigmoid', activation='tanh'와 같이 입력하면 된다."
   ]
  },
  {
   "cell_type": "code",
   "execution_count": 12,
   "metadata": {},
   "outputs": [
    {
     "name": "stdout",
     "output_type": "stream",
     "text": [
      "Model: \"sequential_6\"\n",
      "_________________________________________________________________\n",
      "Layer (type)                 Output Shape              Param #   \n",
      "=================================================================\n",
      "flatten_5 (Flatten)          (None, 784)               0         \n",
      "_________________________________________________________________\n",
      "layer_1 (Dense)              (None, 16)                12560     \n",
      "_________________________________________________________________\n",
      "dense_15 (Dense)             (None, 16)                272       \n",
      "_________________________________________________________________\n",
      "dense_16 (Dense)             (None, 10)                170       \n",
      "_________________________________________________________________\n",
      "softmax_4 (Softmax)          (None, 10)                0         \n",
      "=================================================================\n",
      "Total params: 13,002\n",
      "Trainable params: 13,002\n",
      "Non-trainable params: 0\n",
      "_________________________________________________________________\n"
     ]
    }
   ],
   "source": [
    "model = Sequential([\n",
    "    Flatten(input_shape=(28, 28)),\n",
    "    Dense(16, activation='relu', name=\"layer_1\"),\n",
    "    Dense(16, activation='sigmoid'),\n",
    "    Dense(10),\n",
    "    Softmax()\n",
    "])\n",
    "\n",
    "model.summary()"
   ]
  },
  {
   "cell_type": "markdown",
   "metadata": {
    "id": "BddfkRUCoLKi"
   },
   "source": [
    "***\n",
    "<a id=\"coding_tutorial_2\"></a>\n",
    "## Convolutional and pooling layers"
   ]
  },
  {
   "cell_type": "markdown",
   "metadata": {},
   "source": [
    "- 모델에서 tensor shape이 (None, 30, 30, 16)과 같은 형태로 나오는데 가장 앞의 None은 batch size를 의미한다.\n",
    "- Conv2D 층에서 padding='SAME'으로 옵션을 줄 경우, output의 사이즈가 input 사이즈와 동일하게 유지된다.\n",
    "- kernel_size나 pool_size는 pytorch를 사용할 때와 마찬가지로 정사각 kernel을 사용할 경우 (2, 2) 대신 2와 같은 정수를 입력해주어도 된다."
   ]
  },
  {
   "cell_type": "code",
   "execution_count": 1,
   "metadata": {
    "id": "KdNAHwl2oLKk"
   },
   "outputs": [],
   "source": [
    "from tensorflow.keras.models import Sequential\n",
    "from tensorflow.keras.layers import Dense, Flatten, Conv2D, MaxPooling2D"
   ]
  },
  {
   "cell_type": "markdown",
   "metadata": {
    "id": "Rxr_03vsoLKl"
   },
   "source": [
    "#### Build a convolutional neural network model"
   ]
  },
  {
   "cell_type": "code",
   "execution_count": 7,
   "metadata": {
    "id": "wb3oVGEnoLKm"
   },
   "outputs": [],
   "source": [
    "# Build the Sequential convolutional neural network model\n",
    "model = Sequential([\n",
    "    Conv2D(16, (3, 3), activation='relu', input_shape=(28, 28, 1)),\n",
    "    MaxPooling2D((3, 3)),\n",
    "    Flatten(),\n",
    "    Dense(10, activation='softmax'),\n",
    "])"
   ]
  },
  {
   "cell_type": "code",
   "execution_count": 18,
   "metadata": {
    "id": "rpIMN0d_oLKn"
   },
   "outputs": [
    {
     "name": "stdout",
     "output_type": "stream",
     "text": [
      "Model: \"sequential_2\"\n",
      "_________________________________________________________________\n",
      "Layer (type)                 Output Shape              Param #   \n",
      "=================================================================\n",
      "conv2d_2 (Conv2D)            (None, 26, 26, 16)        160       \n",
      "_________________________________________________________________\n",
      "max_pooling2d_1 (MaxPooling2 (None, 8, 8, 16)          0         \n",
      "_________________________________________________________________\n",
      "flatten (Flatten)            (None, 1024)              0         \n",
      "_________________________________________________________________\n",
      "dense (Dense)                (None, 10)                10250     \n",
      "=================================================================\n",
      "Total params: 10,410\n",
      "Trainable params: 10,410\n",
      "Non-trainable params: 0\n",
      "_________________________________________________________________\n"
     ]
    }
   ],
   "source": [
    "# Print the model summary\n",
    "model.summary()"
   ]
  },
  {
   "cell_type": "markdown",
   "metadata": {},
   "source": [
    "- padding='SAME' 옵션을 주면 아래와 같이 padding을 통해 output shape이 input shape과 동일하게 출력되도록 맞춰준다."
   ]
  },
  {
   "cell_type": "code",
   "execution_count": 20,
   "metadata": {},
   "outputs": [
    {
     "name": "stdout",
     "output_type": "stream",
     "text": [
      "Model: \"sequential_4\"\n",
      "_________________________________________________________________\n",
      "Layer (type)                 Output Shape              Param #   \n",
      "=================================================================\n",
      "conv2d_4 (Conv2D)            (None, 28, 28, 16)        160       \n",
      "_________________________________________________________________\n",
      "max_pooling2d_3 (MaxPooling2 (None, 9, 9, 16)          0         \n",
      "_________________________________________________________________\n",
      "flatten_2 (Flatten)          (None, 1296)              0         \n",
      "_________________________________________________________________\n",
      "dense_2 (Dense)              (None, 10)                12970     \n",
      "=================================================================\n",
      "Total params: 13,130\n",
      "Trainable params: 13,130\n",
      "Non-trainable params: 0\n",
      "_________________________________________________________________\n"
     ]
    }
   ],
   "source": [
    "model = Sequential([\n",
    "    Conv2D(16, (3, 3), padding='SAME', activation='relu', input_shape=(28, 28, 1)),\n",
    "    MaxPooling2D((3, 3)),\n",
    "    Flatten(),\n",
    "    Dense(10, activation='softmax'),\n",
    "])\n",
    "\n",
    "model.summary()"
   ]
  },
  {
   "cell_type": "code",
   "execution_count": null,
   "metadata": {},
   "outputs": [],
   "source": [
    "- strides=2로 옵션을 주면, 보폭을 2칸씩 이동하게 되므로 output의 dimension이 축소되는 효과를 볼 수 있다."
   ]
  },
  {
   "cell_type": "code",
   "execution_count": 21,
   "metadata": {},
   "outputs": [
    {
     "name": "stdout",
     "output_type": "stream",
     "text": [
      "Model: \"sequential_5\"\n",
      "_________________________________________________________________\n",
      "Layer (type)                 Output Shape              Param #   \n",
      "=================================================================\n",
      "conv2d_5 (Conv2D)            (None, 14, 14, 16)        160       \n",
      "_________________________________________________________________\n",
      "max_pooling2d_4 (MaxPooling2 (None, 4, 4, 16)          0         \n",
      "_________________________________________________________________\n",
      "flatten_3 (Flatten)          (None, 256)               0         \n",
      "_________________________________________________________________\n",
      "dense_3 (Dense)              (None, 10)                2570      \n",
      "=================================================================\n",
      "Total params: 2,730\n",
      "Trainable params: 2,730\n",
      "Non-trainable params: 0\n",
      "_________________________________________________________________\n"
     ]
    }
   ],
   "source": [
    "model = Sequential([\n",
    "    Conv2D(16, (3, 3), padding='SAME', strides=2, activation='relu', input_shape=(28, 28, 1)),\n",
    "    MaxPooling2D((3, 3)),\n",
    "    Flatten(),\n",
    "    Dense(10, activation='softmax'),\n",
    "])\n",
    "\n",
    "model.summary()"
   ]
  },
  {
   "cell_type": "markdown",
   "metadata": {},
   "source": [
    "- data_format 옵션의 default 값은 channels_last로 input_shape을 입력할 때 channel 크기를 마지막에 입력하면 되지만,\n",
    "data_format=\"channels_first\"로 옵션을 줄 경우 input_shpae을 입력할 때 channel 크기를 앞에 입력해야 한다.\n",
    "- 이렇게 할 경우 풀링층에도 data_format 옵션을 동일하게 주어야 한다."
   ]
  },
  {
   "cell_type": "code",
   "execution_count": 23,
   "metadata": {},
   "outputs": [
    {
     "name": "stdout",
     "output_type": "stream",
     "text": [
      "Model: \"sequential_6\"\n",
      "_________________________________________________________________\n",
      "Layer (type)                 Output Shape              Param #   \n",
      "=================================================================\n",
      "conv2d_6 (Conv2D)            (None, 16, 26, 26)        160       \n",
      "_________________________________________________________________\n",
      "max_pooling2d_5 (MaxPooling2 (None, 16, 8, 8)          0         \n",
      "_________________________________________________________________\n",
      "flatten_4 (Flatten)          (None, 1024)              0         \n",
      "_________________________________________________________________\n",
      "dense_4 (Dense)              (None, 10)                10250     \n",
      "=================================================================\n",
      "Total params: 10,410\n",
      "Trainable params: 10,410\n",
      "Non-trainable params: 0\n",
      "_________________________________________________________________\n"
     ]
    }
   ],
   "source": [
    "model = Sequential([\n",
    "    Conv2D(16, (3, 3), activation='relu', input_shape=(1, 28, 28), data_format=\"channels_first\"),\n",
    "    MaxPooling2D((3, 3), data_format=\"channels_first\"),\n",
    "    Flatten(),\n",
    "    Dense(10, activation='softmax'),\n",
    "])\n",
    "\n",
    "model.summary()"
   ]
  },
  {
   "cell_type": "markdown",
   "metadata": {},
   "source": [
    "# 02/01"
   ]
  },
  {
   "cell_type": "markdown",
   "metadata": {},
   "source": [
    "- 아래에서 나오는 내용은 모델의 은닉층을 생성할 때 각 층의 가중치 및 편향을 어떻게 초기화할지에 대한 내용이다.\n",
    "- 가중치를 초기화할 때 다양한 정규분포를 사용하여 가중치를 초기화할 수 있다.\n",
    "- 그러나 인공지능 강의에서 배웠듯이, 현재는 가중치 초기화에 큰 비중을 두고 있지 않으므로, \n",
    "아래의 내용은 가볍게 읽어보면 될 것 같다."
   ]
  },
  {
   "cell_type": "markdown",
   "metadata": {},
   "source": [
    "# Weight and bias initialisers \n",
    "\n",
    "In this reading we investigate different ways to initialise weights and biases in the layers of neural networks."
   ]
  },
  {
   "cell_type": "code",
   "execution_count": 1,
   "metadata": {},
   "outputs": [
    {
     "name": "stdout",
     "output_type": "stream",
     "text": [
      "2.0.0\n"
     ]
    }
   ],
   "source": [
    "%matplotlib inline\n",
    "import tensorflow as tf\n",
    "import pandas as pd\n",
    "print(tf.__version__)"
   ]
  },
  {
   "cell_type": "markdown",
   "metadata": {},
   "source": [
    "### Default weights and biases\n",
    "\n",
    "In the models we have worked with so far, we have not specified the initial values of the weights and biases in each layer of our neural networks.\n",
    "\n",
    "The default values of the weights and biases in TensorFlow depend on the type of layers we are using. \n",
    "\n",
    "For example, in a `Dense` layer, the biases are set to zero (`zeros`) by default, while the weights are set according to `glorot_uniform`, the Glorot uniform initialiser. \n",
    "\n",
    "The Glorot uniform initialiser draws the weights uniformly at random from the closed interval $[-c,c]$, where $$c = \\sqrt{\\frac{6}{n_{input}+n_{output}}}$$\n"
   ]
  },
  {
   "cell_type": "markdown",
   "metadata": {},
   "source": [
    "and $n_{input}$ and $n_{output}$ are the number of inputs to, and outputs from the layer respectively."
   ]
  },
  {
   "cell_type": "markdown",
   "metadata": {},
   "source": [
    "### Initialising your own weights and biases\n",
    "We often would like to initialise our own weights and biases, and TensorFlow makes this process quite straightforward.\n",
    "\n",
    "When we construct a model in TensorFlow, each layer has optional arguments `kernel_initialiser` and `bias_initialiser`, which are used to set the weights and biases respectively.\n",
    "\n",
    "If a layer has no weights or biases (e.g. it is a max pooling layer), then trying to set either `kernel_initialiser` or `bias_initialiser` will throw an error.\n",
    "\n",
    "Let's see an example, which uses some of the different initialisations available in Keras."
   ]
  },
  {
   "cell_type": "code",
   "execution_count": 3,
   "metadata": {},
   "outputs": [],
   "source": [
    "from tensorflow.keras.models import Sequential\n",
    "from tensorflow.keras.layers import Flatten, Dense, Conv1D, MaxPooling1D \n",
    "\n",
    "#Constructing a model\n",
    "\n",
    "model = Sequential([\n",
    "    Conv1D(filters=16, kernel_size=3, input_shape=(128, 64), kernel_initializer='random_uniform', bias_initializer=\"zeros\", activation='relu'),\n",
    "    MaxPooling1D(pool_size=4),\n",
    "    Flatten(),\n",
    "    Dense(64, kernel_initializer='he_uniform', bias_initializer='ones', activation='relu'),\n",
    "])"
   ]
  },
  {
   "cell_type": "markdown",
   "metadata": {},
   "source": [
    "As the following example illustrates, we can also instantiate initialisers in a slightly different manner, allowing us to set optional arguments of the initialisation method."
   ]
  },
  {
   "cell_type": "code",
   "execution_count": 4,
   "metadata": {},
   "outputs": [],
   "source": [
    "#Adding some layers to our model\n",
    "model.add(Dense(64, \n",
    "                kernel_initializer=tf.keras.initializers.RandomNormal(mean=0.0, stddev=0.05), \n",
    "                bias_initializer=tf.keras.initializers.Constant(value=0.4), \n",
    "                activation='relu'),)\n",
    "\n",
    "model.add(Dense(8, \n",
    "                kernel_initializer=tf.keras.initializers.Orthogonal(gain=1.0, seed=None), \n",
    "                bias_initializer=tf.keras.initializers.Constant(value=0.4), \n",
    "                activation='relu'))"
   ]
  },
  {
   "cell_type": "markdown",
   "metadata": {},
   "source": [
    "### Custom weight and bias initialisers\n",
    "It is also possible to define your own weight and bias initialisers.\n",
    "Initializers must take in two arguments, the `shape` of the tensor to be initialised, and its `dtype`.\n",
    "\n",
    "Here is a small example, which also shows how you can use your custom initializer in a layer.\n"
   ]
  },
  {
   "cell_type": "code",
   "execution_count": 5,
   "metadata": {},
   "outputs": [],
   "source": [
    "import tensorflow.keras.backend as K\n",
    "\n",
    "#Example of a custom initializer\n",
    "def my_init(shape, dtype=None):\n",
    "    return K.random_normal(shape, dtype=dtype)\n",
    "\n",
    "model.add(Dense(64, kernel_initializer=my_init))"
   ]
  },
  {
   "cell_type": "markdown",
   "metadata": {},
   "source": [
    "Let's take a look at the summary of our finalised model."
   ]
  },
  {
   "cell_type": "code",
   "execution_count": 7,
   "metadata": {},
   "outputs": [
    {
     "name": "stdout",
     "output_type": "stream",
     "text": [
      "Model: \"sequential\"\n",
      "_________________________________________________________________\n",
      "Layer (type)                 Output Shape              Param #   \n",
      "=================================================================\n",
      "conv1d (Conv1D)              (None, 126, 16)           3088      \n",
      "_________________________________________________________________\n",
      "max_pooling1d (MaxPooling1D) (None, 31, 16)            0         \n",
      "_________________________________________________________________\n",
      "flatten (Flatten)            (None, 496)               0         \n",
      "_________________________________________________________________\n",
      "dense (Dense)                (None, 64)                31808     \n",
      "_________________________________________________________________\n",
      "dense_1 (Dense)              (None, 64)                4160      \n",
      "_________________________________________________________________\n",
      "dense_2 (Dense)              (None, 8)                 520       \n",
      "_________________________________________________________________\n",
      "dense_3 (Dense)              (None, 64)                576       \n",
      "=================================================================\n",
      "Total params: 40,152\n",
      "Trainable params: 40,152\n",
      "Non-trainable params: 0\n",
      "_________________________________________________________________\n"
     ]
    }
   ],
   "source": [
    "model.summary()"
   ]
  },
  {
   "cell_type": "markdown",
   "metadata": {},
   "source": [
    "### Visualising the initialised weights and biases\n",
    "\n",
    "Finally, we can see the effect of our initialisers on the weights and biases by plotting histograms of the resulting values. Compare these plots with the selected initialisers for each layer above."
   ]
  },
  {
   "cell_type": "code",
   "execution_count": 8,
   "metadata": {},
   "outputs": [
    {
     "data": {
      "image/png": "[encoded data removed]",
      "text/plain": [
       "<Figure size 864x1152 with 10 Axes>"
      ]
     },
     "metadata": {
      "needs_background": "light"
     },
     "output_type": "display_data"
    }
   ],
   "source": [
    "import matplotlib.pyplot as plt\n",
    "\n",
    "fig, axes = plt.subplots(5, 2, figsize=(12,16))\n",
    "fig.subplots_adjust(hspace=0.5, wspace=0.5)\n",
    "\n",
    "# Filter out the pooling and flatten layers, that don't have any weights\n",
    "weight_layers = [layer for layer in model.layers if len(layer.weights) > 0]\n",
    "\n",
    "for i, layer in enumerate(weight_layers):\n",
    "    for j in [0, 1]:\n",
    "        axes[i, j].hist(layer.weights[j].numpy().flatten(), align='left')\n",
    "        axes[i, j].set_title(layer.weights[j].name)"
   ]
  },
  {
   "cell_type": "markdown",
   "metadata": {},
   "source": [
    "## Further reading and resources \n",
    "* https://keras.io/initializers/\n",
    "* https://www.tensorflow.org/versions/r2.0/api_docs/python/tf/keras/initializers"
   ]
  },
  {
   "cell_type": "markdown",
   "metadata": {},
   "source": [
    "# 02/02"
   ]
  },
  {
   "cell_type": "markdown",
   "metadata": {
    "id": "uXuyW2bUoLKs"
   },
   "source": [
    "***\n",
    "<a id=\"coding_tutorial_3\"></a>\n",
    "## The compile method"
   ]
  },
  {
   "cell_type": "markdown",
   "metadata": {},
   "source": [
    "- model.compile 메서드를 통해 optimizer와 loss를 설정할 수 있다.\n",
    "- metrics에 아래와 같은 인자를 지정하면, 추적을 원하는 인자들도 구할 수 있다."
   ]
  },
  {
   "cell_type": "code",
   "execution_count": 1,
   "metadata": {},
   "outputs": [],
   "source": [
    "import tensorflow as tf\n",
    "from tensorflow.keras.models import Sequential\n",
    "from tensorflow.keras.layers import Dense\n",
    "\n",
    "model = Sequential([\n",
    "    Dense(64, activation='relu', input_shape=(32,)),\n",
    "    Dense(1, activation='sigmoid')\n",
    "])\n",
    "\n",
    "model.compile(\n",
    "    optimizer='sgd', # 'adam', 'rmsprop', 'adadelta'도 가능\n",
    "    loss='binary_crossentropy', # 'mean_squared_error', 'categorical_crossentropy'도 가능\n",
    "    metrics=['accuracy', 'mae'] # mae: mean absolute error\n",
    ")"
   ]
  },
  {
   "cell_type": "markdown",
   "metadata": {},
   "source": [
    "- model.compile 내에 string 형태로 참조 선언해주는 대신에, 아래와 같이 직접 객체를 선언해줄 수도 있다.\n",
    "- 아래에서 BinaryCrossentropy의 옵션인 from_logits=True로 지정해줄 경우, model의 output 층을 정의할 때 활성 함수를 \n",
    "linear로 지정해주어야 한다.\n",
    "- from_logits 옵션은 모델에서 linear한 값을 output으로 받는다는 의미이므로, linear한 output을 loss에 입력할 때\n",
    "sigmoid를 적용해준다.\n",
    "- 이렇게 하는 것이 모델의 층에서 activation='sigmoid'로 지정한 후 from_logits 옵션을 사용하지 않는 것과 계산은 동일하지만, \n",
    "수학 연산 측면에서 좀 더 안정적인 접근이라고 한다.\n",
    "- BinaryAccuracy의 threshold 옵션은 모델의 출력 결과가 positive일 확률에 대한 임계값을 지정해주는 옵션이다."
   ]
  },
  {
   "cell_type": "code",
   "execution_count": null,
   "metadata": {},
   "outputs": [],
   "source": [
    "model.compile(\n",
    "    optimizer=tf.keras.optimizers.SGD(learning_rate=0.001, momentum=0.9, nesterov=True),\n",
    "    loss=tf.keras.losses.BinaryCrossentropy(from_logits=True),\n",
    "    metrics=[tf.keras.metrics.BinaryAccuracy(threshold=0.7), tf.keras.metrics.MeanAbsoluteError()]\n",
    ")"
   ]
  },
  {
   "cell_type": "markdown",
   "metadata": {
    "id": "F24deNOWoLKs"
   },
   "source": [
    "#### Compile the model"
   ]
  },
  {
   "cell_type": "code",
   "execution_count": 3,
   "metadata": {},
   "outputs": [
    {
     "name": "stdout",
     "output_type": "stream",
     "text": [
      "Model: \"sequential_1\"\n",
      "_________________________________________________________________\n",
      "Layer (type)                 Output Shape              Param #   \n",
      "=================================================================\n",
      "conv2d (Conv2D)              (None, 16, 26, 26)        160       \n",
      "_________________________________________________________________\n",
      "max_pooling2d (MaxPooling2D) (None, 16, 8, 8)          0         \n",
      "_________________________________________________________________\n",
      "flatten (Flatten)            (None, 1024)              0         \n",
      "_________________________________________________________________\n",
      "dense_2 (Dense)              (None, 10)                10250     \n",
      "=================================================================\n",
      "Total params: 10,410\n",
      "Trainable params: 10,410\n",
      "Non-trainable params: 0\n",
      "_________________________________________________________________\n"
     ]
    }
   ],
   "source": [
    "from tensorflow.keras.layers import Dense, Flatten, Conv2D, MaxPooling2D\n",
    "\n",
    "model = Sequential([\n",
    "    Conv2D(16, (3, 3), activation='relu', input_shape=(1, 28, 28), data_format=\"channels_first\"),\n",
    "    MaxPooling2D((3, 3), data_format=\"channels_first\"),\n",
    "    Flatten(),\n",
    "    Dense(10, activation='softmax'),\n",
    "])\n",
    "\n",
    "model.summary()"
   ]
  },
  {
   "cell_type": "code",
   "execution_count": 4,
   "metadata": {
    "id": "9T14_fgXoLKt"
   },
   "outputs": [],
   "source": [
    "# Define the model optimizer, loss function and metrics\n",
    "model.compile(optimizer='adam',\n",
    "             loss='sparse_categorical_crossentropy', # categorical_crossentropy\n",
    "             metrics=['accuracy']) # mae"
   ]
  },
  {
   "cell_type": "code",
   "execution_count": 6,
   "metadata": {
    "id": "500unXFkoLKt"
   },
   "outputs": [
    {
     "name": "stdout",
     "output_type": "stream",
     "text": [
      "sparse_categorical_crossentropy\n",
      "<tensorflow.python.keras.optimizer_v2.adam.Adam object at 0x000001D4E9D1CC08>\n",
      "[<tensorflow.python.keras.metrics.MeanMetricWrapper object at 0x000001D4E9D1C4C8>]\n"
     ]
    }
   ],
   "source": [
    "# Print the resulting model attributes\n",
    "print(model.loss)\n",
    "print(model.optimizer)\n",
    "print(model.metrics)"
   ]
  },
  {
   "cell_type": "markdown",
   "metadata": {},
   "source": [
    "- optimizer의 세부 옵션을 직접 설정하고 싶을 때에는 다음과 같이 optimizer 객체를 선언하고\n",
    "이를 model.compile 메서드에 입력해주어도 된다.\n",
    "- accuracy나 mae의 경우에도 객체를 선언할 수 있다."
   ]
  },
  {
   "cell_type": "code",
   "execution_count": 8,
   "metadata": {
    "scrolled": true
   },
   "outputs": [
    {
     "name": "stdout",
     "output_type": "stream",
     "text": [
      "sparse_categorical_crossentropy\n",
      "<tensorflow.python.keras.optimizer_v2.adam.Adam object at 0x000001D4E9E79BC8>\n",
      "[<tensorflow.python.keras.metrics.SparseCategoricalAccuracy object at 0x000001D4E9E79848>, <tensorflow.python.keras.metrics.MeanAbsoluteError object at 0x000001D4E9E79888>]\n",
      "<tf.Variable 'learning_rate:0' shape=() dtype=float32, numpy=0.005>\n"
     ]
    }
   ],
   "source": [
    "opt = tf.keras.optimizers.Adam(learning_rate=0.005)\n",
    "acc = tf.keras.metrics.SparseCategoricalAccuracy()\n",
    "mae = tf.keras.metrics.MeanAbsoluteError()\n",
    "model.compile(optimizer=opt,\n",
    "             loss='sparse_categorical_crossentropy', # categorical_crossentropy\n",
    "             metrics=[acc, mae]) # mae\n",
    "print(model.loss)\n",
    "print(model.optimizer)\n",
    "print(model.metrics)\n",
    "print(model.optimizer.lr)"
   ]
  },
  {
   "cell_type": "markdown",
   "metadata": {},
   "source": [
    "# Metrics in Keras\n",
    "In this reading we will be exploring the different metrics in Keras that may be used to judge the performance of a model."
   ]
  },
  {
   "cell_type": "code",
   "execution_count": 10,
   "metadata": {},
   "outputs": [
    {
     "name": "stdout",
     "output_type": "stream",
     "text": [
      "2.0.0\n"
     ]
    }
   ],
   "source": [
    "import tensorflow as tf\n",
    "from tensorflow.keras.models import Sequential\n",
    "from tensorflow.keras.layers import Dense, Flatten\n",
    "import tensorflow.keras.backend as K\n",
    "print(tf.__version__)"
   ]
  },
  {
   "cell_type": "markdown",
   "metadata": {},
   "source": [
    "One of the most common metrics used for classification problems in Keras is `'accuracy'`. \n",
    "\n",
    "We will begin with a simple example of a model that uses accuracy as a metric."
   ]
  },
  {
   "cell_type": "code",
   "execution_count": 11,
   "metadata": {},
   "outputs": [],
   "source": [
    "# Build the model\n",
    "model = Sequential([\n",
    "    Flatten(input_shape=(28, 28)),\n",
    "    Dense(32, activation='relu'),\n",
    "    Dense(32, activation='relu'),\n",
    "    Dense(10, activation='softmax')\n",
    "])\n",
    "# Compile the model\n",
    "model.compile(optimizer='adam',\n",
    "             loss='sparse_categorical_crossentropy',\n",
    "             metrics=['accuracy'])"
   ]
  },
  {
   "cell_type": "markdown",
   "metadata": {},
   "source": [
    "We now have a model that uses accuracy as a metric to judge its performance.\n",
    "\n",
    "But how is this metric actually calculated? We will break our discussion into two cases.\n"
   ]
  },
  {
   "cell_type": "markdown",
   "metadata": {},
   "source": [
    "### Case 1 - Binary Classification with sigmoid activation function\n",
    "Suppose we are training a model for a binary classification problem with a sigmoid activation function (softmax activation functions are covered in the next case). \n",
    "\n",
    "Given a training example with input $x^{(i)}$, the model will output a float between 0 and 1. Based on whether this float is less than or greater than our \"threshold\" (which by default is set at 0.5), we round the float to get the predicted classification $y_{pred}$ from the model.\n",
    "\n",
    "The accuracy metric compares the value of $y_{pred}$ on each training example with the true output, the one-hot coded vector $y_{true}^{(i)}$ from our training data.\n",
    "\n",
    "Let $$\\delta(y_{pred}^{(i)},y_{true}^{(i)}) = \\begin{cases} 1 & y_{pred}=y_{true}\\\\\n",
    "0 & y_{pred}\\neq y_{true} \\end{cases}$$\n",
    "\n",
    "The accuracy metric  computes the mean of $\\delta(y_{pred}^{(i)},y_{true}^{(i)})$ over all training examples.\n",
    "\n",
    "$$ accuracy = \\frac{1}{N} \\sum_{i=1}^N \\delta(y_{pred}^{(i)},y_{true}^{(i)}) $$\n",
    "\n",
    "This is implemented in the backend of Keras as follows. \n",
    "Note: We have set $y_{true}$ and $y_{pred}$ ourselves for the purposes of this example."
   ]
  },
  {
   "cell_type": "markdown",
   "metadata": {},
   "source": [
    "- 아래의 코드에서 y_pred는 sigmoid를 거쳐서 나온 output이라고 가정한다.\n",
    "- metrics에서 accuracy를 계산할 때에는 y_pred을 threshold에 따라 0, 1의 값으로 바꾼 후, \n",
    "y_true와 비교하는 방식을 사용한다.\n",
    "- 이를 통해 계산한 accuracy는 0.6666667이 되고, 이와 같은 방식으로 metrics의 accuracy가 계산된다."
   ]
  },
  {
   "cell_type": "code",
   "execution_count": null,
   "metadata": {},
   "outputs": [],
   "source": [
    "# Sigmoid activation function\n",
    "y_true = tf.constant([0.0, 1.0, 1.0])\n",
    "y_pred = tf.constant([0.4, 0.8, 0.3])\n",
    "accuracy = K.mean(K.equal(y_true, K.round(y_pred)))\n",
    "accuracy"
   ]
  },
  {
   "cell_type": "markdown",
   "metadata": {},
   "source": [
    "### Case 2 - Categorical Classification\n",
    "Now suppose we are training a model for a classification problem which should sort data into $m>2$ different classes using a softmax activation function in the last layer.\n",
    "\n",
    "Given a training example with input $x^{(i)}$, the model will output a tensor of probabilities $p_1, p_2, \\dots p_m$, giving the likelihood (according to the model) that $x^{(i)}$ falls into each class.\n",
    "\n",
    "The accuracy metric works by determining the largest argument in the $y_{pred}^{(i)}$ tensor, and compares its index to the index of the maximum value of $y_{true}^{(i)}$ to determine $\\delta(y_{pred}^{(i)},y_{true}^{(i)})$. It then computes the accuracy in the same way as for the binary classification case.\n",
    "\n",
    "$$ accuracy = \\frac{1}{N} \\sum_{i=1}^N \\delta(y_{pred}^{(i)},y_{true}^{(i)}) $$\n",
    "\n",
    "In the backend of Keras, the accuracy metric is implemented slightly differently depending on whether we have a binary classification problem ($m=2$) or a categorical classifcation problem. Note that the accuracy for binary classification problems is the same, no matter if we use a sigmoid or softmax activation function to obtain the output.\n"
   ]
  },
  {
   "cell_type": "markdown",
   "metadata": {},
   "source": [
    "- Binary classification이나 Categorical classification의 경우에도 동일한 방법으로 accuracy가 계산된다."
   ]
  },
  {
   "cell_type": "code",
   "execution_count": 13,
   "metadata": {},
   "outputs": [
    {
     "data": {
      "text/plain": [
       "<tf.Tensor: id=708, shape=(), dtype=float32, numpy=0.5>"
      ]
     },
     "execution_count": 13,
     "metadata": {},
     "output_type": "execute_result"
    }
   ],
   "source": [
    "# Binary classification with softmax\n",
    "y_true = tf.constant([[0.0,1.0],[1.0,0.0],[1.0,0.0],[0.0,1.0]])\n",
    "y_pred = tf.constant([[0.4,0.6],[0.3,0.7],[0.05,0.95],[0.33,0.67]])\n",
    "accuracy =K.mean(K.equal(y_true, K.round(y_pred)))\n",
    "accuracy"
   ]
  },
  {
   "cell_type": "code",
   "execution_count": 15,
   "metadata": {},
   "outputs": [
    {
     "name": "stdout",
     "output_type": "stream",
     "text": [
      "tf.Tensor([1 0 2], shape=(3,), dtype=int64)\n"
     ]
    },
    {
     "data": {
      "text/plain": [
       "<tf.Tensor: id=730, shape=(), dtype=float32, numpy=0.6666667>"
      ]
     },
     "execution_count": 15,
     "metadata": {},
     "output_type": "execute_result"
    }
   ],
   "source": [
    "# Categorical classification with m>2\n",
    "y_true = tf.constant([[0.0,1.0,0.0,0.0],[1.0,0.0,0.0,0.0],[0.0,0.0,1.0,0.0]])\n",
    "y_pred = tf.constant([[0.4,0.6,0.0,0.0],[0.3,0.2,0.1,0.4],[0.05,0.35,0.5,0.1]])\n",
    "# K.argmax 는 최대값에 해당하는 element의 index를 리턴한다.\n",
    "accuracy = K.mean(K.equal(K.argmax(y_true, axis=-1), K.argmax(y_pred, axis=-1)))\n",
    "accuracy"
   ]
  },
  {
   "cell_type": "markdown",
   "metadata": {},
   "source": [
    "## Other examples of metrics\n",
    "We will now look at some other metrics in Keras. A full list is available at <https://keras.io/metrics/>."
   ]
  },
  {
   "cell_type": "markdown",
   "metadata": {},
   "source": [
    "### Binary accuracy and categorical accuracy\n",
    "The `binary_accuracy` and `categorical_accuracy` metrics are, by default, identical to the Case 1 and 2 respectively of the `accuracy` metric explained above. \n",
    "\n",
    "However, using `binary_accuracy` allows you to use the optional `threshold` argument, which sets the minimum value of $y_{pred}$ which will be rounded to 1. As mentioned above, it is set as `threshold=0.5` by default.\n",
    "\n",
    "Below we give some examples of how to compile a model with `binary_accuracy` with and without a threshold."
   ]
  },
  {
   "cell_type": "code",
   "execution_count": null,
   "metadata": {},
   "outputs": [],
   "source": [
    "- 아래의 두 코드는 동일한 코드이다.\n",
    "- threshold를 통해 accuracy의 임계값을 설정할 수 있다."
   ]
  },
  {
   "cell_type": "code",
   "execution_count": 16,
   "metadata": {},
   "outputs": [],
   "source": [
    "# Compile the model with default threshold (=0.5)\n",
    "model.compile(optimizer='adam',\n",
    "              loss='sparse_categorical_crossentropy',\n",
    "              metrics=['binary_accuracy'])\n",
    "\n",
    "# The threshold can be specified as follows\n",
    "model.compile(optimizer='adam',\n",
    "              loss='sparse_categorical_crossentropy',\n",
    "              metrics=[tf.keras.metrics.BinaryAccuracy(threshold=0.5)])"
   ]
  },
  {
   "cell_type": "markdown",
   "metadata": {},
   "source": [
    "### Sparse categorical accuracy\n",
    "\n",
    "This is a very similar metric to categorical accuracy with one major difference - the label $y_{true}$ of each training example is not expected to be a one-hot encoded vector, but to be a tensor consisting of a single integer. This integer is then compared to the index of the maximum argument of $y_{pred}$ to determine $\\delta(y_{pred}^{(i)},y_{true}^{(i)})$.\n",
    "- sparse categorical accuracy는 $y_{true}$가 원핫코드가 아닌 정수 형태일 때 사용하는 metrics라고 한다."
   ]
  },
  {
   "cell_type": "code",
   "execution_count": 17,
   "metadata": {},
   "outputs": [],
   "source": [
    "#Two examples of compiling a model with \n",
    "#a sparse categorical accuracy metric.\n",
    "model.compile(optimizer='adam',\n",
    "              loss='sparse_categorical_crossentropy',\n",
    "              metrics=[\"sparse_categorical_accuracy\"])\n",
    "\n",
    "model.compile(optimizer='adam',\n",
    "              loss='sparse_categorical_crossentropy',\n",
    "              metrics=[tf.keras.metrics.SparseCategoricalAccuracy()])"
   ]
  },
  {
   "cell_type": "markdown",
   "metadata": {},
   "source": [
    "### (Sparse) Top $k$-categorical accuracy \n",
    "In top $k$-categorical accuracy, instead of computing how often the model correctly predicts the label of a training example, the metric computes how often the model has $y_{true}$ in the top $k$ of its predictions. By default, $k=5$.\n",
    "\n",
    "As before, the main difference between top $k$-categorical accuracy and its sparse version is that the former assumes $y_{true}$ is a one-hot encoded vector, whereas the sparse version assumes $y_{true}$ is an integer."
   ]
  },
  {
   "cell_type": "code",
   "execution_count": 18,
   "metadata": {},
   "outputs": [],
   "source": [
    "# Compile a model with a top-k categorical accuracy metric with default k (=5)\n",
    "model.compile(optimizer='adam',\n",
    "              loss='sparse_categorical_crossentropy',\n",
    "              metrics=[\"top_k_categorical_accuracy\"])\n",
    "# Specify k instead with the sparse top-k categorical accuracy\n",
    "model.compile(optimizer='adam',\n",
    "              loss='sparse_categorical_crossentropy',\n",
    "              metrics=[tf.keras.metrics.SparseTopKCategoricalAccuracy(k=3)])"
   ]
  },
  {
   "cell_type": "markdown",
   "metadata": {},
   "source": [
    "## Custom metrics\n",
    "It is also possible to define your own custom metric in Keras.\n",
    "You will need to make sure that your metric takes in (at least) two arguments called `y_true` and `y_pred` and then output a single tensor value."
   ]
  },
  {
   "cell_type": "code",
   "execution_count": null,
   "metadata": {},
   "outputs": [],
   "source": [
    "# Define a custom metric\n",
    "def mean_pred(y_true, y_pred):\n",
    "    return K.mean(y_pred)\n",
    "\n",
    "# Specify k instead with the sparse top-k categorical accuracy\n",
    "model.compile(optimizer='adam',\n",
    "              loss='sparse_categorical_crossentropy',\n",
    "              metrics=[mean_pred])"
   ]
  },
  {
   "cell_type": "markdown",
   "metadata": {},
   "source": [
    "## Multiple metrics\n",
    "Finally, it is possible to use multiple metrics to judge the performance of your model. \n",
    "\n",
    "\n",
    "Here's an example:"
   ]
  },
  {
   "cell_type": "code",
   "execution_count": 21,
   "metadata": {},
   "outputs": [],
   "source": [
    "model.compile(optimizer='adam',\n",
    "              loss='sparse_categorical_crossentropy',\n",
    "              # 아래와 같이 여러 개의 metrics를 사용할 수도 있다.\n",
    "              metrics=[mean_pred, \"accuracy\", tf.keras.metrics.SparseTopKCategoricalAccuracy(k=3)])"
   ]
  },
  {
   "cell_type": "markdown",
   "metadata": {},
   "source": [
    "### Sources and Further Reading\n",
    "* The metrics page on the Keras website: https://keras.io/metrics/\n",
    "* The source code for the metrics: https://github.com/keras-team/keras/blob/master/keras/metrics.py\n"
   ]
  },
  {
   "cell_type": "markdown",
   "metadata": {},
   "source": [
    "# 02/05"
   ]
  },
  {
   "cell_type": "code",
   "execution_count": null,
   "metadata": {},
   "outputs": [],
   "source": [
    "import tensorflow as tf\n",
    "from tensorflow.keras.models import Sequential\n",
    "from tensorflow.keras.layers import Dense\n",
    "\n",
    "model = Sequential([\n",
    "    Dense(64, activation='elu', input_shape=(32,)),\n",
    "    Dense(100, activation='softmax')\n",
    "])\n",
    "model.compile(\n",
    "    optimizer='rmsprop',\n",
    "    loss='sparse_categorical_crossentropy',\n",
    "    metrics=['accuracy']\n",
    ")\n",
    "\n",
    "history = model.fit(X_train, y_train, epochs=10, batch_size=16)\n",
    "\n",
    "# X_train: (num_samples, num_features) \n",
    "# y_train: (num_samples, num_classes)\n",
    "# y_train: (num_samples)"
   ]
  },
  {
   "cell_type": "markdown",
   "metadata": {},
   "source": [
    "- model.fit을 통해 학습이 완료되면 tensorflow는 tensorflow history 객체를 리턴한다.\n",
    "- history는 훈련 진행 중의 loss와 metrics 등을 기록하는 역할을 한다.\n",
    "- X_train 및 y_train에서 num_samples, num_features, num_classes는 차원 크기를 의미한다.\n",
    "- y_train이 one-hot 코드 벡터인 경우 각 샘플마다 1개의 클래스를 제외한 나머지 클래스의 값은 0일 것이다.\n",
    "- y_train이 sparse representation 형태로 되어 있을 경우(클래스의 인덱스가 라벨인 경우), y_train은 \n",
    "1열로 된 배열이 될 것이다.\n",
    "- 이러한 경우에는 loss 또한 `categorical_crossentropy`가 아닌 `sparse_categorical_crossentropy`를 사용하여야 한다."
   ]
  },
  {
   "cell_type": "markdown",
   "metadata": {
    "id": "0G5VG_HFoLKt"
   },
   "source": [
    "***\n",
    "<a id=\"coding_tutorial_4\"></a>\n",
    "## The fit method"
   ]
  },
  {
   "cell_type": "code",
   "execution_count": 2,
   "metadata": {
    "ExecuteTime": {
     "end_time": "2021-02-08T13:19:27.798655Z",
     "start_time": "2021-02-08T13:19:27.360421Z"
    },
    "id": "S1RGf2OfoLKu"
   },
   "outputs": [],
   "source": [
    "import tensorflow as tf\n",
    "from tensorflow.keras.models import Sequential\n",
    "from tensorflow.keras.layers import Dense, Flatten, Conv2D, MaxPooling2D\n",
    "from tensorflow.keras.preprocessing import image\n",
    "import matplotlib.pyplot as plt\n",
    "import numpy as np\n",
    "import pandas as pd"
   ]
  },
  {
   "cell_type": "markdown",
   "metadata": {},
   "source": [
    "#### Build a convolutional neural network model"
   ]
  },
  {
   "cell_type": "code",
   "execution_count": 3,
   "metadata": {
    "ExecuteTime": {
     "end_time": "2021-02-08T13:19:34.347580Z",
     "start_time": "2021-02-08T13:19:30.504132Z"
    }
   },
   "outputs": [
    {
     "name": "stdout",
     "output_type": "stream",
     "text": [
      "Model: \"sequential\"\n",
      "_________________________________________________________________\n",
      "Layer (type)                 Output Shape              Param #   \n",
      "=================================================================\n",
      "conv2d (Conv2D)              (None, 26, 26, 16)        160       \n",
      "_________________________________________________________________\n",
      "max_pooling2d (MaxPooling2D) (None, 8, 8, 16)          0         \n",
      "_________________________________________________________________\n",
      "flatten (Flatten)            (None, 1024)              0         \n",
      "_________________________________________________________________\n",
      "dense (Dense)                (None, 10)                10250     \n",
      "=================================================================\n",
      "Total params: 10,410\n",
      "Trainable params: 10,410\n",
      "Non-trainable params: 0\n",
      "_________________________________________________________________\n"
     ]
    }
   ],
   "source": [
    "# Build the Sequential convolutional neural network model\n",
    "model = Sequential([\n",
    "    Conv2D(16, (3,3), activation='relu', input_shape=(28,28,1)),\n",
    "    MaxPooling2D((3,3)),\n",
    "    Flatten(),\n",
    "    Dense(10, activation='softmax')\n",
    "])\n",
    "\n",
    "# Print the model summary\n",
    "model.summary()"
   ]
  },
  {
   "cell_type": "markdown",
   "metadata": {},
   "source": [
    "#### The compile method"
   ]
  },
  {
   "cell_type": "code",
   "execution_count": 4,
   "metadata": {
    "ExecuteTime": {
     "end_time": "2021-02-08T13:19:42.342378Z",
     "start_time": "2021-02-08T13:19:42.268391Z"
    }
   },
   "outputs": [
    {
     "name": "stdout",
     "output_type": "stream",
     "text": [
      "sparse_categorical_crossentropy\n",
      "<tensorflow.python.keras.optimizer_v2.adam.Adam object at 0x00000268476AE7C8>\n",
      "[<tensorflow.python.keras.metrics.SparseCategoricalAccuracy object at 0x00000268476AE648>, <tensorflow.python.keras.metrics.MeanAbsoluteError object at 0x00000268476AE348>]\n",
      "<tf.Variable 'learning_rate:0' shape=() dtype=float32, numpy=0.005>\n"
     ]
    }
   ],
   "source": [
    "# Define the model optimizer, loss function and metrics\n",
    "opt = tf.keras.optimizers.Adam(learning_rate=0.005)\n",
    "acc = tf.keras.metrics.SparseCategoricalAccuracy()\n",
    "mae = tf.keras.metrics.MeanAbsoluteError()\n",
    "\n",
    "model.compile(optimizer=opt,\n",
    "             loss='sparse_categorical_crossentropy',\n",
    "             metrics=[acc,mae])\n",
    "\n",
    "# Print the resulting model attributes\n",
    "print(model.loss)\n",
    "print(model.optimizer)\n",
    "print(model.metrics)\n",
    "print(model.optimizer.lr)"
   ]
  },
  {
   "cell_type": "markdown",
   "metadata": {
    "id": "iY-fx-_goLKu"
   },
   "source": [
    "#### Load the data"
   ]
  },
  {
   "cell_type": "code",
   "execution_count": 5,
   "metadata": {
    "ExecuteTime": {
     "end_time": "2021-02-08T13:19:49.123531Z",
     "start_time": "2021-02-08T13:19:48.788484Z"
    },
    "id": "GAyMVaOeoLKu"
   },
   "outputs": [],
   "source": [
    "# Load the Fashion-MNIST dataset\n",
    "fashion_mnist_data = tf.keras.datasets.fashion_mnist\n",
    "(train_images, train_labels), (test_images, test_labels) = fashion_mnist_data.load_data()"
   ]
  },
  {
   "cell_type": "code",
   "execution_count": 6,
   "metadata": {
    "ExecuteTime": {
     "end_time": "2021-02-08T13:19:55.058217Z",
     "start_time": "2021-02-08T13:19:55.041246Z"
    },
    "id": "cC6yBOjhoLKv"
   },
   "outputs": [
    {
     "name": "stdout",
     "output_type": "stream",
     "text": [
      "(60000, 28, 28)\n",
      "(60000,)\n",
      "(10000, 28, 28)\n",
      "(10000,)\n"
     ]
    }
   ],
   "source": [
    "# Print the shape of the training data\n",
    "print(train_images.shape)\n",
    "print(train_labels.shape)\n",
    "print(test_images.shape)\n",
    "print(test_labels.shape)"
   ]
  },
  {
   "cell_type": "code",
   "execution_count": 7,
   "metadata": {
    "ExecuteTime": {
     "end_time": "2021-02-08T13:20:04.918992Z",
     "start_time": "2021-02-08T13:20:04.912967Z"
    },
    "id": "D3MC9OQMoLKv"
   },
   "outputs": [],
   "source": [
    "# Define the labels\n",
    "labels = [\n",
    "    'T-shirt/top',\n",
    "    'Trouser',\n",
    "    'Pullover',\n",
    "    'Dress',\n",
    "    'Coat',\n",
    "    'Sandal',\n",
    "    'Shirt',\n",
    "    'Sneaker',\n",
    "    'Bag',\n",
    "    'Ankle boot'\n",
    "]"
   ]
  },
  {
   "cell_type": "code",
   "execution_count": 8,
   "metadata": {
    "ExecuteTime": {
     "end_time": "2021-02-08T13:20:09.797325Z",
     "start_time": "2021-02-08T13:20:09.660323Z"
    },
    "id": "CuTdWO_moLKv"
   },
   "outputs": [],
   "source": [
    "# Rescale the image values so that they lie in between 0 and 1.\n",
    "train_images = train_images / 255.\n",
    "test_images = test_images / 255."
   ]
  },
  {
   "cell_type": "code",
   "execution_count": 9,
   "metadata": {
    "ExecuteTime": {
     "end_time": "2021-02-08T13:20:11.557987Z",
     "start_time": "2021-02-08T13:20:11.348260Z"
    },
    "id": "nJqX1B1LoLKw"
   },
   "outputs": [
    {
     "data": {
      "image/png": "[encoded data removed]",
      "text/plain": [
       "<Figure size 432x288 with 1 Axes>"
      ]
     },
     "metadata": {
      "needs_background": "light"
     },
     "output_type": "display_data"
    },
    {
     "name": "stdout",
     "output_type": "stream",
     "text": [
      "label: Ankle boot\n"
     ]
    }
   ],
   "source": [
    "# Display one of the images\n",
    "plt.imshow(train_images[0, :, :])\n",
    "plt.show()\n",
    "print(f\"label: {labels[train_labels[0]]}\")"
   ]
  },
  {
   "cell_type": "markdown",
   "metadata": {
    "id": "_S6bX-XAoLKw"
   },
   "source": [
    "#### Fit the model"
   ]
  },
  {
   "cell_type": "code",
   "execution_count": null,
   "metadata": {},
   "outputs": [],
   "source": [
    "- 데이터셋을 모델에 입력하여 fit 메서드를 실행하면 아래와 같은 에러가 발생한다.\n",
    "- 이는 위에서 모델을 정의할 때 input_shape을 (28, 28, 1)로 정의하였지만, 실제 이미지는 (28, 28)이기 때문이라서\n",
    "발생하는 에러이다.\n",
    "- 이를 해결하기 위해서는 간단하게 더미 채널을 추가해주면 된다."
   ]
  },
  {
   "cell_type": "code",
   "execution_count": 26,
   "metadata": {
    "id": "qMlIOp2WoLKw"
   },
   "outputs": [
    {
     "ename": "ValueError",
     "evalue": "Error when checking input: expected conv2d_1_input to have 4 dimensions, but got array with shape (60000, 28, 28)",
     "output_type": "error",
     "traceback": [
      "\u001b[1;31m---------------------------------------------------------------------------\u001b[0m",
      "\u001b[1;31mValueError\u001b[0m                                Traceback (most recent call last)",
      "\u001b[1;32m<ipython-input-26-96c39172b029>\u001b[0m in \u001b[0;36m<module>\u001b[1;34m()\u001b[0m\n\u001b[0;32m      1\u001b[0m \u001b[1;31m# Fit the model\u001b[0m\u001b[1;33m\u001b[0m\u001b[1;33m\u001b[0m\u001b[1;33m\u001b[0m\u001b[0m\n\u001b[1;32m----> 2\u001b[1;33m \u001b[0mhistory\u001b[0m \u001b[1;33m=\u001b[0m \u001b[0mmodel\u001b[0m\u001b[1;33m.\u001b[0m\u001b[0mfit\u001b[0m\u001b[1;33m(\u001b[0m\u001b[0mtrain_images\u001b[0m\u001b[1;33m,\u001b[0m \u001b[0mtrain_labels\u001b[0m\u001b[1;33m,\u001b[0m \u001b[0mepochs\u001b[0m\u001b[1;33m=\u001b[0m\u001b[1;36m2\u001b[0m\u001b[1;33m,\u001b[0m \u001b[0mbatch_size\u001b[0m\u001b[1;33m=\u001b[0m\u001b[1;36m256\u001b[0m\u001b[1;33m)\u001b[0m\u001b[1;33m\u001b[0m\u001b[1;33m\u001b[0m\u001b[0m\n\u001b[0m",
      "\u001b[1;32mC:\\Users\\user\\anaconda3\\envs\\tf_gpu2.0\\lib\\site-packages\\tensorflow_core\\python\\keras\\engine\\training.py\u001b[0m in \u001b[0;36mfit\u001b[1;34m(self, x, y, batch_size, epochs, verbose, callbacks, validation_split, validation_data, shuffle, class_weight, sample_weight, initial_epoch, steps_per_epoch, validation_steps, validation_freq, max_queue_size, workers, use_multiprocessing, **kwargs)\u001b[0m\n\u001b[0;32m    726\u001b[0m         \u001b[0mmax_queue_size\u001b[0m\u001b[1;33m=\u001b[0m\u001b[0mmax_queue_size\u001b[0m\u001b[1;33m,\u001b[0m\u001b[1;33m\u001b[0m\u001b[1;33m\u001b[0m\u001b[0m\n\u001b[0;32m    727\u001b[0m         \u001b[0mworkers\u001b[0m\u001b[1;33m=\u001b[0m\u001b[0mworkers\u001b[0m\u001b[1;33m,\u001b[0m\u001b[1;33m\u001b[0m\u001b[1;33m\u001b[0m\u001b[0m\n\u001b[1;32m--> 728\u001b[1;33m         use_multiprocessing=use_multiprocessing)\n\u001b[0m\u001b[0;32m    729\u001b[0m \u001b[1;33m\u001b[0m\u001b[0m\n\u001b[0;32m    730\u001b[0m   def evaluate(self,\n",
      "\u001b[1;32mC:\\Users\\user\\anaconda3\\envs\\tf_gpu2.0\\lib\\site-packages\\tensorflow_core\\python\\keras\\engine\\training_v2.py\u001b[0m in \u001b[0;36mfit\u001b[1;34m(self, model, x, y, batch_size, epochs, verbose, callbacks, validation_split, validation_data, shuffle, class_weight, sample_weight, initial_epoch, steps_per_epoch, validation_steps, validation_freq, **kwargs)\u001b[0m\n\u001b[0;32m    222\u001b[0m           \u001b[0mvalidation_data\u001b[0m\u001b[1;33m=\u001b[0m\u001b[0mvalidation_data\u001b[0m\u001b[1;33m,\u001b[0m\u001b[1;33m\u001b[0m\u001b[1;33m\u001b[0m\u001b[0m\n\u001b[0;32m    223\u001b[0m           \u001b[0mvalidation_steps\u001b[0m\u001b[1;33m=\u001b[0m\u001b[0mvalidation_steps\u001b[0m\u001b[1;33m,\u001b[0m\u001b[1;33m\u001b[0m\u001b[1;33m\u001b[0m\u001b[0m\n\u001b[1;32m--> 224\u001b[1;33m           distribution_strategy=strategy)\n\u001b[0m\u001b[0;32m    225\u001b[0m \u001b[1;33m\u001b[0m\u001b[0m\n\u001b[0;32m    226\u001b[0m       \u001b[0mtotal_samples\u001b[0m \u001b[1;33m=\u001b[0m \u001b[0m_get_total_number_of_samples\u001b[0m\u001b[1;33m(\u001b[0m\u001b[0mtraining_data_adapter\u001b[0m\u001b[1;33m)\u001b[0m\u001b[1;33m\u001b[0m\u001b[1;33m\u001b[0m\u001b[0m\n",
      "\u001b[1;32mC:\\Users\\user\\anaconda3\\envs\\tf_gpu2.0\\lib\\site-packages\\tensorflow_core\\python\\keras\\engine\\training_v2.py\u001b[0m in \u001b[0;36m_process_training_inputs\u001b[1;34m(model, x, y, batch_size, epochs, sample_weights, class_weights, steps_per_epoch, validation_split, validation_data, validation_steps, shuffle, distribution_strategy, max_queue_size, workers, use_multiprocessing)\u001b[0m\n\u001b[0;32m    545\u001b[0m         \u001b[0mmax_queue_size\u001b[0m\u001b[1;33m=\u001b[0m\u001b[0mmax_queue_size\u001b[0m\u001b[1;33m,\u001b[0m\u001b[1;33m\u001b[0m\u001b[1;33m\u001b[0m\u001b[0m\n\u001b[0;32m    546\u001b[0m         \u001b[0mworkers\u001b[0m\u001b[1;33m=\u001b[0m\u001b[0mworkers\u001b[0m\u001b[1;33m,\u001b[0m\u001b[1;33m\u001b[0m\u001b[1;33m\u001b[0m\u001b[0m\n\u001b[1;32m--> 547\u001b[1;33m         use_multiprocessing=use_multiprocessing)\n\u001b[0m\u001b[0;32m    548\u001b[0m     \u001b[0mval_adapter\u001b[0m \u001b[1;33m=\u001b[0m \u001b[1;32mNone\u001b[0m\u001b[1;33m\u001b[0m\u001b[1;33m\u001b[0m\u001b[0m\n\u001b[0;32m    549\u001b[0m     \u001b[1;32mif\u001b[0m \u001b[0mvalidation_data\u001b[0m\u001b[1;33m:\u001b[0m\u001b[1;33m\u001b[0m\u001b[1;33m\u001b[0m\u001b[0m\n",
      "\u001b[1;32mC:\\Users\\user\\anaconda3\\envs\\tf_gpu2.0\\lib\\site-packages\\tensorflow_core\\python\\keras\\engine\\training_v2.py\u001b[0m in \u001b[0;36m_process_inputs\u001b[1;34m(model, x, y, batch_size, epochs, sample_weights, class_weights, shuffle, steps, distribution_strategy, max_queue_size, workers, use_multiprocessing)\u001b[0m\n\u001b[0;32m    592\u001b[0m         \u001b[0mbatch_size\u001b[0m\u001b[1;33m=\u001b[0m\u001b[0mbatch_size\u001b[0m\u001b[1;33m,\u001b[0m\u001b[1;33m\u001b[0m\u001b[1;33m\u001b[0m\u001b[0m\n\u001b[0;32m    593\u001b[0m         \u001b[0mcheck_steps\u001b[0m\u001b[1;33m=\u001b[0m\u001b[1;32mFalse\u001b[0m\u001b[1;33m,\u001b[0m\u001b[1;33m\u001b[0m\u001b[1;33m\u001b[0m\u001b[0m\n\u001b[1;32m--> 594\u001b[1;33m         steps=steps)\n\u001b[0m\u001b[0;32m    595\u001b[0m   adapter = adapter_cls(\n\u001b[0;32m    596\u001b[0m       \u001b[0mx\u001b[0m\u001b[1;33m,\u001b[0m\u001b[1;33m\u001b[0m\u001b[1;33m\u001b[0m\u001b[0m\n",
      "\u001b[1;32mC:\\Users\\user\\anaconda3\\envs\\tf_gpu2.0\\lib\\site-packages\\tensorflow_core\\python\\keras\\engine\\training.py\u001b[0m in \u001b[0;36m_standardize_user_data\u001b[1;34m(self, x, y, sample_weight, class_weight, batch_size, check_steps, steps_name, steps, validation_split, shuffle, extract_tensors_from_dataset)\u001b[0m\n\u001b[0;32m   2470\u001b[0m           \u001b[0mfeed_input_shapes\u001b[0m\u001b[1;33m,\u001b[0m\u001b[1;33m\u001b[0m\u001b[1;33m\u001b[0m\u001b[0m\n\u001b[0;32m   2471\u001b[0m           \u001b[0mcheck_batch_axis\u001b[0m\u001b[1;33m=\u001b[0m\u001b[1;32mFalse\u001b[0m\u001b[1;33m,\u001b[0m  \u001b[1;31m# Don't enforce the batch size.\u001b[0m\u001b[1;33m\u001b[0m\u001b[1;33m\u001b[0m\u001b[0m\n\u001b[1;32m-> 2472\u001b[1;33m           exception_prefix='input')\n\u001b[0m\u001b[0;32m   2473\u001b[0m \u001b[1;33m\u001b[0m\u001b[0m\n\u001b[0;32m   2474\u001b[0m     \u001b[1;31m# Get typespecs for the input data and sanitize it if necessary.\u001b[0m\u001b[1;33m\u001b[0m\u001b[1;33m\u001b[0m\u001b[1;33m\u001b[0m\u001b[0m\n",
      "\u001b[1;32mC:\\Users\\user\\anaconda3\\envs\\tf_gpu2.0\\lib\\site-packages\\tensorflow_core\\python\\keras\\engine\\training_utils.py\u001b[0m in \u001b[0;36mstandardize_input_data\u001b[1;34m(data, names, shapes, check_batch_axis, exception_prefix)\u001b[0m\n\u001b[0;32m    563\u001b[0m                            \u001b[1;34m': expected '\u001b[0m \u001b[1;33m+\u001b[0m \u001b[0mnames\u001b[0m\u001b[1;33m[\u001b[0m\u001b[0mi\u001b[0m\u001b[1;33m]\u001b[0m \u001b[1;33m+\u001b[0m \u001b[1;34m' to have '\u001b[0m \u001b[1;33m+\u001b[0m\u001b[1;33m\u001b[0m\u001b[1;33m\u001b[0m\u001b[0m\n\u001b[0;32m    564\u001b[0m                            \u001b[0mstr\u001b[0m\u001b[1;33m(\u001b[0m\u001b[0mlen\u001b[0m\u001b[1;33m(\u001b[0m\u001b[0mshape\u001b[0m\u001b[1;33m)\u001b[0m\u001b[1;33m)\u001b[0m \u001b[1;33m+\u001b[0m \u001b[1;34m' dimensions, but got array '\u001b[0m\u001b[1;33m\u001b[0m\u001b[1;33m\u001b[0m\u001b[0m\n\u001b[1;32m--> 565\u001b[1;33m                            'with shape ' + str(data_shape))\n\u001b[0m\u001b[0;32m    566\u001b[0m         \u001b[1;32mif\u001b[0m \u001b[1;32mnot\u001b[0m \u001b[0mcheck_batch_axis\u001b[0m\u001b[1;33m:\u001b[0m\u001b[1;33m\u001b[0m\u001b[1;33m\u001b[0m\u001b[0m\n\u001b[0;32m    567\u001b[0m           \u001b[0mdata_shape\u001b[0m \u001b[1;33m=\u001b[0m \u001b[0mdata_shape\u001b[0m\u001b[1;33m[\u001b[0m\u001b[1;36m1\u001b[0m\u001b[1;33m:\u001b[0m\u001b[1;33m]\u001b[0m\u001b[1;33m\u001b[0m\u001b[1;33m\u001b[0m\u001b[0m\n",
      "\u001b[1;31mValueError\u001b[0m: Error when checking input: expected conv2d_1_input to have 4 dimensions, but got array with shape (60000, 28, 28)"
     ]
    }
   ],
   "source": [
    "# Fit the model\n",
    "history = model.fit(train_images, train_labels, epochs=2, batch_size=256)"
   ]
  },
  {
   "cell_type": "markdown",
   "metadata": {},
   "source": [
    "- verbose 옵션은 모델의 학습 과정을 보여주는 옵션으로, 0일 경우 아무런 출력을 보여주지 않고, 1일 경우 아래와 같이\n",
    "학습이 얼마나 되었는지 보여주고, 2일 경우 매 에포크마다의 결과를 출력해준다."
   ]
  },
  {
   "cell_type": "code",
   "execution_count": 10,
   "metadata": {
    "ExecuteTime": {
     "end_time": "2021-02-08T13:20:28.871839Z",
     "start_time": "2021-02-08T13:20:23.292856Z"
    }
   },
   "outputs": [
    {
     "name": "stdout",
     "output_type": "stream",
     "text": [
      "Train on 60000 samples\n",
      "Epoch 1/2\n",
      "60000/60000 [==============================] - 5s 78us/sample - loss: 0.5684 - sparse_categorical_accuracy: 0.8012 - mean_absolute_error: 4.4200\n",
      "Epoch 2/2\n",
      "60000/60000 [==============================] - 1s 13us/sample - loss: 0.3734 - sparse_categorical_accuracy: 0.8683 - mean_absolute_error: 4.4200\n"
     ]
    }
   ],
   "source": [
    "# Fit the model\n",
    "history = model.fit(train_images[...,np.newaxis], train_labels, epochs=2, batch_size=256, verbose=1)"
   ]
  },
  {
   "cell_type": "code",
   "execution_count": 11,
   "metadata": {
    "ExecuteTime": {
     "end_time": "2021-02-08T13:20:44.381995Z",
     "start_time": "2021-02-08T13:20:38.141994Z"
    }
   },
   "outputs": [
    {
     "name": "stdout",
     "output_type": "stream",
     "text": [
      "Train on 60000 samples\n",
      "Epoch 1/8\n",
      "60000/60000 - 1s - loss: 0.3404 - sparse_categorical_accuracy: 0.8793 - mean_absolute_error: 4.4200\n",
      "Epoch 2/8\n",
      "60000/60000 - 1s - loss: 0.3171 - sparse_categorical_accuracy: 0.8870 - mean_absolute_error: 4.4200\n",
      "Epoch 3/8\n",
      "60000/60000 - 1s - loss: 0.3061 - sparse_categorical_accuracy: 0.8898 - mean_absolute_error: 4.4200\n",
      "Epoch 4/8\n",
      "60000/60000 - 1s - loss: 0.2946 - sparse_categorical_accuracy: 0.8943 - mean_absolute_error: 4.4200\n",
      "Epoch 5/8\n",
      "60000/60000 - 1s - loss: 0.2893 - sparse_categorical_accuracy: 0.8950 - mean_absolute_error: 4.4200\n",
      "Epoch 6/8\n",
      "60000/60000 - 1s - loss: 0.2804 - sparse_categorical_accuracy: 0.8988 - mean_absolute_error: 4.4200\n",
      "Epoch 7/8\n",
      "60000/60000 - 1s - loss: 0.2739 - sparse_categorical_accuracy: 0.9010 - mean_absolute_error: 4.4200\n",
      "Epoch 8/8\n",
      "60000/60000 - 1s - loss: 0.2666 - sparse_categorical_accuracy: 0.9041 - mean_absolute_error: 4.4200\n"
     ]
    }
   ],
   "source": [
    "# Fit the model\n",
    "history = model.fit(train_images[...,np.newaxis], train_labels, epochs=8, batch_size=256, verbose=2)"
   ]
  },
  {
   "cell_type": "markdown",
   "metadata": {
    "id": "qk-DXe3roLKw"
   },
   "source": [
    "#### Plot training history"
   ]
  },
  {
   "cell_type": "markdown",
   "metadata": {},
   "source": [
    "- history는 매 에포크마다의 loss와 metrics 정보를 가지는 딕셔너리형의 history라는 메서드를 가지고 있다."
   ]
  },
  {
   "cell_type": "code",
   "execution_count": 12,
   "metadata": {
    "ExecuteTime": {
     "end_time": "2021-02-08T13:20:46.614038Z",
     "start_time": "2021-02-08T13:20:46.571016Z"
    },
    "id": "WZf_sV_HoLKx"
   },
   "outputs": [
    {
     "data": {
      "text/html": [
       "<div>\n",
       "<style scoped>\n",
       "    .dataframe tbody tr th:only-of-type {\n",
       "        vertical-align: middle;\n",
       "    }\n",
       "\n",
       "    .dataframe tbody tr th {\n",
       "        vertical-align: top;\n",
       "    }\n",
       "\n",
       "    .dataframe thead th {\n",
       "        text-align: right;\n",
       "    }\n",
       "</style>\n",
       "<table border=\"1\" class=\"dataframe\">\n",
       "  <thead>\n",
       "    <tr style=\"text-align: right;\">\n",
       "      <th></th>\n",
       "      <th>loss</th>\n",
       "      <th>sparse_categorical_accuracy</th>\n",
       "      <th>mean_absolute_error</th>\n",
       "    </tr>\n",
       "  </thead>\n",
       "  <tbody>\n",
       "    <tr>\n",
       "      <th>0</th>\n",
       "      <td>0.340450</td>\n",
       "      <td>0.879333</td>\n",
       "      <td>4.420000</td>\n",
       "    </tr>\n",
       "    <tr>\n",
       "      <th>1</th>\n",
       "      <td>0.317141</td>\n",
       "      <td>0.887033</td>\n",
       "      <td>4.420001</td>\n",
       "    </tr>\n",
       "    <tr>\n",
       "      <th>2</th>\n",
       "      <td>0.306132</td>\n",
       "      <td>0.889800</td>\n",
       "      <td>4.420001</td>\n",
       "    </tr>\n",
       "    <tr>\n",
       "      <th>3</th>\n",
       "      <td>0.294637</td>\n",
       "      <td>0.894317</td>\n",
       "      <td>4.420001</td>\n",
       "    </tr>\n",
       "    <tr>\n",
       "      <th>4</th>\n",
       "      <td>0.289283</td>\n",
       "      <td>0.895050</td>\n",
       "      <td>4.419999</td>\n",
       "    </tr>\n",
       "  </tbody>\n",
       "</table>\n",
       "</div>"
      ],
      "text/plain": [
       "       loss  sparse_categorical_accuracy  mean_absolute_error\n",
       "0  0.340450                     0.879333             4.420000\n",
       "1  0.317141                     0.887033             4.420001\n",
       "2  0.306132                     0.889800             4.420001\n",
       "3  0.294637                     0.894317             4.420001\n",
       "4  0.289283                     0.895050             4.419999"
      ]
     },
     "execution_count": 12,
     "metadata": {},
     "output_type": "execute_result"
    }
   ],
   "source": [
    "# Load the history into a pandas Dataframe\n",
    "df = pd.DataFrame(history.history) \n",
    "df.head()"
   ]
  },
  {
   "cell_type": "code",
   "execution_count": 13,
   "metadata": {
    "ExecuteTime": {
     "end_time": "2021-02-08T13:20:49.377290Z",
     "start_time": "2021-02-08T13:20:49.206165Z"
    },
    "id": "AV-ZKOoMoLKx"
   },
   "outputs": [
    {
     "data": {
      "text/plain": [
       "[Text(0.5, 0, 'Epochs'), Text(0, 0.5, 'loss')]"
      ]
     },
     "execution_count": 13,
     "metadata": {},
     "output_type": "execute_result"
    },
    {
     "data": {
      "image/png": "[encoded data removed]",
      "text/plain": [
       "<Figure size 432x288 with 1 Axes>"
      ]
     },
     "metadata": {
      "needs_background": "light"
     },
     "output_type": "display_data"
    }
   ],
   "source": [
    "# Make a plot for the loss\n",
    "loss_plot = df.plot(y='loss', title='Loss vs. Epochs', legend=False)\n",
    "loss_plot.set(xlabel='Epochs', ylabel='loss')"
   ]
  },
  {
   "cell_type": "code",
   "execution_count": 14,
   "metadata": {
    "ExecuteTime": {
     "end_time": "2021-02-08T13:20:51.580864Z",
     "start_time": "2021-02-08T13:20:51.461727Z"
    },
    "id": "yM7Iknc3oLKx"
   },
   "outputs": [
    {
     "data": {
      "text/plain": [
       "[Text(0.5, 0, 'Epochs'), Text(0, 0.5, 'Accuracy')]"
      ]
     },
     "execution_count": 14,
     "metadata": {},
     "output_type": "execute_result"
    },
    {
     "data": {
      "image/png": "[encoded data removed]",
      "text/plain": [
       "<Figure size 432x288 with 1 Axes>"
      ]
     },
     "metadata": {
      "needs_background": "light"
     },
     "output_type": "display_data"
    }
   ],
   "source": [
    "# Make a plot for the accuracy\n",
    "acc_plot = df.plot(y='sparse_categorical_accuracy', title='Acccuracy vs. Epochs', legend=False)\n",
    "acc_plot.set(xlabel='Epochs', ylabel='Accuracy')"
   ]
  },
  {
   "cell_type": "code",
   "execution_count": 15,
   "metadata": {
    "ExecuteTime": {
     "end_time": "2021-02-08T13:20:53.556818Z",
     "start_time": "2021-02-08T13:20:53.419818Z"
    },
    "id": "j49chQwuoLKy",
    "scrolled": true
   },
   "outputs": [
    {
     "data": {
      "text/plain": [
       "[Text(0.5, 0, 'Epochs'), Text(0, 0.5, 'Mean absolute error')]"
      ]
     },
     "execution_count": 15,
     "metadata": {},
     "output_type": "execute_result"
    },
    {
     "data": {
      "image/png": "[encoded data removed]",
      "text/plain": [
       "<Figure size 432x288 with 1 Axes>"
      ]
     },
     "metadata": {
      "needs_background": "light"
     },
     "output_type": "display_data"
    }
   ],
   "source": [
    "# Make a plot for the additional metric\n",
    "met_plot = df.plot(y='mean_absolute_error', title='Mean absolute error vs. Epochs', legend=False)\n",
    "met_plot.set(xlabel='Epochs', ylabel='Mean absolute error')"
   ]
  },
  {
   "cell_type": "markdown",
   "metadata": {
    "id": "S9ZW7xiOoLKy"
   },
   "source": [
    "***\n",
    "<a id=\"coding_tutorial_5\"></a>\n",
    "## The evaluate and predict methods"
   ]
  },
  {
   "cell_type": "code",
   "execution_count": null,
   "metadata": {},
   "outputs": [],
   "source": [
    "import tensorflow as tf\n",
    "from tensorflow.keras.models import Sequential\n",
    "from tensorflow.keras.layers import Dense\n",
    "\n",
    "# binary classification 문제\n",
    "model = Sequential([Dense(1, activation='sigmoid', input_shape=(12,))])\n",
    "model.compile(optimizer='sgd', loss='binary_crossentropy', metrics=['accuracy', 'mae'])\n",
    "# multi-class classification 문제\n",
    "model = Sequential([Dense(3, activation='softmax', input_shape=(12,))])\n",
    "model.compile(optimizer='sgd', loss='categorical_crossentropy', metrics=['accuracy', 'mae'])\n",
    "model.fit(X_train, y_train)\n",
    "\n",
    "loss, accuracy, mae = model.evaluate(X_test, y_test)\n",
    "\n",
    "# X_sample: (num_samples, 12)\n",
    "pred = model.predict(X_sample)"
   ]
  },
  {
   "cell_type": "markdown",
   "metadata": {
    "ExecuteTime": {
     "end_time": "2021-02-08T13:14:04.800415Z",
     "start_time": "2021-02-08T13:14:04.792416Z"
    }
   },
   "source": [
    "- Binary classification 문제의 경우 model.predict가 샘플마다 1개의 값을 출력하지만,\n",
    "multi-class classification 문제의 경우 softmax 함수에 따라 샘플마다 class의 갯수만큼 값을 출력한다."
   ]
  },
  {
   "cell_type": "code",
   "execution_count": null,
   "metadata": {
    "id": "WCmuCHHOoLKy"
   },
   "outputs": [],
   "source": [
    "import matplotlib.pyplot as plt\n",
    "import numpy as np"
   ]
  },
  {
   "cell_type": "markdown",
   "metadata": {
    "id": "NuOJntQ-oLKy"
   },
   "source": [
    "#### Evaluate the model on the test set\n",
    "- model.evaluate 메서드의 경우 model.compile에서 정의해주었던 loss와 metrics 등을 테스트셋에 대해 계산하여 리턴한다."
   ]
  },
  {
   "cell_type": "code",
   "execution_count": 18,
   "metadata": {
    "ExecuteTime": {
     "end_time": "2021-02-08T13:24:00.836170Z",
     "start_time": "2021-02-08T13:24:00.359162Z"
    },
    "id": "CDtu2pU_oLKz"
   },
   "outputs": [
    {
     "name": "stdout",
     "output_type": "stream",
     "text": [
      "10000/1 - 0s - loss: 0.3289 - sparse_categorical_accuracy: 0.8848 - mean_absolute_error: 4.4200\n"
     ]
    }
   ],
   "source": [
    "# Evaluate the model\n",
    "test_loss, test_accuracy, test_mae = model.evaluate(test_images[..., np.newaxis], test_labels, verbose=2)"
   ]
  },
  {
   "cell_type": "markdown",
   "metadata": {
    "id": "MH4Wd0MroLKz"
   },
   "source": [
    "#### Make predictions from the model"
   ]
  },
  {
   "cell_type": "code",
   "execution_count": 46,
   "metadata": {
    "ExecuteTime": {
     "end_time": "2021-02-08T13:37:19.587556Z",
     "start_time": "2021-02-08T13:37:19.495506Z"
    },
    "id": "hbPACYQnoLKz"
   },
   "outputs": [
    {
     "data": {
      "image/png": "[encoded data removed]",
      "text/plain": [
       "<Figure size 432x288 with 1 Axes>"
      ]
     },
     "metadata": {
      "needs_background": "light"
     },
     "output_type": "display_data"
    },
    {
     "name": "stdout",
     "output_type": "stream",
     "text": [
      "Label: Bag\n",
      "(1, 28, 28, 1)\n"
     ]
    }
   ],
   "source": [
    "# Choose a random test image\n",
    "random_inx = np.random.choice(test_images.shape[0])\n",
    "# inx = 30\n",
    "test_image = test_images[random_inx]\n",
    "plt.imshow(test_image)\n",
    "plt.show()\n",
    "print(f\"Label: {labels[test_labels[random_inx]]}\")\n",
    "print(test_image[np.newaxis, ..., np.newaxis].shape)"
   ]
  },
  {
   "cell_type": "code",
   "execution_count": 47,
   "metadata": {
    "ExecuteTime": {
     "end_time": "2021-02-08T13:37:21.344137Z",
     "start_time": "2021-02-08T13:37:21.294137Z"
    },
    "id": "apBWXcYgoLKz"
   },
   "outputs": [
    {
     "name": "stdout",
     "output_type": "stream",
     "text": [
      "Predict: Bag\n"
     ]
    }
   ],
   "source": [
    "# Get the model predictions\n",
    "pred = model.predict(test_image[np.newaxis, ..., np.newaxis])\n",
    "print(f\"Predict: {labels[pred.argmax()]}\")"
   ]
  }
 ],
 "metadata": {
  "colab": {
   "collapsed_sections": [],
   "name": "2_Building_a_sequential_model.ipynb",
   "provenance": [
    {
     "file_id": "1O8j3-q9ouRhKfe3Pr4iTkBrgGMlZF7po",
     "timestamp": 1611848019010
    }
   ]
  },
  "kernelspec": {
   "display_name": "Python 3",
   "language": "python",
   "name": "python3"
  },
  "language_info": {
   "codemirror_mode": {
    "name": "ipython",
    "version": 3
   },
   "file_extension": ".py",
   "mimetype": "text/x-python",
   "name": "python",
   "nbconvert_exporter": "python",
   "pygments_lexer": "ipython3",
   "version": "3.7.9"
  },
  "toc": {
   "base_numbering": 1,
   "nav_menu": {},
   "number_sections": true,
   "sideBar": true,
   "skip_h1_title": false,
   "title_cell": "Table of Contents",
   "title_sidebar": "Contents",
   "toc_cell": false,
   "toc_position": {},
   "toc_section_display": true,
   "toc_window_display": false
  }
 },
 "nbformat": 4,
 "nbformat_minor": 1
}
