{
 "cells": [
  {
   "cell_type": "code",
   "execution_count": 1,
   "metadata": {
    "id": "7Vb6OJNsoLKO"
   },
   "outputs": [
    {
     "name": "stdout",
     "output_type": "stream",
     "text": [
      "2.1.0\n"
     ]
    }
   ],
   "source": [
    "import tensorflow as tf\n",
    "print(tf.__version__)"
   ]
  },
  {
   "cell_type": "markdown",
   "metadata": {},
   "source": [
    "# 0129"
   ]
  },
  {
   "cell_type": "markdown",
   "metadata": {
    "id": "BqNOP8CLoLKc"
   },
   "source": [
    "# The Sequential model API"
   ]
  },
  {
   "cell_type": "markdown",
   "metadata": {
    "id": "HJUTIdt1oLKd"
   },
   "source": [
    " ## Coding tutorials\n",
    " #### [1. Building a Sequential model](#coding_tutorial_1)\n",
    " #### [2. Convolutional and pooling layers](#coding_tutorial_2)\n",
    " #### [3. The compile method](#coding_tutorial_3)\n",
    " #### [4. The fit method](#coding_tutorial_4)\n",
    " #### [5. The evaluate and predict methods](#coding_tutorial_5)"
   ]
  },
  {
   "cell_type": "markdown",
   "metadata": {
    "id": "kCbTFKc3oLKf"
   },
   "source": [
    "***\n",
    "<a id=\"coding_tutorial_1\"></a>\n",
    "## Building a Sequential model"
   ]
  },
  {
   "cell_type": "code",
   "execution_count": 2,
   "metadata": {
    "id": "MiPhqdB0oLKf"
   },
   "outputs": [],
   "source": [
    "from tensorflow.keras.models import Sequential\n",
    "from tensorflow.keras.layers import Dense, Flatten, Softmax"
   ]
  },
  {
   "cell_type": "markdown",
   "metadata": {
    "id": "VgeyL5oqoLKh"
   },
   "source": [
    "#### Build a feedforward neural network model"
   ]
  },
  {
   "cell_type": "markdown",
   "metadata": {},
   "source": [
    "Sequential([Flatten(), Dense(64)])"
   ]
  },
  {
   "cell_type": "code",
   "execution_count": 3,
   "metadata": {
    "id": "0onivWlMoLKh"
   },
   "outputs": [],
   "source": [
    "# Build the Sequential feedforward neural network model\n",
    "model = Sequential([\n",
    "    Dense(16, activation='relu'),\n",
    "    Dense(16, activation='relu'),\n",
    "    Dense(10, activation='softmax')\n",
    "])"
   ]
  },
  {
   "cell_type": "code",
   "execution_count": 4,
   "metadata": {
    "id": "XLpPc0CLoLKi"
   },
   "outputs": [
    {
     "ename": "ValueError",
     "evalue": "Weights for model sequential have not yet been created. Weights are created when the Model is first called on inputs or `build()` is called with an `input_shape`.",
     "output_type": "error",
     "traceback": [
      "\u001b[1;31m---------------------------------------------------------------------------\u001b[0m",
      "\u001b[1;31mValueError\u001b[0m                                Traceback (most recent call last)",
      "\u001b[1;32m<ipython-input-4-b734739fb1f0>\u001b[0m in \u001b[0;36m<module>\u001b[1;34m\u001b[0m\n\u001b[0;32m      1\u001b[0m \u001b[1;31m# Print the model summary\u001b[0m\u001b[1;33m\u001b[0m\u001b[1;33m\u001b[0m\u001b[1;33m\u001b[0m\u001b[0m\n\u001b[1;32m----> 2\u001b[1;33m \u001b[0mmodel\u001b[0m\u001b[1;33m.\u001b[0m\u001b[0mweights\u001b[0m\u001b[1;33m\u001b[0m\u001b[1;33m\u001b[0m\u001b[0m\n\u001b[0m",
      "\u001b[1;32m~\\anaconda3\\envs\\tf_gpu2.2\\lib\\site-packages\\tensorflow_core\\python\\keras\\engine\\network.py\u001b[0m in \u001b[0;36mweights\u001b[1;34m(self)\u001b[0m\n\u001b[0;32m    483\u001b[0m       \u001b[0mA\u001b[0m \u001b[0mlist\u001b[0m \u001b[0mof\u001b[0m \u001b[0mvariables\u001b[0m\u001b[1;33m.\u001b[0m\u001b[1;33m\u001b[0m\u001b[1;33m\u001b[0m\u001b[0m\n\u001b[0;32m    484\u001b[0m     \"\"\"\n\u001b[1;32m--> 485\u001b[1;33m     \u001b[1;32mreturn\u001b[0m \u001b[0mself\u001b[0m\u001b[1;33m.\u001b[0m\u001b[0m_dedup_weights\u001b[0m\u001b[1;33m(\u001b[0m\u001b[0mself\u001b[0m\u001b[1;33m.\u001b[0m\u001b[0m_undeduplicated_weights\u001b[0m\u001b[1;33m)\u001b[0m\u001b[1;33m\u001b[0m\u001b[1;33m\u001b[0m\u001b[0m\n\u001b[0m\u001b[0;32m    486\u001b[0m \u001b[1;33m\u001b[0m\u001b[0m\n\u001b[0;32m    487\u001b[0m   \u001b[1;33m@\u001b[0m\u001b[0mproperty\u001b[0m\u001b[1;33m\u001b[0m\u001b[1;33m\u001b[0m\u001b[0m\n",
      "\u001b[1;32m~\\anaconda3\\envs\\tf_gpu2.2\\lib\\site-packages\\tensorflow_core\\python\\keras\\engine\\network.py\u001b[0m in \u001b[0;36m_undeduplicated_weights\u001b[1;34m(self)\u001b[0m\n\u001b[0;32m    488\u001b[0m   \u001b[1;32mdef\u001b[0m \u001b[0m_undeduplicated_weights\u001b[0m\u001b[1;33m(\u001b[0m\u001b[0mself\u001b[0m\u001b[1;33m)\u001b[0m\u001b[1;33m:\u001b[0m\u001b[1;33m\u001b[0m\u001b[1;33m\u001b[0m\u001b[0m\n\u001b[0;32m    489\u001b[0m     \u001b[1;34m\"\"\"Returns the undeduplicated list of all layer variables/weights.\"\"\"\u001b[0m\u001b[1;33m\u001b[0m\u001b[1;33m\u001b[0m\u001b[0m\n\u001b[1;32m--> 490\u001b[1;33m     \u001b[0mself\u001b[0m\u001b[1;33m.\u001b[0m\u001b[0m_assert_weights_created\u001b[0m\u001b[1;33m(\u001b[0m\u001b[1;33m)\u001b[0m\u001b[1;33m\u001b[0m\u001b[1;33m\u001b[0m\u001b[0m\n\u001b[0m\u001b[0;32m    491\u001b[0m     \u001b[0mweights\u001b[0m \u001b[1;33m=\u001b[0m \u001b[1;33m[\u001b[0m\u001b[1;33m]\u001b[0m\u001b[1;33m\u001b[0m\u001b[1;33m\u001b[0m\u001b[0m\n\u001b[0;32m    492\u001b[0m     \u001b[1;32mfor\u001b[0m \u001b[0mlayer\u001b[0m \u001b[1;32min\u001b[0m \u001b[0mself\u001b[0m\u001b[1;33m.\u001b[0m\u001b[0m_layers\u001b[0m\u001b[1;33m:\u001b[0m\u001b[1;33m\u001b[0m\u001b[1;33m\u001b[0m\u001b[0m\n",
      "\u001b[1;32m~\\anaconda3\\envs\\tf_gpu2.2\\lib\\site-packages\\tensorflow_core\\python\\keras\\engine\\network.py\u001b[0m in \u001b[0;36m_assert_weights_created\u001b[1;34m(self)\u001b[0m\n\u001b[0;32m   1472\u001b[0m                        \u001b[1;34m'Weights are created when the Model is first called on '\u001b[0m\u001b[1;33m\u001b[0m\u001b[1;33m\u001b[0m\u001b[0m\n\u001b[0;32m   1473\u001b[0m                        \u001b[1;34m'inputs or `build()` is called with an `input_shape`.'\u001b[0m \u001b[1;33m%\u001b[0m\u001b[1;33m\u001b[0m\u001b[1;33m\u001b[0m\u001b[0m\n\u001b[1;32m-> 1474\u001b[1;33m                        self.name)\n\u001b[0m\u001b[0;32m   1475\u001b[0m \u001b[1;33m\u001b[0m\u001b[0m\n\u001b[0;32m   1476\u001b[0m   \u001b[1;32mdef\u001b[0m \u001b[0m_graph_network_add_loss\u001b[0m\u001b[1;33m(\u001b[0m\u001b[0mself\u001b[0m\u001b[1;33m,\u001b[0m \u001b[0msymbolic_loss\u001b[0m\u001b[1;33m)\u001b[0m\u001b[1;33m:\u001b[0m\u001b[1;33m\u001b[0m\u001b[1;33m\u001b[0m\u001b[0m\n",
      "\u001b[1;31mValueError\u001b[0m: Weights for model sequential have not yet been created. Weights are created when the Model is first called on inputs or `build()` is called with an `input_shape`."
     ]
    }
   ],
   "source": [
    "# Print the model summary\n",
    "model.weights"
   ]
  },
  {
   "cell_type": "markdown",
   "metadata": {},
   "source": [
    "- model.weights는 model의 input shape이 지정되지 않은 채 호출하면 에러가 난다.\n",
    "- model의 input shape을 입력해줄 때는 Flatten 층을 사용하면 된다.\n",
    "- model의 input shape을 지정해준 후 model.weights를 실행하면 초기화된 weights를 볼 수 있다."
   ]
  },
  {
   "cell_type": "code",
   "execution_count": 5,
   "metadata": {},
   "outputs": [
    {
     "data": {
      "text/plain": [
       "[<tf.Variable 'dense_3/kernel:0' shape=(784, 16) dtype=float32, numpy=\n",
       " array([[-0.0650277 ,  0.07807954,  0.06764354, ...,  0.00652854,\n",
       "         -0.05637303,  0.00596736],\n",
       "        [-0.0042644 ,  0.00158584, -0.00260895, ...,  0.0761317 ,\n",
       "         -0.0142888 , -0.01683686],\n",
       "        [-0.03792803,  0.03108539,  0.01594734, ..., -0.04934676,\n",
       "          0.00375046, -0.02559318],\n",
       "        ...,\n",
       "        [-0.02132875,  0.01411453, -0.08265388, ..., -0.04310441,\n",
       "         -0.04600396, -0.06125903],\n",
       "        [-0.00911707, -0.04432638,  0.00119944, ...,  0.02903779,\n",
       "          0.01528352, -0.08365975],\n",
       "        [-0.04809976, -0.00607476,  0.08067831, ...,  0.07138084,\n",
       "          0.00350781, -0.03302382]], dtype=float32)>,\n",
       " <tf.Variable 'dense_3/bias:0' shape=(16,) dtype=float32, numpy=\n",
       " array([0., 0., 0., 0., 0., 0., 0., 0., 0., 0., 0., 0., 0., 0., 0., 0.],\n",
       "       dtype=float32)>,\n",
       " <tf.Variable 'dense_4/kernel:0' shape=(16, 16) dtype=float32, numpy=\n",
       " array([[-3.40135098e-01, -3.16406101e-01, -8.69231224e-02,\n",
       "          3.87053281e-01,  2.69946307e-01,  1.16200477e-01,\n",
       "          1.54047102e-01, -1.19864374e-01,  2.31253952e-01,\n",
       "         -2.55324453e-01, -2.70684868e-01,  1.88069135e-01,\n",
       "          1.41203016e-01, -4.41330075e-02, -1.31620437e-01,\n",
       "          3.92751127e-01],\n",
       "        [-5.74613810e-02, -2.87961662e-01,  1.44082516e-01,\n",
       "         -2.29418561e-01,  4.14745122e-01,  1.64557904e-01,\n",
       "         -3.57624799e-01, -3.16397548e-01,  4.42511141e-02,\n",
       "          1.39994413e-01, -4.20022637e-01, -3.81517112e-02,\n",
       "         -1.07920647e-01, -1.99293196e-02, -1.42240524e-02,\n",
       "         -1.03748053e-01],\n",
       "        [-2.23936722e-01, -3.79477352e-01, -3.99897873e-01,\n",
       "         -2.73836106e-01, -3.80541116e-01, -3.27533543e-01,\n",
       "          1.11806422e-01, -3.93430412e-01,  1.59842879e-01,\n",
       "          1.23695582e-01,  2.89114445e-01, -3.13554555e-01,\n",
       "          3.82731944e-01, -2.59102046e-01, -2.75767386e-01,\n",
       "         -1.87183887e-01],\n",
       "        [-1.63817465e-01, -3.12296510e-01, -2.65548140e-01,\n",
       "         -1.23840511e-01,  1.05280131e-01,  3.64495903e-01,\n",
       "         -3.11080545e-01,  2.30161756e-01, -3.46905470e-01,\n",
       "          2.14773208e-01, -3.44380885e-01, -3.57478410e-01,\n",
       "         -1.11879826e-01, -4.20819819e-02,  2.66739696e-01,\n",
       "         -3.51527542e-01],\n",
       "        [ 3.27004105e-01, -3.83089483e-02, -2.61521041e-02,\n",
       "          1.85731202e-01, -2.60929346e-01, -4.26484019e-01,\n",
       "         -3.14082086e-01,  1.61479443e-01, -1.20433420e-01,\n",
       "          3.22465748e-01,  1.16351992e-01,  8.52624476e-02,\n",
       "         -1.83116719e-01, -1.66817605e-02,  4.03484106e-02,\n",
       "         -4.99649346e-02],\n",
       "        [-2.97400773e-01, -2.50339091e-01,  3.42426807e-01,\n",
       "          1.95241243e-01,  1.05666310e-01, -4.15773869e-01,\n",
       "          2.10306257e-01, -3.32630515e-01,  7.74620473e-02,\n",
       "         -1.61637574e-01, -3.47258449e-01, -3.58734608e-01,\n",
       "         -1.08254820e-01, -3.32930624e-01, -2.30154037e-01,\n",
       "         -1.67645544e-01],\n",
       "        [ 3.36092710e-03, -2.87523329e-01, -1.78969622e-01,\n",
       "         -1.44534826e-01,  1.77425891e-01, -2.05488041e-01,\n",
       "         -1.63858145e-01, -2.18423888e-01,  4.30494249e-02,\n",
       "          1.21648610e-02,  3.18837792e-01, -3.23435783e-01,\n",
       "          1.43045515e-01,  8.67002308e-02, -1.96054325e-01,\n",
       "         -2.82535166e-01],\n",
       "        [ 1.98829383e-01, -3.24311465e-01, -1.15114182e-01,\n",
       "          3.71772051e-03, -1.67269021e-01, -2.41153449e-01,\n",
       "         -1.41743153e-01,  2.85092682e-01,  1.59349591e-01,\n",
       "         -1.88496977e-01,  5.37136197e-02, -2.57809520e-01,\n",
       "         -9.50005651e-02, -1.47983998e-01,  2.91892678e-01,\n",
       "         -2.25137383e-01],\n",
       "        [-4.37496901e-02, -2.96726823e-03, -3.67968678e-01,\n",
       "         -1.24842316e-01, -1.20756149e-01,  3.01660448e-01,\n",
       "          4.14877623e-01,  3.80324513e-01, -2.08493099e-01,\n",
       "         -2.20343471e-02, -1.62603468e-01,  2.74455458e-01,\n",
       "         -4.16558057e-01,  1.42447025e-01,  7.39246607e-03,\n",
       "          1.23835772e-01],\n",
       "        [ 3.42494279e-01,  1.29914314e-01, -2.76453912e-01,\n",
       "         -1.20639086e-01, -2.71566004e-01, -2.44732723e-01,\n",
       "         -1.94952577e-01,  7.18740523e-02,  1.92945510e-01,\n",
       "          1.78344756e-01, -1.81298852e-02, -3.45631838e-01,\n",
       "          3.52532059e-01,  3.21586877e-01,  1.29488707e-02,\n",
       "          5.14583886e-02],\n",
       "        [ 1.61378652e-01, -4.03704941e-02,  2.94291407e-01,\n",
       "          4.11685407e-02, -4.32219833e-01, -2.96510220e-01,\n",
       "         -2.71590471e-01,  8.26517045e-02,  2.87633926e-01,\n",
       "         -1.73729777e-01, -3.15335989e-02, -2.32017279e-01,\n",
       "         -9.02560353e-03, -1.46977544e-01,  3.57055157e-01,\n",
       "          3.45433056e-02],\n",
       "        [-2.48923883e-01,  2.01372236e-01,  2.11583942e-01,\n",
       "          1.84381276e-01, -1.49583906e-01, -2.60610878e-01,\n",
       "          1.28620952e-01,  3.81492585e-01,  3.80157262e-01,\n",
       "         -8.23732913e-02,  1.56130344e-01,  4.09777075e-01,\n",
       "          2.95277566e-01, -3.31099600e-01,  3.21862370e-01,\n",
       "          2.61381119e-01],\n",
       "        [-3.13178867e-01, -3.74012530e-01,  4.76753712e-03,\n",
       "         -1.85456276e-02,  1.27893120e-01, -6.34056330e-02,\n",
       "          3.09409946e-01, -7.85987079e-02, -3.84700894e-02,\n",
       "         -2.87680984e-01,  3.08066815e-01,  3.28490645e-01,\n",
       "          6.15386963e-02,  1.44482166e-01,  3.08813542e-01,\n",
       "         -2.56635070e-01],\n",
       "        [ 4.19331342e-01,  7.22274184e-03, -3.91286880e-01,\n",
       "         -4.33506668e-02,  2.21703023e-01,  3.45933169e-01,\n",
       "         -1.87759131e-01,  9.69469547e-05, -3.75796795e-01,\n",
       "          8.68351758e-02,  1.20059401e-01, -3.77589852e-01,\n",
       "          6.85713589e-02, -4.12681699e-02, -1.43870890e-01,\n",
       "          2.45608002e-01],\n",
       "        [ 3.90741915e-01, -1.35296881e-02,  3.26553911e-01,\n",
       "          2.20898986e-02, -2.80465543e-01,  9.11160409e-02,\n",
       "          2.66496807e-01,  2.73332506e-01, -1.74216956e-01,\n",
       "         -1.79688781e-01,  1.79407597e-02, -1.26935691e-01,\n",
       "          3.63559872e-01, -3.07956874e-01, -3.26897591e-01,\n",
       "          3.69127899e-01],\n",
       "        [-1.92972049e-01, -2.09720075e-01, -1.92322478e-01,\n",
       "         -3.62158626e-01, -1.29242748e-01,  1.20829940e-02,\n",
       "         -2.02870220e-01, -1.36149794e-01,  1.94607645e-01,\n",
       "          2.66700178e-01, -2.43856013e-02,  3.31678241e-01,\n",
       "          2.82559097e-02, -4.10860121e-01, -3.09409201e-02,\n",
       "         -3.65658820e-01]], dtype=float32)>,\n",
       " <tf.Variable 'dense_4/bias:0' shape=(16,) dtype=float32, numpy=\n",
       " array([0., 0., 0., 0., 0., 0., 0., 0., 0., 0., 0., 0., 0., 0., 0., 0.],\n",
       "       dtype=float32)>,\n",
       " <tf.Variable 'dense_5/kernel:0' shape=(16, 10) dtype=float32, numpy=\n",
       " array([[-0.36102572,  0.12316889,  0.40999138, -0.47866166,  0.47005624,\n",
       "          0.14081973,  0.27558637, -0.2899807 , -0.3837011 , -0.10208952],\n",
       "        [-0.26359582,  0.02076977,  0.37560743,  0.3116057 , -0.10574129,\n",
       "         -0.4240254 ,  0.3070013 , -0.04952353, -0.02244529,  0.43903005],\n",
       "        [ 0.23878783, -0.25746512,  0.09472644,  0.02312583, -0.22224155,\n",
       "         -0.04417041, -0.10679981, -0.33249062,  0.3587252 , -0.08895826],\n",
       "        [-0.31488055,  0.4441759 , -0.34506205,  0.07422137, -0.2435059 ,\n",
       "          0.34020448, -0.11487904, -0.17967632,  0.4067045 ,  0.40111428],\n",
       "        [ 0.3819703 ,  0.0764727 , -0.37404406, -0.28340918, -0.07733378,\n",
       "          0.20140475,  0.22732657, -0.19014174,  0.17494965,  0.45957434],\n",
       "        [-0.3417186 , -0.11123025, -0.2594911 ,  0.32478625,  0.29817033,\n",
       "          0.28542584, -0.2864799 , -0.354902  , -0.32207018, -0.0540233 ],\n",
       "        [-0.43959886,  0.00294018, -0.00455359, -0.00571769, -0.3575697 ,\n",
       "         -0.34940583, -0.4621336 , -0.17480296, -0.09476104,  0.0518235 ],\n",
       "        [-0.32771748,  0.47345722, -0.32073063,  0.19190049, -0.3581893 ,\n",
       "         -0.1798898 , -0.387901  ,  0.2659449 , -0.1354498 , -0.08250836],\n",
       "        [-0.07016245,  0.02499777,  0.32857186,  0.0695768 , -0.3915743 ,\n",
       "          0.16484344,  0.1373105 ,  0.09771323,  0.09492058,  0.3659317 ],\n",
       "        [-0.13109857,  0.16534257,  0.10329729,  0.32829505, -0.18099803,\n",
       "         -0.13819021,  0.17922848, -0.15681583, -0.32713518,  0.3428172 ],\n",
       "        [-0.42425686,  0.22027087, -0.42230386,  0.23500073,  0.20942926,\n",
       "         -0.05458429, -0.29911774,  0.03823763,  0.41740632,  0.2077896 ],\n",
       "        [-0.44276613,  0.42204309, -0.32564145, -0.28942168,  0.4708197 ,\n",
       "          0.14709431,  0.34629786,  0.4437282 , -0.47897297,  0.35163188],\n",
       "        [ 0.4593628 , -0.44714254,  0.0899176 , -0.25787973,  0.33462733,\n",
       "         -0.20759237,  0.13349056,  0.0584383 , -0.01837903,  0.023965  ],\n",
       "        [ 0.07299024,  0.11777663,  0.2112211 , -0.24329275, -0.20516747,\n",
       "          0.46785623, -0.14262512,  0.02931964,  0.2483849 ,  0.2796768 ],\n",
       "        [-0.30985898, -0.19503215,  0.2516858 ,  0.3609618 ,  0.10912216,\n",
       "         -0.24223126,  0.07404929,  0.14964002, -0.42927384, -0.00699976],\n",
       "        [ 0.38197005,  0.37482768,  0.41404706, -0.0964306 , -0.27459955,\n",
       "         -0.04190725,  0.4240483 ,  0.4449876 ,  0.47684884, -0.4143625 ]],\n",
       "       dtype=float32)>,\n",
       " <tf.Variable 'dense_5/bias:0' shape=(10,) dtype=float32, numpy=array([0., 0., 0., 0., 0., 0., 0., 0., 0., 0.], dtype=float32)>]"
      ]
     },
     "execution_count": 5,
     "metadata": {},
     "output_type": "execute_result"
    }
   ],
   "source": [
    "# Build the Sequential feedforward neural network model\n",
    "model = Sequential([\n",
    "    Flatten(input_shape=(28, 28)),\n",
    "    Dense(16, activation='relu'),\n",
    "    Dense(16, activation='relu'),\n",
    "    Dense(10, activation='softmax')\n",
    "])\n",
    "\n",
    "model.weights"
   ]
  },
  {
   "cell_type": "markdown",
   "metadata": {},
   "source": [
    "- model.summary을 통해 model의 요약을 볼 수 있다."
   ]
  },
  {
   "cell_type": "code",
   "execution_count": 6,
   "metadata": {},
   "outputs": [
    {
     "name": "stdout",
     "output_type": "stream",
     "text": [
      "Model: \"sequential_1\"\n",
      "_________________________________________________________________\n",
      "Layer (type)                 Output Shape              Param #   \n",
      "=================================================================\n",
      "flatten (Flatten)            (None, 784)               0         \n",
      "_________________________________________________________________\n",
      "dense_3 (Dense)              (None, 16)                12560     \n",
      "_________________________________________________________________\n",
      "dense_4 (Dense)              (None, 16)                272       \n",
      "_________________________________________________________________\n",
      "dense_5 (Dense)              (None, 10)                170       \n",
      "=================================================================\n",
      "Total params: 13,002\n",
      "Trainable params: 13,002\n",
      "Non-trainable params: 0\n",
      "_________________________________________________________________\n"
     ]
    }
   ],
   "source": [
    "model.summary()"
   ]
  },
  {
   "cell_type": "markdown",
   "metadata": {},
   "source": [
    "- 아래와 같이 softmax를 활성함수로 사용하지 않고, Softmax 층으로 나눌 수도 있다."
   ]
  },
  {
   "cell_type": "code",
   "execution_count": 7,
   "metadata": {},
   "outputs": [
    {
     "name": "stdout",
     "output_type": "stream",
     "text": [
      "Model: \"sequential_2\"\n",
      "_________________________________________________________________\n",
      "Layer (type)                 Output Shape              Param #   \n",
      "=================================================================\n",
      "flatten_1 (Flatten)          (None, 784)               0         \n",
      "_________________________________________________________________\n",
      "dense_6 (Dense)              (None, 16)                12560     \n",
      "_________________________________________________________________\n",
      "dense_7 (Dense)              (None, 16)                272       \n",
      "_________________________________________________________________\n",
      "dense_8 (Dense)              (None, 10)                170       \n",
      "_________________________________________________________________\n",
      "softmax (Softmax)            (None, 10)                0         \n",
      "=================================================================\n",
      "Total params: 13,002\n",
      "Trainable params: 13,002\n",
      "Non-trainable params: 0\n",
      "_________________________________________________________________\n"
     ]
    }
   ],
   "source": [
    "model = Sequential([\n",
    "    Flatten(input_shape=(28, 28)),\n",
    "    Dense(16, activation='relu'),\n",
    "    Dense(16, activation='relu'),\n",
    "    Dense(10),\n",
    "    Softmax()\n",
    "])\n",
    "\n",
    "model.summary()"
   ]
  },
  {
   "cell_type": "markdown",
   "metadata": {},
   "source": [
    "- name=\"layer_1\"과 같은 옵션을 통해 각 층의 이름을 지을 수도 있다.\n",
    "- 활성함수로 sigmoid나 tanh를 사용할 때에는 activation='sigmoid', activation='tanh'와 같이 입력하면 된다."
   ]
  },
  {
   "cell_type": "code",
   "execution_count": 12,
   "metadata": {},
   "outputs": [
    {
     "name": "stdout",
     "output_type": "stream",
     "text": [
      "Model: \"sequential_6\"\n",
      "_________________________________________________________________\n",
      "Layer (type)                 Output Shape              Param #   \n",
      "=================================================================\n",
      "flatten_5 (Flatten)          (None, 784)               0         \n",
      "_________________________________________________________________\n",
      "layer_1 (Dense)              (None, 16)                12560     \n",
      "_________________________________________________________________\n",
      "dense_15 (Dense)             (None, 16)                272       \n",
      "_________________________________________________________________\n",
      "dense_16 (Dense)             (None, 10)                170       \n",
      "_________________________________________________________________\n",
      "softmax_4 (Softmax)          (None, 10)                0         \n",
      "=================================================================\n",
      "Total params: 13,002\n",
      "Trainable params: 13,002\n",
      "Non-trainable params: 0\n",
      "_________________________________________________________________\n"
     ]
    }
   ],
   "source": [
    "model = Sequential([\n",
    "    Flatten(input_shape=(28, 28)),\n",
    "    Dense(16, activation='relu', name=\"layer_1\"),\n",
    "    Dense(16, activation='sigmoid'),\n",
    "    Dense(10),\n",
    "    Softmax()\n",
    "])\n",
    "\n",
    "model.summary()"
   ]
  },
  {
   "cell_type": "markdown",
   "metadata": {
    "id": "BddfkRUCoLKi"
   },
   "source": [
    "***\n",
    "<a id=\"coding_tutorial_2\"></a>\n",
    "## Convolutional and pooling layers"
   ]
  },
  {
   "cell_type": "markdown",
   "metadata": {},
   "source": [
    "- 모델에서 tensor shape이 (None, 30, 30, 16)과 같은 형태로 나오는데 가장 앞의 None은 batch size를 의미한다.\n",
    "- Conv2D 층에서 padding='SAME'으로 옵션을 줄 경우, output의 사이즈가 input 사이즈와 동일하게 유지된다.\n",
    "- kernel_size나 pool_size는 pytorch를 사용할 때와 마찬가지로 정사각 kernel을 사용할 경우 (2, 2) 대신 2와 같은 정수를 입력해주어도 된다."
   ]
  },
  {
   "cell_type": "code",
   "execution_count": 1,
   "metadata": {
    "id": "KdNAHwl2oLKk"
   },
   "outputs": [],
   "source": [
    "from tensorflow.keras.models import Sequential\n",
    "from tensorflow.keras.layers import Dense, Flatten, Conv2D, MaxPooling2D"
   ]
  },
  {
   "cell_type": "markdown",
   "metadata": {
    "id": "Rxr_03vsoLKl"
   },
   "source": [
    "#### Build a convolutional neural network model"
   ]
  },
  {
   "cell_type": "code",
   "execution_count": 7,
   "metadata": {
    "id": "wb3oVGEnoLKm"
   },
   "outputs": [],
   "source": [
    "# Build the Sequential convolutional neural network model\n",
    "model = Sequential([\n",
    "    Conv2D(16, (3, 3), activation='relu', input_shape=(28, 28, 1)),\n",
    "    MaxPooling2D((3, 3)),\n",
    "    Flatten(),\n",
    "    Dense(10, activation='softmax'),\n",
    "])"
   ]
  },
  {
   "cell_type": "code",
   "execution_count": 18,
   "metadata": {
    "id": "rpIMN0d_oLKn"
   },
   "outputs": [
    {
     "name": "stdout",
     "output_type": "stream",
     "text": [
      "Model: \"sequential_2\"\n",
      "_________________________________________________________________\n",
      "Layer (type)                 Output Shape              Param #   \n",
      "=================================================================\n",
      "conv2d_2 (Conv2D)            (None, 26, 26, 16)        160       \n",
      "_________________________________________________________________\n",
      "max_pooling2d_1 (MaxPooling2 (None, 8, 8, 16)          0         \n",
      "_________________________________________________________________\n",
      "flatten (Flatten)            (None, 1024)              0         \n",
      "_________________________________________________________________\n",
      "dense (Dense)                (None, 10)                10250     \n",
      "=================================================================\n",
      "Total params: 10,410\n",
      "Trainable params: 10,410\n",
      "Non-trainable params: 0\n",
      "_________________________________________________________________\n"
     ]
    }
   ],
   "source": [
    "# Print the model summary\n",
    "model.summary()"
   ]
  },
  {
   "cell_type": "markdown",
   "metadata": {},
   "source": [
    "- padding='SAME' 옵션을 주면 아래와 같이 padding을 통해 output shape이 input shape과 동일하게 출력되도록 맞춰준다."
   ]
  },
  {
   "cell_type": "code",
   "execution_count": 20,
   "metadata": {},
   "outputs": [
    {
     "name": "stdout",
     "output_type": "stream",
     "text": [
      "Model: \"sequential_4\"\n",
      "_________________________________________________________________\n",
      "Layer (type)                 Output Shape              Param #   \n",
      "=================================================================\n",
      "conv2d_4 (Conv2D)            (None, 28, 28, 16)        160       \n",
      "_________________________________________________________________\n",
      "max_pooling2d_3 (MaxPooling2 (None, 9, 9, 16)          0         \n",
      "_________________________________________________________________\n",
      "flatten_2 (Flatten)          (None, 1296)              0         \n",
      "_________________________________________________________________\n",
      "dense_2 (Dense)              (None, 10)                12970     \n",
      "=================================================================\n",
      "Total params: 13,130\n",
      "Trainable params: 13,130\n",
      "Non-trainable params: 0\n",
      "_________________________________________________________________\n"
     ]
    }
   ],
   "source": [
    "model = Sequential([\n",
    "    Conv2D(16, (3, 3), padding='SAME', activation='relu', input_shape=(28, 28, 1)),\n",
    "    MaxPooling2D((3, 3)),\n",
    "    Flatten(),\n",
    "    Dense(10, activation='softmax'),\n",
    "])\n",
    "\n",
    "model.summary()"
   ]
  },
  {
   "cell_type": "code",
   "execution_count": null,
   "metadata": {},
   "outputs": [],
   "source": [
    "- strides=2로 옵션을 주면, 보폭을 2칸씩 이동하게 되므로 output의 dimension이 축소되는 효과를 볼 수 있다."
   ]
  },
  {
   "cell_type": "code",
   "execution_count": 21,
   "metadata": {},
   "outputs": [
    {
     "name": "stdout",
     "output_type": "stream",
     "text": [
      "Model: \"sequential_5\"\n",
      "_________________________________________________________________\n",
      "Layer (type)                 Output Shape              Param #   \n",
      "=================================================================\n",
      "conv2d_5 (Conv2D)            (None, 14, 14, 16)        160       \n",
      "_________________________________________________________________\n",
      "max_pooling2d_4 (MaxPooling2 (None, 4, 4, 16)          0         \n",
      "_________________________________________________________________\n",
      "flatten_3 (Flatten)          (None, 256)               0         \n",
      "_________________________________________________________________\n",
      "dense_3 (Dense)              (None, 10)                2570      \n",
      "=================================================================\n",
      "Total params: 2,730\n",
      "Trainable params: 2,730\n",
      "Non-trainable params: 0\n",
      "_________________________________________________________________\n"
     ]
    }
   ],
   "source": [
    "model = Sequential([\n",
    "    Conv2D(16, (3, 3), padding='SAME', strides=2, activation='relu', input_shape=(28, 28, 1)),\n",
    "    MaxPooling2D((3, 3)),\n",
    "    Flatten(),\n",
    "    Dense(10, activation='softmax'),\n",
    "])\n",
    "\n",
    "model.summary()"
   ]
  },
  {
   "cell_type": "markdown",
   "metadata": {},
   "source": [
    "- data_format 옵션의 default 값은 channels_last로 input_shape을 입력할 때 channel 크기를 마지막에 입력하면 되지만,\n",
    "data_format=\"channels_first\"로 옵션을 줄 경우 input_shpae을 입력할 때 channel 크기를 앞에 입력해야 한다.\n",
    "- 이렇게 할 경우 풀링층에도 data_format 옵션을 동일하게 주어야 한다."
   ]
  },
  {
   "cell_type": "code",
   "execution_count": 23,
   "metadata": {},
   "outputs": [
    {
     "name": "stdout",
     "output_type": "stream",
     "text": [
      "Model: \"sequential_6\"\n",
      "_________________________________________________________________\n",
      "Layer (type)                 Output Shape              Param #   \n",
      "=================================================================\n",
      "conv2d_6 (Conv2D)            (None, 16, 26, 26)        160       \n",
      "_________________________________________________________________\n",
      "max_pooling2d_5 (MaxPooling2 (None, 16, 8, 8)          0         \n",
      "_________________________________________________________________\n",
      "flatten_4 (Flatten)          (None, 1024)              0         \n",
      "_________________________________________________________________\n",
      "dense_4 (Dense)              (None, 10)                10250     \n",
      "=================================================================\n",
      "Total params: 10,410\n",
      "Trainable params: 10,410\n",
      "Non-trainable params: 0\n",
      "_________________________________________________________________\n"
     ]
    }
   ],
   "source": [
    "model = Sequential([\n",
    "    Conv2D(16, (3, 3), activation='relu', input_shape=(1, 28, 28), data_format=\"channels_first\"),\n",
    "    MaxPooling2D((3, 3), data_format=\"channels_first\"),\n",
    "    Flatten(),\n",
    "    Dense(10, activation='softmax'),\n",
    "])\n",
    "\n",
    "model.summary()"
   ]
  },
  {
   "cell_type": "markdown",
   "metadata": {
    "id": "uXuyW2bUoLKs"
   },
   "source": [
    "***\n",
    "<a id=\"coding_tutorial_3\"></a>\n",
    "## The compile method"
   ]
  },
  {
   "cell_type": "markdown",
   "metadata": {
    "id": "F24deNOWoLKs"
   },
   "source": [
    "#### Compile the model"
   ]
  },
  {
   "cell_type": "code",
   "execution_count": null,
   "metadata": {
    "id": "9T14_fgXoLKt"
   },
   "outputs": [],
   "source": [
    "# Define the model optimizer, loss function and metrics\n",
    "\n"
   ]
  },
  {
   "cell_type": "code",
   "execution_count": null,
   "metadata": {
    "id": "500unXFkoLKt"
   },
   "outputs": [],
   "source": [
    "# Print the resulting model attributes\n",
    "\n"
   ]
  },
  {
   "cell_type": "markdown",
   "metadata": {
    "id": "0G5VG_HFoLKt"
   },
   "source": [
    "***\n",
    "<a id=\"coding_tutorial_4\"></a>\n",
    "## The fit method"
   ]
  },
  {
   "cell_type": "code",
   "execution_count": null,
   "metadata": {
    "id": "S1RGf2OfoLKu"
   },
   "outputs": [],
   "source": [
    "from tensorflow.keras.preprocessing import image\n",
    "import matplotlib.pyplot as plt\n",
    "import numpy as np\n",
    "import pandas as pd"
   ]
  },
  {
   "cell_type": "markdown",
   "metadata": {
    "id": "iY-fx-_goLKu"
   },
   "source": [
    "#### Load the data"
   ]
  },
  {
   "cell_type": "code",
   "execution_count": null,
   "metadata": {
    "id": "GAyMVaOeoLKu"
   },
   "outputs": [],
   "source": [
    "# Load the Fashion-MNIST dataset\n",
    "\n",
    "fashion_mnist_data = tf.keras.datasets.fashion_mnist\n",
    "(train_images, train_labels), (test_images, test_labels) = fashion_mnist_data.load_data()"
   ]
  },
  {
   "cell_type": "code",
   "execution_count": null,
   "metadata": {
    "id": "cC6yBOjhoLKv"
   },
   "outputs": [],
   "source": [
    "# Print the shape of the training data\n",
    "\n"
   ]
  },
  {
   "cell_type": "code",
   "execution_count": null,
   "metadata": {
    "id": "D3MC9OQMoLKv"
   },
   "outputs": [],
   "source": [
    "# Define the labels\n",
    "\n",
    "labels = [\n",
    "    'T-shirt/top',\n",
    "    'Trouser',\n",
    "    'Pullover',\n",
    "    'Dress',\n",
    "    'Coat',\n",
    "    'Sandal',\n",
    "    'Shirt',\n",
    "    'Sneaker',\n",
    "    'Bag',\n",
    "    'Ankle boot'\n",
    "]"
   ]
  },
  {
   "cell_type": "code",
   "execution_count": null,
   "metadata": {
    "id": "CuTdWO_moLKv"
   },
   "outputs": [],
   "source": [
    "# Rescale the image values so that they lie in between 0 and 1.\n",
    "\n"
   ]
  },
  {
   "cell_type": "code",
   "execution_count": null,
   "metadata": {
    "id": "nJqX1B1LoLKw"
   },
   "outputs": [],
   "source": [
    "# Display one of the images\n",
    "\n"
   ]
  },
  {
   "cell_type": "markdown",
   "metadata": {
    "id": "_S6bX-XAoLKw"
   },
   "source": [
    "#### Fit the model"
   ]
  },
  {
   "cell_type": "code",
   "execution_count": null,
   "metadata": {
    "id": "qMlIOp2WoLKw"
   },
   "outputs": [],
   "source": [
    "# Fit the model\n",
    "\n"
   ]
  },
  {
   "cell_type": "markdown",
   "metadata": {
    "id": "qk-DXe3roLKw"
   },
   "source": [
    "#### Plot training history"
   ]
  },
  {
   "cell_type": "code",
   "execution_count": null,
   "metadata": {
    "id": "WZf_sV_HoLKx"
   },
   "outputs": [],
   "source": [
    "# Load the history into a pandas Dataframe\n",
    "\n"
   ]
  },
  {
   "cell_type": "code",
   "execution_count": null,
   "metadata": {
    "id": "AV-ZKOoMoLKx"
   },
   "outputs": [],
   "source": [
    "# Make a plot for the loss\n",
    "\n"
   ]
  },
  {
   "cell_type": "code",
   "execution_count": null,
   "metadata": {
    "id": "yM7Iknc3oLKx"
   },
   "outputs": [],
   "source": [
    "# Make a plot for the accuracy\n",
    "\n"
   ]
  },
  {
   "cell_type": "code",
   "execution_count": null,
   "metadata": {
    "id": "j49chQwuoLKy"
   },
   "outputs": [],
   "source": [
    "# Make a plot for the additional metric\n",
    "\n"
   ]
  },
  {
   "cell_type": "markdown",
   "metadata": {
    "id": "S9ZW7xiOoLKy"
   },
   "source": [
    "***\n",
    "<a id=\"coding_tutorial_5\"></a>\n",
    "## The evaluate and predict methods"
   ]
  },
  {
   "cell_type": "code",
   "execution_count": null,
   "metadata": {
    "id": "WCmuCHHOoLKy"
   },
   "outputs": [],
   "source": [
    "import matplotlib.pyplot as plt\n",
    "import numpy as np"
   ]
  },
  {
   "cell_type": "markdown",
   "metadata": {
    "id": "NuOJntQ-oLKy"
   },
   "source": [
    "#### Evaluate the model on the test set"
   ]
  },
  {
   "cell_type": "code",
   "execution_count": null,
   "metadata": {
    "id": "CDtu2pU_oLKz"
   },
   "outputs": [],
   "source": [
    "# Evaluate the model\n",
    "\n"
   ]
  },
  {
   "cell_type": "markdown",
   "metadata": {
    "id": "MH4Wd0MroLKz"
   },
   "source": [
    "#### Make predictions from the model"
   ]
  },
  {
   "cell_type": "code",
   "execution_count": null,
   "metadata": {
    "id": "hbPACYQnoLKz"
   },
   "outputs": [],
   "source": [
    "# Choose a random test image\n",
    "\n",
    "random_inx = np.random.choice(test_images.shape[0])\n",
    "\n",
    "test_image = test_images[random_inx]\n",
    "plt.imshow(test_image)\n",
    "plt.show()\n",
    "print(f\"Label: {labels[test_labels[random_inx]]}\")"
   ]
  },
  {
   "cell_type": "code",
   "execution_count": null,
   "metadata": {
    "id": "apBWXcYgoLKz"
   },
   "outputs": [],
   "source": [
    "# Get the model predictions\n",
    "\n"
   ]
  }
 ],
 "metadata": {
  "colab": {
   "collapsed_sections": [],
   "name": "2_Building_a_sequential_model.ipynb",
   "provenance": [
    {
     "file_id": "1O8j3-q9ouRhKfe3Pr4iTkBrgGMlZF7po",
     "timestamp": 1611848019010
    }
   ]
  },
  "kernelspec": {
   "display_name": "Python 3",
   "language": "python",
   "name": "python3"
  },
  "language_info": {
   "codemirror_mode": {
    "name": "ipython",
    "version": 3
   },
   "file_extension": ".py",
   "mimetype": "text/x-python",
   "name": "python",
   "nbconvert_exporter": "python",
   "pygments_lexer": "ipython3",
   "version": "3.7.9"
  }
 },
 "nbformat": 4,
 "nbformat_minor": 1
}
